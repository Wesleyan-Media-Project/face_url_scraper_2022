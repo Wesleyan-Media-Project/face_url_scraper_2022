{
 "cells": [
  {
   "cell_type": "markdown",
   "metadata": {
    "id": "iJl3C2J-9IJT"
   },
   "source": [
    "### Scrape House candidate face urls from ballotpedia\n",
    "\n",
    "Note: \n",
    "- The output file will be different using the updated wmpcand_XXXXXX_wmpid.csv file\n",
    "- Our RA Jasmine used the output of this script to clean up face urls\n",
    "- DO NOT 'run all' this script, as it involves manual check for each state. "
   ]
  },
  {
   "cell_type": "code",
   "execution_count": 1,
   "metadata": {
    "executionInfo": {
     "elapsed": 53,
     "status": "ok",
     "timestamp": 1670958816173,
     "user": {
      "displayName": "Jielu Yao",
      "userId": "09138677267510568916"
     },
     "user_tz": 300
    },
    "id": "MQIZH76g9k5Q"
   },
   "outputs": [],
   "source": [
    "import pandas as pd\n",
    "import bs4 as bs # pulling data out of HTML and XML files.\n",
    "import urllib.request # opening and reading URLs\n",
    "import re # pattern matching"
   ]
  },
  {
   "cell_type": "code",
   "execution_count": 41,
   "metadata": {},
   "outputs": [],
   "source": [
    "from fuzzywuzzy import fuzz\n",
    "from fuzzywuzzy import process"
   ]
  },
  {
   "cell_type": "code",
   "execution_count": 2,
   "metadata": {
    "executionInfo": {
     "elapsed": 2726,
     "status": "ok",
     "timestamp": 1670947766955,
     "user": {
      "displayName": "Jielu Yao",
      "userId": "09138677267510568916"
     },
     "user_tz": 300
    },
    "id": "WQFgzouz9JMu"
   },
   "outputs": [],
   "source": [
    "#Download the website's html\n",
    "source = urllib.request.urlopen(\"https://ballotpedia.org/United_States_House_of_Representatives_elections,_2022\").read()"
   ]
  },
  {
   "cell_type": "code",
   "execution_count": 3,
   "metadata": {
    "executionInfo": {
     "elapsed": 4,
     "status": "ok",
     "timestamp": 1670947767504,
     "user": {
      "displayName": "Jielu Yao",
      "userId": "09138677267510568916"
     },
     "user_tz": 300
    },
    "id": "PxWljwaaIeHi"
   },
   "outputs": [],
   "source": [
    "#Parse the html\n",
    "#This makes it look nice and structured for us, and much easier to read for the program\n",
    "soup = bs.BeautifulSoup(source)"
   ]
  },
  {
   "cell_type": "code",
   "execution_count": 4,
   "metadata": {
    "executionInfo": {
     "elapsed": 3,
     "status": "ok",
     "timestamp": 1670947773196,
     "user": {
      "displayName": "Jielu Yao",
      "userId": "09138677267510568916"
     },
     "user_tz": 300
    },
    "id": "93XQSWY3Ili4"
   },
   "outputs": [],
   "source": [
    "urls_css = \"center small a\""
   ]
  },
  {
   "cell_type": "code",
   "execution_count": 5,
   "metadata": {
    "colab": {
     "base_uri": "https://localhost:8080/"
    },
    "executionInfo": {
     "elapsed": 18,
     "status": "ok",
     "timestamp": 1670947774064,
     "user": {
      "displayName": "Jielu Yao",
      "userId": "09138677267510568916"
     },
     "user_tz": 300
    },
    "id": "Li5DkH-PIli4",
    "outputId": "d82617d8-81d7-4601-d3b2-95c70eb1cf10"
   },
   "outputs": [],
   "source": [
    "urls = soup.select(urls_css)"
   ]
  },
  {
   "cell_type": "code",
   "execution_count": 6,
   "metadata": {
    "colab": {
     "base_uri": "https://localhost:8080/"
    },
    "executionInfo": {
     "elapsed": 4,
     "status": "ok",
     "timestamp": 1670947775738,
     "user": {
      "displayName": "Jielu Yao",
      "userId": "09138677267510568916"
     },
     "user_tz": 300
    },
    "id": "42vP7WfbIli4",
    "outputId": "2a47c00f-63b2-4f46-cd1f-876f0086ff6a"
   },
   "outputs": [
    {
     "data": {
      "text/plain": [
       "50"
      ]
     },
     "execution_count": 6,
     "metadata": {},
     "output_type": "execute_result"
    }
   ],
   "source": [
    "extracted_urls = [url[\"href\"] for url in urls]\n",
    "len(extracted_urls)"
   ]
  },
  {
   "cell_type": "code",
   "execution_count": 7,
   "metadata": {
    "executionInfo": {
     "elapsed": 3,
     "status": "ok",
     "timestamp": 1670947780282,
     "user": {
      "displayName": "Jielu Yao",
      "userId": "09138677267510568916"
     },
     "user_tz": 300
    },
    "id": "J38uMlFvIli5"
   },
   "outputs": [],
   "source": [
    "full_urls = [\"https://ballotpedia.org\" + url_suffix for url_suffix in extracted_urls]"
   ]
  },
  {
   "cell_type": "code",
   "execution_count": 8,
   "metadata": {
    "colab": {
     "base_uri": "https://localhost:8080/"
    },
    "executionInfo": {
     "elapsed": 44,
     "status": "ok",
     "timestamp": 1670947782524,
     "user": {
      "displayName": "Jielu Yao",
      "userId": "09138677267510568916"
     },
     "user_tz": 300
    },
    "id": "aukTHe9uIli5",
    "outputId": "419daccb-da04-4757-c451-f600e9e153a8"
   },
   "outputs": [
    {
     "data": {
      "text/plain": [
       "['https://ballotpedia.org/United_States_House_of_Representatives_elections_in_Alabama,_2022',\n",
       " 'https://ballotpedia.org/United_States_House_of_Representatives_election_in_Alaska,_2022',\n",
       " 'https://ballotpedia.org/United_States_House_of_Representatives_elections_in_Arizona,_2022',\n",
       " 'https://ballotpedia.org/United_States_House_of_Representatives_elections_in_Arkansas,_2022',\n",
       " 'https://ballotpedia.org/United_States_House_of_Representatives_elections_in_California,_2022',\n",
       " 'https://ballotpedia.org/United_States_House_of_Representatives_elections_in_Colorado,_2022',\n",
       " 'https://ballotpedia.org/United_States_House_of_Representatives_elections_in_Connecticut,_2022',\n",
       " 'https://ballotpedia.org/United_States_House_of_Representatives_election_in_Delaware,_2022',\n",
       " 'https://ballotpedia.org/United_States_House_of_Representatives_elections_in_Florida,_2022',\n",
       " 'https://ballotpedia.org/United_States_House_of_Representatives_elections_in_Georgia,_2022',\n",
       " 'https://ballotpedia.org/United_States_House_of_Representatives_elections_in_Hawaii,_2022',\n",
       " 'https://ballotpedia.org/United_States_House_of_Representatives_elections_in_Idaho,_2022',\n",
       " 'https://ballotpedia.org/United_States_House_of_Representatives_elections_in_Illinois,_2022',\n",
       " 'https://ballotpedia.org/United_States_House_of_Representatives_elections_in_Indiana,_2022',\n",
       " 'https://ballotpedia.org/United_States_House_of_Representatives_elections_in_Iowa,_2022',\n",
       " 'https://ballotpedia.org/United_States_House_of_Representatives_elections_in_Kansas,_2022',\n",
       " 'https://ballotpedia.org/United_States_House_of_Representatives_elections_in_Kentucky,_2022',\n",
       " 'https://ballotpedia.org/United_States_House_of_Representatives_elections_in_Louisiana,_2022',\n",
       " 'https://ballotpedia.org/United_States_House_of_Representatives_elections_in_Maine,_2022',\n",
       " 'https://ballotpedia.org/United_States_House_of_Representatives_elections_in_Maryland,_2022',\n",
       " 'https://ballotpedia.org/United_States_House_of_Representatives_elections_in_Massachusetts,_2022',\n",
       " 'https://ballotpedia.org/United_States_House_of_Representatives_elections_in_Michigan,_2022',\n",
       " 'https://ballotpedia.org/United_States_House_of_Representatives_elections_in_Minnesota,_2022',\n",
       " 'https://ballotpedia.org/United_States_House_of_Representatives_elections_in_Mississippi,_2022',\n",
       " 'https://ballotpedia.org/United_States_House_of_Representatives_elections_in_Missouri,_2022',\n",
       " 'https://ballotpedia.org/United_States_House_of_Representatives_elections_in_Montana,_2022',\n",
       " 'https://ballotpedia.org/United_States_House_of_Representatives_elections_in_Nebraska,_2022',\n",
       " 'https://ballotpedia.org/United_States_House_of_Representatives_elections_in_Nevada,_2022',\n",
       " 'https://ballotpedia.org/United_States_House_of_Representatives_elections_in_New_Hampshire,_2022',\n",
       " 'https://ballotpedia.org/United_States_House_of_Representatives_elections_in_New_Jersey,_2022',\n",
       " 'https://ballotpedia.org/United_States_House_of_Representatives_elections_in_New_Mexico,_2022',\n",
       " 'https://ballotpedia.org/United_States_House_of_Representatives_elections_in_New_York,_2022',\n",
       " 'https://ballotpedia.org/United_States_House_of_Representatives_elections_in_North_Carolina,_2022',\n",
       " 'https://ballotpedia.org/United_States_House_of_Representatives_election_in_North_Dakota,_2022',\n",
       " 'https://ballotpedia.org/United_States_House_of_Representatives_elections_in_Ohio,_2022',\n",
       " 'https://ballotpedia.org/United_States_House_of_Representatives_elections_in_Oklahoma,_2022',\n",
       " 'https://ballotpedia.org/United_States_House_of_Representatives_elections_in_Oregon,_2022',\n",
       " 'https://ballotpedia.org/United_States_House_of_Representatives_elections_in_Pennsylvania,_2022',\n",
       " 'https://ballotpedia.org/United_States_House_of_Representatives_elections_in_Rhode_Island,_2022',\n",
       " 'https://ballotpedia.org/United_States_House_of_Representatives_elections_in_South_Carolina,_2022',\n",
       " 'https://ballotpedia.org/United_States_House_of_Representatives_election_in_South_Dakota,_2022',\n",
       " 'https://ballotpedia.org/United_States_House_of_Representatives_elections_in_Tennessee,_2022',\n",
       " 'https://ballotpedia.org/United_States_House_of_Representatives_elections_in_Texas,_2022',\n",
       " 'https://ballotpedia.org/United_States_House_of_Representatives_elections_in_Utah,_2022',\n",
       " 'https://ballotpedia.org/United_States_House_of_Representatives_election_in_Vermont,_2022',\n",
       " 'https://ballotpedia.org/United_States_House_of_Representatives_elections_in_Virginia,_2022',\n",
       " 'https://ballotpedia.org/United_States_House_of_Representatives_elections_in_Washington,_2022',\n",
       " 'https://ballotpedia.org/United_States_House_of_Representatives_elections_in_West_Virginia,_2022',\n",
       " 'https://ballotpedia.org/United_States_House_of_Representatives_elections_in_Wisconsin,_2022',\n",
       " 'https://ballotpedia.org/United_States_House_of_Representatives_election_in_Wyoming,_2022']"
      ]
     },
     "execution_count": 8,
     "metadata": {},
     "output_type": "execute_result"
    }
   ],
   "source": [
    "full_urls"
   ]
  },
  {
   "cell_type": "markdown",
   "metadata": {
    "id": "pIjbXtKpXlnx"
   },
   "source": [
    "#### Distinguish two types of html structure for different states"
   ]
  },
  {
   "cell_type": "code",
   "execution_count": 9,
   "metadata": {
    "executionInfo": {
     "elapsed": 203328,
     "status": "ok",
     "timestamp": 1670951487942,
     "user": {
      "displayName": "Jielu Yao",
      "userId": "09138677267510568916"
     },
     "user_tz": 300
    },
    "id": "R65iDYItI5Gn"
   },
   "outputs": [],
   "source": [
    "urls_1 = []\n",
    "urls_2 = []\n",
    "\n",
    "for i in full_urls:\n",
    "  source = urllib.request.urlopen(i).read()\n",
    "  soup = bs.BeautifulSoup(source)\n",
    "  res_css = \"#District_1\"\n",
    "  res = soup.select(res_css)\n",
    "  if len(res) == 0:\n",
    "    urls_1.append(i)\n",
    "  else:\n",
    "    urls_2.append(i)"
   ]
  },
  {
   "cell_type": "code",
   "execution_count": 10,
   "metadata": {
    "colab": {
     "base_uri": "https://localhost:8080/"
    },
    "executionInfo": {
     "elapsed": 595,
     "status": "ok",
     "timestamp": 1670951661424,
     "user": {
      "displayName": "Jielu Yao",
      "userId": "09138677267510568916"
     },
     "user_tz": 300
    },
    "id": "Xr7NFf_3XbTZ",
    "outputId": "78a5878d-8a11-4a63-aded-644f1eef04be"
   },
   "outputs": [
    {
     "data": {
      "text/plain": [
       "['https://ballotpedia.org/United_States_House_of_Representatives_election_in_Alaska,_2022',\n",
       " 'https://ballotpedia.org/United_States_House_of_Representatives_election_in_Delaware,_2022',\n",
       " 'https://ballotpedia.org/United_States_House_of_Representatives_election_in_North_Dakota,_2022',\n",
       " 'https://ballotpedia.org/United_States_House_of_Representatives_election_in_South_Dakota,_2022',\n",
       " 'https://ballotpedia.org/United_States_House_of_Representatives_election_in_Vermont,_2022',\n",
       " 'https://ballotpedia.org/United_States_House_of_Representatives_election_in_Wyoming,_2022']"
      ]
     },
     "execution_count": 10,
     "metadata": {},
     "output_type": "execute_result"
    }
   ],
   "source": [
    "urls_1"
   ]
  },
  {
   "cell_type": "code",
   "execution_count": 11,
   "metadata": {
    "colab": {
     "base_uri": "https://localhost:8080/"
    },
    "executionInfo": {
     "elapsed": 300,
     "status": "ok",
     "timestamp": 1670951683281,
     "user": {
      "displayName": "Jielu Yao",
      "userId": "09138677267510568916"
     },
     "user_tz": 300
    },
    "id": "e_5WT7j_ewYf",
    "outputId": "70272b52-9b83-4847-85d9-a37abd7f33c2"
   },
   "outputs": [
    {
     "data": {
      "text/plain": [
       "44"
      ]
     },
     "execution_count": 11,
     "metadata": {},
     "output_type": "execute_result"
    }
   ],
   "source": [
    "len(urls_2)"
   ]
  },
  {
   "cell_type": "markdown",
   "metadata": {},
   "source": [
    "### Load the master file"
   ]
  },
  {
   "cell_type": "code",
   "execution_count": 14,
   "metadata": {},
   "outputs": [],
   "source": [
    "h = pd.read_csv(\"../datasets/candidates/wmpcand_101422_wmpid.csv\")"
   ]
  },
  {
   "cell_type": "code",
   "execution_count": 15,
   "metadata": {},
   "outputs": [
    {
     "data": {
      "text/plain": [
       "Index(['wmpid', 'genelect_cd', 'CurrCand', 'cand_name', 'cand_id',\n",
       "       'cand_office', 'cand_office_st', 'cand_office_dist',\n",
       "       'cand_party_affiliation', 'cand_incumbent_challenger_open_s',\n",
       "       'dateadded_cd', 'office_wapo', 'result_wapo', 'primarydate_wapo',\n",
       "       'trumpe_wapo', 'gender_wmp', 'gender_crp', 'latino_wmp', 'latino_crp',\n",
       "       'race_wmp', 'race_crp1', 'race_crp2', 'race_crpmena', 'hse_cmpt_gen',\n",
       "       'full_name', 'first_name', 'last_name'],\n",
       "      dtype='object')"
      ]
     },
     "execution_count": 15,
     "metadata": {},
     "output_type": "execute_result"
    }
   ],
   "source": [
    "h.columns"
   ]
  },
  {
   "cell_type": "code",
   "execution_count": 16,
   "metadata": {},
   "outputs": [
    {
     "data": {
      "text/plain": [
       "0    2929\n",
       "1    1366\n",
       "Name: genelect_cd, dtype: int64"
      ]
     },
     "execution_count": 16,
     "metadata": {},
     "output_type": "execute_result"
    }
   ],
   "source": [
    "h.genelect_cd.value_counts(dropna=False)"
   ]
  },
  {
   "cell_type": "code",
   "execution_count": 17,
   "metadata": {},
   "outputs": [],
   "source": [
    "h = h.loc[(h['genelect_cd']==1)&(h['cand_office']=='H')]"
   ]
  },
  {
   "cell_type": "code",
   "execution_count": 18,
   "metadata": {},
   "outputs": [
    {
     "data": {
      "text/plain": [
       "(1193, 27)"
      ]
     },
     "execution_count": 18,
     "metadata": {},
     "output_type": "execute_result"
    }
   ],
   "source": [
    "h.shape"
   ]
  },
  {
   "cell_type": "code",
   "execution_count": 19,
   "metadata": {},
   "outputs": [],
   "source": [
    "h = h[['wmpid', 'cand_name', 'full_name', 'cand_office_st', 'cand_office_dist', 'cand_party_affiliation']]"
   ]
  },
  {
   "cell_type": "code",
   "execution_count": 20,
   "metadata": {},
   "outputs": [
    {
     "data": {
      "text/plain": [
       "(1193, 6)"
      ]
     },
     "execution_count": 20,
     "metadata": {},
     "output_type": "execute_result"
    }
   ],
   "source": [
    "h.shape"
   ]
  },
  {
   "cell_type": "code",
   "execution_count": 21,
   "metadata": {},
   "outputs": [
    {
     "data": {
      "text/plain": [
       "1193"
      ]
     },
     "execution_count": 21,
     "metadata": {},
     "output_type": "execute_result"
    }
   ],
   "source": [
    "len(h.full_name.unique())"
   ]
  },
  {
   "cell_type": "code",
   "execution_count": 22,
   "metadata": {},
   "outputs": [
    {
     "data": {
      "text/html": [
       "<div>\n",
       "<style scoped>\n",
       "    .dataframe tbody tr th:only-of-type {\n",
       "        vertical-align: middle;\n",
       "    }\n",
       "\n",
       "    .dataframe tbody tr th {\n",
       "        vertical-align: top;\n",
       "    }\n",
       "\n",
       "    .dataframe thead th {\n",
       "        text-align: right;\n",
       "    }\n",
       "</style>\n",
       "<table border=\"1\" class=\"dataframe\">\n",
       "  <thead>\n",
       "    <tr style=\"text-align: right;\">\n",
       "      <th></th>\n",
       "      <th>wmpid</th>\n",
       "      <th>cand_name</th>\n",
       "      <th>full_name</th>\n",
       "      <th>cand_office_st</th>\n",
       "      <th>cand_office_dist</th>\n",
       "      <th>cand_party_affiliation</th>\n",
       "    </tr>\n",
       "  </thead>\n",
       "  <tbody>\n",
       "    <tr>\n",
       "      <th>0</th>\n",
       "      <td>WMPID21</td>\n",
       "      <td>CARL, JERRY LEE, JR</td>\n",
       "      <td>Jerry Carl</td>\n",
       "      <td>AL</td>\n",
       "      <td>1.0</td>\n",
       "      <td>REP</td>\n",
       "    </tr>\n",
       "    <tr>\n",
       "      <th>1</th>\n",
       "      <td>WMPID24</td>\n",
       "      <td>HARVEY-HALL, PHYLLIS</td>\n",
       "      <td>Phyllis Harvey-Hall</td>\n",
       "      <td>AL</td>\n",
       "      <td>2.0</td>\n",
       "      <td>DEM</td>\n",
       "    </tr>\n",
       "    <tr>\n",
       "      <th>2</th>\n",
       "      <td>WMPID27</td>\n",
       "      <td>SEWELL, TERRI A.</td>\n",
       "      <td>Terri A Sewell</td>\n",
       "      <td>AL</td>\n",
       "      <td>7.0</td>\n",
       "      <td>DEM</td>\n",
       "    </tr>\n",
       "    <tr>\n",
       "      <th>3</th>\n",
       "      <td>WMPID28</td>\n",
       "      <td>CRAWFORD, ERIC ALAN RICK</td>\n",
       "      <td>Rick Crawford</td>\n",
       "      <td>AR</td>\n",
       "      <td>1.0</td>\n",
       "      <td>REP</td>\n",
       "    </tr>\n",
       "    <tr>\n",
       "      <th>4</th>\n",
       "      <td>WMPID30</td>\n",
       "      <td>WOMACK, STEVE</td>\n",
       "      <td>Steve Womack</td>\n",
       "      <td>AR</td>\n",
       "      <td>3.0</td>\n",
       "      <td>REP</td>\n",
       "    </tr>\n",
       "  </tbody>\n",
       "</table>\n",
       "</div>"
      ],
      "text/plain": [
       "     wmpid                 cand_name            full_name cand_office_st  \\\n",
       "0  WMPID21       CARL, JERRY LEE, JR           Jerry Carl             AL   \n",
       "1  WMPID24      HARVEY-HALL, PHYLLIS  Phyllis Harvey-Hall             AL   \n",
       "2  WMPID27          SEWELL, TERRI A.       Terri A Sewell             AL   \n",
       "3  WMPID28  CRAWFORD, ERIC ALAN RICK        Rick Crawford             AR   \n",
       "4  WMPID30             WOMACK, STEVE         Steve Womack             AR   \n",
       "\n",
       "   cand_office_dist cand_party_affiliation  \n",
       "0               1.0                    REP  \n",
       "1               2.0                    DEM  \n",
       "2               7.0                    DEM  \n",
       "3               1.0                    REP  \n",
       "4               3.0                    REP  "
      ]
     },
     "execution_count": 22,
     "metadata": {},
     "output_type": "execute_result"
    }
   ],
   "source": [
    "h.head()"
   ]
  },
  {
   "cell_type": "markdown",
   "metadata": {},
   "source": [
    "### Scape house candidates' face urls and fuzzy match with candidates in the masterfile at the state level"
   ]
  },
  {
   "cell_type": "markdown",
   "metadata": {
    "id": "b-g8kZxsfIFI"
   },
   "source": [
    "#### 1. States with one layer\n",
    "\n",
    "- Here is exmaple code for one state Wyoming\n",
    "- For each state, manually check the matching results to see if they're ok\n",
    "- Once finishing all six states, combine them "
   ]
  },
  {
   "cell_type": "code",
   "execution_count": 25,
   "metadata": {
    "executionInfo": {
     "elapsed": 325,
     "status": "ok",
     "timestamp": 1670952653838,
     "user": {
      "displayName": "Jielu Yao",
      "userId": "09138677267510568916"
     },
     "user_tz": 300
    },
    "id": "9NI_JQ1NhDSZ"
   },
   "outputs": [],
   "source": [
    "d1 = pd.DataFrame(columns=['bp_name_raw', 'bp_url'])"
   ]
  },
  {
   "cell_type": "code",
   "execution_count": 26,
   "metadata": {
    "executionInfo": {
     "elapsed": 22062,
     "status": "ok",
     "timestamp": 1670952679040,
     "user": {
      "displayName": "Jielu Yao",
      "userId": "09138677267510568916"
     },
     "user_tz": 300
    },
    "id": "fiBjrzYhfKr-"
   },
   "outputs": [
    {
     "name": "stdout",
     "output_type": "stream",
     "text": [
      "https://ballotpedia.org/United_States_House_of_Representatives_election_in_Wyoming,_2022\n"
     ]
    }
   ],
   "source": [
    "for i in urls_1[5:6]:\n",
    "  print(i)\n",
    "  images = []\n",
    "  bp_names = []\n",
    "  source = urllib.request.urlopen(i).read()\n",
    "  soup = bs.BeautifulSoup(source)\n",
    "  img_css = \".image-candidate-thumbnail\"\n",
    "  img = soup.select(img_css)\n",
    "  img = img[0:5]\n",
    "  images.extend(list([i['src'] for i in img]))\n",
    "  n_css = \"td.votebox-results-cell--text\"\n",
    "  nm = soup.select(n_css)\n",
    "  nm = nm[0:5]\n",
    "  bp_names.extend(list([url.text for url in nm]))\n",
    "  dic = {'bp_name_raw':bp_names,'bp_url':images}\n",
    "  df = pd.DataFrame(dic)\n",
    "  d1=d1.append(df)"
   ]
  },
  {
   "cell_type": "code",
   "execution_count": 27,
   "metadata": {
    "colab": {
     "base_uri": "https://localhost:8080/",
     "height": 297
    },
    "executionInfo": {
     "elapsed": 493,
     "status": "ok",
     "timestamp": 1670952532218,
     "user": {
      "displayName": "Jielu Yao",
      "userId": "09138677267510568916"
     },
     "user_tz": 300
    },
    "id": "9WGAD3Btg0Fq",
    "outputId": "63422c99-840c-420e-d32f-d9228e7af4e8",
    "scrolled": true
   },
   "outputs": [
    {
     "data": {
      "text/html": [
       "<div>\n",
       "<style scoped>\n",
       "    .dataframe tbody tr th:only-of-type {\n",
       "        vertical-align: middle;\n",
       "    }\n",
       "\n",
       "    .dataframe tbody tr th {\n",
       "        vertical-align: top;\n",
       "    }\n",
       "\n",
       "    .dataframe thead th {\n",
       "        text-align: right;\n",
       "    }\n",
       "</style>\n",
       "<table border=\"1\" class=\"dataframe\">\n",
       "  <thead>\n",
       "    <tr style=\"text-align: right;\">\n",
       "      <th></th>\n",
       "      <th>bp_name_raw</th>\n",
       "      <th>bp_url</th>\n",
       "    </tr>\n",
       "  </thead>\n",
       "  <tbody>\n",
       "    <tr>\n",
       "      <th>0</th>\n",
       "      <td>Harriet Hageman (R)  \\n\\t\\t\\t\\t\\t\\t\\t\\t\\t\\t\\t\\t</td>\n",
       "      <td>https://s3.amazonaws.com/ballotpedia-api4/file...</td>\n",
       "    </tr>\n",
       "    <tr>\n",
       "      <th>1</th>\n",
       "      <td>Lynnette Grey Bull (D)  \\n\\t\\t\\t\\t\\t\\t\\t\\t\\t\\t...</td>\n",
       "      <td>https://s3.amazonaws.com/ballotpedia-api4/file...</td>\n",
       "    </tr>\n",
       "    <tr>\n",
       "      <th>2</th>\n",
       "      <td>Richard Brubaker (L)  \\n\\t\\t\\t\\t\\t\\t\\t\\t\\t\\t\\t\\t</td>\n",
       "      <td>https://s3.amazonaws.com/ballotpedia-api4/file...</td>\n",
       "    </tr>\n",
       "    <tr>\n",
       "      <th>3</th>\n",
       "      <td>Marissa Selvig (Constitution Party)</td>\n",
       "      <td>https://s3.amazonaws.com/ballotpedia-api4/file...</td>\n",
       "    </tr>\n",
       "    <tr>\n",
       "      <th>4</th>\n",
       "      <td>Other/Write-in votes</td>\n",
       "      <td>https://s3.amazonaws.com/ballotpedia-api4/file...</td>\n",
       "    </tr>\n",
       "  </tbody>\n",
       "</table>\n",
       "</div>"
      ],
      "text/plain": [
       "                                         bp_name_raw  \\\n",
       "0    Harriet Hageman (R)  \\n\\t\\t\\t\\t\\t\\t\\t\\t\\t\\t\\t\\t   \n",
       "1  Lynnette Grey Bull (D)  \\n\\t\\t\\t\\t\\t\\t\\t\\t\\t\\t...   \n",
       "2   Richard Brubaker (L)  \\n\\t\\t\\t\\t\\t\\t\\t\\t\\t\\t\\t\\t   \n",
       "3               Marissa Selvig (Constitution Party)    \n",
       "4                               Other/Write-in votes   \n",
       "\n",
       "                                              bp_url  \n",
       "0  https://s3.amazonaws.com/ballotpedia-api4/file...  \n",
       "1  https://s3.amazonaws.com/ballotpedia-api4/file...  \n",
       "2  https://s3.amazonaws.com/ballotpedia-api4/file...  \n",
       "3  https://s3.amazonaws.com/ballotpedia-api4/file...  \n",
       "4  https://s3.amazonaws.com/ballotpedia-api4/file...  "
      ]
     },
     "execution_count": 27,
     "metadata": {},
     "output_type": "execute_result"
    }
   ],
   "source": [
    "d1"
   ]
  },
  {
   "cell_type": "code",
   "execution_count": 28,
   "metadata": {},
   "outputs": [],
   "source": [
    "df2 = d1['bp_name_raw'].str.rsplit(\"(\", n=1, expand=True)"
   ]
  },
  {
   "cell_type": "code",
   "execution_count": 29,
   "metadata": {},
   "outputs": [],
   "source": [
    "df2 = df2.rename(columns={0:'name'})"
   ]
  },
  {
   "cell_type": "code",
   "execution_count": 30,
   "metadata": {},
   "outputs": [],
   "source": [
    "df3 =df2['name'].str.rsplit(\"(\", n=1, expand=True)\n",
    "df3 = df3.rename(columns={0:'name'})"
   ]
  },
  {
   "cell_type": "code",
   "execution_count": 31,
   "metadata": {},
   "outputs": [],
   "source": [
    "df3['bp_name'] = df3['name'].str.replace(\"\\n\", \"\").replace(\"\\t\", \"\")"
   ]
  },
  {
   "cell_type": "code",
   "execution_count": 32,
   "metadata": {},
   "outputs": [
    {
     "data": {
      "text/plain": [
       "0        Harriet Hageman \n",
       "1     Lynnette Grey Bull \n",
       "2       Richard Brubaker \n",
       "3         Marissa Selvig \n",
       "4    Other/Write-in votes\n",
       "Name: bp_name, dtype: object"
      ]
     },
     "execution_count": 32,
     "metadata": {},
     "output_type": "execute_result"
    }
   ],
   "source": [
    "df3['bp_name']"
   ]
  },
  {
   "cell_type": "code",
   "execution_count": 33,
   "metadata": {},
   "outputs": [],
   "source": [
    "df['bp_name']=df3['bp_name']"
   ]
  },
  {
   "cell_type": "code",
   "execution_count": 34,
   "metadata": {
    "scrolled": false
   },
   "outputs": [],
   "source": [
    "df['bp_url_filename'] = df['bp_url'].str.replace(\"https://s3.amazonaws.com/ballotpedia-api4/files/thumbs/100/100/\", '')"
   ]
  },
  {
   "cell_type": "code",
   "execution_count": 35,
   "metadata": {},
   "outputs": [],
   "source": [
    "df['bp_name'] = df['bp_name'].str.strip()"
   ]
  },
  {
   "cell_type": "code",
   "execution_count": 36,
   "metadata": {},
   "outputs": [],
   "source": [
    "df = df.drop_duplicates(subset=['bp_name'], keep='first')"
   ]
  },
  {
   "cell_type": "code",
   "execution_count": 37,
   "metadata": {},
   "outputs": [
    {
     "data": {
      "text/html": [
       "<div>\n",
       "<style scoped>\n",
       "    .dataframe tbody tr th:only-of-type {\n",
       "        vertical-align: middle;\n",
       "    }\n",
       "\n",
       "    .dataframe tbody tr th {\n",
       "        vertical-align: top;\n",
       "    }\n",
       "\n",
       "    .dataframe thead th {\n",
       "        text-align: right;\n",
       "    }\n",
       "</style>\n",
       "<table border=\"1\" class=\"dataframe\">\n",
       "  <thead>\n",
       "    <tr style=\"text-align: right;\">\n",
       "      <th></th>\n",
       "      <th>bp_name_raw</th>\n",
       "      <th>bp_url</th>\n",
       "      <th>bp_name</th>\n",
       "      <th>bp_url_filename</th>\n",
       "    </tr>\n",
       "  </thead>\n",
       "  <tbody>\n",
       "    <tr>\n",
       "      <th>0</th>\n",
       "      <td>Harriet Hageman (R)  \\n\\t\\t\\t\\t\\t\\t\\t\\t\\t\\t\\t\\t</td>\n",
       "      <td>https://s3.amazonaws.com/ballotpedia-api4/file...</td>\n",
       "      <td>Harriet Hageman</td>\n",
       "      <td>Harriet-Hageman.PNG</td>\n",
       "    </tr>\n",
       "    <tr>\n",
       "      <th>1</th>\n",
       "      <td>Lynnette Grey Bull (D)  \\n\\t\\t\\t\\t\\t\\t\\t\\t\\t\\t...</td>\n",
       "      <td>https://s3.amazonaws.com/ballotpedia-api4/file...</td>\n",
       "      <td>Lynnette Grey Bull</td>\n",
       "      <td>LynnetteGreyBullWY.png</td>\n",
       "    </tr>\n",
       "    <tr>\n",
       "      <th>2</th>\n",
       "      <td>Richard Brubaker (L)  \\n\\t\\t\\t\\t\\t\\t\\t\\t\\t\\t\\t\\t</td>\n",
       "      <td>https://s3.amazonaws.com/ballotpedia-api4/file...</td>\n",
       "      <td>Richard Brubaker</td>\n",
       "      <td>Richard_Brubaker.jpg</td>\n",
       "    </tr>\n",
       "    <tr>\n",
       "      <th>3</th>\n",
       "      <td>Marissa Selvig (Constitution Party)</td>\n",
       "      <td>https://s3.amazonaws.com/ballotpedia-api4/file...</td>\n",
       "      <td>Marissa Selvig</td>\n",
       "      <td>Marissa_Selvig.PNG</td>\n",
       "    </tr>\n",
       "    <tr>\n",
       "      <th>4</th>\n",
       "      <td>Other/Write-in votes</td>\n",
       "      <td>https://s3.amazonaws.com/ballotpedia-api4/file...</td>\n",
       "      <td>Other/Write-in votes</td>\n",
       "      <td>LynnetteGreyBullWY.png</td>\n",
       "    </tr>\n",
       "  </tbody>\n",
       "</table>\n",
       "</div>"
      ],
      "text/plain": [
       "                                         bp_name_raw  \\\n",
       "0    Harriet Hageman (R)  \\n\\t\\t\\t\\t\\t\\t\\t\\t\\t\\t\\t\\t   \n",
       "1  Lynnette Grey Bull (D)  \\n\\t\\t\\t\\t\\t\\t\\t\\t\\t\\t...   \n",
       "2   Richard Brubaker (L)  \\n\\t\\t\\t\\t\\t\\t\\t\\t\\t\\t\\t\\t   \n",
       "3               Marissa Selvig (Constitution Party)    \n",
       "4                               Other/Write-in votes   \n",
       "\n",
       "                                              bp_url               bp_name  \\\n",
       "0  https://s3.amazonaws.com/ballotpedia-api4/file...       Harriet Hageman   \n",
       "1  https://s3.amazonaws.com/ballotpedia-api4/file...    Lynnette Grey Bull   \n",
       "2  https://s3.amazonaws.com/ballotpedia-api4/file...      Richard Brubaker   \n",
       "3  https://s3.amazonaws.com/ballotpedia-api4/file...        Marissa Selvig   \n",
       "4  https://s3.amazonaws.com/ballotpedia-api4/file...  Other/Write-in votes   \n",
       "\n",
       "          bp_url_filename  \n",
       "0     Harriet-Hageman.PNG  \n",
       "1  LynnetteGreyBullWY.png  \n",
       "2    Richard_Brubaker.jpg  \n",
       "3      Marissa_Selvig.PNG  \n",
       "4  LynnetteGreyBullWY.png  "
      ]
     },
     "execution_count": 37,
     "metadata": {},
     "output_type": "execute_result"
    }
   ],
   "source": [
    "df"
   ]
  },
  {
   "cell_type": "code",
   "execution_count": 38,
   "metadata": {},
   "outputs": [],
   "source": [
    "WY = h.loc[h['cand_office_st']=='WY']"
   ]
  },
  {
   "cell_type": "code",
   "execution_count": 39,
   "metadata": {},
   "outputs": [
    {
     "data": {
      "text/html": [
       "<div>\n",
       "<style scoped>\n",
       "    .dataframe tbody tr th:only-of-type {\n",
       "        vertical-align: middle;\n",
       "    }\n",
       "\n",
       "    .dataframe tbody tr th {\n",
       "        vertical-align: top;\n",
       "    }\n",
       "\n",
       "    .dataframe thead th {\n",
       "        text-align: right;\n",
       "    }\n",
       "</style>\n",
       "<table border=\"1\" class=\"dataframe\">\n",
       "  <thead>\n",
       "    <tr style=\"text-align: right;\">\n",
       "      <th></th>\n",
       "      <th>wmpid</th>\n",
       "      <th>cand_name</th>\n",
       "      <th>full_name</th>\n",
       "      <th>cand_office_st</th>\n",
       "      <th>cand_office_dist</th>\n",
       "      <th>cand_party_affiliation</th>\n",
       "    </tr>\n",
       "  </thead>\n",
       "  <tbody>\n",
       "    <tr>\n",
       "      <th>369</th>\n",
       "      <td>WMPID767</td>\n",
       "      <td>GREYBULL, LYNNETTE</td>\n",
       "      <td>Lynnette Grey Bull</td>\n",
       "      <td>WY</td>\n",
       "      <td>0.0</td>\n",
       "      <td>DEM</td>\n",
       "    </tr>\n",
       "    <tr>\n",
       "      <th>3155</th>\n",
       "      <td>WMPID5149</td>\n",
       "      <td>BRUBAKER, RICHARD P.</td>\n",
       "      <td>Richard Brubaker</td>\n",
       "      <td>WY</td>\n",
       "      <td>0.0</td>\n",
       "      <td>LIB</td>\n",
       "    </tr>\n",
       "    <tr>\n",
       "      <th>3157</th>\n",
       "      <td>WMPID4061</td>\n",
       "      <td>HAGEMAN, HARRIET</td>\n",
       "      <td>Harriet Hageman</td>\n",
       "      <td>WY</td>\n",
       "      <td>0.0</td>\n",
       "      <td>REP</td>\n",
       "    </tr>\n",
       "    <tr>\n",
       "      <th>3159</th>\n",
       "      <td>WMPID4514</td>\n",
       "      <td>SELVIG, MARISSA JOY</td>\n",
       "      <td>Marissa Joy Selvig</td>\n",
       "      <td>WY</td>\n",
       "      <td>0.0</td>\n",
       "      <td>CON</td>\n",
       "    </tr>\n",
       "  </tbody>\n",
       "</table>\n",
       "</div>"
      ],
      "text/plain": [
       "          wmpid             cand_name           full_name cand_office_st  \\\n",
       "369    WMPID767    GREYBULL, LYNNETTE  Lynnette Grey Bull             WY   \n",
       "3155  WMPID5149  BRUBAKER, RICHARD P.    Richard Brubaker             WY   \n",
       "3157  WMPID4061      HAGEMAN, HARRIET     Harriet Hageman             WY   \n",
       "3159  WMPID4514   SELVIG, MARISSA JOY  Marissa Joy Selvig             WY   \n",
       "\n",
       "      cand_office_dist cand_party_affiliation  \n",
       "369                0.0                    DEM  \n",
       "3155               0.0                    LIB  \n",
       "3157               0.0                    REP  \n",
       "3159               0.0                    CON  "
      ]
     },
     "execution_count": 39,
     "metadata": {},
     "output_type": "execute_result"
    }
   ],
   "source": [
    "WY"
   ]
  },
  {
   "cell_type": "code",
   "execution_count": 43,
   "metadata": {},
   "outputs": [],
   "source": [
    "def fuzzy_merge(df_1, df_2, key1, key2, threshold=90, limit=2):\n",
    "    \"\"\"\n",
    "    :param df_1: the left table to join\n",
    "    :param df_2: the right table to join\n",
    "    :param key1: key column of the left table\n",
    "    :param key2: key column of the right table\n",
    "    :param threshold: how close the matches should be to return a match, based on Levenshtein distance\n",
    "    :param limit: the amount of matches that will get returned, these are sorted high to low\n",
    "    :return: dataframe with boths keys and matches\n",
    "    \"\"\"\n",
    "    s = df_2[key2].tolist()\n",
    "    \n",
    "    m = df_1[key1].apply(lambda x: process.extract(x, s, limit=limit))    \n",
    "    df_1['matches'] = m\n",
    "    \n",
    "    m2 = df_1['matches'].apply(lambda x: ', '.join([i[0] for i in x if i[1] >= threshold]))\n",
    "    df_1['matches'] = m2\n",
    "    \n",
    "    return df_1"
   ]
  },
  {
   "cell_type": "code",
   "execution_count": 44,
   "metadata": {},
   "outputs": [
    {
     "name": "stderr",
     "output_type": "stream",
     "text": [
      "/software/anaconda3/lib/python3.7/site-packages/ipykernel_launcher.py:14: SettingWithCopyWarning: \n",
      "A value is trying to be set on a copy of a slice from a DataFrame.\n",
      "Try using .loc[row_indexer,col_indexer] = value instead\n",
      "\n",
      "See the caveats in the documentation: https://pandas.pydata.org/pandas-docs/stable/user_guide/indexing.html#returning-a-view-versus-a-copy\n",
      "  \n",
      "/software/anaconda3/lib/python3.7/site-packages/ipykernel_launcher.py:17: SettingWithCopyWarning: \n",
      "A value is trying to be set on a copy of a slice from a DataFrame.\n",
      "Try using .loc[row_indexer,col_indexer] = value instead\n",
      "\n",
      "See the caveats in the documentation: https://pandas.pydata.org/pandas-docs/stable/user_guide/indexing.html#returning-a-view-versus-a-copy\n"
     ]
    }
   ],
   "source": [
    "wy = fuzzy_merge(WY, df, 'full_name', 'bp_name', threshold=90)"
   ]
  },
  {
   "cell_type": "code",
   "execution_count": 45,
   "metadata": {},
   "outputs": [
    {
     "data": {
      "text/html": [
       "<div>\n",
       "<style scoped>\n",
       "    .dataframe tbody tr th:only-of-type {\n",
       "        vertical-align: middle;\n",
       "    }\n",
       "\n",
       "    .dataframe tbody tr th {\n",
       "        vertical-align: top;\n",
       "    }\n",
       "\n",
       "    .dataframe thead th {\n",
       "        text-align: right;\n",
       "    }\n",
       "</style>\n",
       "<table border=\"1\" class=\"dataframe\">\n",
       "  <thead>\n",
       "    <tr style=\"text-align: right;\">\n",
       "      <th></th>\n",
       "      <th>wmpid</th>\n",
       "      <th>cand_name</th>\n",
       "      <th>full_name</th>\n",
       "      <th>cand_office_st</th>\n",
       "      <th>cand_office_dist</th>\n",
       "      <th>cand_party_affiliation</th>\n",
       "      <th>matches</th>\n",
       "    </tr>\n",
       "  </thead>\n",
       "  <tbody>\n",
       "    <tr>\n",
       "      <th>369</th>\n",
       "      <td>WMPID767</td>\n",
       "      <td>GREYBULL, LYNNETTE</td>\n",
       "      <td>Lynnette Grey Bull</td>\n",
       "      <td>WY</td>\n",
       "      <td>0.0</td>\n",
       "      <td>DEM</td>\n",
       "      <td>Lynnette Grey Bull</td>\n",
       "    </tr>\n",
       "    <tr>\n",
       "      <th>3155</th>\n",
       "      <td>WMPID5149</td>\n",
       "      <td>BRUBAKER, RICHARD P.</td>\n",
       "      <td>Richard Brubaker</td>\n",
       "      <td>WY</td>\n",
       "      <td>0.0</td>\n",
       "      <td>LIB</td>\n",
       "      <td>Richard Brubaker</td>\n",
       "    </tr>\n",
       "    <tr>\n",
       "      <th>3157</th>\n",
       "      <td>WMPID4061</td>\n",
       "      <td>HAGEMAN, HARRIET</td>\n",
       "      <td>Harriet Hageman</td>\n",
       "      <td>WY</td>\n",
       "      <td>0.0</td>\n",
       "      <td>REP</td>\n",
       "      <td>Harriet Hageman</td>\n",
       "    </tr>\n",
       "    <tr>\n",
       "      <th>3159</th>\n",
       "      <td>WMPID4514</td>\n",
       "      <td>SELVIG, MARISSA JOY</td>\n",
       "      <td>Marissa Joy Selvig</td>\n",
       "      <td>WY</td>\n",
       "      <td>0.0</td>\n",
       "      <td>CON</td>\n",
       "      <td>Marissa Selvig</td>\n",
       "    </tr>\n",
       "  </tbody>\n",
       "</table>\n",
       "</div>"
      ],
      "text/plain": [
       "          wmpid             cand_name           full_name cand_office_st  \\\n",
       "369    WMPID767    GREYBULL, LYNNETTE  Lynnette Grey Bull             WY   \n",
       "3155  WMPID5149  BRUBAKER, RICHARD P.    Richard Brubaker             WY   \n",
       "3157  WMPID4061      HAGEMAN, HARRIET     Harriet Hageman             WY   \n",
       "3159  WMPID4514   SELVIG, MARISSA JOY  Marissa Joy Selvig             WY   \n",
       "\n",
       "      cand_office_dist cand_party_affiliation             matches  \n",
       "369                0.0                    DEM  Lynnette Grey Bull  \n",
       "3155               0.0                    LIB    Richard Brubaker  \n",
       "3157               0.0                    REP     Harriet Hageman  \n",
       "3159               0.0                    CON      Marissa Selvig  "
      ]
     },
     "execution_count": 45,
     "metadata": {},
     "output_type": "execute_result"
    }
   ],
   "source": [
    "wy.head()"
   ]
  },
  {
   "cell_type": "code",
   "execution_count": 46,
   "metadata": {},
   "outputs": [],
   "source": [
    "wy= wy.merge(df, left_on='matches', right_on='bp_name', indicator=True, how='left')"
   ]
  },
  {
   "cell_type": "code",
   "execution_count": 47,
   "metadata": {},
   "outputs": [
    {
     "data": {
      "text/html": [
       "<div>\n",
       "<style scoped>\n",
       "    .dataframe tbody tr th:only-of-type {\n",
       "        vertical-align: middle;\n",
       "    }\n",
       "\n",
       "    .dataframe tbody tr th {\n",
       "        vertical-align: top;\n",
       "    }\n",
       "\n",
       "    .dataframe thead th {\n",
       "        text-align: right;\n",
       "    }\n",
       "</style>\n",
       "<table border=\"1\" class=\"dataframe\">\n",
       "  <thead>\n",
       "    <tr style=\"text-align: right;\">\n",
       "      <th></th>\n",
       "      <th>wmpid</th>\n",
       "      <th>cand_name</th>\n",
       "      <th>full_name</th>\n",
       "      <th>cand_office_st</th>\n",
       "      <th>cand_office_dist</th>\n",
       "      <th>cand_party_affiliation</th>\n",
       "      <th>matches</th>\n",
       "      <th>bp_name_raw</th>\n",
       "      <th>bp_url</th>\n",
       "      <th>bp_name</th>\n",
       "      <th>bp_url_filename</th>\n",
       "      <th>_merge</th>\n",
       "    </tr>\n",
       "  </thead>\n",
       "  <tbody>\n",
       "    <tr>\n",
       "      <th>0</th>\n",
       "      <td>WMPID767</td>\n",
       "      <td>GREYBULL, LYNNETTE</td>\n",
       "      <td>Lynnette Grey Bull</td>\n",
       "      <td>WY</td>\n",
       "      <td>0.0</td>\n",
       "      <td>DEM</td>\n",
       "      <td>Lynnette Grey Bull</td>\n",
       "      <td>Lynnette Grey Bull (D)  \\n\\t\\t\\t\\t\\t\\t\\t\\t\\t\\t...</td>\n",
       "      <td>https://s3.amazonaws.com/ballotpedia-api4/file...</td>\n",
       "      <td>Lynnette Grey Bull</td>\n",
       "      <td>LynnetteGreyBullWY.png</td>\n",
       "      <td>both</td>\n",
       "    </tr>\n",
       "    <tr>\n",
       "      <th>1</th>\n",
       "      <td>WMPID5149</td>\n",
       "      <td>BRUBAKER, RICHARD P.</td>\n",
       "      <td>Richard Brubaker</td>\n",
       "      <td>WY</td>\n",
       "      <td>0.0</td>\n",
       "      <td>LIB</td>\n",
       "      <td>Richard Brubaker</td>\n",
       "      <td>Richard Brubaker (L)  \\n\\t\\t\\t\\t\\t\\t\\t\\t\\t\\t\\t\\t</td>\n",
       "      <td>https://s3.amazonaws.com/ballotpedia-api4/file...</td>\n",
       "      <td>Richard Brubaker</td>\n",
       "      <td>Richard_Brubaker.jpg</td>\n",
       "      <td>both</td>\n",
       "    </tr>\n",
       "    <tr>\n",
       "      <th>2</th>\n",
       "      <td>WMPID4061</td>\n",
       "      <td>HAGEMAN, HARRIET</td>\n",
       "      <td>Harriet Hageman</td>\n",
       "      <td>WY</td>\n",
       "      <td>0.0</td>\n",
       "      <td>REP</td>\n",
       "      <td>Harriet Hageman</td>\n",
       "      <td>Harriet Hageman (R)  \\n\\t\\t\\t\\t\\t\\t\\t\\t\\t\\t\\t\\t</td>\n",
       "      <td>https://s3.amazonaws.com/ballotpedia-api4/file...</td>\n",
       "      <td>Harriet Hageman</td>\n",
       "      <td>Harriet-Hageman.PNG</td>\n",
       "      <td>both</td>\n",
       "    </tr>\n",
       "    <tr>\n",
       "      <th>3</th>\n",
       "      <td>WMPID4514</td>\n",
       "      <td>SELVIG, MARISSA JOY</td>\n",
       "      <td>Marissa Joy Selvig</td>\n",
       "      <td>WY</td>\n",
       "      <td>0.0</td>\n",
       "      <td>CON</td>\n",
       "      <td>Marissa Selvig</td>\n",
       "      <td>Marissa Selvig (Constitution Party)</td>\n",
       "      <td>https://s3.amazonaws.com/ballotpedia-api4/file...</td>\n",
       "      <td>Marissa Selvig</td>\n",
       "      <td>Marissa_Selvig.PNG</td>\n",
       "      <td>both</td>\n",
       "    </tr>\n",
       "  </tbody>\n",
       "</table>\n",
       "</div>"
      ],
      "text/plain": [
       "       wmpid             cand_name           full_name cand_office_st  \\\n",
       "0   WMPID767    GREYBULL, LYNNETTE  Lynnette Grey Bull             WY   \n",
       "1  WMPID5149  BRUBAKER, RICHARD P.    Richard Brubaker             WY   \n",
       "2  WMPID4061      HAGEMAN, HARRIET     Harriet Hageman             WY   \n",
       "3  WMPID4514   SELVIG, MARISSA JOY  Marissa Joy Selvig             WY   \n",
       "\n",
       "   cand_office_dist cand_party_affiliation             matches  \\\n",
       "0               0.0                    DEM  Lynnette Grey Bull   \n",
       "1               0.0                    LIB    Richard Brubaker   \n",
       "2               0.0                    REP     Harriet Hageman   \n",
       "3               0.0                    CON      Marissa Selvig   \n",
       "\n",
       "                                         bp_name_raw  \\\n",
       "0  Lynnette Grey Bull (D)  \\n\\t\\t\\t\\t\\t\\t\\t\\t\\t\\t...   \n",
       "1   Richard Brubaker (L)  \\n\\t\\t\\t\\t\\t\\t\\t\\t\\t\\t\\t\\t   \n",
       "2    Harriet Hageman (R)  \\n\\t\\t\\t\\t\\t\\t\\t\\t\\t\\t\\t\\t   \n",
       "3               Marissa Selvig (Constitution Party)    \n",
       "\n",
       "                                              bp_url             bp_name  \\\n",
       "0  https://s3.amazonaws.com/ballotpedia-api4/file...  Lynnette Grey Bull   \n",
       "1  https://s3.amazonaws.com/ballotpedia-api4/file...    Richard Brubaker   \n",
       "2  https://s3.amazonaws.com/ballotpedia-api4/file...     Harriet Hageman   \n",
       "3  https://s3.amazonaws.com/ballotpedia-api4/file...      Marissa Selvig   \n",
       "\n",
       "          bp_url_filename _merge  \n",
       "0  LynnetteGreyBullWY.png   both  \n",
       "1    Richard_Brubaker.jpg   both  \n",
       "2     Harriet-Hageman.PNG   both  \n",
       "3      Marissa_Selvig.PNG   both  "
      ]
     },
     "execution_count": 47,
     "metadata": {},
     "output_type": "execute_result"
    }
   ],
   "source": [
    "wy.head()"
   ]
  },
  {
   "cell_type": "markdown",
   "metadata": {},
   "source": [
    "Quick check if matches are ok"
   ]
  },
  {
   "cell_type": "code",
   "execution_count": 48,
   "metadata": {},
   "outputs": [
    {
     "data": {
      "text/html": [
       "<div>\n",
       "<style scoped>\n",
       "    .dataframe tbody tr th:only-of-type {\n",
       "        vertical-align: middle;\n",
       "    }\n",
       "\n",
       "    .dataframe tbody tr th {\n",
       "        vertical-align: top;\n",
       "    }\n",
       "\n",
       "    .dataframe thead th {\n",
       "        text-align: right;\n",
       "    }\n",
       "</style>\n",
       "<table border=\"1\" class=\"dataframe\">\n",
       "  <thead>\n",
       "    <tr style=\"text-align: right;\">\n",
       "      <th></th>\n",
       "      <th>wmpid</th>\n",
       "      <th>cand_name</th>\n",
       "      <th>full_name</th>\n",
       "      <th>cand_office_st</th>\n",
       "      <th>cand_office_dist</th>\n",
       "      <th>cand_party_affiliation</th>\n",
       "      <th>matches</th>\n",
       "      <th>bp_name_raw</th>\n",
       "      <th>bp_url</th>\n",
       "      <th>bp_name</th>\n",
       "      <th>bp_url_filename</th>\n",
       "      <th>_merge</th>\n",
       "    </tr>\n",
       "  </thead>\n",
       "  <tbody>\n",
       "    <tr>\n",
       "      <th>0</th>\n",
       "      <td>WMPID767</td>\n",
       "      <td>GREYBULL, LYNNETTE</td>\n",
       "      <td>Lynnette Grey Bull</td>\n",
       "      <td>WY</td>\n",
       "      <td>0.0</td>\n",
       "      <td>DEM</td>\n",
       "      <td>Lynnette Grey Bull</td>\n",
       "      <td>Lynnette Grey Bull (D)  \\n\\t\\t\\t\\t\\t\\t\\t\\t\\t\\t...</td>\n",
       "      <td>https://s3.amazonaws.com/ballotpedia-api4/file...</td>\n",
       "      <td>Lynnette Grey Bull</td>\n",
       "      <td>LynnetteGreyBullWY.png</td>\n",
       "      <td>both</td>\n",
       "    </tr>\n",
       "    <tr>\n",
       "      <th>1</th>\n",
       "      <td>WMPID5149</td>\n",
       "      <td>BRUBAKER, RICHARD P.</td>\n",
       "      <td>Richard Brubaker</td>\n",
       "      <td>WY</td>\n",
       "      <td>0.0</td>\n",
       "      <td>LIB</td>\n",
       "      <td>Richard Brubaker</td>\n",
       "      <td>Richard Brubaker (L)  \\n\\t\\t\\t\\t\\t\\t\\t\\t\\t\\t\\t\\t</td>\n",
       "      <td>https://s3.amazonaws.com/ballotpedia-api4/file...</td>\n",
       "      <td>Richard Brubaker</td>\n",
       "      <td>Richard_Brubaker.jpg</td>\n",
       "      <td>both</td>\n",
       "    </tr>\n",
       "    <tr>\n",
       "      <th>2</th>\n",
       "      <td>WMPID4061</td>\n",
       "      <td>HAGEMAN, HARRIET</td>\n",
       "      <td>Harriet Hageman</td>\n",
       "      <td>WY</td>\n",
       "      <td>0.0</td>\n",
       "      <td>REP</td>\n",
       "      <td>Harriet Hageman</td>\n",
       "      <td>Harriet Hageman (R)  \\n\\t\\t\\t\\t\\t\\t\\t\\t\\t\\t\\t\\t</td>\n",
       "      <td>https://s3.amazonaws.com/ballotpedia-api4/file...</td>\n",
       "      <td>Harriet Hageman</td>\n",
       "      <td>Harriet-Hageman.PNG</td>\n",
       "      <td>both</td>\n",
       "    </tr>\n",
       "    <tr>\n",
       "      <th>3</th>\n",
       "      <td>WMPID4514</td>\n",
       "      <td>SELVIG, MARISSA JOY</td>\n",
       "      <td>Marissa Joy Selvig</td>\n",
       "      <td>WY</td>\n",
       "      <td>0.0</td>\n",
       "      <td>CON</td>\n",
       "      <td>Marissa Selvig</td>\n",
       "      <td>Marissa Selvig (Constitution Party)</td>\n",
       "      <td>https://s3.amazonaws.com/ballotpedia-api4/file...</td>\n",
       "      <td>Marissa Selvig</td>\n",
       "      <td>Marissa_Selvig.PNG</td>\n",
       "      <td>both</td>\n",
       "    </tr>\n",
       "  </tbody>\n",
       "</table>\n",
       "</div>"
      ],
      "text/plain": [
       "       wmpid             cand_name           full_name cand_office_st  \\\n",
       "0   WMPID767    GREYBULL, LYNNETTE  Lynnette Grey Bull             WY   \n",
       "1  WMPID5149  BRUBAKER, RICHARD P.    Richard Brubaker             WY   \n",
       "2  WMPID4061      HAGEMAN, HARRIET     Harriet Hageman             WY   \n",
       "3  WMPID4514   SELVIG, MARISSA JOY  Marissa Joy Selvig             WY   \n",
       "\n",
       "   cand_office_dist cand_party_affiliation             matches  \\\n",
       "0               0.0                    DEM  Lynnette Grey Bull   \n",
       "1               0.0                    LIB    Richard Brubaker   \n",
       "2               0.0                    REP     Harriet Hageman   \n",
       "3               0.0                    CON      Marissa Selvig   \n",
       "\n",
       "                                         bp_name_raw  \\\n",
       "0  Lynnette Grey Bull (D)  \\n\\t\\t\\t\\t\\t\\t\\t\\t\\t\\t...   \n",
       "1   Richard Brubaker (L)  \\n\\t\\t\\t\\t\\t\\t\\t\\t\\t\\t\\t\\t   \n",
       "2    Harriet Hageman (R)  \\n\\t\\t\\t\\t\\t\\t\\t\\t\\t\\t\\t\\t   \n",
       "3               Marissa Selvig (Constitution Party)    \n",
       "\n",
       "                                              bp_url             bp_name  \\\n",
       "0  https://s3.amazonaws.com/ballotpedia-api4/file...  Lynnette Grey Bull   \n",
       "1  https://s3.amazonaws.com/ballotpedia-api4/file...    Richard Brubaker   \n",
       "2  https://s3.amazonaws.com/ballotpedia-api4/file...     Harriet Hageman   \n",
       "3  https://s3.amazonaws.com/ballotpedia-api4/file...      Marissa Selvig   \n",
       "\n",
       "          bp_url_filename _merge  \n",
       "0  LynnetteGreyBullWY.png   both  \n",
       "1    Richard_Brubaker.jpg   both  \n",
       "2     Harriet-Hageman.PNG   both  \n",
       "3      Marissa_Selvig.PNG   both  "
      ]
     },
     "execution_count": 48,
     "metadata": {},
     "output_type": "execute_result"
    }
   ],
   "source": [
    "wy.loc[wy._merge=='both']"
   ]
  },
  {
   "cell_type": "markdown",
   "metadata": {},
   "source": [
    "#### Combine six states' results\n"
   ]
  },
  {
   "cell_type": "code",
   "execution_count": 208,
   "metadata": {},
   "outputs": [],
   "source": [
    "#res1 = pd.concat([ak, de, nd, sd, vt, wy])"
   ]
  },
  {
   "cell_type": "code",
   "execution_count": 209,
   "metadata": {},
   "outputs": [
    {
     "data": {
      "text/plain": [
       "(21, 12)"
      ]
     },
     "execution_count": 209,
     "metadata": {},
     "output_type": "execute_result"
    }
   ],
   "source": [
    "#res1.shape"
   ]
  },
  {
   "cell_type": "code",
   "execution_count": 211,
   "metadata": {},
   "outputs": [
    {
     "data": {
      "text/html": [
       "<div>\n",
       "<style scoped>\n",
       "    .dataframe tbody tr th:only-of-type {\n",
       "        vertical-align: middle;\n",
       "    }\n",
       "\n",
       "    .dataframe tbody tr th {\n",
       "        vertical-align: top;\n",
       "    }\n",
       "\n",
       "    .dataframe thead th {\n",
       "        text-align: right;\n",
       "    }\n",
       "</style>\n",
       "<table border=\"1\" class=\"dataframe\">\n",
       "  <thead>\n",
       "    <tr style=\"text-align: right;\">\n",
       "      <th></th>\n",
       "      <th>wmpid</th>\n",
       "      <th>cand_name</th>\n",
       "      <th>full_name</th>\n",
       "      <th>cand_office_st</th>\n",
       "      <th>cand_office_dist</th>\n",
       "      <th>cand_party_affiliation</th>\n",
       "      <th>matches</th>\n",
       "      <th>bp_name_raw</th>\n",
       "      <th>bp_url</th>\n",
       "      <th>bp_name</th>\n",
       "      <th>bp_url_filename</th>\n",
       "      <th>_merge</th>\n",
       "    </tr>\n",
       "  </thead>\n",
       "  <tbody>\n",
       "    <tr>\n",
       "      <th>0</th>\n",
       "      <td>WMPID2014</td>\n",
       "      <td>PALIN, SARAH</td>\n",
       "      <td>Sarah Palin</td>\n",
       "      <td>AK</td>\n",
       "      <td>0.0</td>\n",
       "      <td>REP</td>\n",
       "      <td>Sarah Palin</td>\n",
       "      <td>Sarah Palin</td>\n",
       "      <td>https://s3.amazonaws.com/ballotpedia-api4/file...</td>\n",
       "      <td>Sarah Palin</td>\n",
       "      <td>Sarah_Palin.PNG</td>\n",
       "      <td>both</td>\n",
       "    </tr>\n",
       "    <tr>\n",
       "      <th>1</th>\n",
       "      <td>WMPID4003</td>\n",
       "      <td>BEGICH, NICHOLAS III</td>\n",
       "      <td>Nicholas III Begich</td>\n",
       "      <td>AK</td>\n",
       "      <td>0.0</td>\n",
       "      <td>REP</td>\n",
       "      <td>Nicholas Begich</td>\n",
       "      <td>Nicholas Begich</td>\n",
       "      <td>https://s3.amazonaws.com/ballotpedia-api4/file...</td>\n",
       "      <td>Nicholas Begich</td>\n",
       "      <td>Nick-Begich.PNG</td>\n",
       "      <td>both</td>\n",
       "    </tr>\n",
       "    <tr>\n",
       "      <th>2</th>\n",
       "      <td>WMPID4308</td>\n",
       "      <td>PELTOLA, MARY</td>\n",
       "      <td>Mary Peltola</td>\n",
       "      <td>AK</td>\n",
       "      <td>0.0</td>\n",
       "      <td>DEM</td>\n",
       "      <td>Mary Peltola</td>\n",
       "      <td>Mary Peltola</td>\n",
       "      <td>https://s3.amazonaws.com/ballotpedia-api4/file...</td>\n",
       "      <td>Mary Peltola</td>\n",
       "      <td>Mary-Peltola.PNG</td>\n",
       "      <td>both</td>\n",
       "    </tr>\n",
       "    <tr>\n",
       "      <th>3</th>\n",
       "      <td>WMPID4360</td>\n",
       "      <td>SWEENEY, TARA M</td>\n",
       "      <td>Tara Sweeney</td>\n",
       "      <td>AK</td>\n",
       "      <td>0.0</td>\n",
       "      <td>REP</td>\n",
       "      <td></td>\n",
       "      <td>NaN</td>\n",
       "      <td>NaN</td>\n",
       "      <td>NaN</td>\n",
       "      <td>NaN</td>\n",
       "      <td>left_only</td>\n",
       "    </tr>\n",
       "    <tr>\n",
       "      <th>0</th>\n",
       "      <td>WMPID5148</td>\n",
       "      <td>ROGERS, DAVID L.</td>\n",
       "      <td>David Rogers</td>\n",
       "      <td>DE</td>\n",
       "      <td>0.0</td>\n",
       "      <td>OTH</td>\n",
       "      <td>David Rogers</td>\n",
       "      <td>David Rogers (Nonpartisan Party)  \\n\\t\\t\\t\\t\\t...</td>\n",
       "      <td>https://s3.amazonaws.com/ballotpedia-api4/file...</td>\n",
       "      <td>David Rogers</td>\n",
       "      <td>DavidRogers.jpg</td>\n",
       "      <td>both</td>\n",
       "    </tr>\n",
       "    <tr>\n",
       "      <th>1</th>\n",
       "      <td>WMPID5144</td>\n",
       "      <td>MCNUTT, CODY</td>\n",
       "      <td>Cody Mcnutt</td>\n",
       "      <td>DE</td>\n",
       "      <td>0.0</td>\n",
       "      <td>LIB</td>\n",
       "      <td>Cody McNutt</td>\n",
       "      <td>Cody McNutt (L)  \\n\\t\\t\\t\\t\\t\\t\\t\\t\\t\\t\\t</td>\n",
       "      <td>https://s3.amazonaws.com/ballotpedia-api4/file...</td>\n",
       "      <td>Cody McNutt</td>\n",
       "      <td>Cody-McNutt.PNG</td>\n",
       "      <td>both</td>\n",
       "    </tr>\n",
       "    <tr>\n",
       "      <th>2</th>\n",
       "      <td>WMPID959</td>\n",
       "      <td>BLUNT ROCHESTER, LISA</td>\n",
       "      <td>Lisa Blunt Rochester</td>\n",
       "      <td>DE</td>\n",
       "      <td>0.0</td>\n",
       "      <td>DEM</td>\n",
       "      <td>Lisa Blunt Rochester</td>\n",
       "      <td>Lisa Blunt Rochester (D)  \\n\\t\\t\\t\\t\\t\\t\\t\\t\\t...</td>\n",
       "      <td>https://s3.amazonaws.com/ballotpedia-api4/file...</td>\n",
       "      <td>Lisa Blunt Rochester</td>\n",
       "      <td>Lisa_Blunt_Rochester.jpg</td>\n",
       "      <td>both</td>\n",
       "    </tr>\n",
       "    <tr>\n",
       "      <th>3</th>\n",
       "      <td>WMPID5139</td>\n",
       "      <td>WALKER, SCOTT</td>\n",
       "      <td>Scott Walker</td>\n",
       "      <td>DE</td>\n",
       "      <td>0.0</td>\n",
       "      <td>W</td>\n",
       "      <td>Scott Walker</td>\n",
       "      <td>Scott Walker (Independent) (Write-in)  \\n\\t\\t\\...</td>\n",
       "      <td>https://s3.amazonaws.com/ballotpedia-api4/file...</td>\n",
       "      <td>Scott Walker</td>\n",
       "      <td>Scott_WalkerDE.jpeg</td>\n",
       "      <td>both</td>\n",
       "    </tr>\n",
       "    <tr>\n",
       "      <th>4</th>\n",
       "      <td>WMPID1084</td>\n",
       "      <td>MURPHY, LEE</td>\n",
       "      <td>Lee Murphy</td>\n",
       "      <td>DE</td>\n",
       "      <td>0.0</td>\n",
       "      <td>REP</td>\n",
       "      <td>Lee Murphy</td>\n",
       "      <td>Lee Murphy (R)  \\n\\t\\t\\t\\t\\t\\t\\t\\t\\t\\t\\t</td>\n",
       "      <td>https://s3.amazonaws.com/ballotpedia-api4/file...</td>\n",
       "      <td>Lee Murphy</td>\n",
       "      <td>Lee_Murphy_for_U.S._Congress_Delaware_photo.JPG</td>\n",
       "      <td>both</td>\n",
       "    </tr>\n",
       "    <tr>\n",
       "      <th>0</th>\n",
       "      <td>WMPID2318</td>\n",
       "      <td>HAUGEN, MARK</td>\n",
       "      <td>Mark Haugen</td>\n",
       "      <td>ND</td>\n",
       "      <td>0.0</td>\n",
       "      <td>DEM</td>\n",
       "      <td>Mark Haugen</td>\n",
       "      <td>Mark Haugen \\n</td>\n",
       "      <td>https://s3.amazonaws.com/ballotpedia-api4/file...</td>\n",
       "      <td>Mark Haugen</td>\n",
       "      <td>KELLY_ARMSTRONG.jpg</td>\n",
       "      <td>both</td>\n",
       "    </tr>\n",
       "    <tr>\n",
       "      <th>1</th>\n",
       "      <td>WMPID5103</td>\n",
       "      <td>MUND, CARA</td>\n",
       "      <td>Cara Mund</td>\n",
       "      <td>ND</td>\n",
       "      <td>0.0</td>\n",
       "      <td>(I)</td>\n",
       "      <td>Cara Mund</td>\n",
       "      <td>Cara Mund (Independent)  \\n\\t\\t\\t\\t\\t\\t\\t\\t\\t\\t\\t</td>\n",
       "      <td>https://s3.amazonaws.com/ballotpedia-api4/file...</td>\n",
       "      <td>Cara Mund</td>\n",
       "      <td>Cara_Mund.PNG</td>\n",
       "      <td>both</td>\n",
       "    </tr>\n",
       "    <tr>\n",
       "      <th>2</th>\n",
       "      <td>WMPID1171</td>\n",
       "      <td>ARMSTRONG, KELLY</td>\n",
       "      <td>Kelly Armstrong</td>\n",
       "      <td>ND</td>\n",
       "      <td>0.0</td>\n",
       "      <td>REP</td>\n",
       "      <td>Kelly Armstrong</td>\n",
       "      <td>Kelly Armstrong (R)  \\n\\t\\t\\t\\t\\t\\t\\t\\t\\t\\t\\t</td>\n",
       "      <td>https://s3.amazonaws.com/ballotpedia-api4/file...</td>\n",
       "      <td>Kelly Armstrong</td>\n",
       "      <td>KELLY_ARMSTRONG.jpg</td>\n",
       "      <td>both</td>\n",
       "    </tr>\n",
       "    <tr>\n",
       "      <th>0</th>\n",
       "      <td>WMPID5122</td>\n",
       "      <td>DUPREL, COLLIN</td>\n",
       "      <td>Collin Duprel</td>\n",
       "      <td>SD</td>\n",
       "      <td>0.0</td>\n",
       "      <td>LIB</td>\n",
       "      <td>Collin Duprel</td>\n",
       "      <td>Collin Duprel (L)  \\n\\t\\t\\t\\t\\t\\t\\t\\t\\t\\t\\t</td>\n",
       "      <td>https://s3.amazonaws.com/ballotpedia-api4/file...</td>\n",
       "      <td>Collin Duprel</td>\n",
       "      <td>Collin_Duprel2.jpg</td>\n",
       "      <td>both</td>\n",
       "    </tr>\n",
       "    <tr>\n",
       "      <th>1</th>\n",
       "      <td>WMPID1231</td>\n",
       "      <td>JOHNSON, DUSTY</td>\n",
       "      <td>Dusty Johnson</td>\n",
       "      <td>SD</td>\n",
       "      <td>0.0</td>\n",
       "      <td>REP</td>\n",
       "      <td>Dusty Johnson</td>\n",
       "      <td>Dusty Johnson (R)  \\n\\t\\t\\t\\t\\t\\t\\t\\t\\t\\t\\t</td>\n",
       "      <td>https://s3.amazonaws.com/ballotpedia-api4/file...</td>\n",
       "      <td>Dusty Johnson</td>\n",
       "      <td>Dusty_Johnson_resize.jpg</td>\n",
       "      <td>both</td>\n",
       "    </tr>\n",
       "    <tr>\n",
       "      <th>0</th>\n",
       "      <td>WMPID5069</td>\n",
       "      <td>NOLFI, BARBARA</td>\n",
       "      <td>Barbara Nolfi</td>\n",
       "      <td>VT</td>\n",
       "      <td>0.0</td>\n",
       "      <td>PRO</td>\n",
       "      <td></td>\n",
       "      <td>NaN</td>\n",
       "      <td>NaN</td>\n",
       "      <td>NaN</td>\n",
       "      <td>NaN</td>\n",
       "      <td>left_only</td>\n",
       "    </tr>\n",
       "    <tr>\n",
       "      <th>1</th>\n",
       "      <td>WMPID2308</td>\n",
       "      <td>BALINT, REBECCA BECCA</td>\n",
       "      <td>Rebecca Becca Balint</td>\n",
       "      <td>VT</td>\n",
       "      <td>0.0</td>\n",
       "      <td>DEM</td>\n",
       "      <td>Becca Balint</td>\n",
       "      <td>Becca Balint (D)  \\n\\t\\t\\t\\t\\t\\t\\t\\t\\t\\t\\t</td>\n",
       "      <td>https://s3.amazonaws.com/ballotpedia-api4/file...</td>\n",
       "      <td>Becca Balint</td>\n",
       "      <td>Becca-Balint.PNG</td>\n",
       "      <td>both</td>\n",
       "    </tr>\n",
       "    <tr>\n",
       "      <th>2</th>\n",
       "      <td>WMPID2620</td>\n",
       "      <td>MADDEN, LIAM</td>\n",
       "      <td>Liam Madden</td>\n",
       "      <td>VT</td>\n",
       "      <td>0.0</td>\n",
       "      <td>IND</td>\n",
       "      <td>Liam Madden</td>\n",
       "      <td>Liam Madden (R) \\n</td>\n",
       "      <td>https://s3.amazonaws.com/ballotpedia-api4/file...</td>\n",
       "      <td>Liam Madden</td>\n",
       "      <td>Liam_Madden.png</td>\n",
       "      <td>both</td>\n",
       "    </tr>\n",
       "    <tr>\n",
       "      <th>0</th>\n",
       "      <td>WMPID767</td>\n",
       "      <td>GREYBULL, LYNNETTE</td>\n",
       "      <td>Lynnette Grey Bull</td>\n",
       "      <td>WY</td>\n",
       "      <td>0.0</td>\n",
       "      <td>DEM</td>\n",
       "      <td>Lynnette Grey Bull</td>\n",
       "      <td>Lynnette Grey Bull (D)  \\n\\t\\t\\t\\t\\t\\t\\t\\t\\t\\t\\t</td>\n",
       "      <td>https://s3.amazonaws.com/ballotpedia-api4/file...</td>\n",
       "      <td>Lynnette Grey Bull</td>\n",
       "      <td>LynnetteGreyBullWY.png</td>\n",
       "      <td>both</td>\n",
       "    </tr>\n",
       "    <tr>\n",
       "      <th>1</th>\n",
       "      <td>WMPID5149</td>\n",
       "      <td>BRUBAKER, RICHARD P.</td>\n",
       "      <td>Richard Brubaker</td>\n",
       "      <td>WY</td>\n",
       "      <td>0.0</td>\n",
       "      <td>LIB</td>\n",
       "      <td>Richard Brubaker</td>\n",
       "      <td>Richard Brubaker (L)  \\n\\t\\t\\t\\t\\t\\t\\t\\t\\t\\t\\t</td>\n",
       "      <td>https://s3.amazonaws.com/ballotpedia-api4/file...</td>\n",
       "      <td>Richard Brubaker</td>\n",
       "      <td>Richard_Brubaker.jpg</td>\n",
       "      <td>both</td>\n",
       "    </tr>\n",
       "    <tr>\n",
       "      <th>2</th>\n",
       "      <td>WMPID4061</td>\n",
       "      <td>HAGEMAN, HARRIET</td>\n",
       "      <td>Harriet Hageman</td>\n",
       "      <td>WY</td>\n",
       "      <td>0.0</td>\n",
       "      <td>REP</td>\n",
       "      <td>Harriet Hageman</td>\n",
       "      <td>Harriet Hageman (R)  \\n\\t\\t\\t\\t\\t\\t\\t\\t\\t\\t\\t</td>\n",
       "      <td>https://s3.amazonaws.com/ballotpedia-api4/file...</td>\n",
       "      <td>Harriet Hageman</td>\n",
       "      <td>Harriet-Hageman.PNG</td>\n",
       "      <td>both</td>\n",
       "    </tr>\n",
       "    <tr>\n",
       "      <th>3</th>\n",
       "      <td>WMPID4514</td>\n",
       "      <td>SELVIG, MARISSA JOY</td>\n",
       "      <td>Marissa Joy Selvig</td>\n",
       "      <td>WY</td>\n",
       "      <td>0.0</td>\n",
       "      <td>CON</td>\n",
       "      <td>Marissa Selvig</td>\n",
       "      <td>Marissa Selvig (Constitution Party) \\n</td>\n",
       "      <td>https://s3.amazonaws.com/ballotpedia-api4/file...</td>\n",
       "      <td>Marissa Selvig</td>\n",
       "      <td>Marissa_Selvig.PNG</td>\n",
       "      <td>both</td>\n",
       "    </tr>\n",
       "  </tbody>\n",
       "</table>\n",
       "</div>"
      ],
      "text/plain": [
       "       wmpid              cand_name             full_name cand_office_st  \\\n",
       "0  WMPID2014           PALIN, SARAH           Sarah Palin             AK   \n",
       "1  WMPID4003   BEGICH, NICHOLAS III   Nicholas III Begich             AK   \n",
       "2  WMPID4308          PELTOLA, MARY          Mary Peltola             AK   \n",
       "3  WMPID4360        SWEENEY, TARA M          Tara Sweeney             AK   \n",
       "0  WMPID5148       ROGERS, DAVID L.          David Rogers             DE   \n",
       "1  WMPID5144           MCNUTT, CODY           Cody Mcnutt             DE   \n",
       "2   WMPID959  BLUNT ROCHESTER, LISA  Lisa Blunt Rochester             DE   \n",
       "3  WMPID5139          WALKER, SCOTT          Scott Walker             DE   \n",
       "4  WMPID1084            MURPHY, LEE            Lee Murphy             DE   \n",
       "0  WMPID2318           HAUGEN, MARK           Mark Haugen             ND   \n",
       "1  WMPID5103             MUND, CARA             Cara Mund             ND   \n",
       "2  WMPID1171       ARMSTRONG, KELLY       Kelly Armstrong             ND   \n",
       "0  WMPID5122         DUPREL, COLLIN         Collin Duprel             SD   \n",
       "1  WMPID1231         JOHNSON, DUSTY         Dusty Johnson             SD   \n",
       "0  WMPID5069         NOLFI, BARBARA         Barbara Nolfi             VT   \n",
       "1  WMPID2308  BALINT, REBECCA BECCA  Rebecca Becca Balint             VT   \n",
       "2  WMPID2620           MADDEN, LIAM           Liam Madden             VT   \n",
       "0   WMPID767     GREYBULL, LYNNETTE    Lynnette Grey Bull             WY   \n",
       "1  WMPID5149   BRUBAKER, RICHARD P.      Richard Brubaker             WY   \n",
       "2  WMPID4061       HAGEMAN, HARRIET       Harriet Hageman             WY   \n",
       "3  WMPID4514    SELVIG, MARISSA JOY    Marissa Joy Selvig             WY   \n",
       "\n",
       "   cand_office_dist cand_party_affiliation               matches  \\\n",
       "0               0.0                    REP           Sarah Palin   \n",
       "1               0.0                    REP       Nicholas Begich   \n",
       "2               0.0                    DEM          Mary Peltola   \n",
       "3               0.0                    REP                         \n",
       "0               0.0                    OTH          David Rogers   \n",
       "1               0.0                    LIB           Cody McNutt   \n",
       "2               0.0                    DEM  Lisa Blunt Rochester   \n",
       "3               0.0                      W          Scott Walker   \n",
       "4               0.0                    REP            Lee Murphy   \n",
       "0               0.0                    DEM           Mark Haugen   \n",
       "1               0.0                    (I)             Cara Mund   \n",
       "2               0.0                    REP       Kelly Armstrong   \n",
       "0               0.0                    LIB         Collin Duprel   \n",
       "1               0.0                    REP         Dusty Johnson   \n",
       "0               0.0                    PRO                         \n",
       "1               0.0                    DEM          Becca Balint   \n",
       "2               0.0                    IND           Liam Madden   \n",
       "0               0.0                    DEM    Lynnette Grey Bull   \n",
       "1               0.0                    LIB      Richard Brubaker   \n",
       "2               0.0                    REP       Harriet Hageman   \n",
       "3               0.0                    CON        Marissa Selvig   \n",
       "\n",
       "                                         bp_name_raw  \\\n",
       "0                                       Sarah Palin    \n",
       "1                                   Nicholas Begich    \n",
       "2                                      Mary Peltola    \n",
       "3                                                NaN   \n",
       "0  David Rogers (Nonpartisan Party)  \\n\\t\\t\\t\\t\\t...   \n",
       "1          Cody McNutt (L)  \\n\\t\\t\\t\\t\\t\\t\\t\\t\\t\\t\\t   \n",
       "2  Lisa Blunt Rochester (D)  \\n\\t\\t\\t\\t\\t\\t\\t\\t\\t...   \n",
       "3  Scott Walker (Independent) (Write-in)  \\n\\t\\t\\...   \n",
       "4           Lee Murphy (R)  \\n\\t\\t\\t\\t\\t\\t\\t\\t\\t\\t\\t   \n",
       "0                                     Mark Haugen \\n   \n",
       "1  Cara Mund (Independent)  \\n\\t\\t\\t\\t\\t\\t\\t\\t\\t\\t\\t   \n",
       "2      Kelly Armstrong (R)  \\n\\t\\t\\t\\t\\t\\t\\t\\t\\t\\t\\t   \n",
       "0        Collin Duprel (L)  \\n\\t\\t\\t\\t\\t\\t\\t\\t\\t\\t\\t   \n",
       "1        Dusty Johnson (R)  \\n\\t\\t\\t\\t\\t\\t\\t\\t\\t\\t\\t   \n",
       "0                                                NaN   \n",
       "1         Becca Balint (D)  \\n\\t\\t\\t\\t\\t\\t\\t\\t\\t\\t\\t   \n",
       "2                                 Liam Madden (R) \\n   \n",
       "0   Lynnette Grey Bull (D)  \\n\\t\\t\\t\\t\\t\\t\\t\\t\\t\\t\\t   \n",
       "1     Richard Brubaker (L)  \\n\\t\\t\\t\\t\\t\\t\\t\\t\\t\\t\\t   \n",
       "2      Harriet Hageman (R)  \\n\\t\\t\\t\\t\\t\\t\\t\\t\\t\\t\\t   \n",
       "3             Marissa Selvig (Constitution Party) \\n   \n",
       "\n",
       "                                              bp_url               bp_name  \\\n",
       "0  https://s3.amazonaws.com/ballotpedia-api4/file...           Sarah Palin   \n",
       "1  https://s3.amazonaws.com/ballotpedia-api4/file...       Nicholas Begich   \n",
       "2  https://s3.amazonaws.com/ballotpedia-api4/file...          Mary Peltola   \n",
       "3                                                NaN                   NaN   \n",
       "0  https://s3.amazonaws.com/ballotpedia-api4/file...          David Rogers   \n",
       "1  https://s3.amazonaws.com/ballotpedia-api4/file...           Cody McNutt   \n",
       "2  https://s3.amazonaws.com/ballotpedia-api4/file...  Lisa Blunt Rochester   \n",
       "3  https://s3.amazonaws.com/ballotpedia-api4/file...          Scott Walker   \n",
       "4  https://s3.amazonaws.com/ballotpedia-api4/file...            Lee Murphy   \n",
       "0  https://s3.amazonaws.com/ballotpedia-api4/file...           Mark Haugen   \n",
       "1  https://s3.amazonaws.com/ballotpedia-api4/file...             Cara Mund   \n",
       "2  https://s3.amazonaws.com/ballotpedia-api4/file...       Kelly Armstrong   \n",
       "0  https://s3.amazonaws.com/ballotpedia-api4/file...         Collin Duprel   \n",
       "1  https://s3.amazonaws.com/ballotpedia-api4/file...         Dusty Johnson   \n",
       "0                                                NaN                   NaN   \n",
       "1  https://s3.amazonaws.com/ballotpedia-api4/file...          Becca Balint   \n",
       "2  https://s3.amazonaws.com/ballotpedia-api4/file...           Liam Madden   \n",
       "0  https://s3.amazonaws.com/ballotpedia-api4/file...    Lynnette Grey Bull   \n",
       "1  https://s3.amazonaws.com/ballotpedia-api4/file...      Richard Brubaker   \n",
       "2  https://s3.amazonaws.com/ballotpedia-api4/file...       Harriet Hageman   \n",
       "3  https://s3.amazonaws.com/ballotpedia-api4/file...        Marissa Selvig   \n",
       "\n",
       "                                   bp_url_filename     _merge  \n",
       "0                                  Sarah_Palin.PNG       both  \n",
       "1                                  Nick-Begich.PNG       both  \n",
       "2                                 Mary-Peltola.PNG       both  \n",
       "3                                              NaN  left_only  \n",
       "0                                  DavidRogers.jpg       both  \n",
       "1                                  Cody-McNutt.PNG       both  \n",
       "2                         Lisa_Blunt_Rochester.jpg       both  \n",
       "3                              Scott_WalkerDE.jpeg       both  \n",
       "4  Lee_Murphy_for_U.S._Congress_Delaware_photo.JPG       both  \n",
       "0                              KELLY_ARMSTRONG.jpg       both  \n",
       "1                                    Cara_Mund.PNG       both  \n",
       "2                              KELLY_ARMSTRONG.jpg       both  \n",
       "0                               Collin_Duprel2.jpg       both  \n",
       "1                         Dusty_Johnson_resize.jpg       both  \n",
       "0                                              NaN  left_only  \n",
       "1                                 Becca-Balint.PNG       both  \n",
       "2                                  Liam_Madden.png       both  \n",
       "0                           LynnetteGreyBullWY.png       both  \n",
       "1                             Richard_Brubaker.jpg       both  \n",
       "2                              Harriet-Hageman.PNG       both  \n",
       "3                               Marissa_Selvig.PNG       both  "
      ]
     },
     "execution_count": 211,
     "metadata": {},
     "output_type": "execute_result"
    }
   ],
   "source": [
    "#res1"
   ]
  },
  {
   "cell_type": "markdown",
   "metadata": {
    "id": "skuBKwcse3Qp"
   },
   "source": [
    "#### 2. States with two layers\n",
    "\n",
    "- Here is exmaple code for one state New_Mexico\n",
    "- For each state, manually check the matching results to see if they're ok\n",
    "- Once finishing all 44 states, combine them "
   ]
  },
  {
   "cell_type": "code",
   "execution_count": 49,
   "metadata": {
    "executionInfo": {
     "elapsed": 469,
     "status": "ok",
     "timestamp": 1670956168903,
     "user": {
      "displayName": "Jielu Yao",
      "userId": "09138677267510568916"
     },
     "user_tz": 300
    },
    "id": "jpxYn8E5tsN_"
   },
   "outputs": [],
   "source": [
    "images = []\n",
    "bp_name_raw = []"
   ]
  },
  {
   "cell_type": "code",
   "execution_count": 50,
   "metadata": {
    "executionInfo": {
     "elapsed": 2270491,
     "status": "ok",
     "timestamp": 1670958443064,
     "user": {
      "displayName": "Jielu Yao",
      "userId": "09138677267510568916"
     },
     "user_tz": 300
    },
    "id": "Q2oBZQ9Xe_Ta"
   },
   "outputs": [
    {
     "name": "stdout",
     "output_type": "stream",
     "text": [
      "https://ballotpedia.org/United_States_House_of_Representatives_elections_in_New_Mexico,_2022\n",
      "['https://ballotpedia.org/New_Mexico%27s_1st_Congressional_District_election,_2022', 'https://ballotpedia.org/New_Mexico%27s_2nd_Congressional_District_election,_2022', 'https://ballotpedia.org/New_Mexico%27s_3rd_Congressional_District_election,_2022', 'https://ballotpedia.org/Race_rating_definitions_and_methods', 'https://ballotpedia.org/Primary_election_competitiveness_in_state_and_federal_government,_2022', 'https://ballotpedia.org/Presidential_election_in_New_Mexico,_2020', 'https://ballotpedia.org/The_Cook_Political_Report%27s_Partisan_Voter_Index']\n"
     ]
    }
   ],
   "source": [
    "for i in urls_2[28:29]:\n",
    "  print(i)\n",
    "  source = urllib.request.urlopen(i).read()\n",
    "  soup = bs.BeautifulSoup(source)\n",
    "  dist_css = \"dd dl dd i a\"\n",
    "  dist = soup.select(dist_css)\n",
    "  # urls_css = \"center small a\"\n",
    "  # urls = soup.select(urls_css)\n",
    "  extracted_urls = [i[\"href\"] for i in dist]\n",
    "  st_urls = [\"https://ballotpedia.org\" + url_suffix for url_suffix in extracted_urls]\n",
    "  print(st_urls)\n",
    "  for i in st_urls:\n",
    "    #if '27s' in i:\n",
    "    if '27' in i:\n",
    "        source2 = urllib.request.urlopen(i).read()\n",
    "        soup2 = bs.BeautifulSoup(source2)\n",
    "        img_css = \".image-candidate-thumbnail\"\n",
    "        img = soup2.select(img_css)\n",
    "        img = img[0:5]\n",
    "        #print(img)\n",
    "        images.extend(list([i['src'] for i in img]))\n",
    "        n_css = \"td.votebox-results-cell--text\"\n",
    "        nm = soup2.select(n_css)\n",
    "        nm = nm[0:5]\n",
    "        #print(nm)\n",
    "        bp_name_raw.extend(list([url.text for url in nm]))"
   ]
  },
  {
   "cell_type": "code",
   "execution_count": 51,
   "metadata": {
    "colab": {
     "base_uri": "https://localhost:8080/"
    },
    "executionInfo": {
     "elapsed": 553,
     "status": "ok",
     "timestamp": 1670958507508,
     "user": {
      "displayName": "Jielu Yao",
      "userId": "09138677267510568916"
     },
     "user_tz": 300
    },
    "id": "5e1lldhSuIUz",
    "outputId": "cdd7ff0a-0572-40ef-efde-9a654b616cbb"
   },
   "outputs": [
    {
     "data": {
      "text/plain": [
       "15"
      ]
     },
     "execution_count": 51,
     "metadata": {},
     "output_type": "execute_result"
    }
   ],
   "source": [
    "len(images)"
   ]
  },
  {
   "cell_type": "code",
   "execution_count": 52,
   "metadata": {
    "colab": {
     "base_uri": "https://localhost:8080/"
    },
    "executionInfo": {
     "elapsed": 519,
     "status": "ok",
     "timestamp": 1670958510104,
     "user": {
      "displayName": "Jielu Yao",
      "userId": "09138677267510568916"
     },
     "user_tz": 300
    },
    "id": "WLhsS616uKKl",
    "outputId": "c03d1b2f-99e1-4aa6-c467-9d19649332e6"
   },
   "outputs": [
    {
     "data": {
      "text/plain": [
       "15"
      ]
     },
     "execution_count": 52,
     "metadata": {},
     "output_type": "execute_result"
    }
   ],
   "source": [
    "len(bp_name_raw)"
   ]
  },
  {
   "cell_type": "code",
   "execution_count": 53,
   "metadata": {
    "executionInfo": {
     "elapsed": 492,
     "status": "ok",
     "timestamp": 1670958606861,
     "user": {
      "displayName": "Jielu Yao",
      "userId": "09138677267510568916"
     },
     "user_tz": 300
    },
    "id": "CLe-qBXl5EI-"
   },
   "outputs": [],
   "source": [
    "h_dic = {'bp_name_raw':bp_name_raw,'bp_url':images}"
   ]
  },
  {
   "cell_type": "code",
   "execution_count": 54,
   "metadata": {
    "executionInfo": {
     "elapsed": 6,
     "status": "ok",
     "timestamp": 1670958608498,
     "user": {
      "displayName": "Jielu Yao",
      "userId": "09138677267510568916"
     },
     "user_tz": 300
    },
    "id": "NXUu-Far5EJA"
   },
   "outputs": [],
   "source": [
    "df = pd.DataFrame(h_dic)"
   ]
  },
  {
   "cell_type": "code",
   "execution_count": 55,
   "metadata": {},
   "outputs": [],
   "source": [
    "df2 = df['bp_name_raw'].str.rsplit(\"(\", n=1, expand=True)"
   ]
  },
  {
   "cell_type": "code",
   "execution_count": 56,
   "metadata": {},
   "outputs": [],
   "source": [
    "df2 = df2.rename(columns={0:'name'})"
   ]
  },
  {
   "cell_type": "code",
   "execution_count": 57,
   "metadata": {},
   "outputs": [],
   "source": [
    "df3 =df2['name'].str.rsplit(\"(\", n=1, expand=True)\n",
    "df3 = df3.rename(columns={0:'name'})"
   ]
  },
  {
   "cell_type": "code",
   "execution_count": 58,
   "metadata": {},
   "outputs": [],
   "source": [
    "df3['bp_name'] = df3['name'].str.replace(\"\\n\", \"\").replace(\"\\t\", \"\")"
   ]
  },
  {
   "cell_type": "code",
   "execution_count": 59,
   "metadata": {},
   "outputs": [
    {
     "data": {
      "text/plain": [
       "0       Melanie Ann Stansbury \n",
       "1      Michelle Garcia Holmes \n",
       "2           Victoria Gonzales \n",
       "3        Melanie Ann Stansbury\n",
       "4       Michelle Garcia Holmes\n",
       "5             Gabriel Vasquez \n",
       "6              Yvette Herrell \n",
       "7                 Eliseo Luna \n",
       "8              Gabriel Vasquez\n",
       "9               Darshan Patel \n",
       "10     Teresa Leger Fernandez \n",
       "11    Alexis Martinez Johnson \n",
       "12      Teresa Leger Fernandez\n",
       "13     Alexis Martinez Johnson\n",
       "14     Teresa Leger Fernandez \n",
       "Name: bp_name, dtype: object"
      ]
     },
     "execution_count": 59,
     "metadata": {},
     "output_type": "execute_result"
    }
   ],
   "source": [
    "df3['bp_name']"
   ]
  },
  {
   "cell_type": "code",
   "execution_count": 60,
   "metadata": {},
   "outputs": [],
   "source": [
    "df['bp_name']=df3['bp_name']"
   ]
  },
  {
   "cell_type": "code",
   "execution_count": 61,
   "metadata": {
    "scrolled": false
   },
   "outputs": [],
   "source": [
    "df['bp_url_filename'] = df['bp_url'].str.replace(\"https://s3.amazonaws.com/ballotpedia-api4/files/thumbs/100/100/\", '')"
   ]
  },
  {
   "cell_type": "code",
   "execution_count": 62,
   "metadata": {},
   "outputs": [],
   "source": [
    "df['bp_name'] = df['bp_name'].str.strip()"
   ]
  },
  {
   "cell_type": "code",
   "execution_count": 63,
   "metadata": {},
   "outputs": [],
   "source": [
    "df = df.drop_duplicates(subset=['bp_name'], keep='first')"
   ]
  },
  {
   "cell_type": "code",
   "execution_count": 64,
   "metadata": {},
   "outputs": [
    {
     "data": {
      "text/html": [
       "<div>\n",
       "<style scoped>\n",
       "    .dataframe tbody tr th:only-of-type {\n",
       "        vertical-align: middle;\n",
       "    }\n",
       "\n",
       "    .dataframe tbody tr th {\n",
       "        vertical-align: top;\n",
       "    }\n",
       "\n",
       "    .dataframe thead th {\n",
       "        text-align: right;\n",
       "    }\n",
       "</style>\n",
       "<table border=\"1\" class=\"dataframe\">\n",
       "  <thead>\n",
       "    <tr style=\"text-align: right;\">\n",
       "      <th></th>\n",
       "      <th>bp_name_raw</th>\n",
       "      <th>bp_url</th>\n",
       "      <th>bp_name</th>\n",
       "      <th>bp_url_filename</th>\n",
       "    </tr>\n",
       "  </thead>\n",
       "  <tbody>\n",
       "    <tr>\n",
       "      <th>0</th>\n",
       "      <td>Melanie Ann Stansbury (D)  \\n\\t\\t\\t\\t\\t\\t\\t\\t\\...</td>\n",
       "      <td>https://s3.amazonaws.com/ballotpedia-api4/file...</td>\n",
       "      <td>Melanie Ann Stansbury</td>\n",
       "      <td>_Melanie-Stansbury_.jpg</td>\n",
       "    </tr>\n",
       "    <tr>\n",
       "      <th>1</th>\n",
       "      <td>Michelle Garcia Holmes (R)  \\n\\t\\t\\t\\t\\t\\t\\t\\t...</td>\n",
       "      <td>https://s3.amazonaws.com/ballotpedia-api4/file...</td>\n",
       "      <td>Michelle Garcia Holmes</td>\n",
       "      <td>w80182230_headshot.jpg</td>\n",
       "    </tr>\n",
       "    <tr>\n",
       "      <th>2</th>\n",
       "      <td>Victoria Gonzales (Independent)  \\n\\t\\t\\t\\t\\t\\...</td>\n",
       "      <td>https://s3.amazonaws.com/ballotpedia-api4/file...</td>\n",
       "      <td>Victoria Gonzales</td>\n",
       "      <td>_Melanie-Stansbury_.jpg</td>\n",
       "    </tr>\n",
       "    <tr>\n",
       "      <th>5</th>\n",
       "      <td>Gabriel Vasquez (D)  \\n\\t\\t\\t\\t\\t\\t\\t\\t\\t\\t\\t\\t</td>\n",
       "      <td>https://s3.amazonaws.com/ballotpedia-api4/file...</td>\n",
       "      <td>Gabriel Vasquez</td>\n",
       "      <td>GabrielVasquez.jpg</td>\n",
       "    </tr>\n",
       "    <tr>\n",
       "      <th>6</th>\n",
       "      <td>Yvette Herrell (R)  \\n\\t\\t\\t\\t\\t\\t\\t\\t\\t\\t\\t\\t</td>\n",
       "      <td>https://s3.amazonaws.com/ballotpedia-api4/file...</td>\n",
       "      <td>Yvette Herrell</td>\n",
       "      <td>YvetteHerrell.jpg</td>\n",
       "    </tr>\n",
       "    <tr>\n",
       "      <th>7</th>\n",
       "      <td>Eliseo Luna (D) (Write-in)</td>\n",
       "      <td>https://s3.amazonaws.com/ballotpedia-api4/file...</td>\n",
       "      <td>Eliseo Luna</td>\n",
       "      <td>EliseoLuna2.jpg</td>\n",
       "    </tr>\n",
       "    <tr>\n",
       "      <th>9</th>\n",
       "      <td>Darshan Patel</td>\n",
       "      <td>https://s3.amazonaws.com/ballotpedia-api4/file...</td>\n",
       "      <td>Darshan Patel</td>\n",
       "      <td>Darshan_Patel_2.jpg</td>\n",
       "    </tr>\n",
       "    <tr>\n",
       "      <th>10</th>\n",
       "      <td>Teresa Leger Fernandez (D)  \\n\\t\\t\\t\\t\\t\\t\\t\\t...</td>\n",
       "      <td>https://s3.amazonaws.com/ballotpedia-api4/file...</td>\n",
       "      <td>Teresa Leger Fernandez</td>\n",
       "      <td>Teresa-Leger-Fernandez.PNG</td>\n",
       "    </tr>\n",
       "    <tr>\n",
       "      <th>11</th>\n",
       "      <td>Alexis Martinez Johnson (R)  \\n\\t\\t\\t\\t\\t\\t\\t\\...</td>\n",
       "      <td>https://s3.amazonaws.com/ballotpedia-api4/file...</td>\n",
       "      <td>Alexis Martinez Johnson</td>\n",
       "      <td>80182230_alexis_professional.jpg</td>\n",
       "    </tr>\n",
       "  </tbody>\n",
       "</table>\n",
       "</div>"
      ],
      "text/plain": [
       "                                          bp_name_raw  \\\n",
       "0   Melanie Ann Stansbury (D)  \\n\\t\\t\\t\\t\\t\\t\\t\\t\\...   \n",
       "1   Michelle Garcia Holmes (R)  \\n\\t\\t\\t\\t\\t\\t\\t\\t...   \n",
       "2   Victoria Gonzales (Independent)  \\n\\t\\t\\t\\t\\t\\...   \n",
       "5     Gabriel Vasquez (D)  \\n\\t\\t\\t\\t\\t\\t\\t\\t\\t\\t\\t\\t   \n",
       "6      Yvette Herrell (R)  \\n\\t\\t\\t\\t\\t\\t\\t\\t\\t\\t\\t\\t   \n",
       "7                         Eliseo Luna (D) (Write-in)    \n",
       "9                                      Darshan Patel    \n",
       "10  Teresa Leger Fernandez (D)  \\n\\t\\t\\t\\t\\t\\t\\t\\t...   \n",
       "11  Alexis Martinez Johnson (R)  \\n\\t\\t\\t\\t\\t\\t\\t\\...   \n",
       "\n",
       "                                               bp_url  \\\n",
       "0   https://s3.amazonaws.com/ballotpedia-api4/file...   \n",
       "1   https://s3.amazonaws.com/ballotpedia-api4/file...   \n",
       "2   https://s3.amazonaws.com/ballotpedia-api4/file...   \n",
       "5   https://s3.amazonaws.com/ballotpedia-api4/file...   \n",
       "6   https://s3.amazonaws.com/ballotpedia-api4/file...   \n",
       "7   https://s3.amazonaws.com/ballotpedia-api4/file...   \n",
       "9   https://s3.amazonaws.com/ballotpedia-api4/file...   \n",
       "10  https://s3.amazonaws.com/ballotpedia-api4/file...   \n",
       "11  https://s3.amazonaws.com/ballotpedia-api4/file...   \n",
       "\n",
       "                    bp_name                   bp_url_filename  \n",
       "0     Melanie Ann Stansbury           _Melanie-Stansbury_.jpg  \n",
       "1    Michelle Garcia Holmes            w80182230_headshot.jpg  \n",
       "2         Victoria Gonzales           _Melanie-Stansbury_.jpg  \n",
       "5           Gabriel Vasquez                GabrielVasquez.jpg  \n",
       "6            Yvette Herrell                 YvetteHerrell.jpg  \n",
       "7               Eliseo Luna                   EliseoLuna2.jpg  \n",
       "9             Darshan Patel               Darshan_Patel_2.jpg  \n",
       "10   Teresa Leger Fernandez        Teresa-Leger-Fernandez.PNG  \n",
       "11  Alexis Martinez Johnson  80182230_alexis_professional.jpg  "
      ]
     },
     "execution_count": 64,
     "metadata": {},
     "output_type": "execute_result"
    }
   ],
   "source": [
    "df"
   ]
  },
  {
   "cell_type": "code",
   "execution_count": 65,
   "metadata": {},
   "outputs": [],
   "source": [
    "NM = h.loc[h['cand_office_st']=='NM']"
   ]
  },
  {
   "cell_type": "code",
   "execution_count": 66,
   "metadata": {},
   "outputs": [
    {
     "data": {
      "text/plain": [
       "(7, 6)"
      ]
     },
     "execution_count": 66,
     "metadata": {},
     "output_type": "execute_result"
    }
   ],
   "source": [
    "NM.shape"
   ]
  },
  {
   "cell_type": "code",
   "execution_count": 67,
   "metadata": {},
   "outputs": [
    {
     "data": {
      "text/html": [
       "<div>\n",
       "<style scoped>\n",
       "    .dataframe tbody tr th:only-of-type {\n",
       "        vertical-align: middle;\n",
       "    }\n",
       "\n",
       "    .dataframe tbody tr th {\n",
       "        vertical-align: top;\n",
       "    }\n",
       "\n",
       "    .dataframe thead th {\n",
       "        text-align: right;\n",
       "    }\n",
       "</style>\n",
       "<table border=\"1\" class=\"dataframe\">\n",
       "  <thead>\n",
       "    <tr style=\"text-align: right;\">\n",
       "      <th></th>\n",
       "      <th>wmpid</th>\n",
       "      <th>cand_name</th>\n",
       "      <th>full_name</th>\n",
       "      <th>cand_office_st</th>\n",
       "      <th>cand_office_dist</th>\n",
       "      <th>cand_party_affiliation</th>\n",
       "    </tr>\n",
       "  </thead>\n",
       "  <tbody>\n",
       "    <tr>\n",
       "      <th>225</th>\n",
       "      <td>WMPID451</td>\n",
       "      <td>GARCIA HOLMES, MICHELLE</td>\n",
       "      <td>Michelle Garcia Holmes</td>\n",
       "      <td>NM</td>\n",
       "      <td>1.0</td>\n",
       "      <td>REP</td>\n",
       "    </tr>\n",
       "    <tr>\n",
       "      <th>226</th>\n",
       "      <td>WMPID453</td>\n",
       "      <td>LEGER FERNANDEZ, TERESA</td>\n",
       "      <td>Teresa Leger</td>\n",
       "      <td>NM</td>\n",
       "      <td>3.0</td>\n",
       "      <td>DEM</td>\n",
       "    </tr>\n",
       "    <tr>\n",
       "      <th>2092</th>\n",
       "      <td>WMPID3359</td>\n",
       "      <td>STANSBURY, MELANIE</td>\n",
       "      <td>Melanie Stansbury</td>\n",
       "      <td>NM</td>\n",
       "      <td>1.0</td>\n",
       "      <td>DEM</td>\n",
       "    </tr>\n",
       "    <tr>\n",
       "      <th>2108</th>\n",
       "      <td>WMPID4714</td>\n",
       "      <td>CHICK, CAMERON ALTON MR. SR</td>\n",
       "      <td>Cameron Alton Sr Chick</td>\n",
       "      <td>NM</td>\n",
       "      <td>1.0</td>\n",
       "      <td>IND</td>\n",
       "    </tr>\n",
       "    <tr>\n",
       "      <th>2113</th>\n",
       "      <td>WMPID4014</td>\n",
       "      <td>VASQUEZ, GABRIEL</td>\n",
       "      <td>Gabriel Vasquez</td>\n",
       "      <td>NM</td>\n",
       "      <td>2.0</td>\n",
       "      <td>DEM</td>\n",
       "    </tr>\n",
       "    <tr>\n",
       "      <th>2115</th>\n",
       "      <td>WMPID2867</td>\n",
       "      <td>MARTINEZ JOHNSON, ALEXIS</td>\n",
       "      <td>Alexis Martinez Johnson</td>\n",
       "      <td>NM</td>\n",
       "      <td>3.0</td>\n",
       "      <td>REP</td>\n",
       "    </tr>\n",
       "    <tr>\n",
       "      <th>3512</th>\n",
       "      <td>WMPID1184</td>\n",
       "      <td>HERRELL, STELLA YVETTE</td>\n",
       "      <td>Yvette Herrell</td>\n",
       "      <td>NM</td>\n",
       "      <td>2.0</td>\n",
       "      <td>REP</td>\n",
       "    </tr>\n",
       "  </tbody>\n",
       "</table>\n",
       "</div>"
      ],
      "text/plain": [
       "          wmpid                    cand_name                full_name  \\\n",
       "225    WMPID451      GARCIA HOLMES, MICHELLE   Michelle Garcia Holmes   \n",
       "226    WMPID453      LEGER FERNANDEZ, TERESA             Teresa Leger   \n",
       "2092  WMPID3359           STANSBURY, MELANIE        Melanie Stansbury   \n",
       "2108  WMPID4714  CHICK, CAMERON ALTON MR. SR   Cameron Alton Sr Chick   \n",
       "2113  WMPID4014             VASQUEZ, GABRIEL          Gabriel Vasquez   \n",
       "2115  WMPID2867     MARTINEZ JOHNSON, ALEXIS  Alexis Martinez Johnson   \n",
       "3512  WMPID1184       HERRELL, STELLA YVETTE           Yvette Herrell   \n",
       "\n",
       "     cand_office_st  cand_office_dist cand_party_affiliation  \n",
       "225              NM               1.0                    REP  \n",
       "226              NM               3.0                    DEM  \n",
       "2092             NM               1.0                    DEM  \n",
       "2108             NM               1.0                    IND  \n",
       "2113             NM               2.0                    DEM  \n",
       "2115             NM               3.0                    REP  \n",
       "3512             NM               2.0                    REP  "
      ]
     },
     "execution_count": 67,
     "metadata": {},
     "output_type": "execute_result"
    }
   ],
   "source": [
    "NM"
   ]
  },
  {
   "cell_type": "code",
   "execution_count": 68,
   "metadata": {
    "scrolled": true
   },
   "outputs": [
    {
     "name": "stderr",
     "output_type": "stream",
     "text": [
      "/software/anaconda3/lib/python3.7/site-packages/ipykernel_launcher.py:14: SettingWithCopyWarning: \n",
      "A value is trying to be set on a copy of a slice from a DataFrame.\n",
      "Try using .loc[row_indexer,col_indexer] = value instead\n",
      "\n",
      "See the caveats in the documentation: https://pandas.pydata.org/pandas-docs/stable/user_guide/indexing.html#returning-a-view-versus-a-copy\n",
      "  \n",
      "/software/anaconda3/lib/python3.7/site-packages/ipykernel_launcher.py:17: SettingWithCopyWarning: \n",
      "A value is trying to be set on a copy of a slice from a DataFrame.\n",
      "Try using .loc[row_indexer,col_indexer] = value instead\n",
      "\n",
      "See the caveats in the documentation: https://pandas.pydata.org/pandas-docs/stable/user_guide/indexing.html#returning-a-view-versus-a-copy\n"
     ]
    }
   ],
   "source": [
    "nm = fuzzy_merge(NM, df, 'full_name', 'bp_name', threshold=90)"
   ]
  },
  {
   "cell_type": "code",
   "execution_count": 69,
   "metadata": {},
   "outputs": [
    {
     "data": {
      "text/html": [
       "<div>\n",
       "<style scoped>\n",
       "    .dataframe tbody tr th:only-of-type {\n",
       "        vertical-align: middle;\n",
       "    }\n",
       "\n",
       "    .dataframe tbody tr th {\n",
       "        vertical-align: top;\n",
       "    }\n",
       "\n",
       "    .dataframe thead th {\n",
       "        text-align: right;\n",
       "    }\n",
       "</style>\n",
       "<table border=\"1\" class=\"dataframe\">\n",
       "  <thead>\n",
       "    <tr style=\"text-align: right;\">\n",
       "      <th></th>\n",
       "      <th>wmpid</th>\n",
       "      <th>cand_name</th>\n",
       "      <th>full_name</th>\n",
       "      <th>cand_office_st</th>\n",
       "      <th>cand_office_dist</th>\n",
       "      <th>cand_party_affiliation</th>\n",
       "      <th>matches</th>\n",
       "    </tr>\n",
       "  </thead>\n",
       "  <tbody>\n",
       "    <tr>\n",
       "      <th>225</th>\n",
       "      <td>WMPID451</td>\n",
       "      <td>GARCIA HOLMES, MICHELLE</td>\n",
       "      <td>Michelle Garcia Holmes</td>\n",
       "      <td>NM</td>\n",
       "      <td>1.0</td>\n",
       "      <td>REP</td>\n",
       "      <td>Michelle Garcia Holmes</td>\n",
       "    </tr>\n",
       "    <tr>\n",
       "      <th>226</th>\n",
       "      <td>WMPID453</td>\n",
       "      <td>LEGER FERNANDEZ, TERESA</td>\n",
       "      <td>Teresa Leger</td>\n",
       "      <td>NM</td>\n",
       "      <td>3.0</td>\n",
       "      <td>DEM</td>\n",
       "      <td>Teresa Leger Fernandez</td>\n",
       "    </tr>\n",
       "    <tr>\n",
       "      <th>2092</th>\n",
       "      <td>WMPID3359</td>\n",
       "      <td>STANSBURY, MELANIE</td>\n",
       "      <td>Melanie Stansbury</td>\n",
       "      <td>NM</td>\n",
       "      <td>1.0</td>\n",
       "      <td>DEM</td>\n",
       "      <td>Melanie Ann Stansbury</td>\n",
       "    </tr>\n",
       "    <tr>\n",
       "      <th>2108</th>\n",
       "      <td>WMPID4714</td>\n",
       "      <td>CHICK, CAMERON ALTON MR. SR</td>\n",
       "      <td>Cameron Alton Sr Chick</td>\n",
       "      <td>NM</td>\n",
       "      <td>1.0</td>\n",
       "      <td>IND</td>\n",
       "      <td></td>\n",
       "    </tr>\n",
       "    <tr>\n",
       "      <th>2113</th>\n",
       "      <td>WMPID4014</td>\n",
       "      <td>VASQUEZ, GABRIEL</td>\n",
       "      <td>Gabriel Vasquez</td>\n",
       "      <td>NM</td>\n",
       "      <td>2.0</td>\n",
       "      <td>DEM</td>\n",
       "      <td>Gabriel Vasquez</td>\n",
       "    </tr>\n",
       "    <tr>\n",
       "      <th>2115</th>\n",
       "      <td>WMPID2867</td>\n",
       "      <td>MARTINEZ JOHNSON, ALEXIS</td>\n",
       "      <td>Alexis Martinez Johnson</td>\n",
       "      <td>NM</td>\n",
       "      <td>3.0</td>\n",
       "      <td>REP</td>\n",
       "      <td>Alexis Martinez Johnson</td>\n",
       "    </tr>\n",
       "    <tr>\n",
       "      <th>3512</th>\n",
       "      <td>WMPID1184</td>\n",
       "      <td>HERRELL, STELLA YVETTE</td>\n",
       "      <td>Yvette Herrell</td>\n",
       "      <td>NM</td>\n",
       "      <td>2.0</td>\n",
       "      <td>REP</td>\n",
       "      <td>Yvette Herrell</td>\n",
       "    </tr>\n",
       "  </tbody>\n",
       "</table>\n",
       "</div>"
      ],
      "text/plain": [
       "          wmpid                    cand_name                full_name  \\\n",
       "225    WMPID451      GARCIA HOLMES, MICHELLE   Michelle Garcia Holmes   \n",
       "226    WMPID453      LEGER FERNANDEZ, TERESA             Teresa Leger   \n",
       "2092  WMPID3359           STANSBURY, MELANIE        Melanie Stansbury   \n",
       "2108  WMPID4714  CHICK, CAMERON ALTON MR. SR   Cameron Alton Sr Chick   \n",
       "2113  WMPID4014             VASQUEZ, GABRIEL          Gabriel Vasquez   \n",
       "2115  WMPID2867     MARTINEZ JOHNSON, ALEXIS  Alexis Martinez Johnson   \n",
       "3512  WMPID1184       HERRELL, STELLA YVETTE           Yvette Herrell   \n",
       "\n",
       "     cand_office_st  cand_office_dist cand_party_affiliation  \\\n",
       "225              NM               1.0                    REP   \n",
       "226              NM               3.0                    DEM   \n",
       "2092             NM               1.0                    DEM   \n",
       "2108             NM               1.0                    IND   \n",
       "2113             NM               2.0                    DEM   \n",
       "2115             NM               3.0                    REP   \n",
       "3512             NM               2.0                    REP   \n",
       "\n",
       "                      matches  \n",
       "225    Michelle Garcia Holmes  \n",
       "226    Teresa Leger Fernandez  \n",
       "2092    Melanie Ann Stansbury  \n",
       "2108                           \n",
       "2113          Gabriel Vasquez  \n",
       "2115  Alexis Martinez Johnson  \n",
       "3512           Yvette Herrell  "
      ]
     },
     "execution_count": 69,
     "metadata": {},
     "output_type": "execute_result"
    }
   ],
   "source": [
    "nm"
   ]
  },
  {
   "cell_type": "code",
   "execution_count": 70,
   "metadata": {},
   "outputs": [],
   "source": [
    "nm = nm.merge(df, left_on='matches', right_on='bp_name', indicator=True, how='left')"
   ]
  },
  {
   "cell_type": "code",
   "execution_count": 72,
   "metadata": {
    "scrolled": true
   },
   "outputs": [
    {
     "data": {
      "text/html": [
       "<div>\n",
       "<style scoped>\n",
       "    .dataframe tbody tr th:only-of-type {\n",
       "        vertical-align: middle;\n",
       "    }\n",
       "\n",
       "    .dataframe tbody tr th {\n",
       "        vertical-align: top;\n",
       "    }\n",
       "\n",
       "    .dataframe thead th {\n",
       "        text-align: right;\n",
       "    }\n",
       "</style>\n",
       "<table border=\"1\" class=\"dataframe\">\n",
       "  <thead>\n",
       "    <tr style=\"text-align: right;\">\n",
       "      <th></th>\n",
       "      <th>wmpid</th>\n",
       "      <th>cand_name</th>\n",
       "      <th>full_name</th>\n",
       "      <th>cand_office_st</th>\n",
       "      <th>cand_office_dist</th>\n",
       "      <th>cand_party_affiliation</th>\n",
       "      <th>matches</th>\n",
       "      <th>bp_name_raw</th>\n",
       "      <th>bp_url</th>\n",
       "      <th>bp_name</th>\n",
       "      <th>bp_url_filename</th>\n",
       "      <th>_merge</th>\n",
       "    </tr>\n",
       "  </thead>\n",
       "  <tbody>\n",
       "    <tr>\n",
       "      <th>0</th>\n",
       "      <td>WMPID451</td>\n",
       "      <td>GARCIA HOLMES, MICHELLE</td>\n",
       "      <td>Michelle Garcia Holmes</td>\n",
       "      <td>NM</td>\n",
       "      <td>1.0</td>\n",
       "      <td>REP</td>\n",
       "      <td>Michelle Garcia Holmes</td>\n",
       "      <td>Michelle Garcia Holmes (R)  \\n\\t\\t\\t\\t\\t\\t\\t\\t...</td>\n",
       "      <td>https://s3.amazonaws.com/ballotpedia-api4/file...</td>\n",
       "      <td>Michelle Garcia Holmes</td>\n",
       "      <td>w80182230_headshot.jpg</td>\n",
       "      <td>both</td>\n",
       "    </tr>\n",
       "    <tr>\n",
       "      <th>1</th>\n",
       "      <td>WMPID453</td>\n",
       "      <td>LEGER FERNANDEZ, TERESA</td>\n",
       "      <td>Teresa Leger</td>\n",
       "      <td>NM</td>\n",
       "      <td>3.0</td>\n",
       "      <td>DEM</td>\n",
       "      <td>Teresa Leger Fernandez</td>\n",
       "      <td>Teresa Leger Fernandez (D)  \\n\\t\\t\\t\\t\\t\\t\\t\\t...</td>\n",
       "      <td>https://s3.amazonaws.com/ballotpedia-api4/file...</td>\n",
       "      <td>Teresa Leger Fernandez</td>\n",
       "      <td>Teresa-Leger-Fernandez.PNG</td>\n",
       "      <td>both</td>\n",
       "    </tr>\n",
       "    <tr>\n",
       "      <th>2</th>\n",
       "      <td>WMPID3359</td>\n",
       "      <td>STANSBURY, MELANIE</td>\n",
       "      <td>Melanie Stansbury</td>\n",
       "      <td>NM</td>\n",
       "      <td>1.0</td>\n",
       "      <td>DEM</td>\n",
       "      <td>Melanie Ann Stansbury</td>\n",
       "      <td>Melanie Ann Stansbury (D)  \\n\\t\\t\\t\\t\\t\\t\\t\\t\\...</td>\n",
       "      <td>https://s3.amazonaws.com/ballotpedia-api4/file...</td>\n",
       "      <td>Melanie Ann Stansbury</td>\n",
       "      <td>_Melanie-Stansbury_.jpg</td>\n",
       "      <td>both</td>\n",
       "    </tr>\n",
       "    <tr>\n",
       "      <th>3</th>\n",
       "      <td>WMPID4714</td>\n",
       "      <td>CHICK, CAMERON ALTON MR. SR</td>\n",
       "      <td>Cameron Alton Sr Chick</td>\n",
       "      <td>NM</td>\n",
       "      <td>1.0</td>\n",
       "      <td>IND</td>\n",
       "      <td></td>\n",
       "      <td>NaN</td>\n",
       "      <td>NaN</td>\n",
       "      <td>NaN</td>\n",
       "      <td>NaN</td>\n",
       "      <td>left_only</td>\n",
       "    </tr>\n",
       "    <tr>\n",
       "      <th>4</th>\n",
       "      <td>WMPID4014</td>\n",
       "      <td>VASQUEZ, GABRIEL</td>\n",
       "      <td>Gabriel Vasquez</td>\n",
       "      <td>NM</td>\n",
       "      <td>2.0</td>\n",
       "      <td>DEM</td>\n",
       "      <td>Gabriel Vasquez</td>\n",
       "      <td>Gabriel Vasquez (D)  \\n\\t\\t\\t\\t\\t\\t\\t\\t\\t\\t\\t\\t</td>\n",
       "      <td>https://s3.amazonaws.com/ballotpedia-api4/file...</td>\n",
       "      <td>Gabriel Vasquez</td>\n",
       "      <td>GabrielVasquez.jpg</td>\n",
       "      <td>both</td>\n",
       "    </tr>\n",
       "  </tbody>\n",
       "</table>\n",
       "</div>"
      ],
      "text/plain": [
       "       wmpid                    cand_name               full_name  \\\n",
       "0   WMPID451      GARCIA HOLMES, MICHELLE  Michelle Garcia Holmes   \n",
       "1   WMPID453      LEGER FERNANDEZ, TERESA            Teresa Leger   \n",
       "2  WMPID3359           STANSBURY, MELANIE       Melanie Stansbury   \n",
       "3  WMPID4714  CHICK, CAMERON ALTON MR. SR  Cameron Alton Sr Chick   \n",
       "4  WMPID4014             VASQUEZ, GABRIEL         Gabriel Vasquez   \n",
       "\n",
       "  cand_office_st  cand_office_dist cand_party_affiliation  \\\n",
       "0             NM               1.0                    REP   \n",
       "1             NM               3.0                    DEM   \n",
       "2             NM               1.0                    DEM   \n",
       "3             NM               1.0                    IND   \n",
       "4             NM               2.0                    DEM   \n",
       "\n",
       "                  matches                                        bp_name_raw  \\\n",
       "0  Michelle Garcia Holmes  Michelle Garcia Holmes (R)  \\n\\t\\t\\t\\t\\t\\t\\t\\t...   \n",
       "1  Teresa Leger Fernandez  Teresa Leger Fernandez (D)  \\n\\t\\t\\t\\t\\t\\t\\t\\t...   \n",
       "2   Melanie Ann Stansbury  Melanie Ann Stansbury (D)  \\n\\t\\t\\t\\t\\t\\t\\t\\t\\...   \n",
       "3                                                                        NaN   \n",
       "4         Gabriel Vasquez    Gabriel Vasquez (D)  \\n\\t\\t\\t\\t\\t\\t\\t\\t\\t\\t\\t\\t   \n",
       "\n",
       "                                              bp_url                 bp_name  \\\n",
       "0  https://s3.amazonaws.com/ballotpedia-api4/file...  Michelle Garcia Holmes   \n",
       "1  https://s3.amazonaws.com/ballotpedia-api4/file...  Teresa Leger Fernandez   \n",
       "2  https://s3.amazonaws.com/ballotpedia-api4/file...   Melanie Ann Stansbury   \n",
       "3                                                NaN                     NaN   \n",
       "4  https://s3.amazonaws.com/ballotpedia-api4/file...         Gabriel Vasquez   \n",
       "\n",
       "              bp_url_filename     _merge  \n",
       "0      w80182230_headshot.jpg       both  \n",
       "1  Teresa-Leger-Fernandez.PNG       both  \n",
       "2     _Melanie-Stansbury_.jpg       both  \n",
       "3                         NaN  left_only  \n",
       "4          GabrielVasquez.jpg       both  "
      ]
     },
     "execution_count": 72,
     "metadata": {},
     "output_type": "execute_result"
    }
   ],
   "source": [
    "nm.head()"
   ]
  },
  {
   "cell_type": "code",
   "execution_count": 73,
   "metadata": {},
   "outputs": [
    {
     "data": {
      "text/plain": [
       "both          6\n",
       "left_only     1\n",
       "right_only    0\n",
       "Name: _merge, dtype: int64"
      ]
     },
     "execution_count": 73,
     "metadata": {},
     "output_type": "execute_result"
    }
   ],
   "source": [
    "nm._merge.value_counts()"
   ]
  },
  {
   "cell_type": "code",
   "execution_count": 74,
   "metadata": {},
   "outputs": [
    {
     "data": {
      "text/plain": [
       "(7, 12)"
      ]
     },
     "execution_count": 74,
     "metadata": {},
     "output_type": "execute_result"
    }
   ],
   "source": [
    "nm.shape"
   ]
  },
  {
   "cell_type": "markdown",
   "metadata": {},
   "source": [
    "#### Combine 44 states' results"
   ]
  },
  {
   "cell_type": "code",
   "execution_count": 1487,
   "metadata": {},
   "outputs": [],
   "source": [
    "# res2 = pd.concat([al, az, ar, ca, co, ct, fl, ga, hi, xid, il, xin, ia, ks, ky,\n",
    "#                  la, me, md, ma, mi, mn, ms, mo, mt, ne, nv, nh, nj, nm, ny, nc, oh, ok,\n",
    "#                  xor, pa, ri, sc, tn, tx, ut, va, wa, wv, wi\n",
    "#                  ])"
   ]
  },
  {
   "cell_type": "code",
   "execution_count": 1488,
   "metadata": {},
   "outputs": [
    {
     "data": {
      "text/plain": [
       "(1265, 12)"
      ]
     },
     "execution_count": 1488,
     "metadata": {},
     "output_type": "execute_result"
    }
   ],
   "source": [
    "#res2.shape"
   ]
  },
  {
   "cell_type": "code",
   "execution_count": 1489,
   "metadata": {},
   "outputs": [
    {
     "data": {
      "text/html": [
       "<div>\n",
       "<style scoped>\n",
       "    .dataframe tbody tr th:only-of-type {\n",
       "        vertical-align: middle;\n",
       "    }\n",
       "\n",
       "    .dataframe tbody tr th {\n",
       "        vertical-align: top;\n",
       "    }\n",
       "\n",
       "    .dataframe thead th {\n",
       "        text-align: right;\n",
       "    }\n",
       "</style>\n",
       "<table border=\"1\" class=\"dataframe\">\n",
       "  <thead>\n",
       "    <tr style=\"text-align: right;\">\n",
       "      <th></th>\n",
       "      <th>wmpid</th>\n",
       "      <th>cand_name</th>\n",
       "      <th>full_name</th>\n",
       "      <th>cand_office_st</th>\n",
       "      <th>cand_office_dist</th>\n",
       "      <th>cand_party_affiliation</th>\n",
       "      <th>matches</th>\n",
       "      <th>bp_name_raw</th>\n",
       "      <th>bp_url</th>\n",
       "      <th>bp_name</th>\n",
       "      <th>bp_url_filename</th>\n",
       "      <th>_merge</th>\n",
       "    </tr>\n",
       "  </thead>\n",
       "  <tbody>\n",
       "    <tr>\n",
       "      <th>0</th>\n",
       "      <td>WMPID21</td>\n",
       "      <td>CARL, JERRY LEE, JR</td>\n",
       "      <td>Jerry Carl</td>\n",
       "      <td>AL</td>\n",
       "      <td>1.0</td>\n",
       "      <td>REP</td>\n",
       "      <td>Jerry Carl</td>\n",
       "      <td>Jerry Carl (R)  \\n\\t\\t\\t\\t\\t\\t\\t\\t\\t\\t\\t</td>\n",
       "      <td>https://s3.amazonaws.com/ballotpedia-api4/file...</td>\n",
       "      <td>Jerry Carl</td>\n",
       "      <td>Jerry-Carl.PNG</td>\n",
       "      <td>both</td>\n",
       "    </tr>\n",
       "    <tr>\n",
       "      <th>1</th>\n",
       "      <td>WMPID24</td>\n",
       "      <td>HARVEY-HALL, PHYLLIS</td>\n",
       "      <td>Phyllis Harvey-Hall</td>\n",
       "      <td>AL</td>\n",
       "      <td>2.0</td>\n",
       "      <td>DEM</td>\n",
       "      <td>Phyllis Harvey-Hall</td>\n",
       "      <td>Phyllis Harvey-Hall (D) \\n</td>\n",
       "      <td>https://s3.amazonaws.com/ballotpedia-api4/file...</td>\n",
       "      <td>Phyllis Harvey-Hall</td>\n",
       "      <td>phyllis.jpg</td>\n",
       "      <td>both</td>\n",
       "    </tr>\n",
       "    <tr>\n",
       "      <th>2</th>\n",
       "      <td>WMPID27</td>\n",
       "      <td>SEWELL, TERRI A.</td>\n",
       "      <td>Terri A Sewell</td>\n",
       "      <td>AL</td>\n",
       "      <td>7.0</td>\n",
       "      <td>DEM</td>\n",
       "      <td>Terri Sewell</td>\n",
       "      <td>Terri Sewell (D)  \\n\\t\\t\\t\\t\\t\\t\\t\\t\\t\\t\\t</td>\n",
       "      <td>https://s3.amazonaws.com/ballotpedia-api4/file...</td>\n",
       "      <td>Terri Sewell</td>\n",
       "      <td>Terri_Sewell.jpg</td>\n",
       "      <td>both</td>\n",
       "    </tr>\n",
       "    <tr>\n",
       "      <th>3</th>\n",
       "      <td>WMPID4534</td>\n",
       "      <td>SMITH, JONATHAN</td>\n",
       "      <td>Jonathan Smith</td>\n",
       "      <td>AL</td>\n",
       "      <td>2.0</td>\n",
       "      <td>LIB</td>\n",
       "      <td></td>\n",
       "      <td>NaN</td>\n",
       "      <td>NaN</td>\n",
       "      <td>NaN</td>\n",
       "      <td>NaN</td>\n",
       "      <td>left_only</td>\n",
       "    </tr>\n",
       "    <tr>\n",
       "      <th>4</th>\n",
       "      <td>WMPID769</td>\n",
       "      <td>ROGERS, MICHAEL</td>\n",
       "      <td>Mike D Rogers</td>\n",
       "      <td>AL</td>\n",
       "      <td>3.0</td>\n",
       "      <td>REP</td>\n",
       "      <td>Mike Rogers</td>\n",
       "      <td>Mike Rogers (R)  \\n\\t\\t\\t\\t\\t\\t\\t\\t\\t\\t\\t</td>\n",
       "      <td>https://s3.amazonaws.com/ballotpedia-api4/file...</td>\n",
       "      <td>Mike Rogers</td>\n",
       "      <td>Mike-Rogers.jpg</td>\n",
       "      <td>both</td>\n",
       "    </tr>\n",
       "  </tbody>\n",
       "</table>\n",
       "</div>"
      ],
      "text/plain": [
       "       wmpid             cand_name            full_name cand_office_st  \\\n",
       "0    WMPID21   CARL, JERRY LEE, JR           Jerry Carl             AL   \n",
       "1    WMPID24  HARVEY-HALL, PHYLLIS  Phyllis Harvey-Hall             AL   \n",
       "2    WMPID27      SEWELL, TERRI A.       Terri A Sewell             AL   \n",
       "3  WMPID4534       SMITH, JONATHAN       Jonathan Smith             AL   \n",
       "4   WMPID769       ROGERS, MICHAEL        Mike D Rogers             AL   \n",
       "\n",
       "   cand_office_dist cand_party_affiliation              matches  \\\n",
       "0               1.0                    REP           Jerry Carl   \n",
       "1               2.0                    DEM  Phyllis Harvey-Hall   \n",
       "2               7.0                    DEM         Terri Sewell   \n",
       "3               2.0                    LIB                        \n",
       "4               3.0                    REP          Mike Rogers   \n",
       "\n",
       "                                  bp_name_raw  \\\n",
       "0    Jerry Carl (R)  \\n\\t\\t\\t\\t\\t\\t\\t\\t\\t\\t\\t   \n",
       "1                  Phyllis Harvey-Hall (D) \\n   \n",
       "2  Terri Sewell (D)  \\n\\t\\t\\t\\t\\t\\t\\t\\t\\t\\t\\t   \n",
       "3                                         NaN   \n",
       "4   Mike Rogers (R)  \\n\\t\\t\\t\\t\\t\\t\\t\\t\\t\\t\\t   \n",
       "\n",
       "                                              bp_url              bp_name  \\\n",
       "0  https://s3.amazonaws.com/ballotpedia-api4/file...           Jerry Carl   \n",
       "1  https://s3.amazonaws.com/ballotpedia-api4/file...  Phyllis Harvey-Hall   \n",
       "2  https://s3.amazonaws.com/ballotpedia-api4/file...         Terri Sewell   \n",
       "3                                                NaN                  NaN   \n",
       "4  https://s3.amazonaws.com/ballotpedia-api4/file...          Mike Rogers   \n",
       "\n",
       "    bp_url_filename     _merge  \n",
       "0    Jerry-Carl.PNG       both  \n",
       "1       phyllis.jpg       both  \n",
       "2  Terri_Sewell.jpg       both  \n",
       "3               NaN  left_only  \n",
       "4   Mike-Rogers.jpg       both  "
      ]
     },
     "execution_count": 1489,
     "metadata": {},
     "output_type": "execute_result"
    }
   ],
   "source": [
    "#res2.head()"
   ]
  },
  {
   "cell_type": "code",
   "execution_count": 1491,
   "metadata": {},
   "outputs": [
    {
     "data": {
      "text/plain": [
       "(1265, 12)"
      ]
     },
     "execution_count": 1491,
     "metadata": {},
     "output_type": "execute_result"
    }
   ],
   "source": [
    "#res2.shape"
   ]
  },
  {
   "cell_type": "markdown",
   "metadata": {},
   "source": [
    "### Combine all results"
   ]
  },
  {
   "cell_type": "code",
   "execution_count": 1509,
   "metadata": {},
   "outputs": [],
   "source": [
    "#res = pd.concat([res1, res2])"
   ]
  },
  {
   "cell_type": "code",
   "execution_count": 1510,
   "metadata": {},
   "outputs": [
    {
     "data": {
      "text/html": [
       "<div>\n",
       "<style scoped>\n",
       "    .dataframe tbody tr th:only-of-type {\n",
       "        vertical-align: middle;\n",
       "    }\n",
       "\n",
       "    .dataframe tbody tr th {\n",
       "        vertical-align: top;\n",
       "    }\n",
       "\n",
       "    .dataframe thead th {\n",
       "        text-align: right;\n",
       "    }\n",
       "</style>\n",
       "<table border=\"1\" class=\"dataframe\">\n",
       "  <thead>\n",
       "    <tr style=\"text-align: right;\">\n",
       "      <th></th>\n",
       "      <th>wmpid</th>\n",
       "      <th>cand_name</th>\n",
       "      <th>full_name</th>\n",
       "      <th>cand_office_st</th>\n",
       "      <th>cand_office_dist</th>\n",
       "      <th>cand_party_affiliation</th>\n",
       "      <th>matches</th>\n",
       "      <th>bp_name_raw</th>\n",
       "      <th>bp_url</th>\n",
       "      <th>bp_name</th>\n",
       "      <th>bp_url_filename</th>\n",
       "      <th>_merge</th>\n",
       "    </tr>\n",
       "  </thead>\n",
       "  <tbody>\n",
       "    <tr>\n",
       "      <th>0</th>\n",
       "      <td>WMPID2014</td>\n",
       "      <td>PALIN, SARAH</td>\n",
       "      <td>Sarah Palin</td>\n",
       "      <td>AK</td>\n",
       "      <td>0.0</td>\n",
       "      <td>REP</td>\n",
       "      <td>Sarah Palin</td>\n",
       "      <td>Sarah Palin</td>\n",
       "      <td>https://s3.amazonaws.com/ballotpedia-api4/file...</td>\n",
       "      <td>Sarah Palin</td>\n",
       "      <td>Sarah_Palin.PNG</td>\n",
       "      <td>both</td>\n",
       "    </tr>\n",
       "    <tr>\n",
       "      <th>1</th>\n",
       "      <td>WMPID4003</td>\n",
       "      <td>BEGICH, NICHOLAS III</td>\n",
       "      <td>Nicholas III Begich</td>\n",
       "      <td>AK</td>\n",
       "      <td>0.0</td>\n",
       "      <td>REP</td>\n",
       "      <td>Nicholas Begich</td>\n",
       "      <td>Nicholas Begich</td>\n",
       "      <td>https://s3.amazonaws.com/ballotpedia-api4/file...</td>\n",
       "      <td>Nicholas Begich</td>\n",
       "      <td>Nick-Begich.PNG</td>\n",
       "      <td>both</td>\n",
       "    </tr>\n",
       "    <tr>\n",
       "      <th>2</th>\n",
       "      <td>WMPID4308</td>\n",
       "      <td>PELTOLA, MARY</td>\n",
       "      <td>Mary Peltola</td>\n",
       "      <td>AK</td>\n",
       "      <td>0.0</td>\n",
       "      <td>DEM</td>\n",
       "      <td>Mary Peltola</td>\n",
       "      <td>Mary Peltola</td>\n",
       "      <td>https://s3.amazonaws.com/ballotpedia-api4/file...</td>\n",
       "      <td>Mary Peltola</td>\n",
       "      <td>Mary-Peltola.PNG</td>\n",
       "      <td>both</td>\n",
       "    </tr>\n",
       "    <tr>\n",
       "      <th>3</th>\n",
       "      <td>WMPID4360</td>\n",
       "      <td>SWEENEY, TARA M</td>\n",
       "      <td>Tara Sweeney</td>\n",
       "      <td>AK</td>\n",
       "      <td>0.0</td>\n",
       "      <td>REP</td>\n",
       "      <td></td>\n",
       "      <td>NaN</td>\n",
       "      <td>NaN</td>\n",
       "      <td>NaN</td>\n",
       "      <td>NaN</td>\n",
       "      <td>left_only</td>\n",
       "    </tr>\n",
       "    <tr>\n",
       "      <th>0</th>\n",
       "      <td>WMPID5148</td>\n",
       "      <td>ROGERS, DAVID L.</td>\n",
       "      <td>David Rogers</td>\n",
       "      <td>DE</td>\n",
       "      <td>0.0</td>\n",
       "      <td>OTH</td>\n",
       "      <td>David Rogers</td>\n",
       "      <td>David Rogers (Nonpartisan Party)  \\n\\t\\t\\t\\t\\t...</td>\n",
       "      <td>https://s3.amazonaws.com/ballotpedia-api4/file...</td>\n",
       "      <td>David Rogers</td>\n",
       "      <td>DavidRogers.jpg</td>\n",
       "      <td>both</td>\n",
       "    </tr>\n",
       "  </tbody>\n",
       "</table>\n",
       "</div>"
      ],
      "text/plain": [
       "       wmpid             cand_name            full_name cand_office_st  \\\n",
       "0  WMPID2014          PALIN, SARAH          Sarah Palin             AK   \n",
       "1  WMPID4003  BEGICH, NICHOLAS III  Nicholas III Begich             AK   \n",
       "2  WMPID4308         PELTOLA, MARY         Mary Peltola             AK   \n",
       "3  WMPID4360       SWEENEY, TARA M         Tara Sweeney             AK   \n",
       "0  WMPID5148      ROGERS, DAVID L.         David Rogers             DE   \n",
       "\n",
       "   cand_office_dist cand_party_affiliation          matches  \\\n",
       "0               0.0                    REP      Sarah Palin   \n",
       "1               0.0                    REP  Nicholas Begich   \n",
       "2               0.0                    DEM     Mary Peltola   \n",
       "3               0.0                    REP                    \n",
       "0               0.0                    OTH     David Rogers   \n",
       "\n",
       "                                         bp_name_raw  \\\n",
       "0                                       Sarah Palin    \n",
       "1                                   Nicholas Begich    \n",
       "2                                      Mary Peltola    \n",
       "3                                                NaN   \n",
       "0  David Rogers (Nonpartisan Party)  \\n\\t\\t\\t\\t\\t...   \n",
       "\n",
       "                                              bp_url          bp_name  \\\n",
       "0  https://s3.amazonaws.com/ballotpedia-api4/file...      Sarah Palin   \n",
       "1  https://s3.amazonaws.com/ballotpedia-api4/file...  Nicholas Begich   \n",
       "2  https://s3.amazonaws.com/ballotpedia-api4/file...     Mary Peltola   \n",
       "3                                                NaN              NaN   \n",
       "0  https://s3.amazonaws.com/ballotpedia-api4/file...     David Rogers   \n",
       "\n",
       "    bp_url_filename     _merge  \n",
       "0   Sarah_Palin.PNG       both  \n",
       "1   Nick-Begich.PNG       both  \n",
       "2  Mary-Peltola.PNG       both  \n",
       "3               NaN  left_only  \n",
       "0   DavidRogers.jpg       both  "
      ]
     },
     "execution_count": 1510,
     "metadata": {},
     "output_type": "execute_result"
    }
   ],
   "source": [
    "#res.head()"
   ]
  },
  {
   "cell_type": "code",
   "execution_count": 1511,
   "metadata": {},
   "outputs": [
    {
     "data": {
      "text/plain": [
       "both          903\n",
       "left_only     383\n",
       "right_only      0\n",
       "Name: _merge, dtype: int64"
      ]
     },
     "execution_count": 1511,
     "metadata": {},
     "output_type": "execute_result"
    }
   ],
   "source": [
    "#res._merge.value_counts(dropna=False)"
   ]
  },
  {
   "cell_type": "code",
   "execution_count": 1512,
   "metadata": {},
   "outputs": [],
   "source": [
    "#res.to_csv(\"./data/bp2022_house_scraped_face.csv\", index=False)"
   ]
  }
 ],
 "metadata": {
  "colab": {
   "authorship_tag": "ABX9TyOBjkuKaXN5r0lJ+GZJIRG/",
   "mount_file_id": "1K4Q98kHGjVxwpExweV55zvMjsp0MO82e",
   "provenance": []
  },
  "kernelspec": {
   "display_name": "Python 3",
   "language": "python",
   "name": "python3"
  },
  "language_info": {
   "codemirror_mode": {
    "name": "ipython",
    "version": 3
   },
   "file_extension": ".py",
   "mimetype": "text/x-python",
   "name": "python",
   "nbconvert_exporter": "python",
   "pygments_lexer": "ipython3",
   "version": "3.7.7"
  }
 },
 "nbformat": 4,
 "nbformat_minor": 1
}
