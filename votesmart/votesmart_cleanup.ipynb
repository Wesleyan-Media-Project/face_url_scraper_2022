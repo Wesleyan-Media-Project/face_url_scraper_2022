{
 "cells": [
  {
   "cell_type": "code",
   "execution_count": 1,
   "metadata": {},
   "outputs": [],
   "source": [
    "import pandas as pd"
   ]
  },
  {
   "cell_type": "code",
   "execution_count": 2,
   "metadata": {},
   "outputs": [],
   "source": [
    "vs = pd.read_csv(\"vs_2022_face.csv\")"
   ]
  },
  {
   "cell_type": "code",
   "execution_count": 3,
   "metadata": {},
   "outputs": [
    {
     "data": {
      "text/plain": [
       "(1290, 9)"
      ]
     },
     "execution_count": 3,
     "metadata": {},
     "output_type": "execute_result"
    }
   ],
   "source": [
    "vs.shape"
   ]
  },
  {
   "cell_type": "code",
   "execution_count": 4,
   "metadata": {},
   "outputs": [
    {
     "data": {
      "text/html": [
       "<div>\n",
       "<style scoped>\n",
       "    .dataframe tbody tr th:only-of-type {\n",
       "        vertical-align: middle;\n",
       "    }\n",
       "\n",
       "    .dataframe tbody tr th {\n",
       "        vertical-align: top;\n",
       "    }\n",
       "\n",
       "    .dataframe thead th {\n",
       "        text-align: right;\n",
       "    }\n",
       "</style>\n",
       "<table border=\"1\" class=\"dataframe\">\n",
       "  <thead>\n",
       "    <tr style=\"text-align: right;\">\n",
       "      <th></th>\n",
       "      <th>race</th>\n",
       "      <th>cand_name</th>\n",
       "      <th>cand_img</th>\n",
       "      <th>cand_details</th>\n",
       "      <th>race_code</th>\n",
       "      <th>url</th>\n",
       "      <th>vs_state</th>\n",
       "      <th>vs_office</th>\n",
       "      <th>district_no</th>\n",
       "    </tr>\n",
       "  </thead>\n",
       "  <tbody>\n",
       "    <tr>\n",
       "      <th>0</th>\n",
       "      <td>\\n                  Alaska\\n                  ...</td>\n",
       "      <td>Patricia Chesbro</td>\n",
       "      <td>//static.votesmart.org/static/canphoto/68296.jpg</td>\n",
       "      <td>\\n                Patricia Chesbro\\n\\n        ...</td>\n",
       "      <td>S</td>\n",
       "      <td>https://static.votesmart.org/static/canphoto/6...</td>\n",
       "      <td>Alaska\\n</td>\n",
       "      <td>U.S. Senate\\n</td>\n",
       "      <td>NaN</td>\n",
       "    </tr>\n",
       "    <tr>\n",
       "      <th>1</th>\n",
       "      <td>\\n                  Alaska\\n                  ...</td>\n",
       "      <td>Ted Gianoutsos</td>\n",
       "      <td>//static.votesmart.org/static/canphoto/27156.jpg</td>\n",
       "      <td>\\n                Ted Gianoutsos\\n\\n          ...</td>\n",
       "      <td>S</td>\n",
       "      <td>https://static.votesmart.org/static/canphoto/2...</td>\n",
       "      <td>Alaska\\n</td>\n",
       "      <td>U.S. Senate\\n</td>\n",
       "      <td>NaN</td>\n",
       "    </tr>\n",
       "    <tr>\n",
       "      <th>2</th>\n",
       "      <td>\\n                  Alaska\\n                  ...</td>\n",
       "      <td>Shoshana Gungerstein</td>\n",
       "      <td>//static.votesmart.org/static/canphoto/207789.jpg</td>\n",
       "      <td>\\n                Shoshana Gungerstein\\n\\n    ...</td>\n",
       "      <td>S</td>\n",
       "      <td>https://static.votesmart.org/static/canphoto/2...</td>\n",
       "      <td>Alaska\\n</td>\n",
       "      <td>U.S. Senate\\n</td>\n",
       "      <td>NaN</td>\n",
       "    </tr>\n",
       "    <tr>\n",
       "      <th>3</th>\n",
       "      <td>\\n                  Alaska\\n                  ...</td>\n",
       "      <td>Sid Hill</td>\n",
       "      <td>//static.votesmart.org/static/canphoto/145962.jpg</td>\n",
       "      <td>\\n                Sid Hill\\n\\n                ...</td>\n",
       "      <td>S</td>\n",
       "      <td>https://static.votesmart.org/static/canphoto/1...</td>\n",
       "      <td>Alaska\\n</td>\n",
       "      <td>U.S. Senate\\n</td>\n",
       "      <td>NaN</td>\n",
       "    </tr>\n",
       "    <tr>\n",
       "      <th>4</th>\n",
       "      <td>\\n                  Alaska\\n                  ...</td>\n",
       "      <td>Buzz Kelley</td>\n",
       "      <td>//static.votesmart.org/static/canphoto/207793.jpg</td>\n",
       "      <td>\\n                Buzz Kelley\\n\\n             ...</td>\n",
       "      <td>S</td>\n",
       "      <td>https://static.votesmart.org/static/canphoto/2...</td>\n",
       "      <td>Alaska\\n</td>\n",
       "      <td>U.S. Senate\\n</td>\n",
       "      <td>NaN</td>\n",
       "    </tr>\n",
       "  </tbody>\n",
       "</table>\n",
       "</div>"
      ],
      "text/plain": [
       "                                                race             cand_name  \\\n",
       "0  \\n                  Alaska\\n                  ...      Patricia Chesbro   \n",
       "1  \\n                  Alaska\\n                  ...        Ted Gianoutsos   \n",
       "2  \\n                  Alaska\\n                  ...  Shoshana Gungerstein   \n",
       "3  \\n                  Alaska\\n                  ...              Sid Hill   \n",
       "4  \\n                  Alaska\\n                  ...           Buzz Kelley   \n",
       "\n",
       "                                            cand_img  \\\n",
       "0   //static.votesmart.org/static/canphoto/68296.jpg   \n",
       "1   //static.votesmart.org/static/canphoto/27156.jpg   \n",
       "2  //static.votesmart.org/static/canphoto/207789.jpg   \n",
       "3  //static.votesmart.org/static/canphoto/145962.jpg   \n",
       "4  //static.votesmart.org/static/canphoto/207793.jpg   \n",
       "\n",
       "                                        cand_details race_code  \\\n",
       "0  \\n                Patricia Chesbro\\n\\n        ...         S   \n",
       "1  \\n                Ted Gianoutsos\\n\\n          ...         S   \n",
       "2  \\n                Shoshana Gungerstein\\n\\n    ...         S   \n",
       "3  \\n                Sid Hill\\n\\n                ...         S   \n",
       "4  \\n                Buzz Kelley\\n\\n             ...         S   \n",
       "\n",
       "                                                 url  vs_state      vs_office  \\\n",
       "0  https://static.votesmart.org/static/canphoto/6...  Alaska\\n  U.S. Senate\\n   \n",
       "1  https://static.votesmart.org/static/canphoto/2...  Alaska\\n  U.S. Senate\\n   \n",
       "2  https://static.votesmart.org/static/canphoto/2...  Alaska\\n  U.S. Senate\\n   \n",
       "3  https://static.votesmart.org/static/canphoto/1...  Alaska\\n  U.S. Senate\\n   \n",
       "4  https://static.votesmart.org/static/canphoto/2...  Alaska\\n  U.S. Senate\\n   \n",
       "\n",
       "  district_no  \n",
       "0         NaN  \n",
       "1         NaN  \n",
       "2         NaN  \n",
       "3         NaN  \n",
       "4         NaN  "
      ]
     },
     "execution_count": 4,
     "metadata": {},
     "output_type": "execute_result"
    }
   ],
   "source": [
    "vs.head()"
   ]
  },
  {
   "cell_type": "code",
   "execution_count": 5,
   "metadata": {},
   "outputs": [],
   "source": [
    "vs['vs_state'] = vs['vs_state'].replace(r'\\n',' ', regex=True) \n",
    "vs['vs_office'] = vs['vs_office'].replace(r'\\n',' ', regex=True) \n",
    "vs['district_no'] = vs['district_no'].replace(r'\\n',' ', regex=True)"
   ]
  },
  {
   "cell_type": "code",
   "execution_count": 6,
   "metadata": {},
   "outputs": [],
   "source": [
    "dl = vs[['cand_name', 'url', 'vs_state','vs_office', 'district_no']]"
   ]
  },
  {
   "cell_type": "code",
   "execution_count": 7,
   "metadata": {},
   "outputs": [
    {
     "data": {
      "text/plain": [
       "(1290, 5)"
      ]
     },
     "execution_count": 7,
     "metadata": {},
     "output_type": "execute_result"
    }
   ],
   "source": [
    "dl.shape"
   ]
  },
  {
   "cell_type": "code",
   "execution_count": 8,
   "metadata": {},
   "outputs": [],
   "source": [
    "dl = dl.drop_duplicates()"
   ]
  },
  {
   "cell_type": "code",
   "execution_count": 9,
   "metadata": {},
   "outputs": [],
   "source": [
    "dl = dl.rename(columns={'cand_name':'vs_name'})"
   ]
  },
  {
   "cell_type": "code",
   "execution_count": 10,
   "metadata": {},
   "outputs": [
    {
     "data": {
      "text/html": [
       "<div>\n",
       "<style scoped>\n",
       "    .dataframe tbody tr th:only-of-type {\n",
       "        vertical-align: middle;\n",
       "    }\n",
       "\n",
       "    .dataframe tbody tr th {\n",
       "        vertical-align: top;\n",
       "    }\n",
       "\n",
       "    .dataframe thead th {\n",
       "        text-align: right;\n",
       "    }\n",
       "</style>\n",
       "<table border=\"1\" class=\"dataframe\">\n",
       "  <thead>\n",
       "    <tr style=\"text-align: right;\">\n",
       "      <th></th>\n",
       "      <th>vs_name</th>\n",
       "      <th>url</th>\n",
       "      <th>vs_state</th>\n",
       "      <th>vs_office</th>\n",
       "      <th>district_no</th>\n",
       "    </tr>\n",
       "  </thead>\n",
       "  <tbody>\n",
       "    <tr>\n",
       "      <th>0</th>\n",
       "      <td>Patricia Chesbro</td>\n",
       "      <td>https://static.votesmart.org/static/canphoto/6...</td>\n",
       "      <td>Alaska</td>\n",
       "      <td>U.S. Senate</td>\n",
       "      <td>NaN</td>\n",
       "    </tr>\n",
       "    <tr>\n",
       "      <th>1</th>\n",
       "      <td>Ted Gianoutsos</td>\n",
       "      <td>https://static.votesmart.org/static/canphoto/2...</td>\n",
       "      <td>Alaska</td>\n",
       "      <td>U.S. Senate</td>\n",
       "      <td>NaN</td>\n",
       "    </tr>\n",
       "    <tr>\n",
       "      <th>2</th>\n",
       "      <td>Shoshana Gungerstein</td>\n",
       "      <td>https://static.votesmart.org/static/canphoto/2...</td>\n",
       "      <td>Alaska</td>\n",
       "      <td>U.S. Senate</td>\n",
       "      <td>NaN</td>\n",
       "    </tr>\n",
       "    <tr>\n",
       "      <th>3</th>\n",
       "      <td>Sid Hill</td>\n",
       "      <td>https://static.votesmart.org/static/canphoto/1...</td>\n",
       "      <td>Alaska</td>\n",
       "      <td>U.S. Senate</td>\n",
       "      <td>NaN</td>\n",
       "    </tr>\n",
       "    <tr>\n",
       "      <th>4</th>\n",
       "      <td>Buzz Kelley</td>\n",
       "      <td>https://static.votesmart.org/static/canphoto/2...</td>\n",
       "      <td>Alaska</td>\n",
       "      <td>U.S. Senate</td>\n",
       "      <td>NaN</td>\n",
       "    </tr>\n",
       "  </tbody>\n",
       "</table>\n",
       "</div>"
      ],
      "text/plain": [
       "                vs_name                                                url  \\\n",
       "0      Patricia Chesbro  https://static.votesmart.org/static/canphoto/6...   \n",
       "1        Ted Gianoutsos  https://static.votesmart.org/static/canphoto/2...   \n",
       "2  Shoshana Gungerstein  https://static.votesmart.org/static/canphoto/2...   \n",
       "3              Sid Hill  https://static.votesmart.org/static/canphoto/1...   \n",
       "4           Buzz Kelley  https://static.votesmart.org/static/canphoto/2...   \n",
       "\n",
       "  vs_state     vs_office district_no  \n",
       "0  Alaska   U.S. Senate          NaN  \n",
       "1  Alaska   U.S. Senate          NaN  \n",
       "2  Alaska   U.S. Senate          NaN  \n",
       "3  Alaska   U.S. Senate          NaN  \n",
       "4  Alaska   U.S. Senate          NaN  "
      ]
     },
     "execution_count": 10,
     "metadata": {},
     "output_type": "execute_result"
    }
   ],
   "source": [
    "dl.head()"
   ]
  },
  {
   "cell_type": "code",
   "execution_count": 11,
   "metadata": {},
   "outputs": [],
   "source": [
    "dl.to_csv(\"vs_2022_face_cleaned.csv\", index=False)"
   ]
  }
 ],
 "metadata": {
  "kernelspec": {
   "display_name": "Python 3",
   "language": "python",
   "name": "python3"
  },
  "language_info": {
   "codemirror_mode": {
    "name": "ipython",
    "version": 3
   },
   "file_extension": ".py",
   "mimetype": "text/x-python",
   "name": "python",
   "nbconvert_exporter": "python",
   "pygments_lexer": "ipython3",
   "version": "3.7.7"
  }
 },
 "nbformat": 4,
 "nbformat_minor": 4
}
