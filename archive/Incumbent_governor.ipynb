{
 "cells": [
  {
   "cell_type": "markdown",
   "metadata": {},
   "source": [
    "## Incumbent governor"
   ]
  },
  {
   "cell_type": "code",
   "execution_count": 1,
   "metadata": {},
   "outputs": [],
   "source": [
    "import pandas as pd\n",
    "import bs4 as bs # pulling data out of HTML and XML files.\n",
    "import urllib.request # opening and reading URLs\n",
    "import re # pattern matching"
   ]
  },
  {
   "cell_type": "code",
   "execution_count": 2,
   "metadata": {},
   "outputs": [],
   "source": [
    "st = pd.read_csv(\"./votesmart/s_and_t.csv\")"
   ]
  },
  {
   "cell_type": "code",
   "execution_count": 3,
   "metadata": {},
   "outputs": [
    {
     "data": {
      "text/html": [
       "<div>\n",
       "<style scoped>\n",
       "    .dataframe tbody tr th:only-of-type {\n",
       "        vertical-align: middle;\n",
       "    }\n",
       "\n",
       "    .dataframe tbody tr th {\n",
       "        vertical-align: top;\n",
       "    }\n",
       "\n",
       "    .dataframe thead th {\n",
       "        text-align: right;\n",
       "    }\n",
       "</style>\n",
       "<table border=\"1\" class=\"dataframe\">\n",
       "  <thead>\n",
       "    <tr style=\"text-align: right;\">\n",
       "      <th></th>\n",
       "      <th>usps_code</th>\n",
       "      <th>fips_code</th>\n",
       "      <th>state_name</th>\n",
       "    </tr>\n",
       "  </thead>\n",
       "  <tbody>\n",
       "    <tr>\n",
       "      <th>0</th>\n",
       "      <td>AK</td>\n",
       "      <td>2</td>\n",
       "      <td>ALASKA</td>\n",
       "    </tr>\n",
       "    <tr>\n",
       "      <th>1</th>\n",
       "      <td>AL</td>\n",
       "      <td>1</td>\n",
       "      <td>ALABAMA</td>\n",
       "    </tr>\n",
       "    <tr>\n",
       "      <th>2</th>\n",
       "      <td>AR</td>\n",
       "      <td>5</td>\n",
       "      <td>ARKANSAS</td>\n",
       "    </tr>\n",
       "    <tr>\n",
       "      <th>3</th>\n",
       "      <td>AS</td>\n",
       "      <td>60</td>\n",
       "      <td>AMERICAN SAMOA</td>\n",
       "    </tr>\n",
       "    <tr>\n",
       "      <th>4</th>\n",
       "      <td>AZ</td>\n",
       "      <td>4</td>\n",
       "      <td>ARIZONA</td>\n",
       "    </tr>\n",
       "  </tbody>\n",
       "</table>\n",
       "</div>"
      ],
      "text/plain": [
       "  usps_code  fips_code      state_name\n",
       "0        AK          2          ALASKA\n",
       "1        AL          1         ALABAMA\n",
       "2        AR          5        ARKANSAS\n",
       "3        AS         60  AMERICAN SAMOA\n",
       "4        AZ          4         ARIZONA"
      ]
     },
     "execution_count": 3,
     "metadata": {},
     "output_type": "execute_result"
    }
   ],
   "source": [
    "st.head()"
   ]
  },
  {
   "cell_type": "code",
   "execution_count": 4,
   "metadata": {},
   "outputs": [],
   "source": [
    "st = st.loc[(st['fips_code']<60)&(st['fips_code']!=11)]"
   ]
  },
  {
   "cell_type": "code",
   "execution_count": 5,
   "metadata": {},
   "outputs": [
    {
     "data": {
      "text/plain": [
       "(50, 3)"
      ]
     },
     "execution_count": 5,
     "metadata": {},
     "output_type": "execute_result"
    }
   ],
   "source": [
    "st.shape"
   ]
  },
  {
   "cell_type": "markdown",
   "metadata": {},
   "source": [
    "Get states that up for election in 2022"
   ]
  },
  {
   "cell_type": "code",
   "execution_count": 6,
   "metadata": {},
   "outputs": [],
   "source": [
    "g = pd.read_csv(\"./ballotpedia/bp2022_gov_scraped_face_verified.csv\")"
   ]
  },
  {
   "cell_type": "code",
   "execution_count": 7,
   "metadata": {},
   "outputs": [
    {
     "data": {
      "text/html": [
       "<div>\n",
       "<style scoped>\n",
       "    .dataframe tbody tr th:only-of-type {\n",
       "        vertical-align: middle;\n",
       "    }\n",
       "\n",
       "    .dataframe tbody tr th {\n",
       "        vertical-align: top;\n",
       "    }\n",
       "\n",
       "    .dataframe thead th {\n",
       "        text-align: right;\n",
       "    }\n",
       "</style>\n",
       "<table border=\"1\" class=\"dataframe\">\n",
       "  <thead>\n",
       "    <tr style=\"text-align: right;\">\n",
       "      <th></th>\n",
       "      <th>abc_name</th>\n",
       "      <th>abc_name_raw</th>\n",
       "      <th>abc_state</th>\n",
       "      <th>bp_name</th>\n",
       "      <th>bp_name_raw</th>\n",
       "      <th>bp_url</th>\n",
       "      <th>bp_url_filename</th>\n",
       "    </tr>\n",
       "  </thead>\n",
       "  <tbody>\n",
       "    <tr>\n",
       "      <th>0</th>\n",
       "      <td>Yolanda Flowers</td>\n",
       "      <td>Yolanda Flowers</td>\n",
       "      <td>Alabama</td>\n",
       "      <td>Yolanda Flowers</td>\n",
       "      <td>Yolanda Flowers (D)  \\n\\t\\t\\t\\t\\t\\t\\t\\t\\t\\t\\t</td>\n",
       "      <td>https://s3.amazonaws.com/ballotpedia-api4/file...</td>\n",
       "      <td>Yolanda-Flowers.PNG</td>\n",
       "    </tr>\n",
       "    <tr>\n",
       "      <th>1</th>\n",
       "      <td>Les Gara</td>\n",
       "      <td>Les Gara</td>\n",
       "      <td>Alaska</td>\n",
       "      <td>Les Gara</td>\n",
       "      <td>Les Gara</td>\n",
       "      <td>https://s3.amazonaws.com/ballotpedia-api4/file...</td>\n",
       "      <td>Les_Gara.JPG</td>\n",
       "    </tr>\n",
       "    <tr>\n",
       "      <th>2</th>\n",
       "      <td>Katie Hobbs</td>\n",
       "      <td>Katie Hobbs</td>\n",
       "      <td>Arizona</td>\n",
       "      <td>Katie Hobbs</td>\n",
       "      <td>Katie Hobbs (D)  \\n\\t\\t\\t\\t\\t\\t\\t\\t\\t\\t\\t</td>\n",
       "      <td>https://s3.amazonaws.com/ballotpedia-api4/file...</td>\n",
       "      <td>Katie-Hobbs.PNG</td>\n",
       "    </tr>\n",
       "    <tr>\n",
       "      <th>3</th>\n",
       "      <td>Chris Jone</td>\n",
       "      <td>Chris Jone</td>\n",
       "      <td>Arkansas</td>\n",
       "      <td>Chris Jones</td>\n",
       "      <td>Chris Jones (D) \\n</td>\n",
       "      <td>https://s3.amazonaws.com/ballotpedia-api4/file...</td>\n",
       "      <td>Chris-Jones.jpg</td>\n",
       "    </tr>\n",
       "    <tr>\n",
       "      <th>4</th>\n",
       "      <td>Gavin Newsom</td>\n",
       "      <td>Gavin Newsom</td>\n",
       "      <td>California</td>\n",
       "      <td>Gavin Newsom</td>\n",
       "      <td>Gavin Newsom (D)  \\n\\t\\t\\t\\t\\t\\t\\t\\t\\t\\t\\t</td>\n",
       "      <td>https://s3.amazonaws.com/ballotpedia-api4/file...</td>\n",
       "      <td>399px-Gavin_Newsom_official_photo.jpg</td>\n",
       "    </tr>\n",
       "  </tbody>\n",
       "</table>\n",
       "</div>"
      ],
      "text/plain": [
       "          abc_name     abc_name_raw   abc_state          bp_name  \\\n",
       "0  Yolanda Flowers  Yolanda Flowers     Alabama  Yolanda Flowers   \n",
       "1         Les Gara         Les Gara      Alaska         Les Gara   \n",
       "2      Katie Hobbs      Katie Hobbs     Arizona      Katie Hobbs   \n",
       "3       Chris Jone       Chris Jone    Arkansas      Chris Jones   \n",
       "4     Gavin Newsom     Gavin Newsom  California     Gavin Newsom   \n",
       "\n",
       "                                     bp_name_raw  \\\n",
       "0  Yolanda Flowers (D)  \\n\\t\\t\\t\\t\\t\\t\\t\\t\\t\\t\\t   \n",
       "1                                      Les Gara    \n",
       "2      Katie Hobbs (D)  \\n\\t\\t\\t\\t\\t\\t\\t\\t\\t\\t\\t   \n",
       "3                             Chris Jones (D) \\n   \n",
       "4     Gavin Newsom (D)  \\n\\t\\t\\t\\t\\t\\t\\t\\t\\t\\t\\t   \n",
       "\n",
       "                                              bp_url  \\\n",
       "0  https://s3.amazonaws.com/ballotpedia-api4/file...   \n",
       "1  https://s3.amazonaws.com/ballotpedia-api4/file...   \n",
       "2  https://s3.amazonaws.com/ballotpedia-api4/file...   \n",
       "3  https://s3.amazonaws.com/ballotpedia-api4/file...   \n",
       "4  https://s3.amazonaws.com/ballotpedia-api4/file...   \n",
       "\n",
       "                         bp_url_filename  \n",
       "0                    Yolanda-Flowers.PNG  \n",
       "1                           Les_Gara.JPG  \n",
       "2                        Katie-Hobbs.PNG  \n",
       "3                        Chris-Jones.jpg  \n",
       "4  399px-Gavin_Newsom_official_photo.jpg  "
      ]
     },
     "execution_count": 7,
     "metadata": {},
     "output_type": "execute_result"
    }
   ],
   "source": [
    "g.head()"
   ]
  },
  {
   "cell_type": "code",
   "execution_count": 8,
   "metadata": {},
   "outputs": [
    {
     "data": {
      "text/plain": [
       "36"
      ]
     },
     "execution_count": 8,
     "metadata": {},
     "output_type": "execute_result"
    }
   ],
   "source": [
    "len(g['abc_state'].unique())"
   ]
  },
  {
   "cell_type": "code",
   "execution_count": 9,
   "metadata": {},
   "outputs": [],
   "source": [
    "# Seats up for election\n",
    "s = list(g['abc_state'].unique())"
   ]
  },
  {
   "cell_type": "code",
   "execution_count": 10,
   "metadata": {},
   "outputs": [],
   "source": [
    "sue = pd.DataFrame()\n",
    "sue['state_name'] = s\n",
    "sue['state_name'] = sue['state_name'].str.upper()"
   ]
  },
  {
   "cell_type": "code",
   "execution_count": 11,
   "metadata": {},
   "outputs": [
    {
     "data": {
      "text/html": [
       "<div>\n",
       "<style scoped>\n",
       "    .dataframe tbody tr th:only-of-type {\n",
       "        vertical-align: middle;\n",
       "    }\n",
       "\n",
       "    .dataframe tbody tr th {\n",
       "        vertical-align: top;\n",
       "    }\n",
       "\n",
       "    .dataframe thead th {\n",
       "        text-align: right;\n",
       "    }\n",
       "</style>\n",
       "<table border=\"1\" class=\"dataframe\">\n",
       "  <thead>\n",
       "    <tr style=\"text-align: right;\">\n",
       "      <th></th>\n",
       "      <th>state_name</th>\n",
       "    </tr>\n",
       "  </thead>\n",
       "  <tbody>\n",
       "    <tr>\n",
       "      <th>0</th>\n",
       "      <td>ALABAMA</td>\n",
       "    </tr>\n",
       "    <tr>\n",
       "      <th>1</th>\n",
       "      <td>ALASKA</td>\n",
       "    </tr>\n",
       "    <tr>\n",
       "      <th>2</th>\n",
       "      <td>ARIZONA</td>\n",
       "    </tr>\n",
       "    <tr>\n",
       "      <th>3</th>\n",
       "      <td>ARKANSAS</td>\n",
       "    </tr>\n",
       "    <tr>\n",
       "      <th>4</th>\n",
       "      <td>CALIFORNIA</td>\n",
       "    </tr>\n",
       "  </tbody>\n",
       "</table>\n",
       "</div>"
      ],
      "text/plain": [
       "   state_name\n",
       "0     ALABAMA\n",
       "1      ALASKA\n",
       "2     ARIZONA\n",
       "3    ARKANSAS\n",
       "4  CALIFORNIA"
      ]
     },
     "execution_count": 11,
     "metadata": {},
     "output_type": "execute_result"
    }
   ],
   "source": [
    "sue.head()"
   ]
  },
  {
   "cell_type": "code",
   "execution_count": 12,
   "metadata": {},
   "outputs": [],
   "source": [
    "gov = st.merge(sue, on='state_name', how='left', indicator=True)"
   ]
  },
  {
   "cell_type": "code",
   "execution_count": 13,
   "metadata": {},
   "outputs": [
    {
     "data": {
      "text/html": [
       "<div>\n",
       "<style scoped>\n",
       "    .dataframe tbody tr th:only-of-type {\n",
       "        vertical-align: middle;\n",
       "    }\n",
       "\n",
       "    .dataframe tbody tr th {\n",
       "        vertical-align: top;\n",
       "    }\n",
       "\n",
       "    .dataframe thead th {\n",
       "        text-align: right;\n",
       "    }\n",
       "</style>\n",
       "<table border=\"1\" class=\"dataframe\">\n",
       "  <thead>\n",
       "    <tr style=\"text-align: right;\">\n",
       "      <th></th>\n",
       "      <th>usps_code</th>\n",
       "      <th>fips_code</th>\n",
       "      <th>state_name</th>\n",
       "      <th>_merge</th>\n",
       "    </tr>\n",
       "  </thead>\n",
       "  <tbody>\n",
       "    <tr>\n",
       "      <th>0</th>\n",
       "      <td>AK</td>\n",
       "      <td>2</td>\n",
       "      <td>ALASKA</td>\n",
       "      <td>both</td>\n",
       "    </tr>\n",
       "    <tr>\n",
       "      <th>1</th>\n",
       "      <td>AL</td>\n",
       "      <td>1</td>\n",
       "      <td>ALABAMA</td>\n",
       "      <td>both</td>\n",
       "    </tr>\n",
       "    <tr>\n",
       "      <th>2</th>\n",
       "      <td>AR</td>\n",
       "      <td>5</td>\n",
       "      <td>ARKANSAS</td>\n",
       "      <td>both</td>\n",
       "    </tr>\n",
       "    <tr>\n",
       "      <th>3</th>\n",
       "      <td>AZ</td>\n",
       "      <td>4</td>\n",
       "      <td>ARIZONA</td>\n",
       "      <td>both</td>\n",
       "    </tr>\n",
       "    <tr>\n",
       "      <th>4</th>\n",
       "      <td>CA</td>\n",
       "      <td>6</td>\n",
       "      <td>CALIFORNIA</td>\n",
       "      <td>both</td>\n",
       "    </tr>\n",
       "  </tbody>\n",
       "</table>\n",
       "</div>"
      ],
      "text/plain": [
       "  usps_code  fips_code  state_name _merge\n",
       "0        AK          2      ALASKA   both\n",
       "1        AL          1     ALABAMA   both\n",
       "2        AR          5    ARKANSAS   both\n",
       "3        AZ          4     ARIZONA   both\n",
       "4        CA          6  CALIFORNIA   both"
      ]
     },
     "execution_count": 13,
     "metadata": {},
     "output_type": "execute_result"
    }
   ],
   "source": [
    "gov.head()"
   ]
  },
  {
   "cell_type": "code",
   "execution_count": 14,
   "metadata": {},
   "outputs": [],
   "source": [
    "incum = gov.loc[gov['_merge']=='left_only']"
   ]
  },
  {
   "cell_type": "code",
   "execution_count": 15,
   "metadata": {},
   "outputs": [
    {
     "data": {
      "text/html": [
       "<div>\n",
       "<style scoped>\n",
       "    .dataframe tbody tr th:only-of-type {\n",
       "        vertical-align: middle;\n",
       "    }\n",
       "\n",
       "    .dataframe tbody tr th {\n",
       "        vertical-align: top;\n",
       "    }\n",
       "\n",
       "    .dataframe thead th {\n",
       "        text-align: right;\n",
       "    }\n",
       "</style>\n",
       "<table border=\"1\" class=\"dataframe\">\n",
       "  <thead>\n",
       "    <tr style=\"text-align: right;\">\n",
       "      <th></th>\n",
       "      <th>usps_code</th>\n",
       "      <th>fips_code</th>\n",
       "      <th>state_name</th>\n",
       "      <th>_merge</th>\n",
       "    </tr>\n",
       "  </thead>\n",
       "  <tbody>\n",
       "    <tr>\n",
       "      <th>7</th>\n",
       "      <td>DE</td>\n",
       "      <td>10</td>\n",
       "      <td>DELAWARE</td>\n",
       "      <td>left_only</td>\n",
       "    </tr>\n",
       "    <tr>\n",
       "      <th>14</th>\n",
       "      <td>IN</td>\n",
       "      <td>18</td>\n",
       "      <td>INDIANA</td>\n",
       "      <td>left_only</td>\n",
       "    </tr>\n",
       "    <tr>\n",
       "      <th>16</th>\n",
       "      <td>KY</td>\n",
       "      <td>21</td>\n",
       "      <td>KENTUCKY</td>\n",
       "      <td>left_only</td>\n",
       "    </tr>\n",
       "    <tr>\n",
       "      <th>17</th>\n",
       "      <td>LA</td>\n",
       "      <td>22</td>\n",
       "      <td>LOUISIANA</td>\n",
       "      <td>left_only</td>\n",
       "    </tr>\n",
       "    <tr>\n",
       "      <th>23</th>\n",
       "      <td>MO</td>\n",
       "      <td>29</td>\n",
       "      <td>MISSOURI</td>\n",
       "      <td>left_only</td>\n",
       "    </tr>\n",
       "  </tbody>\n",
       "</table>\n",
       "</div>"
      ],
      "text/plain": [
       "   usps_code  fips_code state_name     _merge\n",
       "7         DE         10   DELAWARE  left_only\n",
       "14        IN         18    INDIANA  left_only\n",
       "16        KY         21   KENTUCKY  left_only\n",
       "17        LA         22  LOUISIANA  left_only\n",
       "23        MO         29   MISSOURI  left_only"
      ]
     },
     "execution_count": 15,
     "metadata": {},
     "output_type": "execute_result"
    }
   ],
   "source": [
    "incum.head()"
   ]
  },
  {
   "cell_type": "code",
   "execution_count": 18,
   "metadata": {},
   "outputs": [],
   "source": [
    "incum.to_csv('incumbent_governor_tocode.csv', index=False)"
   ]
  },
  {
   "cell_type": "markdown",
   "metadata": {},
   "source": [
    "As https://www.nga.org/governors/ can't be scraped, manually add face urls and saved as 'incumbent_governor_2022.csv'"
   ]
  },
  {
   "cell_type": "code",
   "execution_count": null,
   "metadata": {},
   "outputs": [],
   "source": []
  }
 ],
 "metadata": {
  "kernelspec": {
   "display_name": "Python 3",
   "language": "python",
   "name": "python3"
  },
  "language_info": {
   "codemirror_mode": {
    "name": "ipython",
    "version": 3
   },
   "file_extension": ".py",
   "mimetype": "text/x-python",
   "name": "python",
   "nbconvert_exporter": "python",
   "pygments_lexer": "ipython3",
   "version": "3.8.5"
  }
 },
 "nbformat": 4,
 "nbformat_minor": 4
}
