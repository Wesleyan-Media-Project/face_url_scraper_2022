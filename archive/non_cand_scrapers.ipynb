{
 "cells": [
  {
   "cell_type": "markdown",
   "metadata": {},
   "source": [
    "## Other scrapers"
   ]
  },
  {
   "cell_type": "code",
   "execution_count": 3,
   "metadata": {},
   "outputs": [],
   "source": [
    "import pandas as pd\n",
    "import bs4 as bs # pulling data out of HTML and XML files.\n",
    "import urllib.request # opening and reading URLs\n",
    "import re # pattern matching"
   ]
  },
  {
   "cell_type": "markdown",
   "metadata": {},
   "source": [
    "### wikipedia G20 leaders"
   ]
  },
  {
   "cell_type": "code",
   "execution_count": 4,
   "metadata": {},
   "outputs": [],
   "source": [
    "#Download the website's html\n",
    "source = urllib.request.urlopen(\"https://en.wikipedia.org/wiki/G20\").read()"
   ]
  },
  {
   "cell_type": "code",
   "execution_count": 5,
   "metadata": {},
   "outputs": [],
   "source": [
    "#Parse the html\n",
    "soup = bs.BeautifulSoup(source)"
   ]
  },
  {
   "cell_type": "code",
   "execution_count": 6,
   "metadata": {},
   "outputs": [],
   "source": [
    "urls_css = \".center p a\""
   ]
  },
  {
   "cell_type": "code",
   "execution_count": 7,
   "metadata": {},
   "outputs": [],
   "source": [
    "urls = soup.select(urls_css)"
   ]
  },
  {
   "cell_type": "code",
   "execution_count": 8,
   "metadata": {},
   "outputs": [],
   "source": [
    "l1 = urls[1:14:3]"
   ]
  },
  {
   "cell_type": "code",
   "execution_count": 9,
   "metadata": {},
   "outputs": [],
   "source": [
    "l2 = urls[17::3]"
   ]
  },
  {
   "cell_type": "code",
   "execution_count": 10,
   "metadata": {},
   "outputs": [],
   "source": [
    "leaders = l1+l2"
   ]
  },
  {
   "cell_type": "code",
   "execution_count": 11,
   "metadata": {},
   "outputs": [],
   "source": [
    "l_names = [url.text for url in leaders]"
   ]
  },
  {
   "cell_type": "code",
   "execution_count": 12,
   "metadata": {},
   "outputs": [
    {
     "data": {
      "text/plain": [
       "21"
      ]
     },
     "execution_count": 12,
     "metadata": {},
     "output_type": "execute_result"
    }
   ],
   "source": [
    "len(l_names)"
   ]
  },
  {
   "cell_type": "code",
   "execution_count": 13,
   "metadata": {},
   "outputs": [],
   "source": [
    "extracted_urls = [url[\"href\"] for url in urls]"
   ]
  },
  {
   "cell_type": "code",
   "execution_count": 14,
   "metadata": {},
   "outputs": [],
   "source": [
    "w1 = extracted_urls[1:14:3]"
   ]
  },
  {
   "cell_type": "code",
   "execution_count": 15,
   "metadata": {},
   "outputs": [],
   "source": [
    "w2 = extracted_urls[17::3]"
   ]
  },
  {
   "cell_type": "code",
   "execution_count": 16,
   "metadata": {},
   "outputs": [],
   "source": [
    "pages = w1+w2"
   ]
  },
  {
   "cell_type": "code",
   "execution_count": 17,
   "metadata": {},
   "outputs": [],
   "source": [
    "page_urls = [\"https://en.wikipedia.org/\" + url_suffix for url_suffix in pages]"
   ]
  },
  {
   "cell_type": "code",
   "execution_count": 18,
   "metadata": {},
   "outputs": [
    {
     "data": {
      "text/plain": [
       "21"
      ]
     },
     "execution_count": 18,
     "metadata": {},
     "output_type": "execute_result"
    }
   ],
   "source": [
    "len(page_urls)"
   ]
  },
  {
   "cell_type": "code",
   "execution_count": 19,
   "metadata": {},
   "outputs": [],
   "source": [
    "g20 = []\n",
    "\n",
    "for i in page_urls[:]:\n",
    "  source = urllib.request.urlopen(i).read()\n",
    "  soup = bs.BeautifulSoup(source)\n",
    "  img_css = \".infobox-image a img\"  \n",
    "  img = soup.select(img_css)\n",
    "  g20.extend(list(set([i['src'] for i in img])))"
   ]
  },
  {
   "cell_type": "code",
   "execution_count": 20,
   "metadata": {},
   "outputs": [],
   "source": [
    "g20_face_urls = [\"https:\" + url_suffix for url_suffix in g20]"
   ]
  },
  {
   "cell_type": "code",
   "execution_count": 21,
   "metadata": {},
   "outputs": [
    {
     "data": {
      "text/plain": [
       "25"
      ]
     },
     "execution_count": 21,
     "metadata": {},
     "output_type": "execute_result"
    }
   ],
   "source": [
    "len(g20_face_urls)"
   ]
  },
  {
   "cell_type": "code",
   "execution_count": 22,
   "metadata": {},
   "outputs": [],
   "source": [
    "t = pd.DataFrame(g20_face_urls)"
   ]
  },
  {
   "cell_type": "code",
   "execution_count": 23,
   "metadata": {},
   "outputs": [],
   "source": [
    "t = t.loc[t[0].str.contains(\"220px\")]"
   ]
  },
  {
   "cell_type": "code",
   "execution_count": 24,
   "metadata": {},
   "outputs": [],
   "source": [
    "l_urls = t[0].to_list()"
   ]
  },
  {
   "cell_type": "code",
   "execution_count": 25,
   "metadata": {},
   "outputs": [
    {
     "data": {
      "text/plain": [
       "23"
      ]
     },
     "execution_count": 25,
     "metadata": {},
     "output_type": "execute_result"
    }
   ],
   "source": [
    "len(l_urls)"
   ]
  },
  {
   "cell_type": "code",
   "execution_count": 26,
   "metadata": {},
   "outputs": [
    {
     "data": {
      "text/plain": [
       "'https://upload.wikimedia.org/wikipedia/commons/thumb/9/9e/Ursula_Von_der_Leyen_-_April_2022.jpg/220px-Ursula_Von_der_Leyen_-_April_2022.jpg'"
      ]
     },
     "execution_count": 26,
     "metadata": {},
     "output_type": "execute_result"
    }
   ],
   "source": [
    "l_urls.pop(-1)"
   ]
  },
  {
   "cell_type": "code",
   "execution_count": 27,
   "metadata": {},
   "outputs": [
    {
     "data": {
      "text/plain": [
       "'https://upload.wikimedia.org/wikipedia/commons/thumb/f/fb/President_of_South_Africa_MC_Ramaphosa_speaks_to_Russian_President_%2828_June_2019%29.jpg/220px-President_of_South_Africa_MC_Ramaphosa_speaks_to_Russian_President_%2828_June_2019%29.jpg'"
      ]
     },
     "execution_count": 27,
     "metadata": {},
     "output_type": "execute_result"
    }
   ],
   "source": [
    "l_urls.pop(16)"
   ]
  },
  {
   "cell_type": "code",
   "execution_count": 28,
   "metadata": {},
   "outputs": [],
   "source": [
    "g20 = pd.DataFrame()\n",
    "g20['face_name']=l_names\n",
    "g20['face_url']=l_urls"
   ]
  },
  {
   "cell_type": "code",
   "execution_count": 29,
   "metadata": {},
   "outputs": [],
   "source": [
    "g20['face_source'] = 'https://en.wikipedia.org/wiki/G20'"
   ]
  },
  {
   "cell_type": "code",
   "execution_count": 30,
   "metadata": {},
   "outputs": [
    {
     "data": {
      "text/html": [
       "<div>\n",
       "<style scoped>\n",
       "    .dataframe tbody tr th:only-of-type {\n",
       "        vertical-align: middle;\n",
       "    }\n",
       "\n",
       "    .dataframe tbody tr th {\n",
       "        vertical-align: top;\n",
       "    }\n",
       "\n",
       "    .dataframe thead th {\n",
       "        text-align: right;\n",
       "    }\n",
       "</style>\n",
       "<table border=\"1\" class=\"dataframe\">\n",
       "  <thead>\n",
       "    <tr style=\"text-align: right;\">\n",
       "      <th></th>\n",
       "      <th>face_name</th>\n",
       "      <th>face_url</th>\n",
       "      <th>face_source</th>\n",
       "    </tr>\n",
       "  </thead>\n",
       "  <tbody>\n",
       "    <tr>\n",
       "      <th>0</th>\n",
       "      <td>Alberto Fernández</td>\n",
       "      <td>https://upload.wikimedia.org/wikipedia/commons...</td>\n",
       "      <td>https://en.wikipedia.org/wiki/G20</td>\n",
       "    </tr>\n",
       "    <tr>\n",
       "      <th>1</th>\n",
       "      <td>Anthony Albanese</td>\n",
       "      <td>https://upload.wikimedia.org/wikipedia/commons...</td>\n",
       "      <td>https://en.wikipedia.org/wiki/G20</td>\n",
       "    </tr>\n",
       "    <tr>\n",
       "      <th>2</th>\n",
       "      <td>Jair Bolsonaro</td>\n",
       "      <td>https://upload.wikimedia.org/wikipedia/commons...</td>\n",
       "      <td>https://en.wikipedia.org/wiki/G20</td>\n",
       "    </tr>\n",
       "    <tr>\n",
       "      <th>3</th>\n",
       "      <td>Justin Trudeau</td>\n",
       "      <td>https://upload.wikimedia.org/wikipedia/commons...</td>\n",
       "      <td>https://en.wikipedia.org/wiki/G20</td>\n",
       "    </tr>\n",
       "    <tr>\n",
       "      <th>4</th>\n",
       "      <td>Xi Jinping</td>\n",
       "      <td>https://upload.wikimedia.org/wikipedia/commons...</td>\n",
       "      <td>https://en.wikipedia.org/wiki/G20</td>\n",
       "    </tr>\n",
       "  </tbody>\n",
       "</table>\n",
       "</div>"
      ],
      "text/plain": [
       "           face_name                                           face_url  \\\n",
       "0  Alberto Fernández  https://upload.wikimedia.org/wikipedia/commons...   \n",
       "1   Anthony Albanese  https://upload.wikimedia.org/wikipedia/commons...   \n",
       "2     Jair Bolsonaro  https://upload.wikimedia.org/wikipedia/commons...   \n",
       "3     Justin Trudeau  https://upload.wikimedia.org/wikipedia/commons...   \n",
       "4         Xi Jinping  https://upload.wikimedia.org/wikipedia/commons...   \n",
       "\n",
       "                         face_source  \n",
       "0  https://en.wikipedia.org/wiki/G20  \n",
       "1  https://en.wikipedia.org/wiki/G20  \n",
       "2  https://en.wikipedia.org/wiki/G20  \n",
       "3  https://en.wikipedia.org/wiki/G20  \n",
       "4  https://en.wikipedia.org/wiki/G20  "
      ]
     },
     "execution_count": 30,
     "metadata": {},
     "output_type": "execute_result"
    }
   ],
   "source": [
    "g20.head()"
   ]
  },
  {
   "cell_type": "code",
   "execution_count": 32,
   "metadata": {},
   "outputs": [
    {
     "data": {
      "text/plain": [
       "(21, 4)"
      ]
     },
     "execution_count": 32,
     "metadata": {},
     "output_type": "execute_result"
    }
   ],
   "source": [
    "g20.shape"
   ]
  },
  {
   "cell_type": "code",
   "execution_count": 33,
   "metadata": {},
   "outputs": [
    {
     "data": {
      "text/html": [
       "<div>\n",
       "<style scoped>\n",
       "    .dataframe tbody tr th:only-of-type {\n",
       "        vertical-align: middle;\n",
       "    }\n",
       "\n",
       "    .dataframe tbody tr th {\n",
       "        vertical-align: top;\n",
       "    }\n",
       "\n",
       "    .dataframe thead th {\n",
       "        text-align: right;\n",
       "    }\n",
       "</style>\n",
       "<table border=\"1\" class=\"dataframe\">\n",
       "  <thead>\n",
       "    <tr style=\"text-align: right;\">\n",
       "      <th></th>\n",
       "      <th>face_name</th>\n",
       "      <th>face_url</th>\n",
       "      <th>face_source</th>\n",
       "      <th>face_category</th>\n",
       "    </tr>\n",
       "  </thead>\n",
       "  <tbody>\n",
       "    <tr>\n",
       "      <th>16</th>\n",
       "      <td>Recep Tayyip Erdoğan</td>\n",
       "      <td>https://upload.wikimedia.org/wikipedia/commons...</td>\n",
       "      <td>https://en.wikipedia.org/wiki/G20</td>\n",
       "      <td>International leaders</td>\n",
       "    </tr>\n",
       "    <tr>\n",
       "      <th>17</th>\n",
       "      <td>Rishi Sunak</td>\n",
       "      <td>https://upload.wikimedia.org/wikipedia/commons...</td>\n",
       "      <td>https://en.wikipedia.org/wiki/G20</td>\n",
       "      <td>International leaders</td>\n",
       "    </tr>\n",
       "    <tr>\n",
       "      <th>18</th>\n",
       "      <td>Joe Biden</td>\n",
       "      <td>https://upload.wikimedia.org/wikipedia/commons...</td>\n",
       "      <td>https://en.wikipedia.org/wiki/G20</td>\n",
       "      <td>International leaders</td>\n",
       "    </tr>\n",
       "    <tr>\n",
       "      <th>19</th>\n",
       "      <td>Charles Michel</td>\n",
       "      <td>https://upload.wikimedia.org/wikipedia/commons...</td>\n",
       "      <td>https://en.wikipedia.org/wiki/G20</td>\n",
       "      <td>International leaders</td>\n",
       "    </tr>\n",
       "    <tr>\n",
       "      <th>20</th>\n",
       "      <td>Ursula von der Leyen</td>\n",
       "      <td>https://upload.wikimedia.org/wikipedia/commons...</td>\n",
       "      <td>https://en.wikipedia.org/wiki/G20</td>\n",
       "      <td>International leaders</td>\n",
       "    </tr>\n",
       "  </tbody>\n",
       "</table>\n",
       "</div>"
      ],
      "text/plain": [
       "               face_name                                           face_url  \\\n",
       "16  Recep Tayyip Erdoğan  https://upload.wikimedia.org/wikipedia/commons...   \n",
       "17           Rishi Sunak  https://upload.wikimedia.org/wikipedia/commons...   \n",
       "18             Joe Biden  https://upload.wikimedia.org/wikipedia/commons...   \n",
       "19        Charles Michel  https://upload.wikimedia.org/wikipedia/commons...   \n",
       "20  Ursula von der Leyen  https://upload.wikimedia.org/wikipedia/commons...   \n",
       "\n",
       "                          face_source          face_category  \n",
       "16  https://en.wikipedia.org/wiki/G20  International leaders  \n",
       "17  https://en.wikipedia.org/wiki/G20  International leaders  \n",
       "18  https://en.wikipedia.org/wiki/G20  International leaders  \n",
       "19  https://en.wikipedia.org/wiki/G20  International leaders  \n",
       "20  https://en.wikipedia.org/wiki/G20  International leaders  "
      ]
     },
     "execution_count": 33,
     "metadata": {},
     "output_type": "execute_result"
    }
   ],
   "source": [
    "g20.tail()"
   ]
  },
  {
   "cell_type": "code",
   "execution_count": 34,
   "metadata": {},
   "outputs": [],
   "source": [
    "l1 = {'face_name': 'António Guterres', 'face_url': \"https://upload.wikimedia.org/wikipedia/commons/thumb/d/d1/Ant%C3%B3nio_Guterres_2021.jpg/220px-Ant%C3%B3nio_Guterres_2021.jpg\",\n",
    "     'face_source':'wikipedia'}\n",
    "il = g20.append(l1, ignore_index = True)"
   ]
  },
  {
   "cell_type": "code",
   "execution_count": 35,
   "metadata": {},
   "outputs": [],
   "source": [
    "il['wmpid_status'] ='No'"
   ]
  },
  {
   "cell_type": "code",
   "execution_count": 36,
   "metadata": {},
   "outputs": [],
   "source": [
    "il.loc[il['face_name']=='Joe Biden', 'wmpid_status'] ='Yes'"
   ]
  },
  {
   "cell_type": "code",
   "execution_count": 37,
   "metadata": {},
   "outputs": [
    {
     "data": {
      "text/html": [
       "<div>\n",
       "<style scoped>\n",
       "    .dataframe tbody tr th:only-of-type {\n",
       "        vertical-align: middle;\n",
       "    }\n",
       "\n",
       "    .dataframe tbody tr th {\n",
       "        vertical-align: top;\n",
       "    }\n",
       "\n",
       "    .dataframe thead th {\n",
       "        text-align: right;\n",
       "    }\n",
       "</style>\n",
       "<table border=\"1\" class=\"dataframe\">\n",
       "  <thead>\n",
       "    <tr style=\"text-align: right;\">\n",
       "      <th></th>\n",
       "      <th>face_name</th>\n",
       "      <th>face_url</th>\n",
       "      <th>face_source</th>\n",
       "      <th>face_category</th>\n",
       "      <th>wmpid_status</th>\n",
       "    </tr>\n",
       "  </thead>\n",
       "  <tbody>\n",
       "    <tr>\n",
       "      <th>17</th>\n",
       "      <td>Rishi Sunak</td>\n",
       "      <td>https://upload.wikimedia.org/wikipedia/commons...</td>\n",
       "      <td>https://en.wikipedia.org/wiki/G20</td>\n",
       "      <td>International leaders</td>\n",
       "      <td>No</td>\n",
       "    </tr>\n",
       "    <tr>\n",
       "      <th>18</th>\n",
       "      <td>Joe Biden</td>\n",
       "      <td>https://upload.wikimedia.org/wikipedia/commons...</td>\n",
       "      <td>https://en.wikipedia.org/wiki/G20</td>\n",
       "      <td>International leaders</td>\n",
       "      <td>Yes</td>\n",
       "    </tr>\n",
       "    <tr>\n",
       "      <th>19</th>\n",
       "      <td>Charles Michel</td>\n",
       "      <td>https://upload.wikimedia.org/wikipedia/commons...</td>\n",
       "      <td>https://en.wikipedia.org/wiki/G20</td>\n",
       "      <td>International leaders</td>\n",
       "      <td>No</td>\n",
       "    </tr>\n",
       "    <tr>\n",
       "      <th>20</th>\n",
       "      <td>Ursula von der Leyen</td>\n",
       "      <td>https://upload.wikimedia.org/wikipedia/commons...</td>\n",
       "      <td>https://en.wikipedia.org/wiki/G20</td>\n",
       "      <td>International leaders</td>\n",
       "      <td>No</td>\n",
       "    </tr>\n",
       "    <tr>\n",
       "      <th>21</th>\n",
       "      <td>António Guterres</td>\n",
       "      <td>https://upload.wikimedia.org/wikipedia/commons...</td>\n",
       "      <td>wikipedia</td>\n",
       "      <td>NaN</td>\n",
       "      <td>No</td>\n",
       "    </tr>\n",
       "  </tbody>\n",
       "</table>\n",
       "</div>"
      ],
      "text/plain": [
       "               face_name                                           face_url  \\\n",
       "17           Rishi Sunak  https://upload.wikimedia.org/wikipedia/commons...   \n",
       "18             Joe Biden  https://upload.wikimedia.org/wikipedia/commons...   \n",
       "19        Charles Michel  https://upload.wikimedia.org/wikipedia/commons...   \n",
       "20  Ursula von der Leyen  https://upload.wikimedia.org/wikipedia/commons...   \n",
       "21      António Guterres  https://upload.wikimedia.org/wikipedia/commons...   \n",
       "\n",
       "                          face_source          face_category wmpid_status  \n",
       "17  https://en.wikipedia.org/wiki/G20  International leaders           No  \n",
       "18  https://en.wikipedia.org/wiki/G20  International leaders          Yes  \n",
       "19  https://en.wikipedia.org/wiki/G20  International leaders           No  \n",
       "20  https://en.wikipedia.org/wiki/G20  International leaders           No  \n",
       "21                          wikipedia                    NaN           No  "
      ]
     },
     "execution_count": 37,
     "metadata": {},
     "output_type": "execute_result"
    }
   ],
   "source": [
    "il.tail()"
   ]
  },
  {
   "cell_type": "code",
   "execution_count": 38,
   "metadata": {},
   "outputs": [
    {
     "data": {
      "text/html": [
       "<div>\n",
       "<style scoped>\n",
       "    .dataframe tbody tr th:only-of-type {\n",
       "        vertical-align: middle;\n",
       "    }\n",
       "\n",
       "    .dataframe tbody tr th {\n",
       "        vertical-align: top;\n",
       "    }\n",
       "\n",
       "    .dataframe thead th {\n",
       "        text-align: right;\n",
       "    }\n",
       "</style>\n",
       "<table border=\"1\" class=\"dataframe\">\n",
       "  <thead>\n",
       "    <tr style=\"text-align: right;\">\n",
       "      <th></th>\n",
       "      <th>face_name</th>\n",
       "      <th>face_url</th>\n",
       "      <th>face_source</th>\n",
       "      <th>face_category</th>\n",
       "      <th>wmpid_status</th>\n",
       "    </tr>\n",
       "  </thead>\n",
       "  <tbody>\n",
       "    <tr>\n",
       "      <th>0</th>\n",
       "      <td>Alberto Fernández</td>\n",
       "      <td>https://upload.wikimedia.org/wikipedia/commons...</td>\n",
       "      <td>https://en.wikipedia.org/wiki/G20</td>\n",
       "      <td>International leaders</td>\n",
       "      <td>No</td>\n",
       "    </tr>\n",
       "    <tr>\n",
       "      <th>1</th>\n",
       "      <td>Anthony Albanese</td>\n",
       "      <td>https://upload.wikimedia.org/wikipedia/commons...</td>\n",
       "      <td>https://en.wikipedia.org/wiki/G20</td>\n",
       "      <td>International leaders</td>\n",
       "      <td>No</td>\n",
       "    </tr>\n",
       "    <tr>\n",
       "      <th>2</th>\n",
       "      <td>Jair Bolsonaro</td>\n",
       "      <td>https://upload.wikimedia.org/wikipedia/commons...</td>\n",
       "      <td>https://en.wikipedia.org/wiki/G20</td>\n",
       "      <td>International leaders</td>\n",
       "      <td>No</td>\n",
       "    </tr>\n",
       "    <tr>\n",
       "      <th>3</th>\n",
       "      <td>Justin Trudeau</td>\n",
       "      <td>https://upload.wikimedia.org/wikipedia/commons...</td>\n",
       "      <td>https://en.wikipedia.org/wiki/G20</td>\n",
       "      <td>International leaders</td>\n",
       "      <td>No</td>\n",
       "    </tr>\n",
       "    <tr>\n",
       "      <th>4</th>\n",
       "      <td>Xi Jinping</td>\n",
       "      <td>https://upload.wikimedia.org/wikipedia/commons...</td>\n",
       "      <td>https://en.wikipedia.org/wiki/G20</td>\n",
       "      <td>International leaders</td>\n",
       "      <td>No</td>\n",
       "    </tr>\n",
       "    <tr>\n",
       "      <th>5</th>\n",
       "      <td>Emmanuel Macron</td>\n",
       "      <td>https://upload.wikimedia.org/wikipedia/commons...</td>\n",
       "      <td>https://en.wikipedia.org/wiki/G20</td>\n",
       "      <td>International leaders</td>\n",
       "      <td>No</td>\n",
       "    </tr>\n",
       "    <tr>\n",
       "      <th>6</th>\n",
       "      <td>Olaf Scholz</td>\n",
       "      <td>https://upload.wikimedia.org/wikipedia/commons...</td>\n",
       "      <td>https://en.wikipedia.org/wiki/G20</td>\n",
       "      <td>International leaders</td>\n",
       "      <td>No</td>\n",
       "    </tr>\n",
       "    <tr>\n",
       "      <th>7</th>\n",
       "      <td>Narendra Modi</td>\n",
       "      <td>https://upload.wikimedia.org/wikipedia/commons...</td>\n",
       "      <td>https://en.wikipedia.org/wiki/G20</td>\n",
       "      <td>International leaders</td>\n",
       "      <td>No</td>\n",
       "    </tr>\n",
       "    <tr>\n",
       "      <th>8</th>\n",
       "      <td>Joko Widodo</td>\n",
       "      <td>https://upload.wikimedia.org/wikipedia/commons...</td>\n",
       "      <td>https://en.wikipedia.org/wiki/G20</td>\n",
       "      <td>International leaders</td>\n",
       "      <td>No</td>\n",
       "    </tr>\n",
       "    <tr>\n",
       "      <th>9</th>\n",
       "      <td>Giorgia Meloni</td>\n",
       "      <td>https://upload.wikimedia.org/wikipedia/commons...</td>\n",
       "      <td>https://en.wikipedia.org/wiki/G20</td>\n",
       "      <td>International leaders</td>\n",
       "      <td>No</td>\n",
       "    </tr>\n",
       "    <tr>\n",
       "      <th>10</th>\n",
       "      <td>Fumio Kishida</td>\n",
       "      <td>https://upload.wikimedia.org/wikipedia/commons...</td>\n",
       "      <td>https://en.wikipedia.org/wiki/G20</td>\n",
       "      <td>International leaders</td>\n",
       "      <td>No</td>\n",
       "    </tr>\n",
       "    <tr>\n",
       "      <th>11</th>\n",
       "      <td>Andrés Manuel López Obrador</td>\n",
       "      <td>https://upload.wikimedia.org/wikipedia/commons...</td>\n",
       "      <td>https://en.wikipedia.org/wiki/G20</td>\n",
       "      <td>International leaders</td>\n",
       "      <td>No</td>\n",
       "    </tr>\n",
       "    <tr>\n",
       "      <th>12</th>\n",
       "      <td>Yoon Suk-yeol</td>\n",
       "      <td>https://upload.wikimedia.org/wikipedia/commons...</td>\n",
       "      <td>https://en.wikipedia.org/wiki/G20</td>\n",
       "      <td>International leaders</td>\n",
       "      <td>No</td>\n",
       "    </tr>\n",
       "    <tr>\n",
       "      <th>13</th>\n",
       "      <td>Vladimir Putin</td>\n",
       "      <td>https://upload.wikimedia.org/wikipedia/commons...</td>\n",
       "      <td>https://en.wikipedia.org/wiki/G20</td>\n",
       "      <td>International leaders</td>\n",
       "      <td>No</td>\n",
       "    </tr>\n",
       "    <tr>\n",
       "      <th>14</th>\n",
       "      <td>Mohammed bin Salman</td>\n",
       "      <td>https://upload.wikimedia.org/wikipedia/commons...</td>\n",
       "      <td>https://en.wikipedia.org/wiki/G20</td>\n",
       "      <td>International leaders</td>\n",
       "      <td>No</td>\n",
       "    </tr>\n",
       "    <tr>\n",
       "      <th>15</th>\n",
       "      <td>Cyril Ramaphosa</td>\n",
       "      <td>https://upload.wikimedia.org/wikipedia/commons...</td>\n",
       "      <td>https://en.wikipedia.org/wiki/G20</td>\n",
       "      <td>International leaders</td>\n",
       "      <td>No</td>\n",
       "    </tr>\n",
       "    <tr>\n",
       "      <th>16</th>\n",
       "      <td>Recep Tayyip Erdoğan</td>\n",
       "      <td>https://upload.wikimedia.org/wikipedia/commons...</td>\n",
       "      <td>https://en.wikipedia.org/wiki/G20</td>\n",
       "      <td>International leaders</td>\n",
       "      <td>No</td>\n",
       "    </tr>\n",
       "    <tr>\n",
       "      <th>17</th>\n",
       "      <td>Rishi Sunak</td>\n",
       "      <td>https://upload.wikimedia.org/wikipedia/commons...</td>\n",
       "      <td>https://en.wikipedia.org/wiki/G20</td>\n",
       "      <td>International leaders</td>\n",
       "      <td>No</td>\n",
       "    </tr>\n",
       "    <tr>\n",
       "      <th>18</th>\n",
       "      <td>Joe Biden</td>\n",
       "      <td>https://upload.wikimedia.org/wikipedia/commons...</td>\n",
       "      <td>https://en.wikipedia.org/wiki/G20</td>\n",
       "      <td>International leaders</td>\n",
       "      <td>Yes</td>\n",
       "    </tr>\n",
       "    <tr>\n",
       "      <th>19</th>\n",
       "      <td>Charles Michel</td>\n",
       "      <td>https://upload.wikimedia.org/wikipedia/commons...</td>\n",
       "      <td>https://en.wikipedia.org/wiki/G20</td>\n",
       "      <td>International leaders</td>\n",
       "      <td>No</td>\n",
       "    </tr>\n",
       "    <tr>\n",
       "      <th>20</th>\n",
       "      <td>Ursula von der Leyen</td>\n",
       "      <td>https://upload.wikimedia.org/wikipedia/commons...</td>\n",
       "      <td>https://en.wikipedia.org/wiki/G20</td>\n",
       "      <td>International leaders</td>\n",
       "      <td>No</td>\n",
       "    </tr>\n",
       "    <tr>\n",
       "      <th>21</th>\n",
       "      <td>António Guterres</td>\n",
       "      <td>https://upload.wikimedia.org/wikipedia/commons...</td>\n",
       "      <td>wikipedia</td>\n",
       "      <td>NaN</td>\n",
       "      <td>No</td>\n",
       "    </tr>\n",
       "  </tbody>\n",
       "</table>\n",
       "</div>"
      ],
      "text/plain": [
       "                      face_name  \\\n",
       "0             Alberto Fernández   \n",
       "1              Anthony Albanese   \n",
       "2                Jair Bolsonaro   \n",
       "3                Justin Trudeau   \n",
       "4                    Xi Jinping   \n",
       "5               Emmanuel Macron   \n",
       "6                   Olaf Scholz   \n",
       "7                 Narendra Modi   \n",
       "8                   Joko Widodo   \n",
       "9                Giorgia Meloni   \n",
       "10                Fumio Kishida   \n",
       "11  Andrés Manuel López Obrador   \n",
       "12                Yoon Suk-yeol   \n",
       "13               Vladimir Putin   \n",
       "14          Mohammed bin Salman   \n",
       "15              Cyril Ramaphosa   \n",
       "16         Recep Tayyip Erdoğan   \n",
       "17                  Rishi Sunak   \n",
       "18                    Joe Biden   \n",
       "19               Charles Michel   \n",
       "20         Ursula von der Leyen   \n",
       "21             António Guterres   \n",
       "\n",
       "                                             face_url  \\\n",
       "0   https://upload.wikimedia.org/wikipedia/commons...   \n",
       "1   https://upload.wikimedia.org/wikipedia/commons...   \n",
       "2   https://upload.wikimedia.org/wikipedia/commons...   \n",
       "3   https://upload.wikimedia.org/wikipedia/commons...   \n",
       "4   https://upload.wikimedia.org/wikipedia/commons...   \n",
       "5   https://upload.wikimedia.org/wikipedia/commons...   \n",
       "6   https://upload.wikimedia.org/wikipedia/commons...   \n",
       "7   https://upload.wikimedia.org/wikipedia/commons...   \n",
       "8   https://upload.wikimedia.org/wikipedia/commons...   \n",
       "9   https://upload.wikimedia.org/wikipedia/commons...   \n",
       "10  https://upload.wikimedia.org/wikipedia/commons...   \n",
       "11  https://upload.wikimedia.org/wikipedia/commons...   \n",
       "12  https://upload.wikimedia.org/wikipedia/commons...   \n",
       "13  https://upload.wikimedia.org/wikipedia/commons...   \n",
       "14  https://upload.wikimedia.org/wikipedia/commons...   \n",
       "15  https://upload.wikimedia.org/wikipedia/commons...   \n",
       "16  https://upload.wikimedia.org/wikipedia/commons...   \n",
       "17  https://upload.wikimedia.org/wikipedia/commons...   \n",
       "18  https://upload.wikimedia.org/wikipedia/commons...   \n",
       "19  https://upload.wikimedia.org/wikipedia/commons...   \n",
       "20  https://upload.wikimedia.org/wikipedia/commons...   \n",
       "21  https://upload.wikimedia.org/wikipedia/commons...   \n",
       "\n",
       "                          face_source          face_category wmpid_status  \n",
       "0   https://en.wikipedia.org/wiki/G20  International leaders           No  \n",
       "1   https://en.wikipedia.org/wiki/G20  International leaders           No  \n",
       "2   https://en.wikipedia.org/wiki/G20  International leaders           No  \n",
       "3   https://en.wikipedia.org/wiki/G20  International leaders           No  \n",
       "4   https://en.wikipedia.org/wiki/G20  International leaders           No  \n",
       "5   https://en.wikipedia.org/wiki/G20  International leaders           No  \n",
       "6   https://en.wikipedia.org/wiki/G20  International leaders           No  \n",
       "7   https://en.wikipedia.org/wiki/G20  International leaders           No  \n",
       "8   https://en.wikipedia.org/wiki/G20  International leaders           No  \n",
       "9   https://en.wikipedia.org/wiki/G20  International leaders           No  \n",
       "10  https://en.wikipedia.org/wiki/G20  International leaders           No  \n",
       "11  https://en.wikipedia.org/wiki/G20  International leaders           No  \n",
       "12  https://en.wikipedia.org/wiki/G20  International leaders           No  \n",
       "13  https://en.wikipedia.org/wiki/G20  International leaders           No  \n",
       "14  https://en.wikipedia.org/wiki/G20  International leaders           No  \n",
       "15  https://en.wikipedia.org/wiki/G20  International leaders           No  \n",
       "16  https://en.wikipedia.org/wiki/G20  International leaders           No  \n",
       "17  https://en.wikipedia.org/wiki/G20  International leaders           No  \n",
       "18  https://en.wikipedia.org/wiki/G20  International leaders          Yes  \n",
       "19  https://en.wikipedia.org/wiki/G20  International leaders           No  \n",
       "20  https://en.wikipedia.org/wiki/G20  International leaders           No  \n",
       "21                          wikipedia                    NaN           No  "
      ]
     },
     "execution_count": 38,
     "metadata": {},
     "output_type": "execute_result"
    }
   ],
   "source": [
    "il"
   ]
  },
  {
   "cell_type": "code",
   "execution_count": 114,
   "metadata": {},
   "outputs": [],
   "source": [
    "il['face_category']  = 'international leaders'"
   ]
  },
  {
   "cell_type": "markdown",
   "metadata": {},
   "source": [
    "### Former presidents"
   ]
  },
  {
   "cell_type": "code",
   "execution_count": 39,
   "metadata": {},
   "outputs": [],
   "source": [
    "#Download the website's html\n",
    "source = urllib.request.urlopen(\"https://www.whitehouse.gov/about-the-white-house/presidents/\").read()"
   ]
  },
  {
   "cell_type": "code",
   "execution_count": 40,
   "metadata": {},
   "outputs": [],
   "source": [
    "#Parse the html\n",
    "soup = bs.BeautifulSoup(source)"
   ]
  },
  {
   "cell_type": "code",
   "execution_count": 41,
   "metadata": {},
   "outputs": [],
   "source": [
    "urls_css = \".full-link\""
   ]
  },
  {
   "cell_type": "code",
   "execution_count": 42,
   "metadata": {},
   "outputs": [],
   "source": [
    "urls = soup.select(urls_css)"
   ]
  },
  {
   "cell_type": "code",
   "execution_count": 43,
   "metadata": {},
   "outputs": [],
   "source": [
    "extracted_names = [url.text for url in urls]"
   ]
  },
  {
   "cell_type": "code",
   "execution_count": 44,
   "metadata": {},
   "outputs": [],
   "source": [
    "names = []\n",
    "for sub in extracted_names:\n",
    "    names.append(sub.replace(\"\\n\", \"\").replace(\"\\t\", \"\")), "
   ]
  },
  {
   "cell_type": "code",
   "execution_count": 45,
   "metadata": {},
   "outputs": [],
   "source": [
    "extracted_urls = [url[\"href\"] for url in urls]"
   ]
  },
  {
   "cell_type": "code",
   "execution_count": 46,
   "metadata": {},
   "outputs": [],
   "source": [
    "images = []\n",
    "\n",
    "for i in extracted_urls:\n",
    "  source = urllib.request.urlopen(i).read()\n",
    "  soup = bs.BeautifulSoup(source)\n",
    "  img_css = \".wp-post-image\"  \n",
    "  img = soup.select(img_css)\n",
    "  images.extend(list(set([i['src'] for i in img])))"
   ]
  },
  {
   "cell_type": "code",
   "execution_count": 47,
   "metadata": {},
   "outputs": [],
   "source": [
    "fp = pd.DataFrame(columns=('face_name', 'face_url'))"
   ]
  },
  {
   "cell_type": "code",
   "execution_count": 48,
   "metadata": {},
   "outputs": [],
   "source": [
    "fp['face_name']=names"
   ]
  },
  {
   "cell_type": "code",
   "execution_count": 49,
   "metadata": {},
   "outputs": [],
   "source": [
    "fp['face_url']=images"
   ]
  },
  {
   "cell_type": "code",
   "execution_count": 50,
   "metadata": {},
   "outputs": [],
   "source": [
    "fp['face_source'] = 'https://www.whitehouse.gov/about-the-white-house/presidents/'"
   ]
  },
  {
   "cell_type": "code",
   "execution_count": 51,
   "metadata": {},
   "outputs": [
    {
     "data": {
      "text/html": [
       "<div>\n",
       "<style scoped>\n",
       "    .dataframe tbody tr th:only-of-type {\n",
       "        vertical-align: middle;\n",
       "    }\n",
       "\n",
       "    .dataframe tbody tr th {\n",
       "        vertical-align: top;\n",
       "    }\n",
       "\n",
       "    .dataframe thead th {\n",
       "        text-align: right;\n",
       "    }\n",
       "</style>\n",
       "<table border=\"1\" class=\"dataframe\">\n",
       "  <thead>\n",
       "    <tr style=\"text-align: right;\">\n",
       "      <th></th>\n",
       "      <th>face_name</th>\n",
       "      <th>face_url</th>\n",
       "      <th>face_source</th>\n",
       "    </tr>\n",
       "  </thead>\n",
       "  <tbody>\n",
       "    <tr>\n",
       "      <th>0</th>\n",
       "      <td>George Washington</td>\n",
       "      <td>https://www.whitehouse.gov/wp-content/uploads/...</td>\n",
       "      <td>https://www.whitehouse.gov/about-the-white-hou...</td>\n",
       "    </tr>\n",
       "    <tr>\n",
       "      <th>1</th>\n",
       "      <td>John Adams</td>\n",
       "      <td>https://www.whitehouse.gov/wp-content/uploads/...</td>\n",
       "      <td>https://www.whitehouse.gov/about-the-white-hou...</td>\n",
       "    </tr>\n",
       "    <tr>\n",
       "      <th>2</th>\n",
       "      <td>Thomas Jefferson</td>\n",
       "      <td>https://www.whitehouse.gov/wp-content/uploads/...</td>\n",
       "      <td>https://www.whitehouse.gov/about-the-white-hou...</td>\n",
       "    </tr>\n",
       "    <tr>\n",
       "      <th>3</th>\n",
       "      <td>James Madison</td>\n",
       "      <td>https://www.whitehouse.gov/wp-content/uploads/...</td>\n",
       "      <td>https://www.whitehouse.gov/about-the-white-hou...</td>\n",
       "    </tr>\n",
       "    <tr>\n",
       "      <th>4</th>\n",
       "      <td>James Monroe</td>\n",
       "      <td>https://www.whitehouse.gov/wp-content/uploads/...</td>\n",
       "      <td>https://www.whitehouse.gov/about-the-white-hou...</td>\n",
       "    </tr>\n",
       "    <tr>\n",
       "      <th>5</th>\n",
       "      <td>John Quincy Adams</td>\n",
       "      <td>https://www.whitehouse.gov/wp-content/uploads/...</td>\n",
       "      <td>https://www.whitehouse.gov/about-the-white-hou...</td>\n",
       "    </tr>\n",
       "    <tr>\n",
       "      <th>6</th>\n",
       "      <td>Andrew Jackson</td>\n",
       "      <td>https://www.whitehouse.gov/wp-content/uploads/...</td>\n",
       "      <td>https://www.whitehouse.gov/about-the-white-hou...</td>\n",
       "    </tr>\n",
       "    <tr>\n",
       "      <th>7</th>\n",
       "      <td>Martin Van Buren</td>\n",
       "      <td>https://www.whitehouse.gov/wp-content/uploads/...</td>\n",
       "      <td>https://www.whitehouse.gov/about-the-white-hou...</td>\n",
       "    </tr>\n",
       "    <tr>\n",
       "      <th>8</th>\n",
       "      <td>William Henry Harrison</td>\n",
       "      <td>https://www.whitehouse.gov/wp-content/uploads/...</td>\n",
       "      <td>https://www.whitehouse.gov/about-the-white-hou...</td>\n",
       "    </tr>\n",
       "    <tr>\n",
       "      <th>9</th>\n",
       "      <td>John Tyler</td>\n",
       "      <td>https://www.whitehouse.gov/wp-content/uploads/...</td>\n",
       "      <td>https://www.whitehouse.gov/about-the-white-hou...</td>\n",
       "    </tr>\n",
       "    <tr>\n",
       "      <th>10</th>\n",
       "      <td>James K. Polk</td>\n",
       "      <td>https://www.whitehouse.gov/wp-content/uploads/...</td>\n",
       "      <td>https://www.whitehouse.gov/about-the-white-hou...</td>\n",
       "    </tr>\n",
       "    <tr>\n",
       "      <th>11</th>\n",
       "      <td>Zachary Taylor</td>\n",
       "      <td>https://www.whitehouse.gov/wp-content/uploads/...</td>\n",
       "      <td>https://www.whitehouse.gov/about-the-white-hou...</td>\n",
       "    </tr>\n",
       "    <tr>\n",
       "      <th>12</th>\n",
       "      <td>Millard Fillmore</td>\n",
       "      <td>https://www.whitehouse.gov/wp-content/uploads/...</td>\n",
       "      <td>https://www.whitehouse.gov/about-the-white-hou...</td>\n",
       "    </tr>\n",
       "    <tr>\n",
       "      <th>13</th>\n",
       "      <td>Franklin Pierce</td>\n",
       "      <td>https://www.whitehouse.gov/wp-content/uploads/...</td>\n",
       "      <td>https://www.whitehouse.gov/about-the-white-hou...</td>\n",
       "    </tr>\n",
       "    <tr>\n",
       "      <th>14</th>\n",
       "      <td>James Buchanan</td>\n",
       "      <td>https://www.whitehouse.gov/wp-content/uploads/...</td>\n",
       "      <td>https://www.whitehouse.gov/about-the-white-hou...</td>\n",
       "    </tr>\n",
       "    <tr>\n",
       "      <th>15</th>\n",
       "      <td>Abraham Lincoln</td>\n",
       "      <td>https://www.whitehouse.gov/wp-content/uploads/...</td>\n",
       "      <td>https://www.whitehouse.gov/about-the-white-hou...</td>\n",
       "    </tr>\n",
       "    <tr>\n",
       "      <th>16</th>\n",
       "      <td>Andrew Johnson</td>\n",
       "      <td>https://www.whitehouse.gov/wp-content/uploads/...</td>\n",
       "      <td>https://www.whitehouse.gov/about-the-white-hou...</td>\n",
       "    </tr>\n",
       "    <tr>\n",
       "      <th>17</th>\n",
       "      <td>Ulysses S. Grant</td>\n",
       "      <td>https://www.whitehouse.gov/wp-content/uploads/...</td>\n",
       "      <td>https://www.whitehouse.gov/about-the-white-hou...</td>\n",
       "    </tr>\n",
       "    <tr>\n",
       "      <th>18</th>\n",
       "      <td>Rutherford B. Hayes</td>\n",
       "      <td>https://www.whitehouse.gov/wp-content/uploads/...</td>\n",
       "      <td>https://www.whitehouse.gov/about-the-white-hou...</td>\n",
       "    </tr>\n",
       "    <tr>\n",
       "      <th>19</th>\n",
       "      <td>James Garfield</td>\n",
       "      <td>https://www.whitehouse.gov/wp-content/uploads/...</td>\n",
       "      <td>https://www.whitehouse.gov/about-the-white-hou...</td>\n",
       "    </tr>\n",
       "    <tr>\n",
       "      <th>20</th>\n",
       "      <td>Chester A. Arthur</td>\n",
       "      <td>https://www.whitehouse.gov/wp-content/uploads/...</td>\n",
       "      <td>https://www.whitehouse.gov/about-the-white-hou...</td>\n",
       "    </tr>\n",
       "    <tr>\n",
       "      <th>21</th>\n",
       "      <td>Grover Cleveland</td>\n",
       "      <td>https://www.whitehouse.gov/wp-content/uploads/...</td>\n",
       "      <td>https://www.whitehouse.gov/about-the-white-hou...</td>\n",
       "    </tr>\n",
       "    <tr>\n",
       "      <th>22</th>\n",
       "      <td>Benjamin Harrison</td>\n",
       "      <td>https://www.whitehouse.gov/wp-content/uploads/...</td>\n",
       "      <td>https://www.whitehouse.gov/about-the-white-hou...</td>\n",
       "    </tr>\n",
       "    <tr>\n",
       "      <th>23</th>\n",
       "      <td>Grover Cleveland</td>\n",
       "      <td>https://www.whitehouse.gov/wp-content/uploads/...</td>\n",
       "      <td>https://www.whitehouse.gov/about-the-white-hou...</td>\n",
       "    </tr>\n",
       "    <tr>\n",
       "      <th>24</th>\n",
       "      <td>William McKinley</td>\n",
       "      <td>https://www.whitehouse.gov/wp-content/uploads/...</td>\n",
       "      <td>https://www.whitehouse.gov/about-the-white-hou...</td>\n",
       "    </tr>\n",
       "    <tr>\n",
       "      <th>25</th>\n",
       "      <td>Theodore Roosevelt</td>\n",
       "      <td>https://www.whitehouse.gov/wp-content/uploads/...</td>\n",
       "      <td>https://www.whitehouse.gov/about-the-white-hou...</td>\n",
       "    </tr>\n",
       "    <tr>\n",
       "      <th>26</th>\n",
       "      <td>William Howard Taft</td>\n",
       "      <td>https://www.whitehouse.gov/wp-content/uploads/...</td>\n",
       "      <td>https://www.whitehouse.gov/about-the-white-hou...</td>\n",
       "    </tr>\n",
       "    <tr>\n",
       "      <th>27</th>\n",
       "      <td>Woodrow Wilson</td>\n",
       "      <td>https://www.whitehouse.gov/wp-content/uploads/...</td>\n",
       "      <td>https://www.whitehouse.gov/about-the-white-hou...</td>\n",
       "    </tr>\n",
       "    <tr>\n",
       "      <th>28</th>\n",
       "      <td>Warren G. Harding</td>\n",
       "      <td>https://www.whitehouse.gov/wp-content/uploads/...</td>\n",
       "      <td>https://www.whitehouse.gov/about-the-white-hou...</td>\n",
       "    </tr>\n",
       "    <tr>\n",
       "      <th>29</th>\n",
       "      <td>Calvin Coolidge</td>\n",
       "      <td>https://www.whitehouse.gov/wp-content/uploads/...</td>\n",
       "      <td>https://www.whitehouse.gov/about-the-white-hou...</td>\n",
       "    </tr>\n",
       "    <tr>\n",
       "      <th>30</th>\n",
       "      <td>Herbert Hoover</td>\n",
       "      <td>https://www.whitehouse.gov/wp-content/uploads/...</td>\n",
       "      <td>https://www.whitehouse.gov/about-the-white-hou...</td>\n",
       "    </tr>\n",
       "    <tr>\n",
       "      <th>31</th>\n",
       "      <td>Franklin D. Roosevelt</td>\n",
       "      <td>https://www.whitehouse.gov/wp-content/uploads/...</td>\n",
       "      <td>https://www.whitehouse.gov/about-the-white-hou...</td>\n",
       "    </tr>\n",
       "    <tr>\n",
       "      <th>32</th>\n",
       "      <td>Harry S. Truman</td>\n",
       "      <td>https://www.whitehouse.gov/wp-content/uploads/...</td>\n",
       "      <td>https://www.whitehouse.gov/about-the-white-hou...</td>\n",
       "    </tr>\n",
       "    <tr>\n",
       "      <th>33</th>\n",
       "      <td>Dwight D. Eisenhower</td>\n",
       "      <td>https://www.whitehouse.gov/wp-content/uploads/...</td>\n",
       "      <td>https://www.whitehouse.gov/about-the-white-hou...</td>\n",
       "    </tr>\n",
       "    <tr>\n",
       "      <th>34</th>\n",
       "      <td>John F. Kennedy</td>\n",
       "      <td>https://www.whitehouse.gov/wp-content/uploads/...</td>\n",
       "      <td>https://www.whitehouse.gov/about-the-white-hou...</td>\n",
       "    </tr>\n",
       "    <tr>\n",
       "      <th>35</th>\n",
       "      <td>Lyndon B. Johnson</td>\n",
       "      <td>https://www.whitehouse.gov/wp-content/uploads/...</td>\n",
       "      <td>https://www.whitehouse.gov/about-the-white-hou...</td>\n",
       "    </tr>\n",
       "    <tr>\n",
       "      <th>36</th>\n",
       "      <td>Richard M. Nixon</td>\n",
       "      <td>https://www.whitehouse.gov/wp-content/uploads/...</td>\n",
       "      <td>https://www.whitehouse.gov/about-the-white-hou...</td>\n",
       "    </tr>\n",
       "    <tr>\n",
       "      <th>37</th>\n",
       "      <td>Gerald R. Ford</td>\n",
       "      <td>https://www.whitehouse.gov/wp-content/uploads/...</td>\n",
       "      <td>https://www.whitehouse.gov/about-the-white-hou...</td>\n",
       "    </tr>\n",
       "    <tr>\n",
       "      <th>38</th>\n",
       "      <td>James Carter</td>\n",
       "      <td>https://www.whitehouse.gov/wp-content/uploads/...</td>\n",
       "      <td>https://www.whitehouse.gov/about-the-white-hou...</td>\n",
       "    </tr>\n",
       "    <tr>\n",
       "      <th>39</th>\n",
       "      <td>Ronald Reagan</td>\n",
       "      <td>https://www.whitehouse.gov/wp-content/uploads/...</td>\n",
       "      <td>https://www.whitehouse.gov/about-the-white-hou...</td>\n",
       "    </tr>\n",
       "    <tr>\n",
       "      <th>40</th>\n",
       "      <td>George H. W. Bush</td>\n",
       "      <td>https://www.whitehouse.gov/wp-content/uploads/...</td>\n",
       "      <td>https://www.whitehouse.gov/about-the-white-hou...</td>\n",
       "    </tr>\n",
       "    <tr>\n",
       "      <th>41</th>\n",
       "      <td>William J. Clinton</td>\n",
       "      <td>https://www.whitehouse.gov/wp-content/uploads/...</td>\n",
       "      <td>https://www.whitehouse.gov/about-the-white-hou...</td>\n",
       "    </tr>\n",
       "    <tr>\n",
       "      <th>42</th>\n",
       "      <td>George W. Bush</td>\n",
       "      <td>https://www.whitehouse.gov/wp-content/uploads/...</td>\n",
       "      <td>https://www.whitehouse.gov/about-the-white-hou...</td>\n",
       "    </tr>\n",
       "    <tr>\n",
       "      <th>43</th>\n",
       "      <td>Barack Obama</td>\n",
       "      <td>https://www.whitehouse.gov/wp-content/uploads/...</td>\n",
       "      <td>https://www.whitehouse.gov/about-the-white-hou...</td>\n",
       "    </tr>\n",
       "    <tr>\n",
       "      <th>44</th>\n",
       "      <td>Donald Trump</td>\n",
       "      <td>https://www.whitehouse.gov/wp-content/uploads/...</td>\n",
       "      <td>https://www.whitehouse.gov/about-the-white-hou...</td>\n",
       "    </tr>\n",
       "    <tr>\n",
       "      <th>45</th>\n",
       "      <td>Joseph R. Biden Jr.</td>\n",
       "      <td>https://www.whitehouse.gov/wp-content/uploads/...</td>\n",
       "      <td>https://www.whitehouse.gov/about-the-white-hou...</td>\n",
       "    </tr>\n",
       "  </tbody>\n",
       "</table>\n",
       "</div>"
      ],
      "text/plain": [
       "                 face_name                                           face_url  \\\n",
       "0        George Washington  https://www.whitehouse.gov/wp-content/uploads/...   \n",
       "1               John Adams  https://www.whitehouse.gov/wp-content/uploads/...   \n",
       "2         Thomas Jefferson  https://www.whitehouse.gov/wp-content/uploads/...   \n",
       "3            James Madison  https://www.whitehouse.gov/wp-content/uploads/...   \n",
       "4             James Monroe  https://www.whitehouse.gov/wp-content/uploads/...   \n",
       "5        John Quincy Adams  https://www.whitehouse.gov/wp-content/uploads/...   \n",
       "6           Andrew Jackson  https://www.whitehouse.gov/wp-content/uploads/...   \n",
       "7         Martin Van Buren  https://www.whitehouse.gov/wp-content/uploads/...   \n",
       "8   William Henry Harrison  https://www.whitehouse.gov/wp-content/uploads/...   \n",
       "9               John Tyler  https://www.whitehouse.gov/wp-content/uploads/...   \n",
       "10           James K. Polk  https://www.whitehouse.gov/wp-content/uploads/...   \n",
       "11          Zachary Taylor  https://www.whitehouse.gov/wp-content/uploads/...   \n",
       "12        Millard Fillmore  https://www.whitehouse.gov/wp-content/uploads/...   \n",
       "13         Franklin Pierce  https://www.whitehouse.gov/wp-content/uploads/...   \n",
       "14          James Buchanan  https://www.whitehouse.gov/wp-content/uploads/...   \n",
       "15         Abraham Lincoln  https://www.whitehouse.gov/wp-content/uploads/...   \n",
       "16          Andrew Johnson  https://www.whitehouse.gov/wp-content/uploads/...   \n",
       "17        Ulysses S. Grant  https://www.whitehouse.gov/wp-content/uploads/...   \n",
       "18     Rutherford B. Hayes  https://www.whitehouse.gov/wp-content/uploads/...   \n",
       "19          James Garfield  https://www.whitehouse.gov/wp-content/uploads/...   \n",
       "20       Chester A. Arthur  https://www.whitehouse.gov/wp-content/uploads/...   \n",
       "21        Grover Cleveland  https://www.whitehouse.gov/wp-content/uploads/...   \n",
       "22       Benjamin Harrison  https://www.whitehouse.gov/wp-content/uploads/...   \n",
       "23        Grover Cleveland  https://www.whitehouse.gov/wp-content/uploads/...   \n",
       "24        William McKinley  https://www.whitehouse.gov/wp-content/uploads/...   \n",
       "25      Theodore Roosevelt  https://www.whitehouse.gov/wp-content/uploads/...   \n",
       "26     William Howard Taft  https://www.whitehouse.gov/wp-content/uploads/...   \n",
       "27          Woodrow Wilson  https://www.whitehouse.gov/wp-content/uploads/...   \n",
       "28       Warren G. Harding  https://www.whitehouse.gov/wp-content/uploads/...   \n",
       "29         Calvin Coolidge  https://www.whitehouse.gov/wp-content/uploads/...   \n",
       "30          Herbert Hoover  https://www.whitehouse.gov/wp-content/uploads/...   \n",
       "31   Franklin D. Roosevelt  https://www.whitehouse.gov/wp-content/uploads/...   \n",
       "32         Harry S. Truman  https://www.whitehouse.gov/wp-content/uploads/...   \n",
       "33    Dwight D. Eisenhower  https://www.whitehouse.gov/wp-content/uploads/...   \n",
       "34         John F. Kennedy  https://www.whitehouse.gov/wp-content/uploads/...   \n",
       "35       Lyndon B. Johnson  https://www.whitehouse.gov/wp-content/uploads/...   \n",
       "36        Richard M. Nixon  https://www.whitehouse.gov/wp-content/uploads/...   \n",
       "37          Gerald R. Ford  https://www.whitehouse.gov/wp-content/uploads/...   \n",
       "38            James Carter  https://www.whitehouse.gov/wp-content/uploads/...   \n",
       "39           Ronald Reagan  https://www.whitehouse.gov/wp-content/uploads/...   \n",
       "40       George H. W. Bush  https://www.whitehouse.gov/wp-content/uploads/...   \n",
       "41      William J. Clinton  https://www.whitehouse.gov/wp-content/uploads/...   \n",
       "42          George W. Bush  https://www.whitehouse.gov/wp-content/uploads/...   \n",
       "43            Barack Obama  https://www.whitehouse.gov/wp-content/uploads/...   \n",
       "44            Donald Trump  https://www.whitehouse.gov/wp-content/uploads/...   \n",
       "45     Joseph R. Biden Jr.  https://www.whitehouse.gov/wp-content/uploads/...   \n",
       "\n",
       "                                          face_source  \n",
       "0   https://www.whitehouse.gov/about-the-white-hou...  \n",
       "1   https://www.whitehouse.gov/about-the-white-hou...  \n",
       "2   https://www.whitehouse.gov/about-the-white-hou...  \n",
       "3   https://www.whitehouse.gov/about-the-white-hou...  \n",
       "4   https://www.whitehouse.gov/about-the-white-hou...  \n",
       "5   https://www.whitehouse.gov/about-the-white-hou...  \n",
       "6   https://www.whitehouse.gov/about-the-white-hou...  \n",
       "7   https://www.whitehouse.gov/about-the-white-hou...  \n",
       "8   https://www.whitehouse.gov/about-the-white-hou...  \n",
       "9   https://www.whitehouse.gov/about-the-white-hou...  \n",
       "10  https://www.whitehouse.gov/about-the-white-hou...  \n",
       "11  https://www.whitehouse.gov/about-the-white-hou...  \n",
       "12  https://www.whitehouse.gov/about-the-white-hou...  \n",
       "13  https://www.whitehouse.gov/about-the-white-hou...  \n",
       "14  https://www.whitehouse.gov/about-the-white-hou...  \n",
       "15  https://www.whitehouse.gov/about-the-white-hou...  \n",
       "16  https://www.whitehouse.gov/about-the-white-hou...  \n",
       "17  https://www.whitehouse.gov/about-the-white-hou...  \n",
       "18  https://www.whitehouse.gov/about-the-white-hou...  \n",
       "19  https://www.whitehouse.gov/about-the-white-hou...  \n",
       "20  https://www.whitehouse.gov/about-the-white-hou...  \n",
       "21  https://www.whitehouse.gov/about-the-white-hou...  \n",
       "22  https://www.whitehouse.gov/about-the-white-hou...  \n",
       "23  https://www.whitehouse.gov/about-the-white-hou...  \n",
       "24  https://www.whitehouse.gov/about-the-white-hou...  \n",
       "25  https://www.whitehouse.gov/about-the-white-hou...  \n",
       "26  https://www.whitehouse.gov/about-the-white-hou...  \n",
       "27  https://www.whitehouse.gov/about-the-white-hou...  \n",
       "28  https://www.whitehouse.gov/about-the-white-hou...  \n",
       "29  https://www.whitehouse.gov/about-the-white-hou...  \n",
       "30  https://www.whitehouse.gov/about-the-white-hou...  \n",
       "31  https://www.whitehouse.gov/about-the-white-hou...  \n",
       "32  https://www.whitehouse.gov/about-the-white-hou...  \n",
       "33  https://www.whitehouse.gov/about-the-white-hou...  \n",
       "34  https://www.whitehouse.gov/about-the-white-hou...  \n",
       "35  https://www.whitehouse.gov/about-the-white-hou...  \n",
       "36  https://www.whitehouse.gov/about-the-white-hou...  \n",
       "37  https://www.whitehouse.gov/about-the-white-hou...  \n",
       "38  https://www.whitehouse.gov/about-the-white-hou...  \n",
       "39  https://www.whitehouse.gov/about-the-white-hou...  \n",
       "40  https://www.whitehouse.gov/about-the-white-hou...  \n",
       "41  https://www.whitehouse.gov/about-the-white-hou...  \n",
       "42  https://www.whitehouse.gov/about-the-white-hou...  \n",
       "43  https://www.whitehouse.gov/about-the-white-hou...  \n",
       "44  https://www.whitehouse.gov/about-the-white-hou...  \n",
       "45  https://www.whitehouse.gov/about-the-white-hou...  "
      ]
     },
     "execution_count": 51,
     "metadata": {},
     "output_type": "execute_result"
    }
   ],
   "source": [
    "fp"
   ]
  },
  {
   "cell_type": "code",
   "execution_count": 52,
   "metadata": {},
   "outputs": [],
   "source": [
    "fp['wmpid_status'] ='No'"
   ]
  },
  {
   "cell_type": "code",
   "execution_count": 53,
   "metadata": {},
   "outputs": [],
   "source": [
    "fp.loc[fp['face_name']=='William J. Clinton', 'wmpid_status'] ='Yes'\n",
    "fp.loc[fp['face_name']=='George W. Bush', 'wmpid_status'] ='Yes'\n",
    "fp.loc[fp['face_name']=='Ronald Reagan', 'wmpid_status'] ='Yes'\n",
    "fp.loc[fp['face_name']=='Barack Obama', 'wmpid_status'] ='Yes'\n",
    "fp.loc[fp['face_name']=='Donald Trump', 'wmpid_status'] ='Yes'\n",
    "fp.loc[fp['face_name']=='Joseph R. Biden Jr.', 'wmpid_status'] ='Yes'"
   ]
  },
  {
   "cell_type": "code",
   "execution_count": 54,
   "metadata": {},
   "outputs": [
    {
     "data": {
      "text/plain": [
       "No     40\n",
       "Yes     6\n",
       "Name: wmpid_status, dtype: int64"
      ]
     },
     "execution_count": 54,
     "metadata": {},
     "output_type": "execute_result"
    }
   ],
   "source": [
    "fp.wmpid_status.value_counts()"
   ]
  },
  {
   "cell_type": "code",
   "execution_count": 113,
   "metadata": {},
   "outputs": [],
   "source": [
    "fp['face_category']='former presidents'"
   ]
  },
  {
   "cell_type": "markdown",
   "metadata": {},
   "source": [
    "### Supreme Court Justices"
   ]
  },
  {
   "cell_type": "markdown",
   "metadata": {},
   "source": [
    "All justices who took judicial oath after 1980"
   ]
  },
  {
   "cell_type": "code",
   "execution_count": 55,
   "metadata": {},
   "outputs": [],
   "source": [
    "#Download the website's html\n",
    "source = urllib.request.urlopen(\"https://www.supremecourt.gov/about/biographies.aspx\").read()"
   ]
  },
  {
   "cell_type": "code",
   "execution_count": 56,
   "metadata": {},
   "outputs": [],
   "source": [
    "#Parse the html\n",
    "soup = bs.BeautifulSoup(source)"
   ]
  },
  {
   "cell_type": "code",
   "execution_count": 57,
   "metadata": {},
   "outputs": [],
   "source": [
    "urls_css = \".media-object\""
   ]
  },
  {
   "cell_type": "code",
   "execution_count": 58,
   "metadata": {},
   "outputs": [],
   "source": [
    "urls = soup.select(urls_css)"
   ]
  },
  {
   "cell_type": "code",
   "execution_count": 59,
   "metadata": {},
   "outputs": [],
   "source": [
    "names = [url[\"alt\"] for url in urls]"
   ]
  },
  {
   "cell_type": "code",
   "execution_count": 60,
   "metadata": {},
   "outputs": [
    {
     "data": {
      "text/plain": [
       "13"
      ]
     },
     "execution_count": 60,
     "metadata": {},
     "output_type": "execute_result"
    }
   ],
   "source": [
    "len(names)"
   ]
  },
  {
   "cell_type": "code",
   "execution_count": 61,
   "metadata": {},
   "outputs": [],
   "source": [
    "urls = [url[\"src\"] for url in urls]"
   ]
  },
  {
   "cell_type": "code",
   "execution_count": 62,
   "metadata": {},
   "outputs": [],
   "source": [
    "urls = [\"https://www.supremecourt.gov/about/\" + url_suffix for url_suffix in urls]"
   ]
  },
  {
   "cell_type": "code",
   "execution_count": 63,
   "metadata": {},
   "outputs": [
    {
     "data": {
      "text/plain": [
       "13"
      ]
     },
     "execution_count": 63,
     "metadata": {},
     "output_type": "execute_result"
    }
   ],
   "source": [
    "len(urls)"
   ]
  },
  {
   "cell_type": "code",
   "execution_count": 64,
   "metadata": {},
   "outputs": [],
   "source": [
    "s = pd.DataFrame()\n",
    "s['face_name'] = names\n",
    "s['face_url']=urls"
   ]
  },
  {
   "cell_type": "code",
   "execution_count": 65,
   "metadata": {},
   "outputs": [],
   "source": [
    "n = s['face_name'].str.split(pat = ',', expand = True)"
   ]
  },
  {
   "cell_type": "code",
   "execution_count": 67,
   "metadata": {},
   "outputs": [],
   "source": [
    "s['face_name'] = n[0]"
   ]
  },
  {
   "cell_type": "code",
   "execution_count": 68,
   "metadata": {},
   "outputs": [],
   "source": [
    "s2 = {'face_name': 'Ruth Bader Ginsburg', 'face_url': \"https://www.supremecourt.gov/about/justice_pictures/Official_Justice_Ginsburg_sm.jpg\"}\n",
    "s = s.append(s2, ignore_index = True)"
   ]
  },
  {
   "cell_type": "code",
   "execution_count": 69,
   "metadata": {},
   "outputs": [],
   "source": [
    "s['face_source']='https://www.supremecourt.gov/about/justices.aspx'"
   ]
  },
  {
   "cell_type": "code",
   "execution_count": 70,
   "metadata": {},
   "outputs": [],
   "source": [
    "s3 = {'face_name': 'William Rehnquist', \n",
    "      'face_url':'https://upload.wikimedia.org/wikipedia/commons/thumb/3/31/William_Rehnquist.jpg/220px-William_Rehnquist.jpg',\n",
    "    'face_source': 'wikipedia'}\n",
    "s = s.append(s3, ignore_index = True)"
   ]
  },
  {
   "cell_type": "code",
   "execution_count": 71,
   "metadata": {},
   "outputs": [],
   "source": [
    "s4 = {'face_name': 'Antonin Scalia', \n",
    "      'face_url': \"https://upload.wikimedia.org/wikipedia/commons/thumb/c/c5/Antonin_Scalia_Official_SCOTUS_Portrait.jpg/220px-Antonin_Scalia_Official_SCOTUS_Portrait.jpg\",\n",
    "     'face_source': 'wikipedia'}\n",
    "s = s.append(s4, ignore_index = True)"
   ]
  },
  {
   "cell_type": "code",
   "execution_count": 72,
   "metadata": {},
   "outputs": [
    {
     "data": {
      "text/plain": [
       "(16, 3)"
      ]
     },
     "execution_count": 72,
     "metadata": {},
     "output_type": "execute_result"
    }
   ],
   "source": [
    "s.shape"
   ]
  },
  {
   "cell_type": "code",
   "execution_count": 74,
   "metadata": {
    "scrolled": true
   },
   "outputs": [
    {
     "data": {
      "text/html": [
       "<div>\n",
       "<style scoped>\n",
       "    .dataframe tbody tr th:only-of-type {\n",
       "        vertical-align: middle;\n",
       "    }\n",
       "\n",
       "    .dataframe tbody tr th {\n",
       "        vertical-align: top;\n",
       "    }\n",
       "\n",
       "    .dataframe thead th {\n",
       "        text-align: right;\n",
       "    }\n",
       "</style>\n",
       "<table border=\"1\" class=\"dataframe\">\n",
       "  <thead>\n",
       "    <tr style=\"text-align: right;\">\n",
       "      <th></th>\n",
       "      <th>face_name</th>\n",
       "      <th>face_url</th>\n",
       "      <th>face_source</th>\n",
       "    </tr>\n",
       "  </thead>\n",
       "  <tbody>\n",
       "    <tr>\n",
       "      <th>0</th>\n",
       "      <td>John G. Roberts</td>\n",
       "      <td>https://www.supremecourt.gov/about/justice_pic...</td>\n",
       "      <td>https://www.supremecourt.gov/about/justices.aspx</td>\n",
       "    </tr>\n",
       "    <tr>\n",
       "      <th>1</th>\n",
       "      <td>Clarence Thomas</td>\n",
       "      <td>https://www.supremecourt.gov/about/justice_pic...</td>\n",
       "      <td>https://www.supremecourt.gov/about/justices.aspx</td>\n",
       "    </tr>\n",
       "    <tr>\n",
       "      <th>2</th>\n",
       "      <td>Samuel A. Alito</td>\n",
       "      <td>https://www.supremecourt.gov/about/justice_pic...</td>\n",
       "      <td>https://www.supremecourt.gov/about/justices.aspx</td>\n",
       "    </tr>\n",
       "    <tr>\n",
       "      <th>3</th>\n",
       "      <td>Sonia Sotomayor</td>\n",
       "      <td>https://www.supremecourt.gov/about/justice_pic...</td>\n",
       "      <td>https://www.supremecourt.gov/about/justices.aspx</td>\n",
       "    </tr>\n",
       "    <tr>\n",
       "      <th>4</th>\n",
       "      <td>Elena Kagan</td>\n",
       "      <td>https://www.supremecourt.gov/about/justice_pic...</td>\n",
       "      <td>https://www.supremecourt.gov/about/justices.aspx</td>\n",
       "    </tr>\n",
       "    <tr>\n",
       "      <th>5</th>\n",
       "      <td>Neil M. Gorsuch</td>\n",
       "      <td>https://www.supremecourt.gov/about/justice_pic...</td>\n",
       "      <td>https://www.supremecourt.gov/about/justices.aspx</td>\n",
       "    </tr>\n",
       "    <tr>\n",
       "      <th>6</th>\n",
       "      <td>Brett M. Kavanaugh</td>\n",
       "      <td>https://www.supremecourt.gov/about/justice_pic...</td>\n",
       "      <td>https://www.supremecourt.gov/about/justices.aspx</td>\n",
       "    </tr>\n",
       "    <tr>\n",
       "      <th>7</th>\n",
       "      <td>Amy Coney Barrett</td>\n",
       "      <td>https://www.supremecourt.gov/about/justice_pic...</td>\n",
       "      <td>https://www.supremecourt.gov/about/justices.aspx</td>\n",
       "    </tr>\n",
       "    <tr>\n",
       "      <th>8</th>\n",
       "      <td>Ketanji Brown Jackson</td>\n",
       "      <td>https://www.supremecourt.gov/about/justice_pic...</td>\n",
       "      <td>https://www.supremecourt.gov/about/justices.aspx</td>\n",
       "    </tr>\n",
       "    <tr>\n",
       "      <th>9</th>\n",
       "      <td>Sandra Day O'Connor (Retired)</td>\n",
       "      <td>https://www.supremecourt.gov/about/justice_pic...</td>\n",
       "      <td>https://www.supremecourt.gov/about/justices.aspx</td>\n",
       "    </tr>\n",
       "    <tr>\n",
       "      <th>10</th>\n",
       "      <td>Anthony M. Kennedy</td>\n",
       "      <td>https://www.supremecourt.gov/about/justice_pic...</td>\n",
       "      <td>https://www.supremecourt.gov/about/justices.aspx</td>\n",
       "    </tr>\n",
       "    <tr>\n",
       "      <th>11</th>\n",
       "      <td>David Hackett Souter</td>\n",
       "      <td>https://www.supremecourt.gov/about/justice_pic...</td>\n",
       "      <td>https://www.supremecourt.gov/about/justices.aspx</td>\n",
       "    </tr>\n",
       "    <tr>\n",
       "      <th>12</th>\n",
       "      <td>Stephen G. Breyer</td>\n",
       "      <td>https://www.supremecourt.gov/about/justice_pic...</td>\n",
       "      <td>https://www.supremecourt.gov/about/justices.aspx</td>\n",
       "    </tr>\n",
       "    <tr>\n",
       "      <th>13</th>\n",
       "      <td>Ruth Bader Ginsburg</td>\n",
       "      <td>https://www.supremecourt.gov/about/justice_pic...</td>\n",
       "      <td>https://www.supremecourt.gov/about/justices.aspx</td>\n",
       "    </tr>\n",
       "    <tr>\n",
       "      <th>14</th>\n",
       "      <td>William Rehnquist</td>\n",
       "      <td>https://upload.wikimedia.org/wikipedia/commons...</td>\n",
       "      <td>wikipedia</td>\n",
       "    </tr>\n",
       "    <tr>\n",
       "      <th>15</th>\n",
       "      <td>Antonin Scalia</td>\n",
       "      <td>https://upload.wikimedia.org/wikipedia/commons...</td>\n",
       "      <td>wikipedia</td>\n",
       "    </tr>\n",
       "  </tbody>\n",
       "</table>\n",
       "</div>"
      ],
      "text/plain": [
       "                        face_name  \\\n",
       "0                 John G. Roberts   \n",
       "1                 Clarence Thomas   \n",
       "2                 Samuel A. Alito   \n",
       "3                 Sonia Sotomayor   \n",
       "4                     Elena Kagan   \n",
       "5                 Neil M. Gorsuch   \n",
       "6              Brett M. Kavanaugh   \n",
       "7               Amy Coney Barrett   \n",
       "8           Ketanji Brown Jackson   \n",
       "9   Sandra Day O'Connor (Retired)   \n",
       "10             Anthony M. Kennedy   \n",
       "11           David Hackett Souter   \n",
       "12              Stephen G. Breyer   \n",
       "13            Ruth Bader Ginsburg   \n",
       "14              William Rehnquist   \n",
       "15                 Antonin Scalia   \n",
       "\n",
       "                                             face_url  \\\n",
       "0   https://www.supremecourt.gov/about/justice_pic...   \n",
       "1   https://www.supremecourt.gov/about/justice_pic...   \n",
       "2   https://www.supremecourt.gov/about/justice_pic...   \n",
       "3   https://www.supremecourt.gov/about/justice_pic...   \n",
       "4   https://www.supremecourt.gov/about/justice_pic...   \n",
       "5   https://www.supremecourt.gov/about/justice_pic...   \n",
       "6   https://www.supremecourt.gov/about/justice_pic...   \n",
       "7   https://www.supremecourt.gov/about/justice_pic...   \n",
       "8   https://www.supremecourt.gov/about/justice_pic...   \n",
       "9   https://www.supremecourt.gov/about/justice_pic...   \n",
       "10  https://www.supremecourt.gov/about/justice_pic...   \n",
       "11  https://www.supremecourt.gov/about/justice_pic...   \n",
       "12  https://www.supremecourt.gov/about/justice_pic...   \n",
       "13  https://www.supremecourt.gov/about/justice_pic...   \n",
       "14  https://upload.wikimedia.org/wikipedia/commons...   \n",
       "15  https://upload.wikimedia.org/wikipedia/commons...   \n",
       "\n",
       "                                         face_source  \n",
       "0   https://www.supremecourt.gov/about/justices.aspx  \n",
       "1   https://www.supremecourt.gov/about/justices.aspx  \n",
       "2   https://www.supremecourt.gov/about/justices.aspx  \n",
       "3   https://www.supremecourt.gov/about/justices.aspx  \n",
       "4   https://www.supremecourt.gov/about/justices.aspx  \n",
       "5   https://www.supremecourt.gov/about/justices.aspx  \n",
       "6   https://www.supremecourt.gov/about/justices.aspx  \n",
       "7   https://www.supremecourt.gov/about/justices.aspx  \n",
       "8   https://www.supremecourt.gov/about/justices.aspx  \n",
       "9   https://www.supremecourt.gov/about/justices.aspx  \n",
       "10  https://www.supremecourt.gov/about/justices.aspx  \n",
       "11  https://www.supremecourt.gov/about/justices.aspx  \n",
       "12  https://www.supremecourt.gov/about/justices.aspx  \n",
       "13  https://www.supremecourt.gov/about/justices.aspx  \n",
       "14                                         wikipedia  \n",
       "15                                         wikipedia  "
      ]
     },
     "execution_count": 74,
     "metadata": {},
     "output_type": "execute_result"
    }
   ],
   "source": [
    "s"
   ]
  },
  {
   "cell_type": "code",
   "execution_count": 75,
   "metadata": {},
   "outputs": [],
   "source": [
    "s.loc[s['face_name']==\"Sandra Day O'Connor (Retired)\", 'face_name']=\"Sandra Day O'Connor\""
   ]
  },
  {
   "cell_type": "code",
   "execution_count": 76,
   "metadata": {},
   "outputs": [],
   "source": [
    "s['wmpid_status'] ='Yes'"
   ]
  },
  {
   "cell_type": "code",
   "execution_count": 77,
   "metadata": {},
   "outputs": [],
   "source": [
    "s.loc[s['face_name']==\"Sandra Day O'Connor\", 'wmpid_status'] ='No'\n",
    "s.loc[s['face_name']==\"Anthony M. Kennedy\", 'wmpid_status'] ='No'\n",
    "s.loc[s['face_name']==\"David Hackett Souter\", 'wmpid_status'] ='No'\n",
    "s.loc[s['face_name']==\"William Rehnquist\", 'wmpid_status'] ='No'"
   ]
  },
  {
   "cell_type": "code",
   "execution_count": 78,
   "metadata": {},
   "outputs": [
    {
     "data": {
      "text/plain": [
       "Yes    12\n",
       "No      4\n",
       "Name: wmpid_status, dtype: int64"
      ]
     },
     "execution_count": 78,
     "metadata": {},
     "output_type": "execute_result"
    }
   ],
   "source": [
    "s.wmpid_status.value_counts()"
   ]
  },
  {
   "cell_type": "code",
   "execution_count": 115,
   "metadata": {},
   "outputs": [],
   "source": [
    "s['face_category']='supreme court justices'"
   ]
  },
  {
   "cell_type": "markdown",
   "metadata": {},
   "source": [
    "### Cabinet"
   ]
  },
  {
   "cell_type": "code",
   "execution_count": 79,
   "metadata": {},
   "outputs": [],
   "source": [
    "#Download the website's html\n",
    "source = urllib.request.urlopen(\"https://www.whitehouse.gov/administration/cabinet/\").read()"
   ]
  },
  {
   "cell_type": "code",
   "execution_count": 80,
   "metadata": {},
   "outputs": [],
   "source": [
    "#Parse the html\n",
    "soup = bs.BeautifulSoup(source)"
   ]
  },
  {
   "cell_type": "code",
   "execution_count": 81,
   "metadata": {},
   "outputs": [],
   "source": [
    "urls_css = \".persongrid__item__inner__content .h4alt\""
   ]
  },
  {
   "cell_type": "code",
   "execution_count": 82,
   "metadata": {},
   "outputs": [],
   "source": [
    "urls = soup.select(urls_css)"
   ]
  },
  {
   "cell_type": "code",
   "execution_count": 83,
   "metadata": {},
   "outputs": [],
   "source": [
    "c_names = [url.text for url in urls]"
   ]
  },
  {
   "cell_type": "code",
   "execution_count": 84,
   "metadata": {},
   "outputs": [],
   "source": [
    "cab_names = []\n",
    "for sub in c_names:\n",
    "    cab_names.append(sub.replace(\"\\n\", \"\").replace(\"\\t\", \"\").replace(\"Dr. \", \"\")), "
   ]
  },
  {
   "cell_type": "code",
   "execution_count": 85,
   "metadata": {},
   "outputs": [],
   "source": [
    "urls_css = \".persongrid__item__inner__image>div img\""
   ]
  },
  {
   "cell_type": "code",
   "execution_count": 86,
   "metadata": {},
   "outputs": [],
   "source": [
    "urls = soup.select(urls_css)"
   ]
  },
  {
   "cell_type": "code",
   "execution_count": 87,
   "metadata": {},
   "outputs": [],
   "source": [
    "urls = [url[\"src\"] for url in urls]"
   ]
  },
  {
   "cell_type": "code",
   "execution_count": 88,
   "metadata": {},
   "outputs": [
    {
     "data": {
      "text/plain": [
       "25"
      ]
     },
     "execution_count": 88,
     "metadata": {},
     "output_type": "execute_result"
    }
   ],
   "source": [
    "len(urls)"
   ]
  },
  {
   "cell_type": "code",
   "execution_count": 89,
   "metadata": {},
   "outputs": [],
   "source": [
    "c = pd.DataFrame()\n",
    "c['face_name'] = cab_names\n",
    "c['face_url']=urls"
   ]
  },
  {
   "cell_type": "code",
   "execution_count": 90,
   "metadata": {},
   "outputs": [],
   "source": [
    "c['face_source'] = 'https://www.whitehouse.gov/administration/cabinet/'"
   ]
  },
  {
   "cell_type": "code",
   "execution_count": 91,
   "metadata": {},
   "outputs": [
    {
     "data": {
      "text/html": [
       "<div>\n",
       "<style scoped>\n",
       "    .dataframe tbody tr th:only-of-type {\n",
       "        vertical-align: middle;\n",
       "    }\n",
       "\n",
       "    .dataframe tbody tr th {\n",
       "        vertical-align: top;\n",
       "    }\n",
       "\n",
       "    .dataframe thead th {\n",
       "        text-align: right;\n",
       "    }\n",
       "</style>\n",
       "<table border=\"1\" class=\"dataframe\">\n",
       "  <thead>\n",
       "    <tr style=\"text-align: right;\">\n",
       "      <th></th>\n",
       "      <th>face_name</th>\n",
       "      <th>face_url</th>\n",
       "      <th>face_source</th>\n",
       "    </tr>\n",
       "  </thead>\n",
       "  <tbody>\n",
       "    <tr>\n",
       "      <th>0</th>\n",
       "      <td>Kamala Harris</td>\n",
       "      <td>https://www.whitehouse.gov/wp-content/uploads/...</td>\n",
       "      <td>https://www.whitehouse.gov/administration/cabi...</td>\n",
       "    </tr>\n",
       "    <tr>\n",
       "      <th>1</th>\n",
       "      <td>Antony Blinken</td>\n",
       "      <td>https://www.whitehouse.gov/wp-content/uploads/...</td>\n",
       "      <td>https://www.whitehouse.gov/administration/cabi...</td>\n",
       "    </tr>\n",
       "    <tr>\n",
       "      <th>2</th>\n",
       "      <td>Janet Yellen</td>\n",
       "      <td>https://www.whitehouse.gov/wp-content/uploads/...</td>\n",
       "      <td>https://www.whitehouse.gov/administration/cabi...</td>\n",
       "    </tr>\n",
       "    <tr>\n",
       "      <th>3</th>\n",
       "      <td>Lloyd Austin</td>\n",
       "      <td>https://www.whitehouse.gov/wp-content/uploads/...</td>\n",
       "      <td>https://www.whitehouse.gov/administration/cabi...</td>\n",
       "    </tr>\n",
       "    <tr>\n",
       "      <th>4</th>\n",
       "      <td>Merrick Garland</td>\n",
       "      <td>https://www.whitehouse.gov/wp-content/uploads/...</td>\n",
       "      <td>https://www.whitehouse.gov/administration/cabi...</td>\n",
       "    </tr>\n",
       "    <tr>\n",
       "      <th>5</th>\n",
       "      <td>Deb Haaland</td>\n",
       "      <td>https://www.whitehouse.gov/wp-content/uploads/...</td>\n",
       "      <td>https://www.whitehouse.gov/administration/cabi...</td>\n",
       "    </tr>\n",
       "    <tr>\n",
       "      <th>6</th>\n",
       "      <td>Tom Vilsack</td>\n",
       "      <td>https://www.whitehouse.gov/wp-content/uploads/...</td>\n",
       "      <td>https://www.whitehouse.gov/administration/cabi...</td>\n",
       "    </tr>\n",
       "    <tr>\n",
       "      <th>7</th>\n",
       "      <td>Gina Raimondo</td>\n",
       "      <td>https://www.whitehouse.gov/wp-content/uploads/...</td>\n",
       "      <td>https://www.whitehouse.gov/administration/cabi...</td>\n",
       "    </tr>\n",
       "    <tr>\n",
       "      <th>8</th>\n",
       "      <td>Marty Walsh</td>\n",
       "      <td>https://www.whitehouse.gov/wp-content/uploads/...</td>\n",
       "      <td>https://www.whitehouse.gov/administration/cabi...</td>\n",
       "    </tr>\n",
       "    <tr>\n",
       "      <th>9</th>\n",
       "      <td>Xavier Becerra</td>\n",
       "      <td>https://www.whitehouse.gov/wp-content/uploads/...</td>\n",
       "      <td>https://www.whitehouse.gov/administration/cabi...</td>\n",
       "    </tr>\n",
       "    <tr>\n",
       "      <th>10</th>\n",
       "      <td>Marcia Fudge</td>\n",
       "      <td>https://www.whitehouse.gov/wp-content/uploads/...</td>\n",
       "      <td>https://www.whitehouse.gov/administration/cabi...</td>\n",
       "    </tr>\n",
       "    <tr>\n",
       "      <th>11</th>\n",
       "      <td>Pete Buttigieg</td>\n",
       "      <td>https://www.whitehouse.gov/wp-content/uploads/...</td>\n",
       "      <td>https://www.whitehouse.gov/administration/cabi...</td>\n",
       "    </tr>\n",
       "    <tr>\n",
       "      <th>12</th>\n",
       "      <td>Jennifer Granholm</td>\n",
       "      <td>https://www.whitehouse.gov/wp-content/uploads/...</td>\n",
       "      <td>https://www.whitehouse.gov/administration/cabi...</td>\n",
       "    </tr>\n",
       "    <tr>\n",
       "      <th>13</th>\n",
       "      <td>Miguel Cardona</td>\n",
       "      <td>https://www.whitehouse.gov/wp-content/uploads/...</td>\n",
       "      <td>https://www.whitehouse.gov/administration/cabi...</td>\n",
       "    </tr>\n",
       "    <tr>\n",
       "      <th>14</th>\n",
       "      <td>Denis McDonough</td>\n",
       "      <td>https://www.whitehouse.gov/wp-content/uploads/...</td>\n",
       "      <td>https://www.whitehouse.gov/administration/cabi...</td>\n",
       "    </tr>\n",
       "    <tr>\n",
       "      <th>15</th>\n",
       "      <td>Alejandro Mayorkas</td>\n",
       "      <td>https://www.whitehouse.gov/wp-content/uploads/...</td>\n",
       "      <td>https://www.whitehouse.gov/administration/cabi...</td>\n",
       "    </tr>\n",
       "    <tr>\n",
       "      <th>16</th>\n",
       "      <td>Michael Regan</td>\n",
       "      <td>https://www.whitehouse.gov/wp-content/uploads/...</td>\n",
       "      <td>https://www.whitehouse.gov/administration/cabi...</td>\n",
       "    </tr>\n",
       "    <tr>\n",
       "      <th>17</th>\n",
       "      <td>Avril Haines</td>\n",
       "      <td>https://www.whitehouse.gov/wp-content/uploads/...</td>\n",
       "      <td>https://www.whitehouse.gov/administration/cabi...</td>\n",
       "    </tr>\n",
       "    <tr>\n",
       "      <th>18</th>\n",
       "      <td>Katherine Tai</td>\n",
       "      <td>https://www.whitehouse.gov/wp-content/uploads/...</td>\n",
       "      <td>https://www.whitehouse.gov/administration/cabi...</td>\n",
       "    </tr>\n",
       "    <tr>\n",
       "      <th>19</th>\n",
       "      <td>Linda Thomas-Greenfield</td>\n",
       "      <td>https://www.whitehouse.gov/wp-content/uploads/...</td>\n",
       "      <td>https://www.whitehouse.gov/administration/cabi...</td>\n",
       "    </tr>\n",
       "    <tr>\n",
       "      <th>20</th>\n",
       "      <td>Cecilia Rouse</td>\n",
       "      <td>https://www.whitehouse.gov/wp-content/uploads/...</td>\n",
       "      <td>https://www.whitehouse.gov/administration/cabi...</td>\n",
       "    </tr>\n",
       "    <tr>\n",
       "      <th>21</th>\n",
       "      <td>Isabel Guzman</td>\n",
       "      <td>https://www.whitehouse.gov/wp-content/uploads/...</td>\n",
       "      <td>https://www.whitehouse.gov/administration/cabi...</td>\n",
       "    </tr>\n",
       "    <tr>\n",
       "      <th>22</th>\n",
       "      <td>Shalanda Young</td>\n",
       "      <td>https://www.whitehouse.gov/wp-content/uploads/...</td>\n",
       "      <td>https://www.whitehouse.gov/administration/cabi...</td>\n",
       "    </tr>\n",
       "    <tr>\n",
       "      <th>23</th>\n",
       "      <td>Arati Prabhakar</td>\n",
       "      <td>https://www.whitehouse.gov/wp-content/uploads/...</td>\n",
       "      <td>https://www.whitehouse.gov/administration/cabi...</td>\n",
       "    </tr>\n",
       "    <tr>\n",
       "      <th>24</th>\n",
       "      <td>Ron Klain</td>\n",
       "      <td>https://www.whitehouse.gov/wp-content/uploads/...</td>\n",
       "      <td>https://www.whitehouse.gov/administration/cabi...</td>\n",
       "    </tr>\n",
       "  </tbody>\n",
       "</table>\n",
       "</div>"
      ],
      "text/plain": [
       "                  face_name  \\\n",
       "0             Kamala Harris   \n",
       "1            Antony Blinken   \n",
       "2              Janet Yellen   \n",
       "3              Lloyd Austin   \n",
       "4           Merrick Garland   \n",
       "5               Deb Haaland   \n",
       "6               Tom Vilsack   \n",
       "7             Gina Raimondo   \n",
       "8               Marty Walsh   \n",
       "9            Xavier Becerra   \n",
       "10             Marcia Fudge   \n",
       "11           Pete Buttigieg   \n",
       "12        Jennifer Granholm   \n",
       "13           Miguel Cardona   \n",
       "14          Denis McDonough   \n",
       "15       Alejandro Mayorkas   \n",
       "16            Michael Regan   \n",
       "17             Avril Haines   \n",
       "18            Katherine Tai   \n",
       "19  Linda Thomas-Greenfield   \n",
       "20            Cecilia Rouse   \n",
       "21            Isabel Guzman   \n",
       "22          Shalanda Young    \n",
       "23          Arati Prabhakar   \n",
       "24                Ron Klain   \n",
       "\n",
       "                                             face_url  \\\n",
       "0   https://www.whitehouse.gov/wp-content/uploads/...   \n",
       "1   https://www.whitehouse.gov/wp-content/uploads/...   \n",
       "2   https://www.whitehouse.gov/wp-content/uploads/...   \n",
       "3   https://www.whitehouse.gov/wp-content/uploads/...   \n",
       "4   https://www.whitehouse.gov/wp-content/uploads/...   \n",
       "5   https://www.whitehouse.gov/wp-content/uploads/...   \n",
       "6   https://www.whitehouse.gov/wp-content/uploads/...   \n",
       "7   https://www.whitehouse.gov/wp-content/uploads/...   \n",
       "8   https://www.whitehouse.gov/wp-content/uploads/...   \n",
       "9   https://www.whitehouse.gov/wp-content/uploads/...   \n",
       "10  https://www.whitehouse.gov/wp-content/uploads/...   \n",
       "11  https://www.whitehouse.gov/wp-content/uploads/...   \n",
       "12  https://www.whitehouse.gov/wp-content/uploads/...   \n",
       "13  https://www.whitehouse.gov/wp-content/uploads/...   \n",
       "14  https://www.whitehouse.gov/wp-content/uploads/...   \n",
       "15  https://www.whitehouse.gov/wp-content/uploads/...   \n",
       "16  https://www.whitehouse.gov/wp-content/uploads/...   \n",
       "17  https://www.whitehouse.gov/wp-content/uploads/...   \n",
       "18  https://www.whitehouse.gov/wp-content/uploads/...   \n",
       "19  https://www.whitehouse.gov/wp-content/uploads/...   \n",
       "20  https://www.whitehouse.gov/wp-content/uploads/...   \n",
       "21  https://www.whitehouse.gov/wp-content/uploads/...   \n",
       "22  https://www.whitehouse.gov/wp-content/uploads/...   \n",
       "23  https://www.whitehouse.gov/wp-content/uploads/...   \n",
       "24  https://www.whitehouse.gov/wp-content/uploads/...   \n",
       "\n",
       "                                          face_source  \n",
       "0   https://www.whitehouse.gov/administration/cabi...  \n",
       "1   https://www.whitehouse.gov/administration/cabi...  \n",
       "2   https://www.whitehouse.gov/administration/cabi...  \n",
       "3   https://www.whitehouse.gov/administration/cabi...  \n",
       "4   https://www.whitehouse.gov/administration/cabi...  \n",
       "5   https://www.whitehouse.gov/administration/cabi...  \n",
       "6   https://www.whitehouse.gov/administration/cabi...  \n",
       "7   https://www.whitehouse.gov/administration/cabi...  \n",
       "8   https://www.whitehouse.gov/administration/cabi...  \n",
       "9   https://www.whitehouse.gov/administration/cabi...  \n",
       "10  https://www.whitehouse.gov/administration/cabi...  \n",
       "11  https://www.whitehouse.gov/administration/cabi...  \n",
       "12  https://www.whitehouse.gov/administration/cabi...  \n",
       "13  https://www.whitehouse.gov/administration/cabi...  \n",
       "14  https://www.whitehouse.gov/administration/cabi...  \n",
       "15  https://www.whitehouse.gov/administration/cabi...  \n",
       "16  https://www.whitehouse.gov/administration/cabi...  \n",
       "17  https://www.whitehouse.gov/administration/cabi...  \n",
       "18  https://www.whitehouse.gov/administration/cabi...  \n",
       "19  https://www.whitehouse.gov/administration/cabi...  \n",
       "20  https://www.whitehouse.gov/administration/cabi...  \n",
       "21  https://www.whitehouse.gov/administration/cabi...  \n",
       "22  https://www.whitehouse.gov/administration/cabi...  \n",
       "23  https://www.whitehouse.gov/administration/cabi...  \n",
       "24  https://www.whitehouse.gov/administration/cabi...  "
      ]
     },
     "execution_count": 91,
     "metadata": {},
     "output_type": "execute_result"
    }
   ],
   "source": [
    "c"
   ]
  },
  {
   "cell_type": "code",
   "execution_count": 92,
   "metadata": {},
   "outputs": [],
   "source": [
    "c['wmpid_status'] ='No'"
   ]
  },
  {
   "cell_type": "code",
   "execution_count": 93,
   "metadata": {},
   "outputs": [],
   "source": [
    "c.loc[c['face_name']==\"Kamala Harris\", 'wmpid_status'] ='Yes'\n",
    "c.loc[c['face_name']==\"Merrick Garland\", 'wmpid_status'] ='Yes'"
   ]
  },
  {
   "cell_type": "code",
   "execution_count": 94,
   "metadata": {},
   "outputs": [
    {
     "data": {
      "text/plain": [
       "No     23\n",
       "Yes     2\n",
       "Name: wmpid_status, dtype: int64"
      ]
     },
     "execution_count": 94,
     "metadata": {},
     "output_type": "execute_result"
    }
   ],
   "source": [
    "c.wmpid_status.value_counts()"
   ]
  },
  {
   "cell_type": "code",
   "execution_count": 116,
   "metadata": {},
   "outputs": [],
   "source": [
    "c['face_category']='cabinet'"
   ]
  },
  {
   "cell_type": "markdown",
   "metadata": {},
   "source": [
    "### Public health related"
   ]
  },
  {
   "cell_type": "code",
   "execution_count": 95,
   "metadata": {},
   "outputs": [],
   "source": [
    "ph = pd.DataFrame()"
   ]
  },
  {
   "cell_type": "code",
   "execution_count": 96,
   "metadata": {},
   "outputs": [],
   "source": [
    "ph1 = {'face_name': 'Anthony Fauci', \n",
    "      'face_url': \"https://upload.wikimedia.org/wikipedia/commons/thumb/6/61/Anthony_Fauci_2020.jpg/220px-Anthony_Fauci_2020.jpg\",\n",
    "     'face_source': 'wikipedia'}\n",
    "ph = ph.append(ph1, ignore_index = True)"
   ]
  },
  {
   "cell_type": "code",
   "execution_count": 97,
   "metadata": {},
   "outputs": [],
   "source": [
    "ph2 = {'face_name': 'Tedros Adhanom Ghebreyesus', \n",
    "      'face_url': \"https://upload.wikimedia.org/wikipedia/commons/thumb/0/0b/Mukhisa_Kituyi%2C_Houlin_Zhao%2C_Tedros_Adhanom_Ghebreyesus_with_Sophia_-_AI_for_Good_Global_Summit_2018_%2841223188035%29_%28cropped%29.jpg/220px-Mukhisa_Kituyi%2C_Houlin_Zhao%2C_Tedros_Adhanom_Ghebreyesus_with_Sophia_-_AI_for_Good_Global_Summit_2018_%2841223188035%29_%28cropped%29.jpg\",\n",
    "     'face_source': 'wikipedia'}\n",
    "ph = ph.append(ph2, ignore_index = True)"
   ]
  },
  {
   "cell_type": "code",
   "execution_count": 98,
   "metadata": {},
   "outputs": [],
   "source": [
    "#The Secretary of the Department of Health and Human Services\n",
    "ph3 = {'face_name': 'Rachel L. Levine', \n",
    "      'face_url': \"https://upload.wikimedia.org/wikipedia/commons/thumb/2/28/Admiral_Rachel_L._Levine.jpg/220px-Admiral_Rachel_L._Levine.jpg\",\n",
    "     'face_source': 'wikipedia'}\n",
    "ph = ph.append(ph3, ignore_index = True)"
   ]
  },
  {
   "cell_type": "code",
   "execution_count": 99,
   "metadata": {},
   "outputs": [],
   "source": [
    "#The Surgeon General\n",
    "ph4 = {'face_name': 'Vivek H. Murthy', \n",
    "      'face_url': \"https://upload.wikimedia.org/wikipedia/commons/thumb/7/7b/Vivek_Murthy%2C_Surgeon_General_%28profile%29.jpg/220px-Vivek_Murthy%2C_Surgeon_General_%28profile%29.jpg\",\n",
    "     'face_source': 'wikipedia'}\n",
    "ph = ph.append(ph4, ignore_index = True)"
   ]
  },
  {
   "cell_type": "code",
   "execution_count": 100,
   "metadata": {},
   "outputs": [],
   "source": [
    "# Director of CDC\n",
    "ph5 = {'face_name': 'Rochelle Walensky', \n",
    "      'face_url': \"https://upload.wikimedia.org/wikipedia/commons/thumb/b/b9/Rochelle_Walensky%2C_CDC_Director_%28cropped%29.jpg/220px-Rochelle_Walensky%2C_CDC_Director_%28cropped%29.jpg\",\n",
    "     'face_source': 'wikipedia'}\n",
    "ph = ph.append(ph5, ignore_index = True)"
   ]
  },
  {
   "cell_type": "code",
   "execution_count": 101,
   "metadata": {},
   "outputs": [],
   "source": [
    "# Director of NIH\n",
    "ph6 = {'face_name': 'Lawrence A. Tabak', \n",
    "      'face_url': \"https://upload.wikimedia.org/wikipedia/commons/thumb/a/a3/Lawrence_A._Tabak_official_portrait.jpg/220px-Lawrence_A._Tabak_official_portrait.jpg\",\n",
    "     'face_source': 'wikipedia'}\n",
    "ph = ph.append(ph6, ignore_index = True)"
   ]
  },
  {
   "cell_type": "code",
   "execution_count": 102,
   "metadata": {},
   "outputs": [],
   "source": [
    "# Director of FDA\n",
    "ph7 = {'face_name': 'Robert Califf', \n",
    "      'face_url': \"https://upload.wikimedia.org/wikipedia/commons/thumb/5/51/Robert_M._Califf%2C_FDA_Commissioner.jpg/220px-Robert_M._Califf%2C_FDA_Commissioner.jpg\",\n",
    "     'face_source': 'wikipedia'}\n",
    "ph = ph.append(ph7, ignore_index = True)"
   ]
  },
  {
   "cell_type": "code",
   "execution_count": 103,
   "metadata": {},
   "outputs": [
    {
     "data": {
      "text/html": [
       "<div>\n",
       "<style scoped>\n",
       "    .dataframe tbody tr th:only-of-type {\n",
       "        vertical-align: middle;\n",
       "    }\n",
       "\n",
       "    .dataframe tbody tr th {\n",
       "        vertical-align: top;\n",
       "    }\n",
       "\n",
       "    .dataframe thead th {\n",
       "        text-align: right;\n",
       "    }\n",
       "</style>\n",
       "<table border=\"1\" class=\"dataframe\">\n",
       "  <thead>\n",
       "    <tr style=\"text-align: right;\">\n",
       "      <th></th>\n",
       "      <th>face_name</th>\n",
       "      <th>face_source</th>\n",
       "      <th>face_url</th>\n",
       "    </tr>\n",
       "  </thead>\n",
       "  <tbody>\n",
       "    <tr>\n",
       "      <th>0</th>\n",
       "      <td>Anthony Fauci</td>\n",
       "      <td>wikipedia</td>\n",
       "      <td>https://upload.wikimedia.org/wikipedia/commons...</td>\n",
       "    </tr>\n",
       "    <tr>\n",
       "      <th>1</th>\n",
       "      <td>Tedros Adhanom Ghebreyesus</td>\n",
       "      <td>wikipedia</td>\n",
       "      <td>https://upload.wikimedia.org/wikipedia/commons...</td>\n",
       "    </tr>\n",
       "    <tr>\n",
       "      <th>2</th>\n",
       "      <td>Rachel L. Levine</td>\n",
       "      <td>wikipedia</td>\n",
       "      <td>https://upload.wikimedia.org/wikipedia/commons...</td>\n",
       "    </tr>\n",
       "    <tr>\n",
       "      <th>3</th>\n",
       "      <td>Vivek H. Murthy</td>\n",
       "      <td>wikipedia</td>\n",
       "      <td>https://upload.wikimedia.org/wikipedia/commons...</td>\n",
       "    </tr>\n",
       "    <tr>\n",
       "      <th>4</th>\n",
       "      <td>Rochelle Walensky</td>\n",
       "      <td>wikipedia</td>\n",
       "      <td>https://upload.wikimedia.org/wikipedia/commons...</td>\n",
       "    </tr>\n",
       "    <tr>\n",
       "      <th>5</th>\n",
       "      <td>Lawrence A. Tabak</td>\n",
       "      <td>wikipedia</td>\n",
       "      <td>https://upload.wikimedia.org/wikipedia/commons...</td>\n",
       "    </tr>\n",
       "    <tr>\n",
       "      <th>6</th>\n",
       "      <td>Robert Califf</td>\n",
       "      <td>wikipedia</td>\n",
       "      <td>https://upload.wikimedia.org/wikipedia/commons...</td>\n",
       "    </tr>\n",
       "  </tbody>\n",
       "</table>\n",
       "</div>"
      ],
      "text/plain": [
       "                    face_name face_source  \\\n",
       "0               Anthony Fauci   wikipedia   \n",
       "1  Tedros Adhanom Ghebreyesus   wikipedia   \n",
       "2            Rachel L. Levine   wikipedia   \n",
       "3             Vivek H. Murthy   wikipedia   \n",
       "4           Rochelle Walensky   wikipedia   \n",
       "5           Lawrence A. Tabak   wikipedia   \n",
       "6               Robert Califf   wikipedia   \n",
       "\n",
       "                                            face_url  \n",
       "0  https://upload.wikimedia.org/wikipedia/commons...  \n",
       "1  https://upload.wikimedia.org/wikipedia/commons...  \n",
       "2  https://upload.wikimedia.org/wikipedia/commons...  \n",
       "3  https://upload.wikimedia.org/wikipedia/commons...  \n",
       "4  https://upload.wikimedia.org/wikipedia/commons...  \n",
       "5  https://upload.wikimedia.org/wikipedia/commons...  \n",
       "6  https://upload.wikimedia.org/wikipedia/commons...  "
      ]
     },
     "execution_count": 103,
     "metadata": {},
     "output_type": "execute_result"
    }
   ],
   "source": [
    "ph"
   ]
  },
  {
   "cell_type": "code",
   "execution_count": 104,
   "metadata": {},
   "outputs": [],
   "source": [
    "ph['wmpid_status'] ='No'"
   ]
  },
  {
   "cell_type": "code",
   "execution_count": 117,
   "metadata": {},
   "outputs": [],
   "source": [
    "ph['face_category']='public health related'"
   ]
  },
  {
   "cell_type": "code",
   "execution_count": 119,
   "metadata": {},
   "outputs": [],
   "source": [
    "ph.loc[ph['face_name']=='Tedros Adhanom Ghebreyesus', 'face_category']='international leaders'"
   ]
  },
  {
   "cell_type": "markdown",
   "metadata": {},
   "source": [
    "### Historical figures"
   ]
  },
  {
   "cell_type": "code",
   "execution_count": 105,
   "metadata": {},
   "outputs": [],
   "source": [
    "h = pd.DataFrame()"
   ]
  },
  {
   "cell_type": "code",
   "execution_count": 106,
   "metadata": {},
   "outputs": [],
   "source": [
    "h1 = {'face_name': 'Martin Luther King Jr.', \n",
    "      'face_url': \"https://upload.wikimedia.org/wikipedia/commons/thumb/0/05/Martin_Luther_King%2C_Jr..jpg/220px-Martin_Luther_King%2C_Jr..jpg\",\n",
    "     'face_source': 'wikipedia'}\n",
    "h = h.append(h1, ignore_index = True)"
   ]
  },
  {
   "cell_type": "code",
   "execution_count": 107,
   "metadata": {},
   "outputs": [],
   "source": [
    "h['wmpid_status'] ='No'"
   ]
  },
  {
   "cell_type": "code",
   "execution_count": 108,
   "metadata": {},
   "outputs": [
    {
     "data": {
      "text/html": [
       "<div>\n",
       "<style scoped>\n",
       "    .dataframe tbody tr th:only-of-type {\n",
       "        vertical-align: middle;\n",
       "    }\n",
       "\n",
       "    .dataframe tbody tr th {\n",
       "        vertical-align: top;\n",
       "    }\n",
       "\n",
       "    .dataframe thead th {\n",
       "        text-align: right;\n",
       "    }\n",
       "</style>\n",
       "<table border=\"1\" class=\"dataframe\">\n",
       "  <thead>\n",
       "    <tr style=\"text-align: right;\">\n",
       "      <th></th>\n",
       "      <th>face_name</th>\n",
       "      <th>face_source</th>\n",
       "      <th>face_url</th>\n",
       "      <th>wmpid_status</th>\n",
       "    </tr>\n",
       "  </thead>\n",
       "  <tbody>\n",
       "    <tr>\n",
       "      <th>0</th>\n",
       "      <td>Martin Luther King Jr.</td>\n",
       "      <td>wikipedia</td>\n",
       "      <td>https://upload.wikimedia.org/wikipedia/commons...</td>\n",
       "      <td>No</td>\n",
       "    </tr>\n",
       "  </tbody>\n",
       "</table>\n",
       "</div>"
      ],
      "text/plain": [
       "                face_name face_source  \\\n",
       "0  Martin Luther King Jr.   wikipedia   \n",
       "\n",
       "                                            face_url wmpid_status  \n",
       "0  https://upload.wikimedia.org/wikipedia/commons...           No  "
      ]
     },
     "execution_count": 108,
     "metadata": {},
     "output_type": "execute_result"
    }
   ],
   "source": [
    "h"
   ]
  },
  {
   "cell_type": "code",
   "execution_count": 120,
   "metadata": {},
   "outputs": [],
   "source": [
    "h['face_category']='historical figures'"
   ]
  },
  {
   "cell_type": "markdown",
   "metadata": {},
   "source": [
    "### Combine all results"
   ]
  },
  {
   "cell_type": "code",
   "execution_count": 121,
   "metadata": {},
   "outputs": [],
   "source": [
    "df = pd.concat([il, fp, s, c, ph, h])"
   ]
  },
  {
   "cell_type": "code",
   "execution_count": 122,
   "metadata": {},
   "outputs": [
    {
     "data": {
      "text/plain": [
       "(117, 5)"
      ]
     },
     "execution_count": 122,
     "metadata": {},
     "output_type": "execute_result"
    }
   ],
   "source": [
    "df.shape"
   ]
  },
  {
   "cell_type": "code",
   "execution_count": 123,
   "metadata": {},
   "outputs": [
    {
     "data": {
      "text/html": [
       "<div>\n",
       "<style scoped>\n",
       "    .dataframe tbody tr th:only-of-type {\n",
       "        vertical-align: middle;\n",
       "    }\n",
       "\n",
       "    .dataframe tbody tr th {\n",
       "        vertical-align: top;\n",
       "    }\n",
       "\n",
       "    .dataframe thead th {\n",
       "        text-align: right;\n",
       "    }\n",
       "</style>\n",
       "<table border=\"1\" class=\"dataframe\">\n",
       "  <thead>\n",
       "    <tr style=\"text-align: right;\">\n",
       "      <th></th>\n",
       "      <th>face_name</th>\n",
       "      <th>face_url</th>\n",
       "      <th>face_source</th>\n",
       "      <th>face_category</th>\n",
       "      <th>wmpid_status</th>\n",
       "    </tr>\n",
       "  </thead>\n",
       "  <tbody>\n",
       "    <tr>\n",
       "      <th>0</th>\n",
       "      <td>Alberto Fernández</td>\n",
       "      <td>https://upload.wikimedia.org/wikipedia/commons...</td>\n",
       "      <td>https://en.wikipedia.org/wiki/G20</td>\n",
       "      <td>international leaders</td>\n",
       "      <td>No</td>\n",
       "    </tr>\n",
       "    <tr>\n",
       "      <th>1</th>\n",
       "      <td>Anthony Albanese</td>\n",
       "      <td>https://upload.wikimedia.org/wikipedia/commons...</td>\n",
       "      <td>https://en.wikipedia.org/wiki/G20</td>\n",
       "      <td>international leaders</td>\n",
       "      <td>No</td>\n",
       "    </tr>\n",
       "    <tr>\n",
       "      <th>2</th>\n",
       "      <td>Jair Bolsonaro</td>\n",
       "      <td>https://upload.wikimedia.org/wikipedia/commons...</td>\n",
       "      <td>https://en.wikipedia.org/wiki/G20</td>\n",
       "      <td>international leaders</td>\n",
       "      <td>No</td>\n",
       "    </tr>\n",
       "    <tr>\n",
       "      <th>3</th>\n",
       "      <td>Justin Trudeau</td>\n",
       "      <td>https://upload.wikimedia.org/wikipedia/commons...</td>\n",
       "      <td>https://en.wikipedia.org/wiki/G20</td>\n",
       "      <td>international leaders</td>\n",
       "      <td>No</td>\n",
       "    </tr>\n",
       "    <tr>\n",
       "      <th>4</th>\n",
       "      <td>Xi Jinping</td>\n",
       "      <td>https://upload.wikimedia.org/wikipedia/commons...</td>\n",
       "      <td>https://en.wikipedia.org/wiki/G20</td>\n",
       "      <td>international leaders</td>\n",
       "      <td>No</td>\n",
       "    </tr>\n",
       "  </tbody>\n",
       "</table>\n",
       "</div>"
      ],
      "text/plain": [
       "           face_name                                           face_url  \\\n",
       "0  Alberto Fernández  https://upload.wikimedia.org/wikipedia/commons...   \n",
       "1   Anthony Albanese  https://upload.wikimedia.org/wikipedia/commons...   \n",
       "2     Jair Bolsonaro  https://upload.wikimedia.org/wikipedia/commons...   \n",
       "3     Justin Trudeau  https://upload.wikimedia.org/wikipedia/commons...   \n",
       "4         Xi Jinping  https://upload.wikimedia.org/wikipedia/commons...   \n",
       "\n",
       "                         face_source          face_category wmpid_status  \n",
       "0  https://en.wikipedia.org/wiki/G20  international leaders           No  \n",
       "1  https://en.wikipedia.org/wiki/G20  international leaders           No  \n",
       "2  https://en.wikipedia.org/wiki/G20  international leaders           No  \n",
       "3  https://en.wikipedia.org/wiki/G20  international leaders           No  \n",
       "4  https://en.wikipedia.org/wiki/G20  international leaders           No  "
      ]
     },
     "execution_count": 123,
     "metadata": {},
     "output_type": "execute_result"
    }
   ],
   "source": [
    "df.head()"
   ]
  },
  {
   "cell_type": "code",
   "execution_count": 124,
   "metadata": {},
   "outputs": [
    {
     "data": {
      "text/plain": [
       "former presidents         46\n",
       "cabinet                   25\n",
       "international leaders     23\n",
       "supreme court justices    16\n",
       "public health related      6\n",
       "historical figures         1\n",
       "Name: face_category, dtype: int64"
      ]
     },
     "execution_count": 124,
     "metadata": {},
     "output_type": "execute_result"
    }
   ],
   "source": [
    "df['face_category'].value_counts()"
   ]
  },
  {
   "cell_type": "code",
   "execution_count": 125,
   "metadata": {},
   "outputs": [
    {
     "data": {
      "text/html": [
       "<div>\n",
       "<style scoped>\n",
       "    .dataframe tbody tr th:only-of-type {\n",
       "        vertical-align: middle;\n",
       "    }\n",
       "\n",
       "    .dataframe tbody tr th {\n",
       "        vertical-align: top;\n",
       "    }\n",
       "\n",
       "    .dataframe thead th {\n",
       "        text-align: right;\n",
       "    }\n",
       "</style>\n",
       "<table border=\"1\" class=\"dataframe\">\n",
       "  <thead>\n",
       "    <tr style=\"text-align: right;\">\n",
       "      <th></th>\n",
       "      <th>face_name</th>\n",
       "      <th>face_url</th>\n",
       "      <th>face_source</th>\n",
       "      <th>face_category</th>\n",
       "      <th>wmpid_status</th>\n",
       "    </tr>\n",
       "  </thead>\n",
       "  <tbody>\n",
       "    <tr>\n",
       "      <th>0</th>\n",
       "      <td>Alberto Fernández</td>\n",
       "      <td>https://upload.wikimedia.org/wikipedia/commons...</td>\n",
       "      <td>https://en.wikipedia.org/wiki/G20</td>\n",
       "      <td>international leaders</td>\n",
       "      <td>No</td>\n",
       "    </tr>\n",
       "    <tr>\n",
       "      <th>1</th>\n",
       "      <td>Anthony Albanese</td>\n",
       "      <td>https://upload.wikimedia.org/wikipedia/commons...</td>\n",
       "      <td>https://en.wikipedia.org/wiki/G20</td>\n",
       "      <td>international leaders</td>\n",
       "      <td>No</td>\n",
       "    </tr>\n",
       "    <tr>\n",
       "      <th>2</th>\n",
       "      <td>Jair Bolsonaro</td>\n",
       "      <td>https://upload.wikimedia.org/wikipedia/commons...</td>\n",
       "      <td>https://en.wikipedia.org/wiki/G20</td>\n",
       "      <td>international leaders</td>\n",
       "      <td>No</td>\n",
       "    </tr>\n",
       "    <tr>\n",
       "      <th>3</th>\n",
       "      <td>Justin Trudeau</td>\n",
       "      <td>https://upload.wikimedia.org/wikipedia/commons...</td>\n",
       "      <td>https://en.wikipedia.org/wiki/G20</td>\n",
       "      <td>international leaders</td>\n",
       "      <td>No</td>\n",
       "    </tr>\n",
       "    <tr>\n",
       "      <th>4</th>\n",
       "      <td>Xi Jinping</td>\n",
       "      <td>https://upload.wikimedia.org/wikipedia/commons...</td>\n",
       "      <td>https://en.wikipedia.org/wiki/G20</td>\n",
       "      <td>international leaders</td>\n",
       "      <td>No</td>\n",
       "    </tr>\n",
       "  </tbody>\n",
       "</table>\n",
       "</div>"
      ],
      "text/plain": [
       "           face_name                                           face_url  \\\n",
       "0  Alberto Fernández  https://upload.wikimedia.org/wikipedia/commons...   \n",
       "1   Anthony Albanese  https://upload.wikimedia.org/wikipedia/commons...   \n",
       "2     Jair Bolsonaro  https://upload.wikimedia.org/wikipedia/commons...   \n",
       "3     Justin Trudeau  https://upload.wikimedia.org/wikipedia/commons...   \n",
       "4         Xi Jinping  https://upload.wikimedia.org/wikipedia/commons...   \n",
       "\n",
       "                         face_source          face_category wmpid_status  \n",
       "0  https://en.wikipedia.org/wiki/G20  international leaders           No  \n",
       "1  https://en.wikipedia.org/wiki/G20  international leaders           No  \n",
       "2  https://en.wikipedia.org/wiki/G20  international leaders           No  \n",
       "3  https://en.wikipedia.org/wiki/G20  international leaders           No  \n",
       "4  https://en.wikipedia.org/wiki/G20  international leaders           No  "
      ]
     },
     "execution_count": 125,
     "metadata": {},
     "output_type": "execute_result"
    }
   ],
   "source": [
    "df.head()"
   ]
  },
  {
   "cell_type": "code",
   "execution_count": 126,
   "metadata": {},
   "outputs": [],
   "source": [
    "df.to_csv(\"non_cand_face_urls_2022.csv\", index=False)"
   ]
  },
  {
   "cell_type": "code",
   "execution_count": null,
   "metadata": {},
   "outputs": [],
   "source": []
  }
 ],
 "metadata": {
  "kernelspec": {
   "display_name": "Python 3",
   "language": "python",
   "name": "python3"
  },
  "language_info": {
   "codemirror_mode": {
    "name": "ipython",
    "version": 3
   },
   "file_extension": ".py",
   "mimetype": "text/x-python",
   "name": "python",
   "nbconvert_exporter": "python",
   "pygments_lexer": "ipython3",
   "version": "3.7.7"
  }
 },
 "nbformat": 4,
 "nbformat_minor": 4
}
