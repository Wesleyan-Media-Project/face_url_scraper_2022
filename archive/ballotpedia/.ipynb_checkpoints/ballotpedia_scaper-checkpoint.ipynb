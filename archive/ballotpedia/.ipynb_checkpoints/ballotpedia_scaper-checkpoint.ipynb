{
 "cells": [
  {
   "cell_type": "code",
   "execution_count": 1,
   "metadata": {
    "executionInfo": {
     "elapsed": 53,
     "status": "ok",
     "timestamp": 1670958816173,
     "user": {
      "displayName": "Jielu Yao",
      "userId": "09138677267510568916"
     },
     "user_tz": 300
    },
    "id": "MQIZH76g9k5Q"
   },
   "outputs": [],
   "source": [
    "import pandas as pd\n",
    "import bs4 as bs # pulling data out of HTML and XML files.\n",
    "import urllib.request # opening and reading URLs\n",
    "import re # pattern matching"
   ]
  },
  {
   "cell_type": "markdown",
   "metadata": {
    "id": "pSVuA1DH7uTq"
   },
   "source": [
    "### Senate"
   ]
  },
  {
   "cell_type": "code",
   "execution_count": 2,
   "metadata": {
    "executionInfo": {
     "elapsed": 3961,
     "status": "ok",
     "timestamp": 1670958820092,
     "user": {
      "displayName": "Jielu Yao",
      "userId": "09138677267510568916"
     },
     "user_tz": 300
    },
    "id": "4Cke4kyXTLIK"
   },
   "outputs": [],
   "source": [
    "#Download the website's html\n",
    "source = urllib.request.urlopen(\"https://ballotpedia.org/United_States_Senate_elections,_2022\").read()"
   ]
  },
  {
   "cell_type": "code",
   "execution_count": 3,
   "metadata": {
    "executionInfo": {
     "elapsed": 8,
     "status": "ok",
     "timestamp": 1670958820094,
     "user": {
      "displayName": "Jielu Yao",
      "userId": "09138677267510568916"
     },
     "user_tz": 300
    },
    "id": "DQgNvLtO-FFF"
   },
   "outputs": [],
   "source": [
    "#Parse the html\n",
    "soup = bs.BeautifulSoup(source)"
   ]
  },
  {
   "cell_type": "code",
   "execution_count": 4,
   "metadata": {
    "executionInfo": {
     "elapsed": 366,
     "status": "ok",
     "timestamp": 1670958821442,
     "user": {
      "displayName": "Jielu Yao",
      "userId": "09138677267510568916"
     },
     "user_tz": 300
    },
    "id": "shyrvAwgaU0w"
   },
   "outputs": [],
   "source": [
    "urls_css = \"small center a\""
   ]
  },
  {
   "cell_type": "code",
   "execution_count": 5,
   "metadata": {
    "colab": {
     "base_uri": "https://localhost:8080/"
    },
    "executionInfo": {
     "elapsed": 365,
     "status": "ok",
     "timestamp": 1670958821442,
     "user": {
      "displayName": "Jielu Yao",
      "userId": "09138677267510568916"
     },
     "user_tz": 300
    },
    "id": "ngEITkC2-oLW",
    "outputId": "85687011-4b7a-40ab-a2bf-23fe86382a67"
   },
   "outputs": [],
   "source": [
    "urls = soup.select(urls_css)"
   ]
  },
  {
   "cell_type": "code",
   "execution_count": 6,
   "metadata": {
    "colab": {
     "base_uri": "https://localhost:8080/"
    },
    "executionInfo": {
     "elapsed": 27,
     "status": "ok",
     "timestamp": 1670958821443,
     "user": {
      "displayName": "Jielu Yao",
      "userId": "09138677267510568916"
     },
     "user_tz": 300
    },
    "id": "g2Sz2HYjCmJs",
    "outputId": "fdfeec24-e4d1-450a-d6e0-f3d3a6c0cf7c"
   },
   "outputs": [
    {
     "data": {
      "text/plain": [
       "['/United_States_Senate_election_in_Alabama,_2022',\n",
       " '/United_States_Senate_election_in_Alaska,_2022',\n",
       " '/United_States_Senate_election_in_Arizona,_2022',\n",
       " '/United_States_Senate_election_in_Arkansas,_2022',\n",
       " '/United_States_Senate_election_in_California,_2022',\n",
       " '/United_States_Senate_special_election_in_California,_2022',\n",
       " '/United_States_Senate_election_in_Colorado,_2022',\n",
       " '/United_States_Senate_election_in_Connecticut,_2022',\n",
       " '/United_States_Senate_election_in_Florida,_2022',\n",
       " '/United_States_Senate_election_in_Georgia,_2022',\n",
       " '/United_States_Senate_election_in_Hawaii,_2022',\n",
       " '/United_States_Senate_election_in_Idaho,_2022',\n",
       " '/United_States_Senate_election_in_Illinois,_2022',\n",
       " '/United_States_Senate_election_in_Indiana,_2022',\n",
       " '/United_States_Senate_election_in_Iowa,_2022',\n",
       " '/United_States_Senate_election_in_Kansas,_2022',\n",
       " '/United_States_Senate_election_in_Kentucky,_2022',\n",
       " '/United_States_Senate_election_in_Louisiana,_2022',\n",
       " '/United_States_Senate_election_in_Maryland,_2022',\n",
       " '/United_States_Senate_election_in_Missouri,_2022',\n",
       " '/United_States_Senate_election_in_Nevada,_2022',\n",
       " '/United_States_Senate_election_in_New_Hampshire,_2022',\n",
       " '/United_States_Senate_election_in_New_York,_2022',\n",
       " '/United_States_Senate_election_in_North_Carolina,_2022',\n",
       " '/United_States_Senate_election_in_North_Dakota,_2022',\n",
       " '/United_States_Senate_election_in_Ohio,_2022',\n",
       " '/United_States_Senate_election_in_Oklahoma,_2022',\n",
       " '/United_States_Senate_special_election_in_Oklahoma,_2022',\n",
       " '/United_States_Senate_election_in_Oregon,_2022',\n",
       " '/United_States_Senate_election_in_Pennsylvania,_2022',\n",
       " '/United_States_Senate_election_in_South_Carolina,_2022',\n",
       " '/United_States_Senate_election_in_South_Dakota,_2022',\n",
       " '/United_States_Senate_election_in_Utah,_2022',\n",
       " '/United_States_Senate_election_in_Vermont,_2022',\n",
       " '/United_States_Senate_election_in_Washington,_2022',\n",
       " '/United_States_Senate_election_in_Wisconsin,_2022']"
      ]
     },
     "execution_count": 6,
     "metadata": {},
     "output_type": "execute_result"
    }
   ],
   "source": [
    "extracted_urls = [url[\"href\"] for url in urls]\n",
    "extracted_urls"
   ]
  },
  {
   "cell_type": "code",
   "execution_count": 7,
   "metadata": {
    "executionInfo": {
     "elapsed": 22,
     "status": "ok",
     "timestamp": 1670958821443,
     "user": {
      "displayName": "Jielu Yao",
      "userId": "09138677267510568916"
     },
     "user_tz": 300
    },
    "id": "XUlildR6md88"
   },
   "outputs": [],
   "source": [
    "full_urls = [\"https://ballotpedia.org\" + url_suffix for url_suffix in extracted_urls]"
   ]
  },
  {
   "cell_type": "code",
   "execution_count": null,
   "metadata": {},
   "outputs": [],
   "source": [
    "full_urls"
   ]
  },
  {
   "cell_type": "markdown",
   "metadata": {
    "id": "5ZtO5wfAcBkX"
   },
   "source": [
    "Now that we've got all the links, we need to visit each, extract what we need and save it somewhere."
   ]
  },
  {
   "cell_type": "code",
   "execution_count": 11,
   "metadata": {
    "executionInfo": {
     "elapsed": 169080,
     "status": "ok",
     "timestamp": 1670958992077,
     "user": {
      "displayName": "Jielu Yao",
      "userId": "09138677267510568916"
     },
     "user_tz": 300
    },
    "id": "6VbPU56BKKAd"
   },
   "outputs": [
    {
     "name": "stdout",
     "output_type": "stream",
     "text": [
      "https://ballotpedia.org/United_States_Senate_election_in_Alabama,_2022\n"
     ]
    }
   ],
   "source": [
    "#Now do this in a loop, for all 5 urls\n",
    "images = []\n",
    "states = []\n",
    "\n",
    "for i in full_urls[0:1]:\n",
    "  print(i)\n",
    "  source = urllib.request.urlopen(i).read()\n",
    "  soup = bs.BeautifulSoup(source)\n",
    "  img_css = \".image-candidate-thumbnail\"\n",
    "  img = soup.select(img_css)\n",
    "  images.extend(list(set([i['src'] for i in img])))\n",
    "  states.extend([i]*len(set([i['src'] for i in img])))"
   ]
  },
  {
   "cell_type": "code",
   "execution_count": 13,
   "metadata": {},
   "outputs": [
    {
     "data": {
      "text/plain": [
       "['https://s3.amazonaws.com/ballotpedia-api4/files/thumbs/100/100/RuthPageNelson.jpg',\n",
       " 'https://s3.amazonaws.com/ballotpedia-api4/files/thumbs/100/100/LannyJackson.jpg',\n",
       " 'https://s3.amazonaws.com/ballotpedia-api4/files/thumbs/100/100/3CA6F21F-05C2-4335-9304-7BA3CF3B4A94-min.jpeg',\n",
       " 'https://s3.amazonaws.com/ballotpedia-api4/files/thumbs/100/100/Mike_Durant.jpeg',\n",
       " 'https://s3.amazonaws.com/ballotpedia-api4/files/thumbs/100/100/Tommy-Tuberville.jpg',\n",
       " 'https://s3.amazonaws.com/ballotpedia-api4/files/thumbs/100/100/KarlaDuPriest.JPG',\n",
       " 'https://s3.amazonaws.com/ballotpedia-api4/files/thumbs/100/100/brittkatie.jpg',\n",
       " 'https://s3.amazonaws.com/ballotpedia-api4/files/thumbs/100/100/Jeff_Sessions.jpg',\n",
       " 'https://s3.amazonaws.com/ballotpedia-api4/files/thumbs/100/100/Screen_Shot_2019-01-22_at_1.00.36_PM.png',\n",
       " 'https://s3.amazonaws.com/ballotpedia-api4/files/thumbs/100/100/Mo_Brooks.jpg',\n",
       " 'https://s3.amazonaws.com/ballotpedia-api4/files/thumbs/100/100/BrandaunDean2.jpeg',\n",
       " 'https://s3.amazonaws.com/ballotpedia-api4/files/thumbs/100/100/John_SophocleusAL.png',\n",
       " 'https://s3.amazonaws.com/ballotpedia-api4/files/thumbs/100/100/Roy-Moore.png',\n",
       " 'https://s3.amazonaws.com/ballotpedia-api4/files/thumbs/100/100/Arnold__Mooney.jpg',\n",
       " 'https://s3.amazonaws.com/ballotpedia-api4/files/thumbs/100/100/schaferjake2.jpg',\n",
       " 'https://s3.amazonaws.com/ballotpedia-api4/files/thumbs/100/100/WillBoyd2.jpg',\n",
       " 'https://s3.amazonaws.com/ballotpedia-api4/files/thumbs/100/100/800px-Senator_Doug_Jones_official_photo.jpg']"
      ]
     },
     "execution_count": 13,
     "metadata": {},
     "output_type": "execute_result"
    }
   ],
   "source": [
    "images"
   ]
  },
  {
   "cell_type": "code",
   "execution_count": null,
   "metadata": {
    "colab": {
     "base_uri": "https://localhost:8080/"
    },
    "executionInfo": {
     "elapsed": 207,
     "status": "ok",
     "timestamp": 1670958992085,
     "user": {
      "displayName": "Jielu Yao",
      "userId": "09138677267510568916"
     },
     "user_tz": 300
    },
    "id": "XNPOp_Ue3suP",
    "outputId": "0e241f19-767f-4682-afdd-2dda37afd63f"
   },
   "outputs": [],
   "source": [
    "len(images)"
   ]
  },
  {
   "cell_type": "code",
   "execution_count": null,
   "metadata": {
    "colab": {
     "base_uri": "https://localhost:8080/"
    },
    "executionInfo": {
     "elapsed": 143,
     "status": "ok",
     "timestamp": 1670958992086,
     "user": {
      "displayName": "Jielu Yao",
      "userId": "09138677267510568916"
     },
     "user_tz": 300
    },
    "id": "UC2GTG3Q6HGr",
    "outputId": "16d736ca-b65a-4e7b-8769-de947722041c"
   },
   "outputs": [],
   "source": [
    "len(states)"
   ]
  },
  {
   "cell_type": "code",
   "execution_count": null,
   "metadata": {
    "executionInfo": {
     "elapsed": 405,
     "status": "ok",
     "timestamp": 1670959006541,
     "user": {
      "displayName": "Jielu Yao",
      "userId": "09138677267510568916"
     },
     "user_tz": 300
    },
    "id": "WofN_kLB9ORc"
   },
   "outputs": [],
   "source": [
    "d = {'bp_office':states,'bp_url':images}"
   ]
  },
  {
   "cell_type": "code",
   "execution_count": null,
   "metadata": {
    "executionInfo": {
     "elapsed": 546,
     "status": "ok",
     "timestamp": 1670959011305,
     "user": {
      "displayName": "Jielu Yao",
      "userId": "09138677267510568916"
     },
     "user_tz": 300
    },
    "id": "xL6QID869dT2"
   },
   "outputs": [],
   "source": [
    "sen = pd.DataFrame(d)"
   ]
  },
  {
   "cell_type": "code",
   "execution_count": null,
   "metadata": {
    "colab": {
     "base_uri": "https://localhost:8080/",
     "height": 35
    },
    "executionInfo": {
     "elapsed": 166,
     "status": "ok",
     "timestamp": 1670878451169,
     "user": {
      "displayName": "Jielu Yao",
      "userId": "09138677267510568916"
     },
     "user_tz": 300
    },
    "id": "G7tkOrbRHZU_",
    "outputId": "1a97179c-1d0e-4936-b3eb-5dd09210b5b8"
   },
   "outputs": [],
   "source": [
    "sen.loc[0, 'bp_state']"
   ]
  },
  {
   "cell_type": "code",
   "execution_count": null,
   "metadata": {
    "executionInfo": {
     "elapsed": 332,
     "status": "ok",
     "timestamp": 1670959157872,
     "user": {
      "displayName": "Jielu Yao",
      "userId": "09138677267510568916"
     },
     "user_tz": 300
    },
    "id": "7PGKP7XI61zG"
   },
   "outputs": [],
   "source": [
    "sen['bp_cand_office'] ='S'"
   ]
  },
  {
   "cell_type": "code",
   "execution_count": null,
   "metadata": {
    "colab": {
     "base_uri": "https://localhost:8080/",
     "height": 357
    },
    "executionInfo": {
     "elapsed": 34,
     "status": "ok",
     "timestamp": 1670959163337,
     "user": {
      "displayName": "Jielu Yao",
      "userId": "09138677267510568916"
     },
     "user_tz": 300
    },
    "id": "pPueCuxI9qP4",
    "outputId": "36661fc0-dcaf-442f-f173-90e408b684ba"
   },
   "outputs": [],
   "source": [
    "sen.head()"
   ]
  },
  {
   "cell_type": "markdown",
   "metadata": {
    "id": "iJl3C2J-9IJT"
   },
   "source": [
    "### House"
   ]
  },
  {
   "cell_type": "code",
   "execution_count": null,
   "metadata": {
    "executionInfo": {
     "elapsed": 2726,
     "status": "ok",
     "timestamp": 1670947766955,
     "user": {
      "displayName": "Jielu Yao",
      "userId": "09138677267510568916"
     },
     "user_tz": 300
    },
    "id": "WQFgzouz9JMu"
   },
   "outputs": [],
   "source": [
    "#Download the website's html\n",
    "source = urllib.request.urlopen(\"https://ballotpedia.org/United_States_House_of_Representatives_elections,_2022\").read()"
   ]
  },
  {
   "cell_type": "code",
   "execution_count": null,
   "metadata": {
    "executionInfo": {
     "elapsed": 4,
     "status": "ok",
     "timestamp": 1670947767504,
     "user": {
      "displayName": "Jielu Yao",
      "userId": "09138677267510568916"
     },
     "user_tz": 300
    },
    "id": "PxWljwaaIeHi"
   },
   "outputs": [],
   "source": [
    "#Parse the html\n",
    "#This makes it look nice and structured for us, and much easier to read for the program\n",
    "soup = bs.BeautifulSoup(source)"
   ]
  },
  {
   "cell_type": "code",
   "execution_count": null,
   "metadata": {
    "id": "pSda9d8IIeHi"
   },
   "outputs": [],
   "source": [
    "#Let's have a look\n",
    "print(soup)"
   ]
  },
  {
   "cell_type": "code",
   "execution_count": null,
   "metadata": {
    "executionInfo": {
     "elapsed": 3,
     "status": "ok",
     "timestamp": 1670947773196,
     "user": {
      "displayName": "Jielu Yao",
      "userId": "09138677267510568916"
     },
     "user_tz": 300
    },
    "id": "93XQSWY3Ili4"
   },
   "outputs": [],
   "source": [
    "urls_css = \"center small a\""
   ]
  },
  {
   "cell_type": "code",
   "execution_count": null,
   "metadata": {
    "colab": {
     "base_uri": "https://localhost:8080/"
    },
    "executionInfo": {
     "elapsed": 18,
     "status": "ok",
     "timestamp": 1670947774064,
     "user": {
      "displayName": "Jielu Yao",
      "userId": "09138677267510568916"
     },
     "user_tz": 300
    },
    "id": "Li5DkH-PIli4",
    "outputId": "d82617d8-81d7-4601-d3b2-95c70eb1cf10"
   },
   "outputs": [],
   "source": [
    "urls = soup.select(urls_css)"
   ]
  },
  {
   "cell_type": "code",
   "execution_count": null,
   "metadata": {
    "colab": {
     "base_uri": "https://localhost:8080/"
    },
    "executionInfo": {
     "elapsed": 4,
     "status": "ok",
     "timestamp": 1670947775738,
     "user": {
      "displayName": "Jielu Yao",
      "userId": "09138677267510568916"
     },
     "user_tz": 300
    },
    "id": "42vP7WfbIli4",
    "outputId": "2a47c00f-63b2-4f46-cd1f-876f0086ff6a"
   },
   "outputs": [],
   "source": [
    "extracted_urls = [url[\"href\"] for url in urls]\n",
    "extracted_urls"
   ]
  },
  {
   "cell_type": "code",
   "execution_count": null,
   "metadata": {
    "executionInfo": {
     "elapsed": 3,
     "status": "ok",
     "timestamp": 1670947780282,
     "user": {
      "displayName": "Jielu Yao",
      "userId": "09138677267510568916"
     },
     "user_tz": 300
    },
    "id": "J38uMlFvIli5"
   },
   "outputs": [],
   "source": [
    "full_urls = [\"https://ballotpedia.org\" + url_suffix for url_suffix in extracted_urls]"
   ]
  },
  {
   "cell_type": "code",
   "execution_count": null,
   "metadata": {
    "colab": {
     "base_uri": "https://localhost:8080/"
    },
    "executionInfo": {
     "elapsed": 44,
     "status": "ok",
     "timestamp": 1670947782524,
     "user": {
      "displayName": "Jielu Yao",
      "userId": "09138677267510568916"
     },
     "user_tz": 300
    },
    "id": "aukTHe9uIli5",
    "outputId": "419daccb-da04-4757-c451-f600e9e153a8"
   },
   "outputs": [],
   "source": [
    "full_urls"
   ]
  },
  {
   "cell_type": "markdown",
   "metadata": {
    "id": "pIjbXtKpXlnx"
   },
   "source": [
    "#### Distinguish two types of structure "
   ]
  },
  {
   "cell_type": "code",
   "execution_count": null,
   "metadata": {
    "colab": {
     "base_uri": "https://localhost:8080/",
     "height": 53
    },
    "executionInfo": {
     "elapsed": 615,
     "status": "ok",
     "timestamp": 1670950189122,
     "user": {
      "displayName": "Jielu Yao",
      "userId": "09138677267510568916"
     },
     "user_tz": 300
    },
    "id": "plmeJWGKY6Pm",
    "outputId": "f4d79089-476b-4437-ba95-f2298a90c56a"
   },
   "outputs": [],
   "source": [
    "full_urls[0]"
   ]
  },
  {
   "cell_type": "code",
   "execution_count": null,
   "metadata": {
    "executionInfo": {
     "elapsed": 2376,
     "status": "ok",
     "timestamp": 1670950212575,
     "user": {
      "displayName": "Jielu Yao",
      "userId": "09138677267510568916"
     },
     "user_tz": 300
    },
    "id": "N2JCJ2iEYx20"
   },
   "outputs": [],
   "source": [
    "source = urllib.request.urlopen(full_urls[0]).read()\n",
    "soup = bs.BeautifulSoup(source)\n",
    "img_css = \"#Candidates_and_election_results\"\n",
    "img = soup.select(img_css)"
   ]
  },
  {
   "cell_type": "code",
   "execution_count": null,
   "metadata": {
    "colab": {
     "base_uri": "https://localhost:8080/"
    },
    "executionInfo": {
     "elapsed": 509,
     "status": "ok",
     "timestamp": 1670950174102,
     "user": {
      "displayName": "Jielu Yao",
      "userId": "09138677267510568916"
     },
     "user_tz": 300
    },
    "id": "Ype3dZYRZChf",
    "outputId": "89afaaa3-4298-46c1-a150-9862461c75b7"
   },
   "outputs": [],
   "source": [
    "img"
   ]
  },
  {
   "cell_type": "code",
   "execution_count": null,
   "metadata": {
    "executionInfo": {
     "elapsed": 203328,
     "status": "ok",
     "timestamp": 1670951487942,
     "user": {
      "displayName": "Jielu Yao",
      "userId": "09138677267510568916"
     },
     "user_tz": 300
    },
    "id": "R65iDYItI5Gn"
   },
   "outputs": [],
   "source": [
    "urls_1 = []\n",
    "urls_2 = []\n",
    "\n",
    "for i in full_urls:\n",
    "  source = urllib.request.urlopen(i).read()\n",
    "  soup = bs.BeautifulSoup(source)\n",
    "  res_css = \"#District_1\"\n",
    "  res = soup.select(res_css)\n",
    "  if len(res) == 0:\n",
    "    urls_1.append(i)\n",
    "  else:\n",
    "    urls_2.append(i)"
   ]
  },
  {
   "cell_type": "code",
   "execution_count": null,
   "metadata": {
    "colab": {
     "base_uri": "https://localhost:8080/"
    },
    "executionInfo": {
     "elapsed": 595,
     "status": "ok",
     "timestamp": 1670951661424,
     "user": {
      "displayName": "Jielu Yao",
      "userId": "09138677267510568916"
     },
     "user_tz": 300
    },
    "id": "Xr7NFf_3XbTZ",
    "outputId": "78a5878d-8a11-4a63-aded-644f1eef04be"
   },
   "outputs": [],
   "source": [
    "urls_1"
   ]
  },
  {
   "cell_type": "code",
   "execution_count": null,
   "metadata": {
    "colab": {
     "base_uri": "https://localhost:8080/"
    },
    "executionInfo": {
     "elapsed": 300,
     "status": "ok",
     "timestamp": 1670951683281,
     "user": {
      "displayName": "Jielu Yao",
      "userId": "09138677267510568916"
     },
     "user_tz": 300
    },
    "id": "e_5WT7j_ewYf",
    "outputId": "70272b52-9b83-4847-85d9-a37abd7f33c2"
   },
   "outputs": [],
   "source": [
    "len(urls_2)"
   ]
  },
  {
   "cell_type": "markdown",
   "metadata": {
    "id": "b-g8kZxsfIFI"
   },
   "source": [
    "#### States with one layer"
   ]
  },
  {
   "cell_type": "code",
   "execution_count": null,
   "metadata": {
    "executionInfo": {
     "elapsed": 325,
     "status": "ok",
     "timestamp": 1670952653838,
     "user": {
      "displayName": "Jielu Yao",
      "userId": "09138677267510568916"
     },
     "user_tz": 300
    },
    "id": "9NI_JQ1NhDSZ"
   },
   "outputs": [],
   "source": [
    "d1 = pd.DataFrame(columns=['bp_office', 'bp_url'])"
   ]
  },
  {
   "cell_type": "code",
   "execution_count": null,
   "metadata": {
    "executionInfo": {
     "elapsed": 22062,
     "status": "ok",
     "timestamp": 1670952679040,
     "user": {
      "displayName": "Jielu Yao",
      "userId": "09138677267510568916"
     },
     "user_tz": 300
    },
    "id": "fiBjrzYhfKr-"
   },
   "outputs": [],
   "source": [
    "for i in urls_1[:]:\n",
    "  images = []\n",
    "  district = []\n",
    "  source = urllib.request.urlopen(i).read()\n",
    "  soup = bs.BeautifulSoup(source)\n",
    "  img_css = \".image-candidate-thumbnail\"\n",
    "  img = soup.select(img_css)\n",
    "  images.extend(list(set([i['src'] for i in img])))\n",
    "  district.extend([i]*len(set([i['src'] for i in img])))\n",
    "  dic = {'bp_office':district,'bp_url':images}\n",
    "  df = pd.DataFrame(dic)\n",
    "  d1=d1.append(df)"
   ]
  },
  {
   "cell_type": "code",
   "execution_count": null,
   "metadata": {
    "colab": {
     "base_uri": "https://localhost:8080/",
     "height": 297
    },
    "executionInfo": {
     "elapsed": 493,
     "status": "ok",
     "timestamp": 1670952532218,
     "user": {
      "displayName": "Jielu Yao",
      "userId": "09138677267510568916"
     },
     "user_tz": 300
    },
    "id": "9WGAD3Btg0Fq",
    "outputId": "63422c99-840c-420e-d32f-d9228e7af4e8"
   },
   "outputs": [],
   "source": [
    "df.tail()"
   ]
  },
  {
   "cell_type": "code",
   "execution_count": null,
   "metadata": {
    "colab": {
     "base_uri": "https://localhost:8080/"
    },
    "executionInfo": {
     "elapsed": 1175,
     "status": "ok",
     "timestamp": 1670954421842,
     "user": {
      "displayName": "Jielu Yao",
      "userId": "09138677267510568916"
     },
     "user_tz": 300
    },
    "id": "qLKoYGGygphB",
    "outputId": "2f156026-bcb7-435a-b1d7-5a2eaacae66c"
   },
   "outputs": [],
   "source": [
    "d1.shape"
   ]
  },
  {
   "cell_type": "code",
   "execution_count": null,
   "metadata": {
    "colab": {
     "base_uri": "https://localhost:8080/"
    },
    "executionInfo": {
     "elapsed": 552,
     "status": "ok",
     "timestamp": 1670954444293,
     "user": {
      "displayName": "Jielu Yao",
      "userId": "09138677267510568916"
     },
     "user_tz": 300
    },
    "id": "i4v-_CYWpR54",
    "outputId": "636708f1-3c91-4e48-90a1-2ca4f7d7bf92"
   },
   "outputs": [],
   "source": [
    "d1.bp_office.value_counts()"
   ]
  },
  {
   "cell_type": "markdown",
   "metadata": {
    "id": "skuBKwcse3Qp"
   },
   "source": [
    "#### States with two layers"
   ]
  },
  {
   "cell_type": "code",
   "execution_count": null,
   "metadata": {
    "executionInfo": {
     "elapsed": 469,
     "status": "ok",
     "timestamp": 1670956168903,
     "user": {
      "displayName": "Jielu Yao",
      "userId": "09138677267510568916"
     },
     "user_tz": 300
    },
    "id": "jpxYn8E5tsN_"
   },
   "outputs": [],
   "source": [
    "images = []\n",
    "district = []"
   ]
  },
  {
   "cell_type": "code",
   "execution_count": null,
   "metadata": {
    "executionInfo": {
     "elapsed": 2270491,
     "status": "ok",
     "timestamp": 1670958443064,
     "user": {
      "displayName": "Jielu Yao",
      "userId": "09138677267510568916"
     },
     "user_tz": 300
    },
    "id": "Q2oBZQ9Xe_Ta"
   },
   "outputs": [],
   "source": [
    "for i in urls_2[:]:\n",
    "  source = urllib.request.urlopen(i).read()\n",
    "  soup = bs.BeautifulSoup(source)\n",
    "  dist_css = \"dd dl dd i a\"\n",
    "  dist = soup.select(dist_css)\n",
    "  # urls_css = \"center small a\"\n",
    "  # urls = soup.select(urls_css)\n",
    "  extracted_urls = [i[\"href\"] for i in dist]\n",
    "  extracted_urls\n",
    "  st_urls = [\"https://ballotpedia.org\" + url_suffix for url_suffix in extracted_urls]\n",
    "  #print(st_urls)\n",
    "  for i in st_urls:\n",
    "    if '27s' in i:\n",
    "        source2 = urllib.request.urlopen(i).read()\n",
    "        soup2 = bs.BeautifulSoup(source2)\n",
    "        img_css = \".image-candidate-thumbnail\"\n",
    "        img = soup2.select(img_css)\n",
    "        images.extend(list(set([i['src'] for i in img])))\n",
    "        district.extend([i]*len(set([i['src'] for i in img])))"
   ]
  },
  {
   "cell_type": "code",
   "execution_count": null,
   "metadata": {
    "colab": {
     "base_uri": "https://localhost:8080/"
    },
    "executionInfo": {
     "elapsed": 553,
     "status": "ok",
     "timestamp": 1670958507508,
     "user": {
      "displayName": "Jielu Yao",
      "userId": "09138677267510568916"
     },
     "user_tz": 300
    },
    "id": "5e1lldhSuIUz",
    "outputId": "cdd7ff0a-0572-40ef-efde-9a654b616cbb"
   },
   "outputs": [],
   "source": [
    "len(images)"
   ]
  },
  {
   "cell_type": "code",
   "execution_count": null,
   "metadata": {
    "colab": {
     "base_uri": "https://localhost:8080/"
    },
    "executionInfo": {
     "elapsed": 519,
     "status": "ok",
     "timestamp": 1670958510104,
     "user": {
      "displayName": "Jielu Yao",
      "userId": "09138677267510568916"
     },
     "user_tz": 300
    },
    "id": "WLhsS616uKKl",
    "outputId": "c03d1b2f-99e1-4aa6-c467-9d19649332e6"
   },
   "outputs": [],
   "source": [
    "len(district)"
   ]
  },
  {
   "cell_type": "code",
   "execution_count": null,
   "metadata": {
    "executionInfo": {
     "elapsed": 492,
     "status": "ok",
     "timestamp": 1670958606861,
     "user": {
      "displayName": "Jielu Yao",
      "userId": "09138677267510568916"
     },
     "user_tz": 300
    },
    "id": "CLe-qBXl5EI-"
   },
   "outputs": [],
   "source": [
    "h = {'bp_office':district,'bp_url':images}"
   ]
  },
  {
   "cell_type": "code",
   "execution_count": null,
   "metadata": {
    "executionInfo": {
     "elapsed": 6,
     "status": "ok",
     "timestamp": 1670958608498,
     "user": {
      "displayName": "Jielu Yao",
      "userId": "09138677267510568916"
     },
     "user_tz": 300
    },
    "id": "NXUu-Far5EJA"
   },
   "outputs": [],
   "source": [
    "house = pd.DataFrame(h)"
   ]
  },
  {
   "cell_type": "code",
   "execution_count": null,
   "metadata": {
    "colab": {
     "base_uri": "https://localhost:8080/"
    },
    "executionInfo": {
     "elapsed": 268,
     "status": "ok",
     "timestamp": 1670958616245,
     "user": {
      "displayName": "Jielu Yao",
      "userId": "09138677267510568916"
     },
     "user_tz": 300
    },
    "id": "1n5FVb5P5Pdq",
    "outputId": "3e98dbf8-0dc5-4a7e-f0f0-42567a45c1be"
   },
   "outputs": [],
   "source": [
    "house.shape"
   ]
  },
  {
   "cell_type": "code",
   "execution_count": null,
   "metadata": {
    "colab": {
     "base_uri": "https://localhost:8080/",
     "height": 601
    },
    "executionInfo": {
     "elapsed": 586,
     "status": "ok",
     "timestamp": 1670959424459,
     "user": {
      "displayName": "Jielu Yao",
      "userId": "09138677267510568916"
     },
     "user_tz": 300
    },
    "id": "G2RHIiUi5RM1",
    "outputId": "b92d3d3e-7553-4aad-df31-1a7235dd206c"
   },
   "outputs": [],
   "source": [
    "house.head(10)"
   ]
  },
  {
   "cell_type": "code",
   "execution_count": null,
   "metadata": {
    "executionInfo": {
     "elapsed": 575,
     "status": "ok",
     "timestamp": 1670959201636,
     "user": {
      "displayName": "Jielu Yao",
      "userId": "09138677267510568916"
     },
     "user_tz": 300
    },
    "id": "HOaRAzM37ZUW"
   },
   "outputs": [],
   "source": [
    "house['bp_cand_office'] ='H'"
   ]
  },
  {
   "cell_type": "code",
   "execution_count": null,
   "metadata": {
    "executionInfo": {
     "elapsed": 362,
     "status": "ok",
     "timestamp": 1670959420726,
     "user": {
      "displayName": "Jielu Yao",
      "userId": "09138677267510568916"
     },
     "user_tz": 300
    },
    "id": "pcPsN4OA7uWm"
   },
   "outputs": [],
   "source": [
    "house = house.rename(columns={'bp_state':'bp_office'})"
   ]
  },
  {
   "cell_type": "markdown",
   "metadata": {
    "id": "sVDgPtC27hDv"
   },
   "source": [
    "### Combine the results"
   ]
  },
  {
   "cell_type": "code",
   "execution_count": null,
   "metadata": {
    "colab": {
     "base_uri": "https://localhost:8080/",
     "height": 357
    },
    "executionInfo": {
     "elapsed": 292,
     "status": "ok",
     "timestamp": 1670959441555,
     "user": {
      "displayName": "Jielu Yao",
      "userId": "09138677267510568916"
     },
     "user_tz": 300
    },
    "id": "M07VX9YK7fWs",
    "outputId": "b2ccad9f-b026-47e8-9811-703d91306a30"
   },
   "outputs": [],
   "source": [
    "sen.head()"
   ]
  },
  {
   "cell_type": "code",
   "execution_count": null,
   "metadata": {
    "colab": {
     "base_uri": "https://localhost:8080/",
     "height": 357
    },
    "executionInfo": {
     "elapsed": 539,
     "status": "ok",
     "timestamp": 1670959443815,
     "user": {
      "displayName": "Jielu Yao",
      "userId": "09138677267510568916"
     },
     "user_tz": 300
    },
    "id": "8ZX8lpfI7_bE",
    "outputId": "9f497545-64d5-4a02-b08f-73e76fa7de5a"
   },
   "outputs": [],
   "source": [
    "house.head()"
   ]
  },
  {
   "cell_type": "code",
   "execution_count": null,
   "metadata": {
    "executionInfo": {
     "elapsed": 602,
     "status": "ok",
     "timestamp": 1670959485290,
     "user": {
      "displayName": "Jielu Yao",
      "userId": "09138677267510568916"
     },
     "user_tz": 300
    },
    "id": "aoslUBe98CQO"
   },
   "outputs": [],
   "source": [
    "congress = pd.concat([sen, house])"
   ]
  },
  {
   "cell_type": "code",
   "execution_count": null,
   "metadata": {
    "colab": {
     "base_uri": "https://localhost:8080/"
    },
    "executionInfo": {
     "elapsed": 609,
     "status": "ok",
     "timestamp": 1670959491077,
     "user": {
      "displayName": "Jielu Yao",
      "userId": "09138677267510568916"
     },
     "user_tz": 300
    },
    "id": "rncpnV8u8kin",
    "outputId": "e8fe1bcc-3c30-4fc9-a943-50e0e073c352"
   },
   "outputs": [],
   "source": [
    "congress.shape"
   ]
  },
  {
   "cell_type": "code",
   "execution_count": null,
   "metadata": {
    "colab": {
     "base_uri": "https://localhost:8080/",
     "height": 357
    },
    "executionInfo": {
     "elapsed": 516,
     "status": "ok",
     "timestamp": 1670959495712,
     "user": {
      "displayName": "Jielu Yao",
      "userId": "09138677267510568916"
     },
     "user_tz": 300
    },
    "id": "CXfL0eg98mDc",
    "outputId": "faf5f4c5-2ad8-47f8-ce72-5895fe04d941"
   },
   "outputs": [],
   "source": [
    "congress.head()"
   ]
  },
  {
   "cell_type": "code",
   "execution_count": null,
   "metadata": {
    "executionInfo": {
     "elapsed": 280,
     "status": "ok",
     "timestamp": 1670959800946,
     "user": {
      "displayName": "Jielu Yao",
      "userId": "09138677267510568916"
     },
     "user_tz": 300
    },
    "id": "9dWVXETR8nVX"
   },
   "outputs": [],
   "source": [
    "congress.to_csv(\"./bp_congress_scraped_face.csv\", index=False)"
   ]
  }
 ],
 "metadata": {
  "colab": {
   "authorship_tag": "ABX9TyOBjkuKaXN5r0lJ+GZJIRG/",
   "mount_file_id": "1K4Q98kHGjVxwpExweV55zvMjsp0MO82e",
   "provenance": []
  },
  "kernelspec": {
   "display_name": "Python 3",
   "language": "python",
   "name": "python3"
  },
  "language_info": {
   "codemirror_mode": {
    "name": "ipython",
    "version": 3
   },
   "file_extension": ".py",
   "mimetype": "text/x-python",
   "name": "python",
   "nbconvert_exporter": "python",
   "pygments_lexer": "ipython3",
   "version": "3.8.5"
  }
 },
 "nbformat": 4,
 "nbformat_minor": 1
}
