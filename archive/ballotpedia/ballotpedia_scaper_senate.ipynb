{
 "cells": [
  {
   "cell_type": "code",
   "execution_count": 1,
   "metadata": {
    "executionInfo": {
     "elapsed": 53,
     "status": "ok",
     "timestamp": 1670958816173,
     "user": {
      "displayName": "Jielu Yao",
      "userId": "09138677267510568916"
     },
     "user_tz": 300
    },
    "id": "MQIZH76g9k5Q"
   },
   "outputs": [],
   "source": [
    "import pandas as pd\n",
    "import bs4 as bs # pulling data out of HTML and XML files.\n",
    "import urllib.request # opening and reading URLs\n",
    "import re # pattern matching"
   ]
  },
  {
   "cell_type": "code",
   "execution_count": 2,
   "metadata": {},
   "outputs": [
    {
     "name": "stderr",
     "output_type": "stream",
     "text": [
      "/Users/jieluyao/opt/anaconda3/lib/python3.8/site-packages/fuzzywuzzy/fuzz.py:11: UserWarning: Using slow pure-python SequenceMatcher. Install python-Levenshtein to remove this warning\n",
      "  warnings.warn('Using slow pure-python SequenceMatcher. Install python-Levenshtein to remove this warning')\n"
     ]
    }
   ],
   "source": [
    "from fuzzywuzzy import fuzz\n",
    "from fuzzywuzzy import process"
   ]
  },
  {
   "cell_type": "markdown",
   "metadata": {
    "id": "pSVuA1DH7uTq"
   },
   "source": [
    "### Senate"
   ]
  },
  {
   "cell_type": "code",
   "execution_count": 3,
   "metadata": {
    "executionInfo": {
     "elapsed": 3961,
     "status": "ok",
     "timestamp": 1670958820092,
     "user": {
      "displayName": "Jielu Yao",
      "userId": "09138677267510568916"
     },
     "user_tz": 300
    },
    "id": "4Cke4kyXTLIK"
   },
   "outputs": [],
   "source": [
    "#Download the website's html\n",
    "source = urllib.request.urlopen(\"https://ballotpedia.org/United_States_Senate_elections,_2022\").read()"
   ]
  },
  {
   "cell_type": "code",
   "execution_count": 4,
   "metadata": {
    "executionInfo": {
     "elapsed": 8,
     "status": "ok",
     "timestamp": 1670958820094,
     "user": {
      "displayName": "Jielu Yao",
      "userId": "09138677267510568916"
     },
     "user_tz": 300
    },
    "id": "DQgNvLtO-FFF"
   },
   "outputs": [],
   "source": [
    "#Parse the html\n",
    "soup = bs.BeautifulSoup(source)"
   ]
  },
  {
   "cell_type": "code",
   "execution_count": 5,
   "metadata": {
    "executionInfo": {
     "elapsed": 366,
     "status": "ok",
     "timestamp": 1670958821442,
     "user": {
      "displayName": "Jielu Yao",
      "userId": "09138677267510568916"
     },
     "user_tz": 300
    },
    "id": "shyrvAwgaU0w"
   },
   "outputs": [],
   "source": [
    "urls_css = \"small center a\""
   ]
  },
  {
   "cell_type": "code",
   "execution_count": 6,
   "metadata": {
    "colab": {
     "base_uri": "https://localhost:8080/"
    },
    "executionInfo": {
     "elapsed": 365,
     "status": "ok",
     "timestamp": 1670958821442,
     "user": {
      "displayName": "Jielu Yao",
      "userId": "09138677267510568916"
     },
     "user_tz": 300
    },
    "id": "ngEITkC2-oLW",
    "outputId": "85687011-4b7a-40ab-a2bf-23fe86382a67"
   },
   "outputs": [],
   "source": [
    "urls = soup.select(urls_css)"
   ]
  },
  {
   "cell_type": "code",
   "execution_count": 7,
   "metadata": {
    "colab": {
     "base_uri": "https://localhost:8080/"
    },
    "executionInfo": {
     "elapsed": 27,
     "status": "ok",
     "timestamp": 1670958821443,
     "user": {
      "displayName": "Jielu Yao",
      "userId": "09138677267510568916"
     },
     "user_tz": 300
    },
    "id": "g2Sz2HYjCmJs",
    "outputId": "fdfeec24-e4d1-450a-d6e0-f3d3a6c0cf7c"
   },
   "outputs": [
    {
     "data": {
      "text/plain": [
       "['/United_States_Senate_election_in_Alabama,_2022',\n",
       " '/United_States_Senate_election_in_Alaska,_2022',\n",
       " '/United_States_Senate_election_in_Arizona,_2022',\n",
       " '/United_States_Senate_election_in_Arkansas,_2022',\n",
       " '/United_States_Senate_election_in_California,_2022',\n",
       " '/United_States_Senate_special_election_in_California,_2022',\n",
       " '/United_States_Senate_election_in_Colorado,_2022',\n",
       " '/United_States_Senate_election_in_Connecticut,_2022',\n",
       " '/United_States_Senate_election_in_Florida,_2022',\n",
       " '/United_States_Senate_election_in_Georgia,_2022',\n",
       " '/United_States_Senate_election_in_Hawaii,_2022',\n",
       " '/United_States_Senate_election_in_Idaho,_2022',\n",
       " '/United_States_Senate_election_in_Illinois,_2022',\n",
       " '/United_States_Senate_election_in_Indiana,_2022',\n",
       " '/United_States_Senate_election_in_Iowa,_2022',\n",
       " '/United_States_Senate_election_in_Kansas,_2022',\n",
       " '/United_States_Senate_election_in_Kentucky,_2022',\n",
       " '/United_States_Senate_election_in_Louisiana,_2022',\n",
       " '/United_States_Senate_election_in_Maryland,_2022',\n",
       " '/United_States_Senate_election_in_Missouri,_2022',\n",
       " '/United_States_Senate_election_in_Nevada,_2022',\n",
       " '/United_States_Senate_election_in_New_Hampshire,_2022',\n",
       " '/United_States_Senate_election_in_New_York,_2022',\n",
       " '/United_States_Senate_election_in_North_Carolina,_2022',\n",
       " '/United_States_Senate_election_in_North_Dakota,_2022',\n",
       " '/United_States_Senate_election_in_Ohio,_2022',\n",
       " '/United_States_Senate_election_in_Oklahoma,_2022',\n",
       " '/United_States_Senate_special_election_in_Oklahoma,_2022',\n",
       " '/United_States_Senate_election_in_Oregon,_2022',\n",
       " '/United_States_Senate_election_in_Pennsylvania,_2022',\n",
       " '/United_States_Senate_election_in_South_Carolina,_2022',\n",
       " '/United_States_Senate_election_in_South_Dakota,_2022',\n",
       " '/United_States_Senate_election_in_Utah,_2022',\n",
       " '/United_States_Senate_election_in_Vermont,_2022',\n",
       " '/United_States_Senate_election_in_Washington,_2022',\n",
       " '/United_States_Senate_election_in_Wisconsin,_2022']"
      ]
     },
     "execution_count": 7,
     "metadata": {},
     "output_type": "execute_result"
    }
   ],
   "source": [
    "extracted_urls = [url[\"href\"] for url in urls]\n",
    "extracted_urls"
   ]
  },
  {
   "cell_type": "code",
   "execution_count": 8,
   "metadata": {
    "executionInfo": {
     "elapsed": 22,
     "status": "ok",
     "timestamp": 1670958821443,
     "user": {
      "displayName": "Jielu Yao",
      "userId": "09138677267510568916"
     },
     "user_tz": 300
    },
    "id": "XUlildR6md88"
   },
   "outputs": [],
   "source": [
    "full_urls = [\"https://ballotpedia.org\" + url_suffix for url_suffix in extracted_urls]"
   ]
  },
  {
   "cell_type": "code",
   "execution_count": 9,
   "metadata": {},
   "outputs": [
    {
     "data": {
      "text/plain": [
       "36"
      ]
     },
     "execution_count": 9,
     "metadata": {},
     "output_type": "execute_result"
    }
   ],
   "source": [
    "len(full_urls)"
   ]
  },
  {
   "cell_type": "code",
   "execution_count": 10,
   "metadata": {},
   "outputs": [
    {
     "data": {
      "text/plain": [
       "'https://ballotpedia.org/United_States_Senate_election_in_Alabama,_2022'"
      ]
     },
     "execution_count": 10,
     "metadata": {},
     "output_type": "execute_result"
    }
   ],
   "source": [
    "full_urls[0]"
   ]
  },
  {
   "cell_type": "code",
   "execution_count": 49,
   "metadata": {},
   "outputs": [
    {
     "data": {
      "text/plain": [
       "['https://ballotpedia.org/United_States_Senate_election_in_Alabama,_2022',\n",
       " 'https://ballotpedia.org/United_States_Senate_election_in_Alaska,_2022',\n",
       " 'https://ballotpedia.org/United_States_Senate_election_in_Arizona,_2022',\n",
       " 'https://ballotpedia.org/United_States_Senate_election_in_Arkansas,_2022',\n",
       " 'https://ballotpedia.org/United_States_Senate_election_in_California,_2022',\n",
       " 'https://ballotpedia.org/United_States_Senate_special_election_in_California,_2022',\n",
       " 'https://ballotpedia.org/United_States_Senate_election_in_Colorado,_2022',\n",
       " 'https://ballotpedia.org/United_States_Senate_election_in_Connecticut,_2022',\n",
       " 'https://ballotpedia.org/United_States_Senate_election_in_Florida,_2022',\n",
       " 'https://ballotpedia.org/United_States_Senate_election_in_Georgia,_2022',\n",
       " 'https://ballotpedia.org/United_States_Senate_election_in_Hawaii,_2022',\n",
       " 'https://ballotpedia.org/United_States_Senate_election_in_Idaho,_2022',\n",
       " 'https://ballotpedia.org/United_States_Senate_election_in_Illinois,_2022',\n",
       " 'https://ballotpedia.org/United_States_Senate_election_in_Indiana,_2022',\n",
       " 'https://ballotpedia.org/United_States_Senate_election_in_Iowa,_2022',\n",
       " 'https://ballotpedia.org/United_States_Senate_election_in_Kansas,_2022',\n",
       " 'https://ballotpedia.org/United_States_Senate_election_in_Kentucky,_2022',\n",
       " 'https://ballotpedia.org/United_States_Senate_election_in_Louisiana,_2022',\n",
       " 'https://ballotpedia.org/United_States_Senate_election_in_Maryland,_2022',\n",
       " 'https://ballotpedia.org/United_States_Senate_election_in_Missouri,_2022',\n",
       " 'https://ballotpedia.org/United_States_Senate_election_in_Nevada,_2022',\n",
       " 'https://ballotpedia.org/United_States_Senate_election_in_New_Hampshire,_2022',\n",
       " 'https://ballotpedia.org/United_States_Senate_election_in_New_York,_2022',\n",
       " 'https://ballotpedia.org/United_States_Senate_election_in_North_Carolina,_2022',\n",
       " 'https://ballotpedia.org/United_States_Senate_election_in_North_Dakota,_2022',\n",
       " 'https://ballotpedia.org/United_States_Senate_election_in_Ohio,_2022',\n",
       " 'https://ballotpedia.org/United_States_Senate_election_in_Oklahoma,_2022',\n",
       " 'https://ballotpedia.org/United_States_Senate_special_election_in_Oklahoma,_2022',\n",
       " 'https://ballotpedia.org/United_States_Senate_election_in_Oregon,_2022',\n",
       " 'https://ballotpedia.org/United_States_Senate_election_in_Pennsylvania,_2022',\n",
       " 'https://ballotpedia.org/United_States_Senate_election_in_South_Carolina,_2022',\n",
       " 'https://ballotpedia.org/United_States_Senate_election_in_South_Dakota,_2022',\n",
       " 'https://ballotpedia.org/United_States_Senate_election_in_Utah,_2022',\n",
       " 'https://ballotpedia.org/United_States_Senate_election_in_Vermont,_2022',\n",
       " 'https://ballotpedia.org/United_States_Senate_election_in_Washington,_2022',\n",
       " 'https://ballotpedia.org/United_States_Senate_election_in_Wisconsin,_2022']"
      ]
     },
     "execution_count": 49,
     "metadata": {},
     "output_type": "execute_result"
    }
   ],
   "source": [
    "full_urls"
   ]
  },
  {
   "cell_type": "markdown",
   "metadata": {
    "id": "5ZtO5wfAcBkX"
   },
   "source": [
    "Now that we've got all the links, we need to visit each, extract what we need and save it somewhere."
   ]
  },
  {
   "cell_type": "code",
   "execution_count": 11,
   "metadata": {},
   "outputs": [],
   "source": [
    "#Now do this in a loop, for the first 5 urls\n",
    "bp_urls = []\n",
    "bp_names = []"
   ]
  },
  {
   "cell_type": "code",
   "execution_count": 12,
   "metadata": {},
   "outputs": [],
   "source": [
    "for i in full_urls[:]:\n",
    "  source = urllib.request.urlopen(i).read()\n",
    "  soup = bs.BeautifulSoup(source)\n",
    "  img_css = \"img.image-candidate-thumbnail, img[id=placeholder_image]\"\n",
    "  img = soup.select(img_css)\n",
    "  img = img[0:5]\n",
    "  bp_urls.extend(list([i['src'] for i in img]))\n",
    "  n_css = \"td.votebox-results-cell--text\"\n",
    "  nm = soup.select(n_css)\n",
    "  nm = nm[0:5]\n",
    "  bp_names.extend(list([url.text for url in nm]))"
   ]
  },
  {
   "cell_type": "code",
   "execution_count": 13,
   "metadata": {},
   "outputs": [
    {
     "data": {
      "text/plain": [
       "['https://s3.amazonaws.com/ballotpedia-api4/files/thumbs/100/100/brittkatie.jpg',\n",
       " 'https://s3.amazonaws.com/ballotpedia-api4/files/thumbs/100/100/WillBoyd2.jpg',\n",
       " 'https://s3.amazonaws.com/ballotpedia-api4/files/thumbs/100/100/John_SophocleusAL.png',\n",
       " 'https://s3.amazonaws.com/ballotpedia-api4/files/thumbs/100/100/brittkatie.jpg',\n",
       " 'https://s3.amazonaws.com/ballotpedia-api4/files/thumbs/100/100/Mo_Brooks.jpg',\n",
       " 'https://s3.amazonaws.com/ballotpedia-api4/files/thumbs/100/100/Lisa_Murkowski.jpg',\n",
       " 'https://s3.amazonaws.com/ballotpedia-api4/files/thumbs/100/100/Kelly_Tshibaka.jpg',\n",
       " 'https://s3.amazonaws.com/ballotpedia-api4/files/thumbs/100/100/Patricia-Chesbro.PNG',\n",
       " 'https://s3.amazonaws.com/ballotpedia-api4/files/thumbs/100/100/Buzz-Kelley.PNG',\n",
       " 'https://s3.amazonaws.com/ballotpedia-api4/files/thumbs/100/100/Ted_Gianoutsos_2014_US_Senate_candidate.jpg',\n",
       " 'https://s3.amazonaws.com/ballotpedia-api4/files/thumbs/100/100/Mark-Kelly.png',\n",
       " 'https://s3.amazonaws.com/ballotpedia-api4/files/thumbs/100/100/bmasters.jpg',\n",
       " 'https://s3.amazonaws.com/ballotpedia-api4/files/thumbs/100/100/MarcVictor.jpg',\n",
       " 'https://cdn.ballotpedia.org/images/thumb/f/fb/Silhouette_Placeholder_Image.png/150px-Silhouette_Placeholder_Image.png',\n",
       " 'https://cdn.ballotpedia.org/images/thumb/f/fb/Silhouette_Placeholder_Image.png/150px-Silhouette_Placeholder_Image.png',\n",
       " 'https://s3.amazonaws.com/ballotpedia-api4/files/thumbs/100/100/johnboozmanupdated.jpg',\n",
       " 'https://s3.amazonaws.com/ballotpedia-api4/files/thumbs/100/100/Natalie-James.PNG',\n",
       " 'https://s3.amazonaws.com/ballotpedia-api4/files/thumbs/100/100/Kenneth_Cates.jpg',\n",
       " 'https://s3.amazonaws.com/ballotpedia-api4/files/thumbs/100/100/James-Garner.jpeg',\n",
       " 'https://s3.amazonaws.com/ballotpedia-api4/files/thumbs/100/100/Richard-Gant.jpeg',\n",
       " 'https://s3.amazonaws.com/ballotpedia-api4/files/thumbs/100/100/Alex-Padilla.jpg',\n",
       " 'https://s3.amazonaws.com/ballotpedia-api4/files/thumbs/100/100/Mark-Meuser.PNG',\n",
       " 'https://s3.amazonaws.com/ballotpedia-api4/files/thumbs/100/100/Alex-Padilla.jpg',\n",
       " 'https://s3.amazonaws.com/ballotpedia-api4/files/thumbs/100/100/Mark-Meuser.PNG',\n",
       " 'https://s3.amazonaws.com/ballotpedia-api4/files/thumbs/100/100/CordieWilliams2.jpg',\n",
       " 'https://s3.amazonaws.com/ballotpedia-api4/files/thumbs/100/100/Alex-Padilla.jpg',\n",
       " 'https://s3.amazonaws.com/ballotpedia-api4/files/thumbs/100/100/Mark-Meuser.PNG',\n",
       " 'https://s3.amazonaws.com/ballotpedia-api4/files/thumbs/100/100/Alex-Padilla.jpg',\n",
       " 'https://s3.amazonaws.com/ballotpedia-api4/files/thumbs/100/100/Mark-Meuser.PNG',\n",
       " 'https://s3.amazonaws.com/ballotpedia-api4/files/thumbs/100/100/JamesBradley_California__fixed.JPG',\n",
       " 'https://s3.amazonaws.com/ballotpedia-api4/files/thumbs/100/100/Michael_Bennet.jpg',\n",
       " 'https://s3.amazonaws.com/ballotpedia-api4/files/thumbs/100/100/Joe-ODea.PNG',\n",
       " 'https://s3.amazonaws.com/ballotpedia-api4/files/thumbs/100/100/Brian_Peotter.jpg',\n",
       " 'https://s3.amazonaws.com/ballotpedia-api4/files/thumbs/100/100/TJ-Cole.PNG',\n",
       " 'https://s3.amazonaws.com/ballotpedia-api4/files/thumbs/100/100/Frank_Atwood.jpg',\n",
       " 'https://s3.amazonaws.com/ballotpedia-api4/files/thumbs/100/100/Richard_Blumenthal.jpg',\n",
       " 'https://s3.amazonaws.com/ballotpedia-api4/files/thumbs/100/100/Leora-Levy.PNG',\n",
       " 'https://s3.amazonaws.com/ballotpedia-api4/files/thumbs/100/100/JohnAnderson3.jpg',\n",
       " 'https://cdn.ballotpedia.org/images/thumb/f/fb/Silhouette_Placeholder_Image.png/150px-Silhouette_Placeholder_Image.png',\n",
       " 'https://s3.amazonaws.com/ballotpedia-api4/files/thumbs/100/100/Leora-Levy.PNG',\n",
       " 'https://s3.amazonaws.com/ballotpedia-api4/files/thumbs/100/100/Marco_Rubio.jpg',\n",
       " 'https://s3.amazonaws.com/ballotpedia-api4/files/thumbs/100/100/Val-Demings.PNG',\n",
       " 'https://s3.amazonaws.com/ballotpedia-api4/files/thumbs/100/100/Dennis_Misigoy.jpg',\n",
       " 'https://s3.amazonaws.com/ballotpedia-api4/files/thumbs/100/100/Steven_B_Grant.jpg',\n",
       " 'https://s3.amazonaws.com/ballotpedia-api4/files/thumbs/100/100/TuanNguyen.jpg',\n",
       " 'https://s3.amazonaws.com/ballotpedia-api4/files/thumbs/100/100/Raphael_Warnock.jpg',\n",
       " 'https://s3.amazonaws.com/ballotpedia-api4/files/thumbs/100/100/Herschel_Walker.png',\n",
       " 'https://s3.amazonaws.com/ballotpedia-api4/files/thumbs/100/100/Raphael_Warnock.jpg',\n",
       " 'https://s3.amazonaws.com/ballotpedia-api4/files/thumbs/100/100/Herschel_Walker.png',\n",
       " 'https://s3.amazonaws.com/ballotpedia-api4/files/thumbs/100/100/ChaseOliver.jpg',\n",
       " 'https://s3.amazonaws.com/ballotpedia-api4/files/thumbs/100/100/Brian_Schatz__official_portrait__113th_Congress_2-7_fixed.jpg',\n",
       " 'https://s3.amazonaws.com/ballotpedia-api4/files/thumbs/100/100/Bob-McDermott.jpg',\n",
       " 'https://s3.amazonaws.com/ballotpedia-api4/files/thumbs/100/100/FeenaBonoan4.jpg',\n",
       " 'https://s3.amazonaws.com/ballotpedia-api4/files/thumbs/100/100/Emma_Pohlman.jpeg',\n",
       " 'https://s3.amazonaws.com/ballotpedia-api4/files/thumbs/100/100/Dan_Decker.png',\n",
       " 'https://s3.amazonaws.com/ballotpedia-api4/files/thumbs/100/100/Mike_Crapo.jpg',\n",
       " 'https://s3.amazonaws.com/ballotpedia-api4/files/thumbs/100/100/DavidRoth.jpg',\n",
       " 'https://s3.amazonaws.com/ballotpedia-api4/files/thumbs/100/100/Scott_Cleveland.jpg',\n",
       " 'https://s3.amazonaws.com/ballotpedia-api4/files/thumbs/100/100/Ray-Writz.PNG',\n",
       " 'https://s3.amazonaws.com/ballotpedia-api4/files/thumbs/100/100/Oct72020530AM_80182230_IdahoLawPicDLCongressforIL.png',\n",
       " 'https://s3.amazonaws.com/ballotpedia-api4/files/thumbs/100/100/Tammy_Duckworth__official_portrait__113th_Congress-7_fixed.jpg',\n",
       " 'https://s3.amazonaws.com/ballotpedia-api4/files/thumbs/100/100/KathySalvi.jpg',\n",
       " 'https://s3.amazonaws.com/ballotpedia-api4/files/thumbs/100/100/Bill_Redpath1.jpeg',\n",
       " 'https://cdn.ballotpedia.org/images/thumb/f/fb/Silhouette_Placeholder_Image.png/150px-Silhouette_Placeholder_Image.png',\n",
       " 'https://s3.amazonaws.com/ballotpedia-api4/files/thumbs/100/100/Connor_Vlkanic.jpg',\n",
       " 'https://s3.amazonaws.com/ballotpedia-api4/files/thumbs/100/100/Todd_C._Young.jpg',\n",
       " 'https://s3.amazonaws.com/ballotpedia-api4/files/thumbs/100/100/mcd4c_headshot.jpg',\n",
       " 'https://s3.amazonaws.com/ballotpedia-api4/files/thumbs/100/100/James_Sceniak.jpg',\n",
       " 'https://cdn.ballotpedia.org/images/thumb/f/fb/Silhouette_Placeholder_Image.png/150px-Silhouette_Placeholder_Image.png',\n",
       " 'https://cdn.ballotpedia.org/images/thumb/f/fb/Silhouette_Placeholder_Image.png/150px-Silhouette_Placeholder_Image.png',\n",
       " 'https://s3.amazonaws.com/ballotpedia-api4/files/thumbs/100/100/Chuck_Grassley.jpg',\n",
       " 'https://s3.amazonaws.com/ballotpedia-api4/files/thumbs/100/100/FrankenMikeHeadshot.jpg',\n",
       " 'https://s3.amazonaws.com/ballotpedia-api4/files/thumbs/100/100/FrankenMikeHeadshot.jpg',\n",
       " 'https://s3.amazonaws.com/ballotpedia-api4/files/thumbs/100/100/ABBY_FINKENAUER_.jpg',\n",
       " 'https://s3.amazonaws.com/ballotpedia-api4/files/thumbs/100/100/ghurst.jpg',\n",
       " 'https://s3.amazonaws.com/ballotpedia-api4/files/thumbs/100/100/Jerry_Moran.jpg',\n",
       " 'https://s3.amazonaws.com/ballotpedia-api4/files/thumbs/100/100/Mark_Holland2022.jpg',\n",
       " 'https://s3.amazonaws.com/ballotpedia-api4/files/thumbs/100/100/David-Graham.PNG',\n",
       " 'https://s3.amazonaws.com/ballotpedia-api4/files/thumbs/100/100/Mark_Holland2022.jpg',\n",
       " 'https://s3.amazonaws.com/ballotpedia-api4/files/thumbs/100/100/Paul-Buskirk.PNG',\n",
       " 'https://s3.amazonaws.com/ballotpedia-api4/files/thumbs/100/100/Rand_Paul.jpg',\n",
       " 'https://s3.amazonaws.com/ballotpedia-api4/files/thumbs/100/100/Charles_Booker1.jpeg',\n",
       " 'https://cdn.ballotpedia.org/images/thumb/f/fb/Silhouette_Placeholder_Image.png/150px-Silhouette_Placeholder_Image.png',\n",
       " 'https://s3.amazonaws.com/ballotpedia-api4/files/thumbs/100/100/Billy_Ray_Wilson.jpg',\n",
       " 'https://s3.amazonaws.com/ballotpedia-api4/files/thumbs/100/100/Charles_Booker1.jpeg',\n",
       " 'https://s3.amazonaws.com/ballotpedia-api4/files/thumbs/100/100/John_Neely_Kennedy__official_portrait__115th_Congress_2-7_fixed.jpg',\n",
       " 'https://s3.amazonaws.com/ballotpedia-api4/files/thumbs/100/100/_DSC9626-min.jpg',\n",
       " 'https://s3.amazonaws.com/ballotpedia-api4/files/thumbs/100/100/mixonluke.jpg',\n",
       " 'https://s3.amazonaws.com/ballotpedia-api4/files/thumbs/100/100/Syrita_Steib1.png',\n",
       " 'https://s3.amazonaws.com/ballotpedia-api4/files/thumbs/100/100/DevinGraham.jpg',\n",
       " 'https://s3.amazonaws.com/ballotpedia-api4/files/thumbs/100/100/Chris_van_Hollen.jpg',\n",
       " 'https://s3.amazonaws.com/ballotpedia-api4/files/thumbs/100/100/Chris-Chaffee.PNG',\n",
       " 'https://s3.amazonaws.com/ballotpedia-api4/files/thumbs/100/100/ScottieGriffin.jpg',\n",
       " 'https://cdn.ballotpedia.org/images/thumb/f/fb/Silhouette_Placeholder_Image.png/150px-Silhouette_Placeholder_Image.png',\n",
       " 'https://s3.amazonaws.com/ballotpedia-api4/files/thumbs/100/100/Chris_van_Hollen.jpg',\n",
       " 'https://s3.amazonaws.com/ballotpedia-api4/files/thumbs/100/100/Eric-Schmitt.PNG',\n",
       " 'https://s3.amazonaws.com/ballotpedia-api4/files/thumbs/100/100/TrudyBuschValentine.png',\n",
       " 'https://s3.amazonaws.com/ballotpedia-api4/files/thumbs/100/100/Jonathan-Dine.PNG',\n",
       " 'https://s3.amazonaws.com/ballotpedia-api4/files/thumbs/100/100/Paul-Venable.PNG',\n",
       " 'https://cdn.ballotpedia.org/images/thumb/f/fb/Silhouette_Placeholder_Image.png/150px-Silhouette_Placeholder_Image.png',\n",
       " 'https://s3.amazonaws.com/ballotpedia-api4/files/thumbs/100/100/Catherine_Cortez_Masto.jpg',\n",
       " 'https://s3.amazonaws.com/ballotpedia-api4/files/thumbs/100/100/AdamLaxalt2015.jpg',\n",
       " 'https://s3.amazonaws.com/ballotpedia-api4/files/thumbs/100/100/Barry_lindemann.jpg',\n",
       " 'https://s3.amazonaws.com/ballotpedia-api4/files/thumbs/100/100/NeilScottProfile2.jpg',\n",
       " 'https://s3.amazonaws.com/ballotpedia-api4/files/thumbs/100/100/BarryRubinson1.jpg',\n",
       " 'https://s3.amazonaws.com/ballotpedia-api4/files/thumbs/100/100/Maggie_Hassan__official_portrait__115th_Congress_fixed.jpg',\n",
       " 'https://s3.amazonaws.com/ballotpedia-api4/files/thumbs/100/100/DonBolduc.jpg',\n",
       " 'https://s3.amazonaws.com/ballotpedia-api4/files/thumbs/100/100/Jeremy_Kauffman___.jpg',\n",
       " 'https://s3.amazonaws.com/ballotpedia-api4/files/thumbs/100/100/tsivalingam.jpg',\n",
       " 'https://s3.amazonaws.com/ballotpedia-api4/files/thumbs/100/100/Maggie_Hassan__official_portrait__115th_Congress_fixed.jpg',\n",
       " 'https://s3.amazonaws.com/ballotpedia-api4/files/thumbs/100/100/Chuck_Schumer_113th_Congress.jpg',\n",
       " 'https://s3.amazonaws.com/ballotpedia-api4/files/thumbs/100/100/joepinion.JPG',\n",
       " 'https://s3.amazonaws.com/ballotpedia-api4/files/thumbs/100/100/Diane-Sare.PNG',\n",
       " 'https://s3.amazonaws.com/ballotpedia-api4/files/thumbs/100/100/Diane-Sare.PNG',\n",
       " 'https://s3.amazonaws.com/ballotpedia-api4/files/thumbs/100/100/Diane-Sare.PNG',\n",
       " 'https://s3.amazonaws.com/ballotpedia-api4/files/thumbs/100/100/Ted-Budd.PNG',\n",
       " 'https://s3.amazonaws.com/ballotpedia-api4/files/thumbs/100/100/Cheri_Beasley.jpg',\n",
       " 'https://s3.amazonaws.com/ballotpedia-api4/files/thumbs/100/100/ShannonBray.jpg',\n",
       " 'https://s3.amazonaws.com/ballotpedia-api4/files/thumbs/100/100/Matthew_Hoh1.jpeg',\n",
       " 'https://s3.amazonaws.com/ballotpedia-api4/files/thumbs/100/100/MichelleLewis.jpeg',\n",
       " 'https://s3.amazonaws.com/ballotpedia-api4/files/thumbs/100/100/John_Hoeven.jpg',\n",
       " 'https://s3.amazonaws.com/ballotpedia-api4/files/thumbs/100/100/KatrinaChristiansen.jpg',\n",
       " 'https://s3.amazonaws.com/ballotpedia-api4/files/thumbs/100/100/Rick-Becker.jpg',\n",
       " 'https://s3.amazonaws.com/ballotpedia-api4/files/thumbs/100/100/KatrinaChristiansen.jpg',\n",
       " 'https://s3.amazonaws.com/ballotpedia-api4/files/thumbs/100/100/Michael_Steele.jpg',\n",
       " 'https://s3.amazonaws.com/ballotpedia-api4/files/thumbs/100/100/J.D._Vance.png',\n",
       " 'https://s3.amazonaws.com/ballotpedia-api4/files/thumbs/100/100/Tim_Ryan_OH.JPG',\n",
       " 'https://cdn.ballotpedia.org/images/thumb/f/fb/Silhouette_Placeholder_Image.png/150px-Silhouette_Placeholder_Image.png',\n",
       " 'https://cdn.ballotpedia.org/images/thumb/f/fb/Silhouette_Placeholder_Image.png/150px-Silhouette_Placeholder_Image.png',\n",
       " 'https://s3.amazonaws.com/ballotpedia-api4/files/thumbs/100/100/John_Cheng.jpeg',\n",
       " 'https://s3.amazonaws.com/ballotpedia-api4/files/thumbs/100/100/James_Lankford.jpg',\n",
       " 'https://s3.amazonaws.com/ballotpedia-api4/files/thumbs/100/100/Madison-Horn.PNG',\n",
       " 'https://s3.amazonaws.com/ballotpedia-api4/files/thumbs/100/100/MichaelLDelane.jpg',\n",
       " 'https://s3.amazonaws.com/ballotpedia-api4/files/thumbs/100/100/Kenneth-Blevins.PNG',\n",
       " 'https://s3.amazonaws.com/ballotpedia-api4/files/thumbs/100/100/Madison-Horn.PNG',\n",
       " 'https://s3.amazonaws.com/ballotpedia-api4/files/thumbs/100/100/Markwayne-Mullin.PNG',\n",
       " 'https://s3.amazonaws.com/ballotpedia-api4/files/thumbs/100/100/KENDRA_HORN.jpg',\n",
       " 'https://s3.amazonaws.com/ballotpedia-api4/files/thumbs/100/100/RobertMurphyOK2.jpg',\n",
       " 'https://s3.amazonaws.com/ballotpedia-api4/files/thumbs/100/100/RayWoods.jpg',\n",
       " 'https://s3.amazonaws.com/ballotpedia-api4/files/thumbs/100/100/Markwayne-Mullin.PNG',\n",
       " 'https://s3.amazonaws.com/ballotpedia-api4/files/thumbs/100/100/Ron_Wyden.jpg',\n",
       " 'https://s3.amazonaws.com/ballotpedia-api4/files/thumbs/100/100/jo_rae_perkinsor1.png',\n",
       " 'https://s3.amazonaws.com/ballotpedia-api4/files/thumbs/100/100/chenry.jpeg',\n",
       " 'https://s3.amazonaws.com/ballotpedia-api4/files/thumbs/100/100/Dan-Pulju.PNG',\n",
       " 'https://s3.amazonaws.com/ballotpedia-api4/files/thumbs/100/100/Ron_Wyden.jpg',\n",
       " 'https://s3.amazonaws.com/ballotpedia-api4/files/thumbs/100/100/John-Fetterman.PNG',\n",
       " 'https://s3.amazonaws.com/ballotpedia-api4/files/thumbs/100/100/moz.jpg',\n",
       " 'https://s3.amazonaws.com/ballotpedia-api4/files/thumbs/100/100/ErikGerhardt.png',\n",
       " 'https://s3.amazonaws.com/ballotpedia-api4/files/thumbs/100/100/Richard_Weiss_.JPG',\n",
       " 'https://s3.amazonaws.com/ballotpedia-api4/files/thumbs/100/100/DanielWassmer.jpg',\n",
       " 'https://s3.amazonaws.com/ballotpedia-api4/files/thumbs/100/100/Tim_Scott.jpeg',\n",
       " 'https://s3.amazonaws.com/ballotpedia-api4/files/thumbs/100/100/Krystle_Matthews1.jpg',\n",
       " 'https://cdn.ballotpedia.org/images/thumb/f/fb/Silhouette_Placeholder_Image.png/150px-Silhouette_Placeholder_Image.png',\n",
       " 'https://s3.amazonaws.com/ballotpedia-api4/files/thumbs/100/100/Krystle_Matthews1.jpg',\n",
       " 'https://s3.amazonaws.com/ballotpedia-api4/files/thumbs/100/100/cfbruce.jpg',\n",
       " 'https://s3.amazonaws.com/ballotpedia-api4/files/thumbs/100/100/John_Thune.jpg',\n",
       " 'https://s3.amazonaws.com/ballotpedia-api4/files/thumbs/100/100/Brian-Bengs.PNG',\n",
       " 'https://s3.amazonaws.com/ballotpedia-api4/files/thumbs/100/100/Tamara_Lesnar.jpg',\n",
       " 'https://s3.amazonaws.com/ballotpedia-api4/files/thumbs/100/100/John_Thune.jpg',\n",
       " 'https://s3.amazonaws.com/ballotpedia-api4/files/thumbs/100/100/bwhalen.jpg',\n",
       " 'https://s3.amazonaws.com/ballotpedia-api4/files/thumbs/100/100/Mike_Lee_113th_Congress.jpg',\n",
       " 'https://s3.amazonaws.com/ballotpedia-api4/files/thumbs/100/100/Evan-McMullin.PNG',\n",
       " 'https://s3.amazonaws.com/ballotpedia-api4/files/thumbs/100/100/James-Arthur-Hansen.PNG',\n",
       " 'https://cdn.ballotpedia.org/images/thumb/f/fb/Silhouette_Placeholder_Image.png/150px-Silhouette_Placeholder_Image.png',\n",
       " 'https://s3.amazonaws.com/ballotpedia-api4/files/thumbs/100/100/Laird_Fetzer_Hamblin.jpg',\n",
       " 'https://s3.amazonaws.com/ballotpedia-api4/files/thumbs/100/100/Peter-Welch.jpg',\n",
       " 'https://s3.amazonaws.com/ballotpedia-api4/files/thumbs/100/100/Gerald_Malloy.jpeg',\n",
       " 'https://s3.amazonaws.com/ballotpedia-api4/files/thumbs/100/100/DawnEllis.jpg',\n",
       " 'https://cdn.ballotpedia.org/images/thumb/f/fb/Silhouette_Placeholder_Image.png/150px-Silhouette_Placeholder_Image.png',\n",
       " 'https://s3.amazonaws.com/ballotpedia-api4/files/thumbs/100/100/KerryRahebVT.png',\n",
       " 'https://s3.amazonaws.com/ballotpedia-api4/files/thumbs/100/100/Patty_Murray.jpg',\n",
       " 'https://s3.amazonaws.com/ballotpedia-api4/files/thumbs/100/100/TiffanySmiley.jpeg',\n",
       " 'https://s3.amazonaws.com/ballotpedia-api4/files/thumbs/100/100/Patty_Murray.jpg',\n",
       " 'https://s3.amazonaws.com/ballotpedia-api4/files/thumbs/100/100/TiffanySmiley.jpeg',\n",
       " 'https://s3.amazonaws.com/ballotpedia-api4/files/thumbs/100/100/Leon-Lawson.PNG',\n",
       " 'https://s3.amazonaws.com/ballotpedia-api4/files/thumbs/100/100/Ron_Johnson.jpg',\n",
       " 'https://s3.amazonaws.com/ballotpedia-api4/files/thumbs/100/100/Mandela-Barnes.jpg',\n",
       " 'https://cdn.ballotpedia.org/images/thumb/f/fb/Silhouette_Placeholder_Image.png/150px-Silhouette_Placeholder_Image.png',\n",
       " 'https://cdn.ballotpedia.org/images/thumb/f/fb/Silhouette_Placeholder_Image.png/150px-Silhouette_Placeholder_Image.png',\n",
       " 'https://s3.amazonaws.com/ballotpedia-api4/files/thumbs/100/100/Mandela-Barnes.jpg']"
      ]
     },
     "execution_count": 13,
     "metadata": {},
     "output_type": "execute_result"
    }
   ],
   "source": [
    "bp_urls"
   ]
  },
  {
   "cell_type": "code",
   "execution_count": 14,
   "metadata": {},
   "outputs": [
    {
     "data": {
      "text/plain": [
       "['Katie Britt (R)  \\n\\t\\t\\t\\t\\t\\t\\t\\t\\t\\t\\t',\n",
       " 'Will Boyd (D)\\xa0\\n',\n",
       " 'John Sophocleus (L)  \\n\\t\\t\\t\\t\\t\\t\\t\\t\\t\\t\\t',\n",
       " 'Katie Britt\\n',\n",
       " 'Mo Brooks\\n',\n",
       " 'Lisa Murkowski ',\n",
       " 'Kelly Tshibaka ',\n",
       " 'Patricia Chesbro ',\n",
       " 'Buzz Kelley ',\n",
       " 'Ted Gianoutsos ',\n",
       " 'Mark Kelly (D)  \\n\\t\\t\\t\\t\\t\\t\\t\\t\\t\\t\\t',\n",
       " 'Blake Masters (R)  \\n\\t\\t\\t\\t\\t\\t\\t\\t\\t\\t\\t',\n",
       " 'Marc Victor (L)\\xa0(Unofficially withdrew)\\xa0\\n',\n",
       " 'Lester Ralph Maul Jr. (Independent)\\xa0(Write-in)  \\n\\t\\t\\t\\t\\t\\t\\t\\t\\t\\t\\t',\n",
       " 'Christopher Bullock (R)\\xa0(Write-in)  \\n\\t\\t\\t\\t\\t\\t\\t\\t\\t\\t\\t',\n",
       " 'John Boozman (R)  \\n\\t\\t\\t\\t\\t\\t\\t\\t\\t\\t\\t',\n",
       " 'Natalie James (D)\\xa0\\n',\n",
       " 'Kenneth Cates (L)  \\n\\t\\t\\t\\t\\t\\t\\t\\t\\t\\t\\t',\n",
       " 'James Garner (Independent)\\xa0(Write-in)  \\n\\t\\t\\t\\t\\t\\t\\t\\t\\t\\t\\t',\n",
       " 'Richard Gant (Independent)\\xa0(Write-in)  \\n\\t\\t\\t\\t\\t\\t\\t\\t\\t\\t\\t',\n",
       " 'Alex Padilla (D)  \\n\\t\\t\\t\\t\\t\\t\\t\\t\\t\\t\\t',\n",
       " 'Mark Meuser (R)  \\n\\t\\t\\t\\t\\t\\t\\t\\t\\t\\t\\t',\n",
       " 'Alex Padilla (D)  \\n\\t\\t\\t\\t\\t\\t\\t\\t\\t\\t\\t',\n",
       " 'Mark Meuser (R)  \\n\\t\\t\\t\\t\\t\\t\\t\\t\\t\\t\\t',\n",
       " 'Cordie Williams (R)\\xa0\\n',\n",
       " 'Alex Padilla (D)  \\n\\t\\t\\t\\t\\t\\t\\t\\t\\t\\t\\t',\n",
       " 'Mark Meuser (R)  \\n\\t\\t\\t\\t\\t\\t\\t\\t\\t\\t\\t',\n",
       " 'Alex Padilla (D)  \\n\\t\\t\\t\\t\\t\\t\\t\\t\\t\\t\\t',\n",
       " 'Mark Meuser (R)  \\n\\t\\t\\t\\t\\t\\t\\t\\t\\t\\t\\t',\n",
       " 'James P. Bradley (R)  \\n\\t\\t\\t\\t\\t\\t\\t\\t\\t\\t\\t',\n",
       " 'Michael Bennet (D)  \\n\\t\\t\\t\\t\\t\\t\\t\\t\\t\\t\\t',\n",
       " \"Joe O'Dea (R)\\xa0\\n\",\n",
       " 'Brian Peotter (L)\\xa0\\n',\n",
       " 'T.J. Cole (Unity Party)\\xa0\\n',\n",
       " 'Frank Atwood (Approval Voting Party)  \\n\\t\\t\\t\\t\\t\\t\\t\\t\\t\\t\\t',\n",
       " 'Richard Blumenthal (D / Working Families Party)  \\n\\t\\t\\t\\t\\t\\t\\t\\t\\t\\t\\t',\n",
       " 'Leora Levy (R)  \\n\\t\\t\\t\\t\\t\\t\\t\\t\\t\\t\\t',\n",
       " 'John Anderson (Independent)\\xa0(Write-in)\\xa0\\n',\n",
       " 'Shabadjot Bharara (Independent)\\xa0(Write-in)  \\n\\t\\t\\t\\t\\t\\t\\t\\t\\t\\t\\t',\n",
       " 'Leora Levy\\n',\n",
       " 'Marco Rubio (R)  \\n\\t\\t\\t\\t\\t\\t\\t\\t\\t\\t\\t',\n",
       " 'Val Demings (D)  \\n\\t\\t\\t\\t\\t\\t\\t\\t\\t\\t\\t',\n",
       " 'Dennis Misigoy (L)\\xa0\\n',\n",
       " 'Steven B. Grant (No Party Affiliation)\\xa0\\n',\n",
       " 'Tuan Nguyen (No Party Affiliation)\\xa0\\n',\n",
       " 'Raphael Warnock (D)  \\n\\t\\t\\t\\t\\t\\t\\t\\t\\t\\t\\t',\n",
       " 'Herschel Walker (R)  \\n\\t\\t\\t\\t\\t\\t\\t\\t\\t\\t\\t',\n",
       " 'Raphael Warnock (D)  \\n\\t\\t\\t\\t\\t\\t\\t\\t\\t\\t\\t',\n",
       " 'Herschel Walker (R)  \\n\\t\\t\\t\\t\\t\\t\\t\\t\\t\\t\\t',\n",
       " 'Chase Oliver (L)  \\n\\t\\t\\t\\t\\t\\t\\t\\t\\t\\t\\t',\n",
       " 'Brian E. Schatz (D)  \\n\\t\\t\\t\\t\\t\\t\\t\\t\\t\\t\\t',\n",
       " 'Bob McDermott (R)  \\n\\t\\t\\t\\t\\t\\t\\t\\t\\t\\t\\t',\n",
       " 'Feena Bonoan (L)  \\n\\t\\t\\t\\t\\t\\t\\t\\t\\t\\t\\t',\n",
       " 'Emma Pohlman (G)\\xa0\\n',\n",
       " 'Dan Decker (Aloha Aina Party)  \\n\\t\\t\\t\\t\\t\\t\\t\\t\\t\\t\\t',\n",
       " 'Mike Crapo (R)  \\n\\t\\t\\t\\t\\t\\t\\t\\t\\t\\t\\t',\n",
       " 'David Roth (D)\\xa0\\n',\n",
       " 'Scott Cleveland (Independent)\\xa0\\n',\n",
       " 'Ray Writz (Constitution Party)  \\n\\t\\t\\t\\t\\t\\t\\t\\t\\t\\t\\t',\n",
       " 'Idaho Law (L)  \\n\\t\\t\\t\\t\\t\\t\\t\\t\\t\\t\\t',\n",
       " 'Tammy Duckworth (D)  \\n\\t\\t\\t\\t\\t\\t\\t\\t\\t\\t\\t',\n",
       " 'Kathy Salvi (R)  \\n\\t\\t\\t\\t\\t\\t\\t\\t\\t\\t\\t',\n",
       " 'Bill Redpath (L)\\xa0\\n',\n",
       " 'Lowell Seida (Independent)\\xa0(Write-in)  \\n\\t\\t\\t\\t\\t\\t\\t\\t\\t\\t\\t',\n",
       " 'Connor VlaKancic (Independent)\\xa0(Write-in)\\xa0\\n',\n",
       " 'Todd C. Young (R)  \\n\\t\\t\\t\\t\\t\\t\\t\\t\\t\\t\\t',\n",
       " 'Thomas McDermott Jr. (D)  \\n\\t\\t\\t\\t\\t\\t\\t\\t\\t\\t\\t',\n",
       " 'James Sceniak (L)  \\n\\t\\t\\t\\t\\t\\t\\t\\t\\t\\t\\t',\n",
       " 'Antonio Alvarez (Political Synergy Party)\\xa0(Write-in)  \\n\\t\\t\\t\\t\\t\\t\\t\\t\\t\\t\\t',\n",
       " 'David Storer (Independent)\\xa0(Write-in)  \\n\\t\\t\\t\\t\\t\\t\\t\\t\\t\\t\\t',\n",
       " 'Chuck Grassley (R)  \\n\\t\\t\\t\\t\\t\\t\\t\\t\\t\\t\\t',\n",
       " 'Michael Franken (D)  \\n\\t\\t\\t\\t\\t\\t\\t\\t\\t\\t\\t',\n",
       " 'Michael Franken\\n',\n",
       " 'Abby Finkenauer\\n',\n",
       " 'Glenn Hurst\\xa0\\n',\n",
       " 'Jerry Moran (R)  \\n\\t\\t\\t\\t\\t\\t\\t\\t\\t\\t\\t',\n",
       " 'Mark R. Holland (D)\\xa0\\n',\n",
       " 'David Graham (L)  \\n\\t\\t\\t\\t\\t\\t\\t\\t\\t\\t\\t',\n",
       " 'Mark R. Holland\\xa0\\n',\n",
       " 'Paul Buskirk\\xa0\\n',\n",
       " 'Rand Paul (R)  \\n\\t\\t\\t\\t\\t\\t\\t\\t\\t\\t\\t',\n",
       " 'Charles Booker (D)\\xa0\\n',\n",
       " 'Charles Lee Thomason (Independent)\\xa0(Write-in)  \\n\\t\\t\\t\\t\\t\\t\\t\\t\\t\\t\\t',\n",
       " 'Billy Ray Wilson (Independent)\\xa0(Write-in)  \\n\\t\\t\\t\\t\\t\\t\\t\\t\\t\\t\\t',\n",
       " 'Charles Booker\\xa0\\n',\n",
       " 'John Neely Kennedy (R)  \\n\\t\\t\\t\\t\\t\\t\\t\\t\\t\\t\\t',\n",
       " 'Gary Chambers (D)  \\n\\t\\t\\t\\t\\t\\t\\t\\t\\t\\t\\t',\n",
       " 'Luke Mixon (D)\\xa0\\n',\n",
       " 'Syrita Steib (D)\\xa0\\n',\n",
       " 'Devin Lance Graham (R)  \\n\\t\\t\\t\\t\\t\\t\\t\\t\\t\\t\\t',\n",
       " 'Chris Van Hollen (D)  \\n\\t\\t\\t\\t\\t\\t\\t\\t\\t\\t\\t',\n",
       " 'Chris Chaffee (R)  \\n\\t\\t\\t\\t\\t\\t\\t\\t\\t\\t\\t',\n",
       " 'Scottie Griffin (D)\\xa0(Write-in)  \\n\\t\\t\\t\\t\\t\\t\\t\\t\\t\\t\\t',\n",
       " 'Andrew Wildman (Independent)\\xa0(Write-in)  \\n\\t\\t\\t\\t\\t\\t\\t\\t\\t\\t\\t',\n",
       " 'Chris Van Hollen\\n',\n",
       " 'Eric Schmitt (R)  \\n\\t\\t\\t\\t\\t\\t\\t\\t\\t\\t\\t',\n",
       " 'Trudy Busch Valentine (D)  \\n\\t\\t\\t\\t\\t\\t\\t\\t\\t\\t\\t',\n",
       " 'Jonathan Dine (L)  \\n\\t\\t\\t\\t\\t\\t\\t\\t\\t\\t\\t',\n",
       " 'Paul Venable (Constitution Party)  \\n\\t\\t\\t\\t\\t\\t\\t\\t\\t\\t\\t',\n",
       " 'Steve Price (Independent)\\xa0(Write-in)  \\n\\t\\t\\t\\t\\t\\t\\t\\t\\t\\t\\t',\n",
       " 'Catherine Cortez Masto (D)  \\n\\t\\t\\t\\t\\t\\t\\t\\t\\t\\t\\t',\n",
       " 'Adam Laxalt (R)  \\n\\t\\t\\t\\t\\t\\t\\t\\t\\t\\t\\t',\n",
       " 'Barry Lindemann (Independent)\\xa0\\n',\n",
       " 'Neil Scott (L)  \\n\\t\\t\\t\\t\\t\\t\\t\\t\\t\\t\\t',\n",
       " 'Barry Rubinson (Independent American Party)  \\n\\t\\t\\t\\t\\t\\t\\t\\t\\t\\t\\t',\n",
       " 'Maggie Hassan (D)  \\n\\t\\t\\t\\t\\t\\t\\t\\t\\t\\t\\t',\n",
       " 'Don Bolduc (R)  \\n\\t\\t\\t\\t\\t\\t\\t\\t\\t\\t\\t',\n",
       " 'Jeremy Kauffman (L)\\xa0\\n',\n",
       " 'Tejasinha Sivalingam (Independent)\\xa0(Write-in)\\xa0\\n',\n",
       " 'Maggie Hassan\\n',\n",
       " 'Chuck Schumer (D / Working Families Party)  \\n\\t\\t\\t\\t\\t\\t\\t\\t\\t\\t\\t',\n",
       " 'Joe Pinion (R / Conservative Party)  \\n\\t\\t\\t\\t\\t\\t\\t\\t\\t\\t\\t',\n",
       " 'Diane Sare (LaRouche)\\xa0\\n',\n",
       " 'Other/Write-in votes',\n",
       " 'Kirsten Gillibrand (D)  \\n\\t\\t\\t\\t\\t\\t\\t\\t\\t\\t\\t',\n",
       " 'Ted Budd (R)  \\n\\t\\t\\t\\t\\t\\t\\t\\t\\t\\t\\t',\n",
       " 'Cheri Beasley (D)  \\n\\t\\t\\t\\t\\t\\t\\t\\t\\t\\t\\t',\n",
       " 'Shannon Bray (L)\\xa0\\n',\n",
       " 'Matthew Hoh (G)\\xa0\\n',\n",
       " 'Michelle Lewis (Independent)\\xa0(Write-in)\\xa0\\n',\n",
       " 'John Hoeven (R)  \\n\\t\\t\\t\\t\\t\\t\\t\\t\\t\\t\\t',\n",
       " 'Katrina Christiansen (D)\\xa0\\n',\n",
       " 'Rick Becker (Independent)  \\n\\t\\t\\t\\t\\t\\t\\t\\t\\t\\t\\t',\n",
       " 'Other/Write-in votes',\n",
       " 'Katrina Christiansen\\xa0\\n',\n",
       " 'J.D. Vance (R)  \\n\\t\\t\\t\\t\\t\\t\\t\\t\\t\\t\\t',\n",
       " 'Tim Ryan (D)  \\n\\t\\t\\t\\t\\t\\t\\t\\t\\t\\t\\t',\n",
       " 'Stephen Faris (Independent)\\xa0(Write-in)  \\n\\t\\t\\t\\t\\t\\t\\t\\t\\t\\t\\t',\n",
       " 'Matthew Esh (Independent)\\xa0(Write-in)  \\n\\t\\t\\t\\t\\t\\t\\t\\t\\t\\t\\t',\n",
       " 'John Cheng (Independent)\\xa0(Write-in)\\xa0\\n',\n",
       " 'James Lankford (R)  \\n\\t\\t\\t\\t\\t\\t\\t\\t\\t\\t\\t',\n",
       " 'Madison Horn (D)\\xa0\\n',\n",
       " 'Michael Delaney (Independent)\\xa0\\n',\n",
       " 'Kenneth Blevins (L)\\xa0\\n',\n",
       " 'Madison Horn\\xa0\\n',\n",
       " 'Markwayne Mullin (R)  \\n\\t\\t\\t\\t\\t\\t\\t\\t\\t\\t\\t',\n",
       " 'Kendra Horn (D)  \\n\\t\\t\\t\\t\\t\\t\\t\\t\\t\\t\\t',\n",
       " 'Robert Murphy (L)  \\n\\t\\t\\t\\t\\t\\t\\t\\t\\t\\t\\t',\n",
       " 'Ray Woods (Independent)  \\n\\t\\t\\t\\t\\t\\t\\t\\t\\t\\t\\t',\n",
       " 'Markwayne Mullin\\n',\n",
       " 'Ron Wyden (D / Independent Party)  \\n\\t\\t\\t\\t\\t\\t\\t\\t\\t\\t\\t',\n",
       " 'Jo Rae Perkins (R / Constitution Party)\\xa0\\n',\n",
       " 'Chris Henry (Progressive Party)  \\n\\t\\t\\t\\t\\t\\t\\t\\t\\t\\t\\t',\n",
       " 'Dan Pulju (Pacific Green Party)\\xa0\\n',\n",
       " 'Other/Write-in votes',\n",
       " 'John Fetterman (D)  \\n\\t\\t\\t\\t\\t\\t\\t\\t\\t\\t\\t',\n",
       " 'Mehmet Oz (R)  \\n\\t\\t\\t\\t\\t\\t\\t\\t\\t\\t\\t',\n",
       " 'Erik Chase Gerhardt (L)  \\n\\t\\t\\t\\t\\t\\t\\t\\t\\t\\t\\t',\n",
       " 'Richard Weiss (G)\\xa0\\n',\n",
       " 'Daniel Wassmer (Keystone Party of Pennsylvania)  \\n\\t\\t\\t\\t\\t\\t\\t\\t\\t\\t\\t',\n",
       " 'Tim Scott (R)  \\n\\t\\t\\t\\t\\t\\t\\t\\t\\t\\t\\t',\n",
       " 'Krystle Matthews (D)\\xa0\\n',\n",
       " 'Jesse Harper (Independent American Party)\\xa0(Write-in)  \\n\\t\\t\\t\\t\\t\\t\\t\\t\\t\\t\\t',\n",
       " 'Krystle Matthews\\xa0\\n',\n",
       " 'Catherine Fleming Bruce\\xa0\\n',\n",
       " 'John Thune (R)  \\n\\t\\t\\t\\t\\t\\t\\t\\t\\t\\t\\t',\n",
       " 'Brian Bengs (D)  \\n\\t\\t\\t\\t\\t\\t\\t\\t\\t\\t\\t',\n",
       " 'Tamara Lesnar (L)\\xa0\\n',\n",
       " 'John Thune\\n',\n",
       " 'Bruce Whalen\\xa0\\n',\n",
       " 'Mike Lee (R)  \\n\\t\\t\\t\\t\\t\\t\\t\\t\\t\\t\\t',\n",
       " 'Evan McMullin (Independent)  \\n\\t\\t\\t\\t\\t\\t\\t\\t\\t\\t\\t',\n",
       " 'James Arthur Hansen (L)\\xa0\\n',\n",
       " 'Tommy Williams (Independent American Party of Utah)  \\n\\t\\t\\t\\t\\t\\t\\t\\t\\t\\t\\t',\n",
       " 'Laird Fetzer Hamblin (Independent)\\xa0(Write-in)  \\n\\t\\t\\t\\t\\t\\t\\t\\t\\t\\t\\t',\n",
       " 'Peter Welch (D)  \\n\\t\\t\\t\\t\\t\\t\\t\\t\\t\\t\\t',\n",
       " 'Gerald Malloy (R)\\xa0\\n',\n",
       " 'Dawn Ellis (Independent)  \\n\\t\\t\\t\\t\\t\\t\\t\\t\\t\\t\\t',\n",
       " 'Natasha Diamondstone-Kohout (Green Mountain Party)  \\n\\t\\t\\t\\t\\t\\t\\t\\t\\t\\t\\t',\n",
       " 'Kerry Patrick Raheb (Independent)\\xa0\\n',\n",
       " 'Patty Murray (D)  \\n\\t\\t\\t\\t\\t\\t\\t\\t\\t\\t\\t',\n",
       " 'Tiffany Smiley (R)  \\n\\t\\t\\t\\t\\t\\t\\t\\t\\t\\t\\t',\n",
       " 'Other/Write-in votes',\n",
       " 'Patty Murray (D)  \\n\\t\\t\\t\\t\\t\\t\\t\\t\\t\\t\\t',\n",
       " 'Tiffany Smiley (R)  \\n\\t\\t\\t\\t\\t\\t\\t\\t\\t\\t\\t',\n",
       " 'Ronald Harold Johnson (R)  \\n\\t\\t\\t\\t\\t\\t\\t\\t\\t\\t\\t',\n",
       " 'Mandela Barnes (D)\\xa0\\n',\n",
       " 'Adam Nicholas Paul (Logic Party)\\xa0(Write-in)  \\n\\t\\t\\t\\t\\t\\t\\t\\t\\t\\t\\t',\n",
       " 'Scott Aubart (American Independent Party)\\xa0(Write-in)\\xa0\\n',\n",
       " 'Mandela Barnes\\xa0\\n']"
      ]
     },
     "execution_count": 14,
     "metadata": {},
     "output_type": "execute_result"
    }
   ],
   "source": [
    "bp_names"
   ]
  },
  {
   "cell_type": "code",
   "execution_count": 15,
   "metadata": {},
   "outputs": [
    {
     "data": {
      "text/plain": [
       "180"
      ]
     },
     "execution_count": 15,
     "metadata": {},
     "output_type": "execute_result"
    }
   ],
   "source": [
    "len(bp_urls)"
   ]
  },
  {
   "cell_type": "code",
   "execution_count": 16,
   "metadata": {},
   "outputs": [
    {
     "data": {
      "text/plain": [
       "180"
      ]
     },
     "execution_count": 16,
     "metadata": {},
     "output_type": "execute_result"
    }
   ],
   "source": [
    "len(bp_names)"
   ]
  },
  {
   "cell_type": "code",
   "execution_count": 17,
   "metadata": {},
   "outputs": [],
   "source": [
    "df = pd.DataFrame(columns=('bp_name_raw', 'bp_url'))\n",
    "\n",
    "df['bp_name_raw']=bp_names\n",
    "\n",
    "df['bp_url']=bp_urls"
   ]
  },
  {
   "cell_type": "code",
   "execution_count": 18,
   "metadata": {},
   "outputs": [
    {
     "data": {
      "text/html": [
       "<div>\n",
       "<style scoped>\n",
       "    .dataframe tbody tr th:only-of-type {\n",
       "        vertical-align: middle;\n",
       "    }\n",
       "\n",
       "    .dataframe tbody tr th {\n",
       "        vertical-align: top;\n",
       "    }\n",
       "\n",
       "    .dataframe thead th {\n",
       "        text-align: right;\n",
       "    }\n",
       "</style>\n",
       "<table border=\"1\" class=\"dataframe\">\n",
       "  <thead>\n",
       "    <tr style=\"text-align: right;\">\n",
       "      <th></th>\n",
       "      <th>bp_name_raw</th>\n",
       "      <th>bp_url</th>\n",
       "    </tr>\n",
       "  </thead>\n",
       "  <tbody>\n",
       "    <tr>\n",
       "      <th>175</th>\n",
       "      <td>Ronald Harold Johnson (R)  \\n\\t\\t\\t\\t\\t\\t\\t\\t\\...</td>\n",
       "      <td>https://s3.amazonaws.com/ballotpedia-api4/file...</td>\n",
       "    </tr>\n",
       "    <tr>\n",
       "      <th>176</th>\n",
       "      <td>Mandela Barnes (D) \\n</td>\n",
       "      <td>https://s3.amazonaws.com/ballotpedia-api4/file...</td>\n",
       "    </tr>\n",
       "    <tr>\n",
       "      <th>177</th>\n",
       "      <td>Adam Nicholas Paul (Logic Party) (Write-in)  \\...</td>\n",
       "      <td>https://cdn.ballotpedia.org/images/thumb/f/fb/...</td>\n",
       "    </tr>\n",
       "    <tr>\n",
       "      <th>178</th>\n",
       "      <td>Scott Aubart (American Independent Party) (Wri...</td>\n",
       "      <td>https://cdn.ballotpedia.org/images/thumb/f/fb/...</td>\n",
       "    </tr>\n",
       "    <tr>\n",
       "      <th>179</th>\n",
       "      <td>Mandela Barnes \\n</td>\n",
       "      <td>https://s3.amazonaws.com/ballotpedia-api4/file...</td>\n",
       "    </tr>\n",
       "  </tbody>\n",
       "</table>\n",
       "</div>"
      ],
      "text/plain": [
       "                                           bp_name_raw  \\\n",
       "175  Ronald Harold Johnson (R)  \\n\\t\\t\\t\\t\\t\\t\\t\\t\\...   \n",
       "176                              Mandela Barnes (D) \\n   \n",
       "177  Adam Nicholas Paul (Logic Party) (Write-in)  \\...   \n",
       "178  Scott Aubart (American Independent Party) (Wri...   \n",
       "179                                  Mandela Barnes \\n   \n",
       "\n",
       "                                                bp_url  \n",
       "175  https://s3.amazonaws.com/ballotpedia-api4/file...  \n",
       "176  https://s3.amazonaws.com/ballotpedia-api4/file...  \n",
       "177  https://cdn.ballotpedia.org/images/thumb/f/fb/...  \n",
       "178  https://cdn.ballotpedia.org/images/thumb/f/fb/...  \n",
       "179  https://s3.amazonaws.com/ballotpedia-api4/file...  "
      ]
     },
     "execution_count": 18,
     "metadata": {},
     "output_type": "execute_result"
    }
   ],
   "source": [
    "df.tail()"
   ]
  },
  {
   "cell_type": "code",
   "execution_count": 19,
   "metadata": {},
   "outputs": [],
   "source": [
    "df2 = df['bp_name_raw'].str.rsplit(\"(\", n=1, expand=True)"
   ]
  },
  {
   "cell_type": "code",
   "execution_count": 20,
   "metadata": {},
   "outputs": [],
   "source": [
    "df2 = df2.rename(columns={0:'name'})"
   ]
  },
  {
   "cell_type": "code",
   "execution_count": 21,
   "metadata": {},
   "outputs": [],
   "source": [
    "df3 =df2['name'].str.rsplit(\"(\", n=1, expand=True)\n",
    "df3 = df3.rename(columns={0:'name'})"
   ]
  },
  {
   "cell_type": "code",
   "execution_count": 22,
   "metadata": {},
   "outputs": [],
   "source": [
    "df3['bp_name'] = df3['name'].str.replace(\"\\n\", \"\").replace(\"\\t\", \"\")"
   ]
  },
  {
   "cell_type": "code",
   "execution_count": 23,
   "metadata": {},
   "outputs": [
    {
     "data": {
      "text/plain": [
       "0                Katie Britt \n",
       "1                  Will Boyd \n",
       "2            John Sophocleus \n",
       "3                 Katie Britt\n",
       "4                   Mo Brooks\n",
       "                ...          \n",
       "175    Ronald Harold Johnson \n",
       "176           Mandela Barnes \n",
       "177       Adam Nicholas Paul \n",
       "178             Scott Aubart \n",
       "179           Mandela Barnes \n",
       "Name: bp_name, Length: 180, dtype: object"
      ]
     },
     "execution_count": 23,
     "metadata": {},
     "output_type": "execute_result"
    }
   ],
   "source": [
    "df3['bp_name']"
   ]
  },
  {
   "cell_type": "code",
   "execution_count": 24,
   "metadata": {},
   "outputs": [],
   "source": [
    "df['bp_name']=df3['bp_name']"
   ]
  },
  {
   "cell_type": "code",
   "execution_count": 25,
   "metadata": {},
   "outputs": [
    {
     "name": "stderr",
     "output_type": "stream",
     "text": [
      "<ipython-input-25-69e59d51501f>:1: FutureWarning: The default value of regex will change from True to False in a future version.\n",
      "  df['bp_url_filename'] = df['bp_url'].str.replace(\"https://s3.amazonaws.com/ballotpedia-api4/files/thumbs/100/100/\", '')\n"
     ]
    }
   ],
   "source": [
    "df['bp_url_filename'] = df['bp_url'].str.replace(\"https://s3.amazonaws.com/ballotpedia-api4/files/thumbs/100/100/\", '')"
   ]
  },
  {
   "cell_type": "code",
   "execution_count": 26,
   "metadata": {},
   "outputs": [
    {
     "data": {
      "text/html": [
       "<div>\n",
       "<style scoped>\n",
       "    .dataframe tbody tr th:only-of-type {\n",
       "        vertical-align: middle;\n",
       "    }\n",
       "\n",
       "    .dataframe tbody tr th {\n",
       "        vertical-align: top;\n",
       "    }\n",
       "\n",
       "    .dataframe thead th {\n",
       "        text-align: right;\n",
       "    }\n",
       "</style>\n",
       "<table border=\"1\" class=\"dataframe\">\n",
       "  <thead>\n",
       "    <tr style=\"text-align: right;\">\n",
       "      <th></th>\n",
       "      <th>bp_name_raw</th>\n",
       "      <th>bp_url</th>\n",
       "      <th>bp_name</th>\n",
       "      <th>bp_url_filename</th>\n",
       "    </tr>\n",
       "  </thead>\n",
       "  <tbody>\n",
       "    <tr>\n",
       "      <th>0</th>\n",
       "      <td>Katie Britt (R)  \\n\\t\\t\\t\\t\\t\\t\\t\\t\\t\\t\\t</td>\n",
       "      <td>https://s3.amazonaws.com/ballotpedia-api4/file...</td>\n",
       "      <td>Katie Britt</td>\n",
       "      <td>brittkatie.jpg</td>\n",
       "    </tr>\n",
       "    <tr>\n",
       "      <th>1</th>\n",
       "      <td>Will Boyd (D) \\n</td>\n",
       "      <td>https://s3.amazonaws.com/ballotpedia-api4/file...</td>\n",
       "      <td>Will Boyd</td>\n",
       "      <td>WillBoyd2.jpg</td>\n",
       "    </tr>\n",
       "    <tr>\n",
       "      <th>2</th>\n",
       "      <td>John Sophocleus (L)  \\n\\t\\t\\t\\t\\t\\t\\t\\t\\t\\t\\t</td>\n",
       "      <td>https://s3.amazonaws.com/ballotpedia-api4/file...</td>\n",
       "      <td>John Sophocleus</td>\n",
       "      <td>John_SophocleusAL.png</td>\n",
       "    </tr>\n",
       "    <tr>\n",
       "      <th>3</th>\n",
       "      <td>Katie Britt\\n</td>\n",
       "      <td>https://s3.amazonaws.com/ballotpedia-api4/file...</td>\n",
       "      <td>Katie Britt</td>\n",
       "      <td>brittkatie.jpg</td>\n",
       "    </tr>\n",
       "    <tr>\n",
       "      <th>4</th>\n",
       "      <td>Mo Brooks\\n</td>\n",
       "      <td>https://s3.amazonaws.com/ballotpedia-api4/file...</td>\n",
       "      <td>Mo Brooks</td>\n",
       "      <td>Mo_Brooks.jpg</td>\n",
       "    </tr>\n",
       "    <tr>\n",
       "      <th>...</th>\n",
       "      <td>...</td>\n",
       "      <td>...</td>\n",
       "      <td>...</td>\n",
       "      <td>...</td>\n",
       "    </tr>\n",
       "    <tr>\n",
       "      <th>95</th>\n",
       "      <td>Eric Schmitt (R)  \\n\\t\\t\\t\\t\\t\\t\\t\\t\\t\\t\\t</td>\n",
       "      <td>https://s3.amazonaws.com/ballotpedia-api4/file...</td>\n",
       "      <td>Eric Schmitt</td>\n",
       "      <td>Eric-Schmitt.PNG</td>\n",
       "    </tr>\n",
       "    <tr>\n",
       "      <th>96</th>\n",
       "      <td>Trudy Busch Valentine (D)  \\n\\t\\t\\t\\t\\t\\t\\t\\t\\...</td>\n",
       "      <td>https://s3.amazonaws.com/ballotpedia-api4/file...</td>\n",
       "      <td>Trudy Busch Valentine</td>\n",
       "      <td>TrudyBuschValentine.png</td>\n",
       "    </tr>\n",
       "    <tr>\n",
       "      <th>97</th>\n",
       "      <td>Jonathan Dine (L)  \\n\\t\\t\\t\\t\\t\\t\\t\\t\\t\\t\\t</td>\n",
       "      <td>https://s3.amazonaws.com/ballotpedia-api4/file...</td>\n",
       "      <td>Jonathan Dine</td>\n",
       "      <td>Jonathan-Dine.PNG</td>\n",
       "    </tr>\n",
       "    <tr>\n",
       "      <th>98</th>\n",
       "      <td>Paul Venable (Constitution Party)  \\n\\t\\t\\t\\t\\...</td>\n",
       "      <td>https://s3.amazonaws.com/ballotpedia-api4/file...</td>\n",
       "      <td>Paul Venable</td>\n",
       "      <td>Paul-Venable.PNG</td>\n",
       "    </tr>\n",
       "    <tr>\n",
       "      <th>99</th>\n",
       "      <td>Steve Price (Independent) (Write-in)  \\n\\t\\t\\t...</td>\n",
       "      <td>https://cdn.ballotpedia.org/images/thumb/f/fb/...</td>\n",
       "      <td>Steve Price</td>\n",
       "      <td>https://cdn.ballotpedia.org/images/thumb/f/fb/...</td>\n",
       "    </tr>\n",
       "  </tbody>\n",
       "</table>\n",
       "<p>100 rows × 4 columns</p>\n",
       "</div>"
      ],
      "text/plain": [
       "                                          bp_name_raw  \\\n",
       "0           Katie Britt (R)  \\n\\t\\t\\t\\t\\t\\t\\t\\t\\t\\t\\t   \n",
       "1                                    Will Boyd (D) \\n   \n",
       "2       John Sophocleus (L)  \\n\\t\\t\\t\\t\\t\\t\\t\\t\\t\\t\\t   \n",
       "3                                       Katie Britt\\n   \n",
       "4                                         Mo Brooks\\n   \n",
       "..                                                ...   \n",
       "95         Eric Schmitt (R)  \\n\\t\\t\\t\\t\\t\\t\\t\\t\\t\\t\\t   \n",
       "96  Trudy Busch Valentine (D)  \\n\\t\\t\\t\\t\\t\\t\\t\\t\\...   \n",
       "97        Jonathan Dine (L)  \\n\\t\\t\\t\\t\\t\\t\\t\\t\\t\\t\\t   \n",
       "98  Paul Venable (Constitution Party)  \\n\\t\\t\\t\\t\\...   \n",
       "99  Steve Price (Independent) (Write-in)  \\n\\t\\t\\t...   \n",
       "\n",
       "                                               bp_url                 bp_name  \\\n",
       "0   https://s3.amazonaws.com/ballotpedia-api4/file...            Katie Britt    \n",
       "1   https://s3.amazonaws.com/ballotpedia-api4/file...              Will Boyd    \n",
       "2   https://s3.amazonaws.com/ballotpedia-api4/file...        John Sophocleus    \n",
       "3   https://s3.amazonaws.com/ballotpedia-api4/file...             Katie Britt   \n",
       "4   https://s3.amazonaws.com/ballotpedia-api4/file...               Mo Brooks   \n",
       "..                                                ...                     ...   \n",
       "95  https://s3.amazonaws.com/ballotpedia-api4/file...           Eric Schmitt    \n",
       "96  https://s3.amazonaws.com/ballotpedia-api4/file...  Trudy Busch Valentine    \n",
       "97  https://s3.amazonaws.com/ballotpedia-api4/file...          Jonathan Dine    \n",
       "98  https://s3.amazonaws.com/ballotpedia-api4/file...           Paul Venable    \n",
       "99  https://cdn.ballotpedia.org/images/thumb/f/fb/...            Steve Price    \n",
       "\n",
       "                                      bp_url_filename  \n",
       "0                                      brittkatie.jpg  \n",
       "1                                       WillBoyd2.jpg  \n",
       "2                               John_SophocleusAL.png  \n",
       "3                                      brittkatie.jpg  \n",
       "4                                       Mo_Brooks.jpg  \n",
       "..                                                ...  \n",
       "95                                   Eric-Schmitt.PNG  \n",
       "96                            TrudyBuschValentine.png  \n",
       "97                                  Jonathan-Dine.PNG  \n",
       "98                                   Paul-Venable.PNG  \n",
       "99  https://cdn.ballotpedia.org/images/thumb/f/fb/...  \n",
       "\n",
       "[100 rows x 4 columns]"
      ]
     },
     "execution_count": 26,
     "metadata": {},
     "output_type": "execute_result"
    }
   ],
   "source": [
    "df.head(100)"
   ]
  },
  {
   "cell_type": "code",
   "execution_count": 27,
   "metadata": {},
   "outputs": [],
   "source": [
    "df['bp_name'] = df['bp_name'].str.strip()"
   ]
  },
  {
   "cell_type": "code",
   "execution_count": 28,
   "metadata": {},
   "outputs": [],
   "source": [
    "df = df.drop_duplicates(subset=['bp_name'], keep='first')"
   ]
  },
  {
   "cell_type": "code",
   "execution_count": 29,
   "metadata": {},
   "outputs": [
    {
     "data": {
      "text/html": [
       "<div>\n",
       "<style scoped>\n",
       "    .dataframe tbody tr th:only-of-type {\n",
       "        vertical-align: middle;\n",
       "    }\n",
       "\n",
       "    .dataframe tbody tr th {\n",
       "        vertical-align: top;\n",
       "    }\n",
       "\n",
       "    .dataframe thead th {\n",
       "        text-align: right;\n",
       "    }\n",
       "</style>\n",
       "<table border=\"1\" class=\"dataframe\">\n",
       "  <thead>\n",
       "    <tr style=\"text-align: right;\">\n",
       "      <th></th>\n",
       "      <th>bp_name_raw</th>\n",
       "      <th>bp_url</th>\n",
       "      <th>bp_name</th>\n",
       "      <th>bp_url_filename</th>\n",
       "    </tr>\n",
       "  </thead>\n",
       "  <tbody>\n",
       "    <tr>\n",
       "      <th>166</th>\n",
       "      <td>Gerald Malloy (R) \\n</td>\n",
       "      <td>https://s3.amazonaws.com/ballotpedia-api4/file...</td>\n",
       "      <td>Gerald Malloy</td>\n",
       "      <td>Gerald_Malloy.jpeg</td>\n",
       "    </tr>\n",
       "    <tr>\n",
       "      <th>167</th>\n",
       "      <td>Dawn Ellis (Independent)  \\n\\t\\t\\t\\t\\t\\t\\t\\t\\t...</td>\n",
       "      <td>https://s3.amazonaws.com/ballotpedia-api4/file...</td>\n",
       "      <td>Dawn Ellis</td>\n",
       "      <td>DawnEllis.jpg</td>\n",
       "    </tr>\n",
       "    <tr>\n",
       "      <th>168</th>\n",
       "      <td>Natasha Diamondstone-Kohout (Green Mountain Pa...</td>\n",
       "      <td>https://cdn.ballotpedia.org/images/thumb/f/fb/...</td>\n",
       "      <td>Natasha Diamondstone-Kohout</td>\n",
       "      <td>https://cdn.ballotpedia.org/images/thumb/f/fb/...</td>\n",
       "    </tr>\n",
       "    <tr>\n",
       "      <th>169</th>\n",
       "      <td>Kerry Patrick Raheb (Independent) \\n</td>\n",
       "      <td>https://s3.amazonaws.com/ballotpedia-api4/file...</td>\n",
       "      <td>Kerry Patrick Raheb</td>\n",
       "      <td>KerryRahebVT.png</td>\n",
       "    </tr>\n",
       "    <tr>\n",
       "      <th>170</th>\n",
       "      <td>Patty Murray (D)  \\n\\t\\t\\t\\t\\t\\t\\t\\t\\t\\t\\t</td>\n",
       "      <td>https://s3.amazonaws.com/ballotpedia-api4/file...</td>\n",
       "      <td>Patty Murray</td>\n",
       "      <td>Patty_Murray.jpg</td>\n",
       "    </tr>\n",
       "    <tr>\n",
       "      <th>171</th>\n",
       "      <td>Tiffany Smiley (R)  \\n\\t\\t\\t\\t\\t\\t\\t\\t\\t\\t\\t</td>\n",
       "      <td>https://s3.amazonaws.com/ballotpedia-api4/file...</td>\n",
       "      <td>Tiffany Smiley</td>\n",
       "      <td>TiffanySmiley.jpeg</td>\n",
       "    </tr>\n",
       "    <tr>\n",
       "      <th>175</th>\n",
       "      <td>Ronald Harold Johnson (R)  \\n\\t\\t\\t\\t\\t\\t\\t\\t\\...</td>\n",
       "      <td>https://s3.amazonaws.com/ballotpedia-api4/file...</td>\n",
       "      <td>Ronald Harold Johnson</td>\n",
       "      <td>Ron_Johnson.jpg</td>\n",
       "    </tr>\n",
       "    <tr>\n",
       "      <th>176</th>\n",
       "      <td>Mandela Barnes (D) \\n</td>\n",
       "      <td>https://s3.amazonaws.com/ballotpedia-api4/file...</td>\n",
       "      <td>Mandela Barnes</td>\n",
       "      <td>Mandela-Barnes.jpg</td>\n",
       "    </tr>\n",
       "    <tr>\n",
       "      <th>177</th>\n",
       "      <td>Adam Nicholas Paul (Logic Party) (Write-in)  \\...</td>\n",
       "      <td>https://cdn.ballotpedia.org/images/thumb/f/fb/...</td>\n",
       "      <td>Adam Nicholas Paul</td>\n",
       "      <td>https://cdn.ballotpedia.org/images/thumb/f/fb/...</td>\n",
       "    </tr>\n",
       "    <tr>\n",
       "      <th>178</th>\n",
       "      <td>Scott Aubart (American Independent Party) (Wri...</td>\n",
       "      <td>https://cdn.ballotpedia.org/images/thumb/f/fb/...</td>\n",
       "      <td>Scott Aubart</td>\n",
       "      <td>https://cdn.ballotpedia.org/images/thumb/f/fb/...</td>\n",
       "    </tr>\n",
       "  </tbody>\n",
       "</table>\n",
       "</div>"
      ],
      "text/plain": [
       "                                           bp_name_raw  \\\n",
       "166                               Gerald Malloy (R) \\n   \n",
       "167  Dawn Ellis (Independent)  \\n\\t\\t\\t\\t\\t\\t\\t\\t\\t...   \n",
       "168  Natasha Diamondstone-Kohout (Green Mountain Pa...   \n",
       "169               Kerry Patrick Raheb (Independent) \\n   \n",
       "170         Patty Murray (D)  \\n\\t\\t\\t\\t\\t\\t\\t\\t\\t\\t\\t   \n",
       "171       Tiffany Smiley (R)  \\n\\t\\t\\t\\t\\t\\t\\t\\t\\t\\t\\t   \n",
       "175  Ronald Harold Johnson (R)  \\n\\t\\t\\t\\t\\t\\t\\t\\t\\...   \n",
       "176                              Mandela Barnes (D) \\n   \n",
       "177  Adam Nicholas Paul (Logic Party) (Write-in)  \\...   \n",
       "178  Scott Aubart (American Independent Party) (Wri...   \n",
       "\n",
       "                                                bp_url  \\\n",
       "166  https://s3.amazonaws.com/ballotpedia-api4/file...   \n",
       "167  https://s3.amazonaws.com/ballotpedia-api4/file...   \n",
       "168  https://cdn.ballotpedia.org/images/thumb/f/fb/...   \n",
       "169  https://s3.amazonaws.com/ballotpedia-api4/file...   \n",
       "170  https://s3.amazonaws.com/ballotpedia-api4/file...   \n",
       "171  https://s3.amazonaws.com/ballotpedia-api4/file...   \n",
       "175  https://s3.amazonaws.com/ballotpedia-api4/file...   \n",
       "176  https://s3.amazonaws.com/ballotpedia-api4/file...   \n",
       "177  https://cdn.ballotpedia.org/images/thumb/f/fb/...   \n",
       "178  https://cdn.ballotpedia.org/images/thumb/f/fb/...   \n",
       "\n",
       "                         bp_name  \\\n",
       "166                Gerald Malloy   \n",
       "167                   Dawn Ellis   \n",
       "168  Natasha Diamondstone-Kohout   \n",
       "169          Kerry Patrick Raheb   \n",
       "170                 Patty Murray   \n",
       "171               Tiffany Smiley   \n",
       "175        Ronald Harold Johnson   \n",
       "176               Mandela Barnes   \n",
       "177           Adam Nicholas Paul   \n",
       "178                 Scott Aubart   \n",
       "\n",
       "                                       bp_url_filename  \n",
       "166                                 Gerald_Malloy.jpeg  \n",
       "167                                      DawnEllis.jpg  \n",
       "168  https://cdn.ballotpedia.org/images/thumb/f/fb/...  \n",
       "169                                   KerryRahebVT.png  \n",
       "170                                   Patty_Murray.jpg  \n",
       "171                                 TiffanySmiley.jpeg  \n",
       "175                                    Ron_Johnson.jpg  \n",
       "176                                 Mandela-Barnes.jpg  \n",
       "177  https://cdn.ballotpedia.org/images/thumb/f/fb/...  \n",
       "178  https://cdn.ballotpedia.org/images/thumb/f/fb/...  "
      ]
     },
     "execution_count": 29,
     "metadata": {},
     "output_type": "execute_result"
    }
   ],
   "source": [
    "df.tail(10)"
   ]
  },
  {
   "cell_type": "code",
   "execution_count": null,
   "metadata": {},
   "outputs": [],
   "source": [
    "df.shape"
   ]
  },
  {
   "cell_type": "code",
   "execution_count": null,
   "metadata": {},
   "outputs": [],
   "source": []
  },
  {
   "cell_type": "code",
   "execution_count": null,
   "metadata": {},
   "outputs": [],
   "source": []
  },
  {
   "cell_type": "code",
   "execution_count": null,
   "metadata": {},
   "outputs": [],
   "source": [
    "df.to_csv(\"bp2022_sen_scraped_face.csv\", index=False)"
   ]
  },
  {
   "cell_type": "code",
   "execution_count": null,
   "metadata": {},
   "outputs": [],
   "source": []
  },
  {
   "cell_type": "code",
   "execution_count": null,
   "metadata": {},
   "outputs": [],
   "source": []
  },
  {
   "cell_type": "code",
   "execution_count": 30,
   "metadata": {},
   "outputs": [],
   "source": [
    "s = pd.read_csv(\"/Users/jieluyao/Documents/GitHub/datasets/candidates/2022/wmpcand_101422_wmpid.csv\")"
   ]
  },
  {
   "cell_type": "code",
   "execution_count": 31,
   "metadata": {},
   "outputs": [
    {
     "data": {
      "text/plain": [
       "Index(['wmpid', 'genelect_cd', 'CurrCand', 'cand_name', 'cand_id',\n",
       "       'cand_office', 'cand_office_st', 'cand_office_dist',\n",
       "       'cand_party_affiliation', 'cand_incumbent_challenger_open_s',\n",
       "       'dateadded_cd', 'office_wapo', 'result_wapo', 'primarydate_wapo',\n",
       "       'trumpe_wapo', 'gender_wmp', 'gender_crp', 'latino_wmp', 'latino_crp',\n",
       "       'race_wmp', 'race_crp1', 'race_crp2', 'race_crpmena', 'full_name',\n",
       "       'first_name', 'last_name'],\n",
       "      dtype='object')"
      ]
     },
     "execution_count": 31,
     "metadata": {},
     "output_type": "execute_result"
    }
   ],
   "source": [
    "s.columns"
   ]
  },
  {
   "cell_type": "code",
   "execution_count": 32,
   "metadata": {},
   "outputs": [
    {
     "data": {
      "text/plain": [
       "0    2828\n",
       "1    1468\n",
       "Name: genelect_cd, dtype: int64"
      ]
     },
     "execution_count": 32,
     "metadata": {},
     "output_type": "execute_result"
    }
   ],
   "source": [
    "s.genelect_cd.value_counts(dropna=False)"
   ]
  },
  {
   "cell_type": "code",
   "execution_count": 33,
   "metadata": {},
   "outputs": [],
   "source": [
    "s = s.loc[(s['genelect_cd']==1)&(s['cand_office']=='S')]"
   ]
  },
  {
   "cell_type": "code",
   "execution_count": 34,
   "metadata": {},
   "outputs": [
    {
     "data": {
      "text/plain": [
       "(172, 26)"
      ]
     },
     "execution_count": 34,
     "metadata": {},
     "output_type": "execute_result"
    }
   ],
   "source": [
    "s.shape"
   ]
  },
  {
   "cell_type": "code",
   "execution_count": 35,
   "metadata": {},
   "outputs": [
    {
     "data": {
      "text/html": [
       "<div>\n",
       "<style scoped>\n",
       "    .dataframe tbody tr th:only-of-type {\n",
       "        vertical-align: middle;\n",
       "    }\n",
       "\n",
       "    .dataframe tbody tr th {\n",
       "        vertical-align: top;\n",
       "    }\n",
       "\n",
       "    .dataframe thead th {\n",
       "        text-align: right;\n",
       "    }\n",
       "</style>\n",
       "<table border=\"1\" class=\"dataframe\">\n",
       "  <thead>\n",
       "    <tr style=\"text-align: right;\">\n",
       "      <th></th>\n",
       "      <th>wmpid</th>\n",
       "      <th>genelect_cd</th>\n",
       "      <th>CurrCand</th>\n",
       "      <th>cand_name</th>\n",
       "      <th>cand_id</th>\n",
       "      <th>cand_office</th>\n",
       "      <th>cand_office_st</th>\n",
       "      <th>cand_office_dist</th>\n",
       "      <th>cand_party_affiliation</th>\n",
       "      <th>cand_incumbent_challenger_open_s</th>\n",
       "      <th>...</th>\n",
       "      <th>gender_crp</th>\n",
       "      <th>latino_wmp</th>\n",
       "      <th>latino_crp</th>\n",
       "      <th>race_wmp</th>\n",
       "      <th>race_crp1</th>\n",
       "      <th>race_crp2</th>\n",
       "      <th>race_crpmena</th>\n",
       "      <th>full_name</th>\n",
       "      <th>first_name</th>\n",
       "      <th>last_name</th>\n",
       "    </tr>\n",
       "  </thead>\n",
       "  <tbody>\n",
       "    <tr>\n",
       "      <th>3614</th>\n",
       "      <td>WMPID1299</td>\n",
       "      <td>1</td>\n",
       "      <td>Y</td>\n",
       "      <td>BOOZMAN, SEN. JOHN</td>\n",
       "      <td>S0AR00150</td>\n",
       "      <td>S</td>\n",
       "      <td>AR</td>\n",
       "      <td>0.0</td>\n",
       "      <td>REP</td>\n",
       "      <td>INCUMBENT</td>\n",
       "      <td>...</td>\n",
       "      <td>M</td>\n",
       "      <td>NaN</td>\n",
       "      <td>NaN</td>\n",
       "      <td>White</td>\n",
       "      <td>W</td>\n",
       "      <td>NaN</td>\n",
       "      <td>NaN</td>\n",
       "      <td>John Boozman</td>\n",
       "      <td>John</td>\n",
       "      <td>Boozman</td>\n",
       "    </tr>\n",
       "    <tr>\n",
       "      <th>3616</th>\n",
       "      <td>WMPID1302</td>\n",
       "      <td>1</td>\n",
       "      <td>Y</td>\n",
       "      <td>KELLY, MARK</td>\n",
       "      <td>S0AZ00350</td>\n",
       "      <td>S</td>\n",
       "      <td>AZ</td>\n",
       "      <td>0.0</td>\n",
       "      <td>DEM</td>\n",
       "      <td>INCUMBENT</td>\n",
       "      <td>...</td>\n",
       "      <td>M</td>\n",
       "      <td>0.0</td>\n",
       "      <td>N</td>\n",
       "      <td>White</td>\n",
       "      <td>W</td>\n",
       "      <td>NaN</td>\n",
       "      <td>N</td>\n",
       "      <td>Mark Kelly</td>\n",
       "      <td>Kelly</td>\n",
       "      <td>Mark</td>\n",
       "    </tr>\n",
       "    <tr>\n",
       "      <th>3619</th>\n",
       "      <td>WMPID1305</td>\n",
       "      <td>1</td>\n",
       "      <td>Y</td>\n",
       "      <td>BENNET, MICHAEL F.</td>\n",
       "      <td>S0CO00211</td>\n",
       "      <td>S</td>\n",
       "      <td>CO</td>\n",
       "      <td>0.0</td>\n",
       "      <td>DEM</td>\n",
       "      <td>INCUMBENT</td>\n",
       "      <td>...</td>\n",
       "      <td>M</td>\n",
       "      <td>0.0</td>\n",
       "      <td>N</td>\n",
       "      <td>White</td>\n",
       "      <td>W</td>\n",
       "      <td>NaN</td>\n",
       "      <td>N</td>\n",
       "      <td>Michael Bennet</td>\n",
       "      <td>Michael</td>\n",
       "      <td>Bennet</td>\n",
       "    </tr>\n",
       "    <tr>\n",
       "      <th>3620</th>\n",
       "      <td>WMPID1315</td>\n",
       "      <td>1</td>\n",
       "      <td>Y</td>\n",
       "      <td>BLUMENTHAL, RICHARD</td>\n",
       "      <td>S0CT00177</td>\n",
       "      <td>S</td>\n",
       "      <td>CT</td>\n",
       "      <td>0.0</td>\n",
       "      <td>DEM</td>\n",
       "      <td>INCUMBENT</td>\n",
       "      <td>...</td>\n",
       "      <td>M</td>\n",
       "      <td>NaN</td>\n",
       "      <td>NaN</td>\n",
       "      <td>White</td>\n",
       "      <td>W</td>\n",
       "      <td>NaN</td>\n",
       "      <td>NaN</td>\n",
       "      <td>Richard Blumenthal</td>\n",
       "      <td>Richard</td>\n",
       "      <td>Blumenthal</td>\n",
       "    </tr>\n",
       "    <tr>\n",
       "      <th>3621</th>\n",
       "      <td>WMPID1321</td>\n",
       "      <td>1</td>\n",
       "      <td>Y</td>\n",
       "      <td>RUBIO, MARCO</td>\n",
       "      <td>S0FL00338</td>\n",
       "      <td>S</td>\n",
       "      <td>FL</td>\n",
       "      <td>0.0</td>\n",
       "      <td>REP</td>\n",
       "      <td>INCUMBENT</td>\n",
       "      <td>...</td>\n",
       "      <td>M</td>\n",
       "      <td>1.0</td>\n",
       "      <td>Y</td>\n",
       "      <td>Hispanic/Latino</td>\n",
       "      <td>H</td>\n",
       "      <td>NaN</td>\n",
       "      <td>NaN</td>\n",
       "      <td>Marco Rubio</td>\n",
       "      <td>Marco</td>\n",
       "      <td>Rubio</td>\n",
       "    </tr>\n",
       "  </tbody>\n",
       "</table>\n",
       "<p>5 rows × 26 columns</p>\n",
       "</div>"
      ],
      "text/plain": [
       "          wmpid  genelect_cd CurrCand            cand_name    cand_id  \\\n",
       "3614  WMPID1299            1        Y   BOOZMAN, SEN. JOHN  S0AR00150   \n",
       "3616  WMPID1302            1        Y          KELLY, MARK  S0AZ00350   \n",
       "3619  WMPID1305            1        Y   BENNET, MICHAEL F.  S0CO00211   \n",
       "3620  WMPID1315            1        Y  BLUMENTHAL, RICHARD  S0CT00177   \n",
       "3621  WMPID1321            1        Y         RUBIO, MARCO  S0FL00338   \n",
       "\n",
       "     cand_office cand_office_st  cand_office_dist cand_party_affiliation  \\\n",
       "3614           S             AR               0.0                    REP   \n",
       "3616           S             AZ               0.0                    DEM   \n",
       "3619           S             CO               0.0                    DEM   \n",
       "3620           S             CT               0.0                    DEM   \n",
       "3621           S             FL               0.0                    REP   \n",
       "\n",
       "     cand_incumbent_challenger_open_s  ... gender_crp latino_wmp latino_crp  \\\n",
       "3614                        INCUMBENT  ...          M        NaN        NaN   \n",
       "3616                        INCUMBENT  ...          M        0.0          N   \n",
       "3619                        INCUMBENT  ...          M        0.0          N   \n",
       "3620                        INCUMBENT  ...          M        NaN        NaN   \n",
       "3621                        INCUMBENT  ...          M        1.0          Y   \n",
       "\n",
       "             race_wmp  race_crp1 race_crp2 race_crpmena           full_name  \\\n",
       "3614            White          W       NaN          NaN        John Boozman   \n",
       "3616            White          W       NaN            N          Mark Kelly   \n",
       "3619            White          W       NaN            N      Michael Bennet   \n",
       "3620            White          W       NaN          NaN  Richard Blumenthal   \n",
       "3621  Hispanic/Latino          H       NaN          NaN         Marco Rubio   \n",
       "\n",
       "     first_name   last_name  \n",
       "3614       John     Boozman  \n",
       "3616      Kelly        Mark  \n",
       "3619    Michael      Bennet  \n",
       "3620    Richard  Blumenthal  \n",
       "3621      Marco       Rubio  \n",
       "\n",
       "[5 rows x 26 columns]"
      ]
     },
     "execution_count": 35,
     "metadata": {},
     "output_type": "execute_result"
    }
   ],
   "source": [
    "s.head()"
   ]
  },
  {
   "cell_type": "code",
   "execution_count": 36,
   "metadata": {},
   "outputs": [],
   "source": [
    "s = s[['wmpid', 'cand_name', 'full_name', 'cand_office_st', 'cand_party_affiliation']]"
   ]
  },
  {
   "cell_type": "code",
   "execution_count": 37,
   "metadata": {},
   "outputs": [
    {
     "data": {
      "text/html": [
       "<div>\n",
       "<style scoped>\n",
       "    .dataframe tbody tr th:only-of-type {\n",
       "        vertical-align: middle;\n",
       "    }\n",
       "\n",
       "    .dataframe tbody tr th {\n",
       "        vertical-align: top;\n",
       "    }\n",
       "\n",
       "    .dataframe thead th {\n",
       "        text-align: right;\n",
       "    }\n",
       "</style>\n",
       "<table border=\"1\" class=\"dataframe\">\n",
       "  <thead>\n",
       "    <tr style=\"text-align: right;\">\n",
       "      <th></th>\n",
       "      <th>wmpid</th>\n",
       "      <th>cand_name</th>\n",
       "      <th>full_name</th>\n",
       "      <th>cand_office_st</th>\n",
       "      <th>cand_party_affiliation</th>\n",
       "    </tr>\n",
       "  </thead>\n",
       "  <tbody>\n",
       "    <tr>\n",
       "      <th>3614</th>\n",
       "      <td>WMPID1299</td>\n",
       "      <td>BOOZMAN, SEN. JOHN</td>\n",
       "      <td>John Boozman</td>\n",
       "      <td>AR</td>\n",
       "      <td>REP</td>\n",
       "    </tr>\n",
       "    <tr>\n",
       "      <th>3616</th>\n",
       "      <td>WMPID1302</td>\n",
       "      <td>KELLY, MARK</td>\n",
       "      <td>Mark Kelly</td>\n",
       "      <td>AZ</td>\n",
       "      <td>DEM</td>\n",
       "    </tr>\n",
       "    <tr>\n",
       "      <th>3619</th>\n",
       "      <td>WMPID1305</td>\n",
       "      <td>BENNET, MICHAEL F.</td>\n",
       "      <td>Michael Bennet</td>\n",
       "      <td>CO</td>\n",
       "      <td>DEM</td>\n",
       "    </tr>\n",
       "    <tr>\n",
       "      <th>3620</th>\n",
       "      <td>WMPID1315</td>\n",
       "      <td>BLUMENTHAL, RICHARD</td>\n",
       "      <td>Richard Blumenthal</td>\n",
       "      <td>CT</td>\n",
       "      <td>DEM</td>\n",
       "    </tr>\n",
       "    <tr>\n",
       "      <th>3621</th>\n",
       "      <td>WMPID1321</td>\n",
       "      <td>RUBIO, MARCO</td>\n",
       "      <td>Marco Rubio</td>\n",
       "      <td>FL</td>\n",
       "      <td>REP</td>\n",
       "    </tr>\n",
       "  </tbody>\n",
       "</table>\n",
       "</div>"
      ],
      "text/plain": [
       "          wmpid            cand_name           full_name cand_office_st  \\\n",
       "3614  WMPID1299   BOOZMAN, SEN. JOHN        John Boozman             AR   \n",
       "3616  WMPID1302          KELLY, MARK          Mark Kelly             AZ   \n",
       "3619  WMPID1305   BENNET, MICHAEL F.      Michael Bennet             CO   \n",
       "3620  WMPID1315  BLUMENTHAL, RICHARD  Richard Blumenthal             CT   \n",
       "3621  WMPID1321         RUBIO, MARCO         Marco Rubio             FL   \n",
       "\n",
       "     cand_party_affiliation  \n",
       "3614                    REP  \n",
       "3616                    DEM  \n",
       "3619                    DEM  \n",
       "3620                    DEM  \n",
       "3621                    REP  "
      ]
     },
     "execution_count": 37,
     "metadata": {},
     "output_type": "execute_result"
    }
   ],
   "source": [
    "s.head()"
   ]
  },
  {
   "cell_type": "code",
   "execution_count": 38,
   "metadata": {},
   "outputs": [
    {
     "data": {
      "text/plain": [
       "172"
      ]
     },
     "execution_count": 38,
     "metadata": {},
     "output_type": "execute_result"
    }
   ],
   "source": [
    "len(s['wmpid'].unique())"
   ]
  },
  {
   "cell_type": "code",
   "execution_count": null,
   "metadata": {},
   "outputs": [],
   "source": []
  },
  {
   "cell_type": "code",
   "execution_count": 39,
   "metadata": {},
   "outputs": [],
   "source": [
    "def fuzzy_merge(df_1, df_2, key1, key2, threshold=90, limit=2):\n",
    "    \"\"\"\n",
    "    :param df_1: the left table to join\n",
    "    :param df_2: the right table to join\n",
    "    :param key1: key column of the left table\n",
    "    :param key2: key column of the right table\n",
    "    :param threshold: how close the matches should be to return a match, based on Levenshtein distance\n",
    "    :param limit: the amount of matches that will get returned, these are sorted high to low\n",
    "    :return: dataframe with boths keys and matches\n",
    "    \"\"\"\n",
    "    s = df_2[key2].tolist()\n",
    "    \n",
    "    m = df_1[key1].apply(lambda x: process.extract(x, s, limit=limit))    \n",
    "    df_1['matches'] = m\n",
    "    \n",
    "    m2 = df_1['matches'].apply(lambda x: ', '.join([i[0] for i in x if i[1] >= threshold]))\n",
    "    df_1['matches'] = m2\n",
    "    \n",
    "    return df_1"
   ]
  },
  {
   "cell_type": "code",
   "execution_count": 40,
   "metadata": {},
   "outputs": [],
   "source": [
    "dat = fuzzy_merge(s, df, 'full_name', 'bp_name', threshold=90)"
   ]
  },
  {
   "cell_type": "code",
   "execution_count": 41,
   "metadata": {},
   "outputs": [
    {
     "data": {
      "text/html": [
       "<div>\n",
       "<style scoped>\n",
       "    .dataframe tbody tr th:only-of-type {\n",
       "        vertical-align: middle;\n",
       "    }\n",
       "\n",
       "    .dataframe tbody tr th {\n",
       "        vertical-align: top;\n",
       "    }\n",
       "\n",
       "    .dataframe thead th {\n",
       "        text-align: right;\n",
       "    }\n",
       "</style>\n",
       "<table border=\"1\" class=\"dataframe\">\n",
       "  <thead>\n",
       "    <tr style=\"text-align: right;\">\n",
       "      <th></th>\n",
       "      <th>wmpid</th>\n",
       "      <th>cand_name</th>\n",
       "      <th>full_name</th>\n",
       "      <th>cand_office_st</th>\n",
       "      <th>cand_party_affiliation</th>\n",
       "      <th>matches</th>\n",
       "    </tr>\n",
       "  </thead>\n",
       "  <tbody>\n",
       "    <tr>\n",
       "      <th>3614</th>\n",
       "      <td>WMPID1299</td>\n",
       "      <td>BOOZMAN, SEN. JOHN</td>\n",
       "      <td>John Boozman</td>\n",
       "      <td>AR</td>\n",
       "      <td>REP</td>\n",
       "      <td>John Boozman</td>\n",
       "    </tr>\n",
       "    <tr>\n",
       "      <th>3616</th>\n",
       "      <td>WMPID1302</td>\n",
       "      <td>KELLY, MARK</td>\n",
       "      <td>Mark Kelly</td>\n",
       "      <td>AZ</td>\n",
       "      <td>DEM</td>\n",
       "      <td>Mark Kelly</td>\n",
       "    </tr>\n",
       "    <tr>\n",
       "      <th>3619</th>\n",
       "      <td>WMPID1305</td>\n",
       "      <td>BENNET, MICHAEL F.</td>\n",
       "      <td>Michael Bennet</td>\n",
       "      <td>CO</td>\n",
       "      <td>DEM</td>\n",
       "      <td>Michael Bennet</td>\n",
       "    </tr>\n",
       "    <tr>\n",
       "      <th>3620</th>\n",
       "      <td>WMPID1315</td>\n",
       "      <td>BLUMENTHAL, RICHARD</td>\n",
       "      <td>Richard Blumenthal</td>\n",
       "      <td>CT</td>\n",
       "      <td>DEM</td>\n",
       "      <td>Richard Blumenthal</td>\n",
       "    </tr>\n",
       "    <tr>\n",
       "      <th>3621</th>\n",
       "      <td>WMPID1321</td>\n",
       "      <td>RUBIO, MARCO</td>\n",
       "      <td>Marco Rubio</td>\n",
       "      <td>FL</td>\n",
       "      <td>REP</td>\n",
       "      <td>Marco Rubio</td>\n",
       "    </tr>\n",
       "    <tr>\n",
       "      <th>...</th>\n",
       "      <td>...</td>\n",
       "      <td>...</td>\n",
       "      <td>...</td>\n",
       "      <td>...</td>\n",
       "      <td>...</td>\n",
       "      <td>...</td>\n",
       "    </tr>\n",
       "    <tr>\n",
       "      <th>4276</th>\n",
       "      <td>WMPID1518</td>\n",
       "      <td>MURPHY, ROBERT T</td>\n",
       "      <td>Robert T. Murphy</td>\n",
       "      <td>OK</td>\n",
       "      <td>LIB</td>\n",
       "      <td>Robert Murphy</td>\n",
       "    </tr>\n",
       "    <tr>\n",
       "      <th>4277</th>\n",
       "      <td>WMPID1519</td>\n",
       "      <td>WYDEN, RONALD LEE</td>\n",
       "      <td>Ron Wyden</td>\n",
       "      <td>OR</td>\n",
       "      <td>DEM</td>\n",
       "      <td>Ron Wyden</td>\n",
       "    </tr>\n",
       "    <tr>\n",
       "      <th>4279</th>\n",
       "      <td>WMPID2065</td>\n",
       "      <td>FETTERMAN, JOHN KARL</td>\n",
       "      <td>John Karl Fetterman</td>\n",
       "      <td>PA</td>\n",
       "      <td>DEM</td>\n",
       "      <td>John Fetterman</td>\n",
       "    </tr>\n",
       "    <tr>\n",
       "      <th>4284</th>\n",
       "      <td>WMPID1531</td>\n",
       "      <td>CRAPO, MICHAEL D</td>\n",
       "      <td>Mike Crapo</td>\n",
       "      <td>ID</td>\n",
       "      <td>REP</td>\n",
       "      <td>Mike Crapo</td>\n",
       "    </tr>\n",
       "    <tr>\n",
       "      <th>4288</th>\n",
       "      <td>WMPID1547</td>\n",
       "      <td>SCHUMER, CHARLES E.</td>\n",
       "      <td>Charles Schumer</td>\n",
       "      <td>NY</td>\n",
       "      <td>DEM</td>\n",
       "      <td></td>\n",
       "    </tr>\n",
       "  </tbody>\n",
       "</table>\n",
       "<p>172 rows × 6 columns</p>\n",
       "</div>"
      ],
      "text/plain": [
       "          wmpid             cand_name            full_name cand_office_st  \\\n",
       "3614  WMPID1299    BOOZMAN, SEN. JOHN         John Boozman             AR   \n",
       "3616  WMPID1302           KELLY, MARK           Mark Kelly             AZ   \n",
       "3619  WMPID1305    BENNET, MICHAEL F.       Michael Bennet             CO   \n",
       "3620  WMPID1315   BLUMENTHAL, RICHARD   Richard Blumenthal             CT   \n",
       "3621  WMPID1321          RUBIO, MARCO          Marco Rubio             FL   \n",
       "...         ...                   ...                  ...            ...   \n",
       "4276  WMPID1518      MURPHY, ROBERT T     Robert T. Murphy             OK   \n",
       "4277  WMPID1519     WYDEN, RONALD LEE            Ron Wyden             OR   \n",
       "4279  WMPID2065  FETTERMAN, JOHN KARL  John Karl Fetterman             PA   \n",
       "4284  WMPID1531      CRAPO, MICHAEL D           Mike Crapo             ID   \n",
       "4288  WMPID1547   SCHUMER, CHARLES E.      Charles Schumer             NY   \n",
       "\n",
       "     cand_party_affiliation             matches  \n",
       "3614                    REP        John Boozman  \n",
       "3616                    DEM          Mark Kelly  \n",
       "3619                    DEM      Michael Bennet  \n",
       "3620                    DEM  Richard Blumenthal  \n",
       "3621                    REP         Marco Rubio  \n",
       "...                     ...                 ...  \n",
       "4276                    LIB       Robert Murphy  \n",
       "4277                    DEM           Ron Wyden  \n",
       "4279                    DEM      John Fetterman  \n",
       "4284                    REP          Mike Crapo  \n",
       "4288                    DEM                      \n",
       "\n",
       "[172 rows x 6 columns]"
      ]
     },
     "execution_count": 41,
     "metadata": {},
     "output_type": "execute_result"
    }
   ],
   "source": [
    "dat"
   ]
  },
  {
   "cell_type": "code",
   "execution_count": 42,
   "metadata": {},
   "outputs": [
    {
     "data": {
      "text/plain": [
       "''"
      ]
     },
     "execution_count": 42,
     "metadata": {},
     "output_type": "execute_result"
    }
   ],
   "source": [
    "dat.loc[4288, 'matches']"
   ]
  },
  {
   "cell_type": "code",
   "execution_count": 43,
   "metadata": {},
   "outputs": [
    {
     "data": {
      "text/html": [
       "<div>\n",
       "<style scoped>\n",
       "    .dataframe tbody tr th:only-of-type {\n",
       "        vertical-align: middle;\n",
       "    }\n",
       "\n",
       "    .dataframe tbody tr th {\n",
       "        vertical-align: top;\n",
       "    }\n",
       "\n",
       "    .dataframe thead th {\n",
       "        text-align: right;\n",
       "    }\n",
       "</style>\n",
       "<table border=\"1\" class=\"dataframe\">\n",
       "  <thead>\n",
       "    <tr style=\"text-align: right;\">\n",
       "      <th></th>\n",
       "      <th>wmpid</th>\n",
       "      <th>cand_name</th>\n",
       "      <th>full_name</th>\n",
       "      <th>cand_office_st</th>\n",
       "      <th>cand_party_affiliation</th>\n",
       "      <th>matches</th>\n",
       "    </tr>\n",
       "  </thead>\n",
       "  <tbody>\n",
       "    <tr>\n",
       "      <th>3622</th>\n",
       "      <td>WMPID174</td>\n",
       "      <td>KNEPPER, HOWARD</td>\n",
       "      <td>Howard Knepper</td>\n",
       "      <td>FL</td>\n",
       "      <td>W</td>\n",
       "      <td></td>\n",
       "    </tr>\n",
       "    <tr>\n",
       "      <th>3635</th>\n",
       "      <td>WMPID1370</td>\n",
       "      <td>JOHN, XAN MR.</td>\n",
       "      <td>Xan John</td>\n",
       "      <td>LA</td>\n",
       "      <td>OTH</td>\n",
       "      <td></td>\n",
       "    </tr>\n",
       "    <tr>\n",
       "      <th>3651</th>\n",
       "      <td>WMPID1450</td>\n",
       "      <td>JOHNSON, RON HAROLD MR.</td>\n",
       "      <td>Ron Johnson</td>\n",
       "      <td>WI</td>\n",
       "      <td>REP</td>\n",
       "      <td></td>\n",
       "    </tr>\n",
       "    <tr>\n",
       "      <th>3679</th>\n",
       "      <td>WMPID2592</td>\n",
       "      <td>SANDERS, JARMAL JABBAR REV</td>\n",
       "      <td>Jarmal Jabbar Sander</td>\n",
       "      <td>AL</td>\n",
       "      <td>UN</td>\n",
       "      <td></td>\n",
       "    </tr>\n",
       "    <tr>\n",
       "      <th>3682</th>\n",
       "      <td>WMPID1966</td>\n",
       "      <td>BOWERS, RICHARD ADAM MR.</td>\n",
       "      <td>Richard Adam Bowers</td>\n",
       "      <td>AL</td>\n",
       "      <td>NPA</td>\n",
       "      <td></td>\n",
       "    </tr>\n",
       "    <tr>\n",
       "      <th>...</th>\n",
       "      <td>...</td>\n",
       "      <td>...</td>\n",
       "      <td>...</td>\n",
       "      <td>...</td>\n",
       "      <td>...</td>\n",
       "      <td>...</td>\n",
       "    </tr>\n",
       "    <tr>\n",
       "      <th>4218</th>\n",
       "      <td>WMPID3887</td>\n",
       "      <td>D'AMICO, SAMUEL NICHOLAS MR</td>\n",
       "      <td>Samuel Nicholas D?Amico</td>\n",
       "      <td>WI</td>\n",
       "      <td>DEM</td>\n",
       "      <td></td>\n",
       "    </tr>\n",
       "    <tr>\n",
       "      <th>4247</th>\n",
       "      <td>WMPID1481</td>\n",
       "      <td>KENNEDY, JOHN NEELY</td>\n",
       "      <td>John Kennedy</td>\n",
       "      <td>LA</td>\n",
       "      <td>REP</td>\n",
       "      <td></td>\n",
       "    </tr>\n",
       "    <tr>\n",
       "      <th>4248</th>\n",
       "      <td>WMPID4986</td>\n",
       "      <td>MCMORRIS, BRANNON L</td>\n",
       "      <td>Brannon Mcmorris</td>\n",
       "      <td>LA</td>\n",
       "      <td>IND</td>\n",
       "      <td></td>\n",
       "    </tr>\n",
       "    <tr>\n",
       "      <th>4274</th>\n",
       "      <td>WMPID1514</td>\n",
       "      <td>HASSAN, MARGARET WOOD</td>\n",
       "      <td>Margaret Hassan</td>\n",
       "      <td>NH</td>\n",
       "      <td>DEM</td>\n",
       "      <td></td>\n",
       "    </tr>\n",
       "    <tr>\n",
       "      <th>4288</th>\n",
       "      <td>WMPID1547</td>\n",
       "      <td>SCHUMER, CHARLES E.</td>\n",
       "      <td>Charles Schumer</td>\n",
       "      <td>NY</td>\n",
       "      <td>DEM</td>\n",
       "      <td></td>\n",
       "    </tr>\n",
       "  </tbody>\n",
       "</table>\n",
       "<p>80 rows × 6 columns</p>\n",
       "</div>"
      ],
      "text/plain": [
       "          wmpid                    cand_name                full_name  \\\n",
       "3622   WMPID174              KNEPPER, HOWARD           Howard Knepper   \n",
       "3635  WMPID1370                JOHN, XAN MR.                 Xan John   \n",
       "3651  WMPID1450      JOHNSON, RON HAROLD MR.              Ron Johnson   \n",
       "3679  WMPID2592   SANDERS, JARMAL JABBAR REV     Jarmal Jabbar Sander   \n",
       "3682  WMPID1966     BOWERS, RICHARD ADAM MR.      Richard Adam Bowers   \n",
       "...         ...                          ...                      ...   \n",
       "4218  WMPID3887  D'AMICO, SAMUEL NICHOLAS MR  Samuel Nicholas D?Amico   \n",
       "4247  WMPID1481          KENNEDY, JOHN NEELY             John Kennedy   \n",
       "4248  WMPID4986          MCMORRIS, BRANNON L         Brannon Mcmorris   \n",
       "4274  WMPID1514        HASSAN, MARGARET WOOD          Margaret Hassan   \n",
       "4288  WMPID1547          SCHUMER, CHARLES E.          Charles Schumer   \n",
       "\n",
       "     cand_office_st cand_party_affiliation matches  \n",
       "3622             FL                      W          \n",
       "3635             LA                    OTH          \n",
       "3651             WI                    REP          \n",
       "3679             AL                     UN          \n",
       "3682             AL                    NPA          \n",
       "...             ...                    ...     ...  \n",
       "4218             WI                    DEM          \n",
       "4247             LA                    REP          \n",
       "4248             LA                    IND          \n",
       "4274             NH                    DEM          \n",
       "4288             NY                    DEM          \n",
       "\n",
       "[80 rows x 6 columns]"
      ]
     },
     "execution_count": 43,
     "metadata": {},
     "output_type": "execute_result"
    }
   ],
   "source": [
    "dat.loc[dat['matches']=='']"
   ]
  },
  {
   "cell_type": "code",
   "execution_count": null,
   "metadata": {},
   "outputs": [],
   "source": [
    "dat.shape"
   ]
  },
  {
   "cell_type": "code",
   "execution_count": 44,
   "metadata": {},
   "outputs": [],
   "source": [
    "sen = dat.merge(df, left_on='matches', right_on='bp_name', indicator=True, how='left')"
   ]
  },
  {
   "cell_type": "code",
   "execution_count": 45,
   "metadata": {
    "scrolled": true
   },
   "outputs": [
    {
     "data": {
      "text/html": [
       "<div>\n",
       "<style scoped>\n",
       "    .dataframe tbody tr th:only-of-type {\n",
       "        vertical-align: middle;\n",
       "    }\n",
       "\n",
       "    .dataframe tbody tr th {\n",
       "        vertical-align: top;\n",
       "    }\n",
       "\n",
       "    .dataframe thead th {\n",
       "        text-align: right;\n",
       "    }\n",
       "</style>\n",
       "<table border=\"1\" class=\"dataframe\">\n",
       "  <thead>\n",
       "    <tr style=\"text-align: right;\">\n",
       "      <th></th>\n",
       "      <th>wmpid</th>\n",
       "      <th>cand_name</th>\n",
       "      <th>full_name</th>\n",
       "      <th>cand_office_st</th>\n",
       "      <th>cand_party_affiliation</th>\n",
       "      <th>matches</th>\n",
       "      <th>bp_name_raw</th>\n",
       "      <th>bp_url</th>\n",
       "      <th>bp_name</th>\n",
       "      <th>bp_url_filename</th>\n",
       "      <th>_merge</th>\n",
       "    </tr>\n",
       "  </thead>\n",
       "  <tbody>\n",
       "    <tr>\n",
       "      <th>0</th>\n",
       "      <td>WMPID1299</td>\n",
       "      <td>BOOZMAN, SEN. JOHN</td>\n",
       "      <td>John Boozman</td>\n",
       "      <td>AR</td>\n",
       "      <td>REP</td>\n",
       "      <td>John Boozman</td>\n",
       "      <td>John Boozman (R)  \\n\\t\\t\\t\\t\\t\\t\\t\\t\\t\\t\\t</td>\n",
       "      <td>https://s3.amazonaws.com/ballotpedia-api4/file...</td>\n",
       "      <td>John Boozman</td>\n",
       "      <td>johnboozmanupdated.jpg</td>\n",
       "      <td>both</td>\n",
       "    </tr>\n",
       "    <tr>\n",
       "      <th>1</th>\n",
       "      <td>WMPID1302</td>\n",
       "      <td>KELLY, MARK</td>\n",
       "      <td>Mark Kelly</td>\n",
       "      <td>AZ</td>\n",
       "      <td>DEM</td>\n",
       "      <td>Mark Kelly</td>\n",
       "      <td>Mark Kelly (D)  \\n\\t\\t\\t\\t\\t\\t\\t\\t\\t\\t\\t</td>\n",
       "      <td>https://s3.amazonaws.com/ballotpedia-api4/file...</td>\n",
       "      <td>Mark Kelly</td>\n",
       "      <td>Mark-Kelly.png</td>\n",
       "      <td>both</td>\n",
       "    </tr>\n",
       "    <tr>\n",
       "      <th>2</th>\n",
       "      <td>WMPID1305</td>\n",
       "      <td>BENNET, MICHAEL F.</td>\n",
       "      <td>Michael Bennet</td>\n",
       "      <td>CO</td>\n",
       "      <td>DEM</td>\n",
       "      <td>Michael Bennet</td>\n",
       "      <td>Michael Bennet (D)  \\n\\t\\t\\t\\t\\t\\t\\t\\t\\t\\t\\t</td>\n",
       "      <td>https://s3.amazonaws.com/ballotpedia-api4/file...</td>\n",
       "      <td>Michael Bennet</td>\n",
       "      <td>Michael_Bennet.jpg</td>\n",
       "      <td>both</td>\n",
       "    </tr>\n",
       "    <tr>\n",
       "      <th>3</th>\n",
       "      <td>WMPID1315</td>\n",
       "      <td>BLUMENTHAL, RICHARD</td>\n",
       "      <td>Richard Blumenthal</td>\n",
       "      <td>CT</td>\n",
       "      <td>DEM</td>\n",
       "      <td>Richard Blumenthal</td>\n",
       "      <td>Richard Blumenthal (D / Working Families Party...</td>\n",
       "      <td>https://s3.amazonaws.com/ballotpedia-api4/file...</td>\n",
       "      <td>Richard Blumenthal</td>\n",
       "      <td>Richard_Blumenthal.jpg</td>\n",
       "      <td>both</td>\n",
       "    </tr>\n",
       "    <tr>\n",
       "      <th>4</th>\n",
       "      <td>WMPID1321</td>\n",
       "      <td>RUBIO, MARCO</td>\n",
       "      <td>Marco Rubio</td>\n",
       "      <td>FL</td>\n",
       "      <td>REP</td>\n",
       "      <td>Marco Rubio</td>\n",
       "      <td>Marco Rubio (R)  \\n\\t\\t\\t\\t\\t\\t\\t\\t\\t\\t\\t</td>\n",
       "      <td>https://s3.amazonaws.com/ballotpedia-api4/file...</td>\n",
       "      <td>Marco Rubio</td>\n",
       "      <td>Marco_Rubio.jpg</td>\n",
       "      <td>both</td>\n",
       "    </tr>\n",
       "  </tbody>\n",
       "</table>\n",
       "</div>"
      ],
      "text/plain": [
       "       wmpid            cand_name           full_name cand_office_st  \\\n",
       "0  WMPID1299   BOOZMAN, SEN. JOHN        John Boozman             AR   \n",
       "1  WMPID1302          KELLY, MARK          Mark Kelly             AZ   \n",
       "2  WMPID1305   BENNET, MICHAEL F.      Michael Bennet             CO   \n",
       "3  WMPID1315  BLUMENTHAL, RICHARD  Richard Blumenthal             CT   \n",
       "4  WMPID1321         RUBIO, MARCO         Marco Rubio             FL   \n",
       "\n",
       "  cand_party_affiliation             matches  \\\n",
       "0                    REP        John Boozman   \n",
       "1                    DEM          Mark Kelly   \n",
       "2                    DEM      Michael Bennet   \n",
       "3                    DEM  Richard Blumenthal   \n",
       "4                    REP         Marco Rubio   \n",
       "\n",
       "                                         bp_name_raw  \\\n",
       "0         John Boozman (R)  \\n\\t\\t\\t\\t\\t\\t\\t\\t\\t\\t\\t   \n",
       "1           Mark Kelly (D)  \\n\\t\\t\\t\\t\\t\\t\\t\\t\\t\\t\\t   \n",
       "2       Michael Bennet (D)  \\n\\t\\t\\t\\t\\t\\t\\t\\t\\t\\t\\t   \n",
       "3  Richard Blumenthal (D / Working Families Party...   \n",
       "4          Marco Rubio (R)  \\n\\t\\t\\t\\t\\t\\t\\t\\t\\t\\t\\t   \n",
       "\n",
       "                                              bp_url             bp_name  \\\n",
       "0  https://s3.amazonaws.com/ballotpedia-api4/file...        John Boozman   \n",
       "1  https://s3.amazonaws.com/ballotpedia-api4/file...          Mark Kelly   \n",
       "2  https://s3.amazonaws.com/ballotpedia-api4/file...      Michael Bennet   \n",
       "3  https://s3.amazonaws.com/ballotpedia-api4/file...  Richard Blumenthal   \n",
       "4  https://s3.amazonaws.com/ballotpedia-api4/file...         Marco Rubio   \n",
       "\n",
       "          bp_url_filename _merge  \n",
       "0  johnboozmanupdated.jpg   both  \n",
       "1          Mark-Kelly.png   both  \n",
       "2      Michael_Bennet.jpg   both  \n",
       "3  Richard_Blumenthal.jpg   both  \n",
       "4         Marco_Rubio.jpg   both  "
      ]
     },
     "execution_count": 45,
     "metadata": {},
     "output_type": "execute_result"
    }
   ],
   "source": [
    "sen.head()"
   ]
  },
  {
   "cell_type": "code",
   "execution_count": 46,
   "metadata": {},
   "outputs": [
    {
     "data": {
      "text/plain": [
       "both          92\n",
       "left_only     80\n",
       "right_only     0\n",
       "Name: _merge, dtype: int64"
      ]
     },
     "execution_count": 46,
     "metadata": {},
     "output_type": "execute_result"
    }
   ],
   "source": [
    "sen._merge.value_counts()"
   ]
  },
  {
   "cell_type": "code",
   "execution_count": 48,
   "metadata": {},
   "outputs": [],
   "source": [
    "sen.to_csv(\"bp2022_sen_scraped_face.csv\", index=False)"
   ]
  },
  {
   "cell_type": "code",
   "execution_count": null,
   "metadata": {},
   "outputs": [],
   "source": []
  },
  {
   "cell_type": "code",
   "execution_count": null,
   "metadata": {},
   "outputs": [],
   "source": []
  },
  {
   "cell_type": "code",
   "execution_count": null,
   "metadata": {},
   "outputs": [],
   "source": [
    "sen.loc[sen['_merge']=='left_only']"
   ]
  },
  {
   "cell_type": "code",
   "execution_count": null,
   "metadata": {},
   "outputs": [],
   "source": [
    "dat = "
   ]
  },
  {
   "cell_type": "code",
   "execution_count": null,
   "metadata": {},
   "outputs": [],
   "source": []
  },
  {
   "cell_type": "code",
   "execution_count": null,
   "metadata": {},
   "outputs": [],
   "source": []
  },
  {
   "cell_type": "code",
   "execution_count": null,
   "metadata": {},
   "outputs": [],
   "source": []
  },
  {
   "cell_type": "code",
   "execution_count": null,
   "metadata": {},
   "outputs": [],
   "source": []
  },
  {
   "cell_type": "code",
   "execution_count": null,
   "metadata": {
    "executionInfo": {
     "elapsed": 169080,
     "status": "ok",
     "timestamp": 1670958992077,
     "user": {
      "displayName": "Jielu Yao",
      "userId": "09138677267510568916"
     },
     "user_tz": 300
    },
    "id": "6VbPU56BKKAd"
   },
   "outputs": [],
   "source": [
    "#Now do this in a loop, for all 5 urls\n",
    "images = []\n",
    "states = []\n",
    "\n",
    "for i in full_urls[:]:\n",
    "  print(i)\n",
    "  source = urllib.request.urlopen(i).read()\n",
    "  soup = bs.BeautifulSoup(source)\n",
    "  img_css = \".image-candidate-thumbnail\"\n",
    "  img = soup.select(img_css)\n",
    "  images.extend(list(set([i['src'] for i in img])))\n",
    "  states.extend([i]*len(set([i['src'] for i in img])))"
   ]
  },
  {
   "cell_type": "code",
   "execution_count": null,
   "metadata": {},
   "outputs": [],
   "source": [
    "images"
   ]
  },
  {
   "cell_type": "code",
   "execution_count": null,
   "metadata": {
    "colab": {
     "base_uri": "https://localhost:8080/"
    },
    "executionInfo": {
     "elapsed": 207,
     "status": "ok",
     "timestamp": 1670958992085,
     "user": {
      "displayName": "Jielu Yao",
      "userId": "09138677267510568916"
     },
     "user_tz": 300
    },
    "id": "XNPOp_Ue3suP",
    "outputId": "0e241f19-767f-4682-afdd-2dda37afd63f"
   },
   "outputs": [],
   "source": [
    "len(images)"
   ]
  },
  {
   "cell_type": "code",
   "execution_count": null,
   "metadata": {
    "colab": {
     "base_uri": "https://localhost:8080/"
    },
    "executionInfo": {
     "elapsed": 143,
     "status": "ok",
     "timestamp": 1670958992086,
     "user": {
      "displayName": "Jielu Yao",
      "userId": "09138677267510568916"
     },
     "user_tz": 300
    },
    "id": "UC2GTG3Q6HGr",
    "outputId": "16d736ca-b65a-4e7b-8769-de947722041c"
   },
   "outputs": [],
   "source": [
    "len(states)"
   ]
  },
  {
   "cell_type": "code",
   "execution_count": null,
   "metadata": {
    "executionInfo": {
     "elapsed": 405,
     "status": "ok",
     "timestamp": 1670959006541,
     "user": {
      "displayName": "Jielu Yao",
      "userId": "09138677267510568916"
     },
     "user_tz": 300
    },
    "id": "WofN_kLB9ORc"
   },
   "outputs": [],
   "source": [
    "d = {'bp_office':states,'bp_url':images}"
   ]
  },
  {
   "cell_type": "code",
   "execution_count": null,
   "metadata": {
    "executionInfo": {
     "elapsed": 546,
     "status": "ok",
     "timestamp": 1670959011305,
     "user": {
      "displayName": "Jielu Yao",
      "userId": "09138677267510568916"
     },
     "user_tz": 300
    },
    "id": "xL6QID869dT2"
   },
   "outputs": [],
   "source": [
    "sen = pd.DataFrame(d)"
   ]
  },
  {
   "cell_type": "code",
   "execution_count": null,
   "metadata": {
    "executionInfo": {
     "elapsed": 332,
     "status": "ok",
     "timestamp": 1670959157872,
     "user": {
      "displayName": "Jielu Yao",
      "userId": "09138677267510568916"
     },
     "user_tz": 300
    },
    "id": "7PGKP7XI61zG"
   },
   "outputs": [],
   "source": [
    "sen['bp_cand_office'] ='S'"
   ]
  },
  {
   "cell_type": "code",
   "execution_count": null,
   "metadata": {
    "colab": {
     "base_uri": "https://localhost:8080/",
     "height": 357
    },
    "executionInfo": {
     "elapsed": 34,
     "status": "ok",
     "timestamp": 1670959163337,
     "user": {
      "displayName": "Jielu Yao",
      "userId": "09138677267510568916"
     },
     "user_tz": 300
    },
    "id": "pPueCuxI9qP4",
    "outputId": "36661fc0-dcaf-442f-f173-90e408b684ba"
   },
   "outputs": [],
   "source": [
    "sen.head()"
   ]
  },
  {
   "cell_type": "code",
   "execution_count": null,
   "metadata": {},
   "outputs": [],
   "source": [
    "sen2 = sen['bp_url_filename'].str.rsplit(\".\", n=1, expand=True)"
   ]
  },
  {
   "cell_type": "code",
   "execution_count": null,
   "metadata": {},
   "outputs": [],
   "source": [
    "sen2 = sen2.rename(columns={0:'name'})"
   ]
  },
  {
   "cell_type": "code",
   "execution_count": null,
   "metadata": {},
   "outputs": [],
   "source": [
    "sen2.shape"
   ]
  },
  {
   "cell_type": "code",
   "execution_count": null,
   "metadata": {},
   "outputs": [],
   "source": [
    "sen['bp_name']=sen2['name']"
   ]
  },
  {
   "cell_type": "code",
   "execution_count": null,
   "metadata": {},
   "outputs": [],
   "source": [
    "sen.head()"
   ]
  },
  {
   "cell_type": "code",
   "execution_count": null,
   "metadata": {},
   "outputs": [],
   "source": []
  },
  {
   "cell_type": "code",
   "execution_count": null,
   "metadata": {},
   "outputs": [],
   "source": [
    "dat = fuzzy_merge(s, sen, 'full_name', 'bp_name', threshold=80)"
   ]
  },
  {
   "cell_type": "code",
   "execution_count": null,
   "metadata": {},
   "outputs": [],
   "source": [
    "dat"
   ]
  },
  {
   "cell_type": "code",
   "execution_count": null,
   "metadata": {},
   "outputs": [],
   "source": [
    "dat.loc[4288, 'matches']"
   ]
  },
  {
   "cell_type": "code",
   "execution_count": null,
   "metadata": {},
   "outputs": [],
   "source": [
    "dat.loc[dat['matches']=='']"
   ]
  },
  {
   "cell_type": "code",
   "execution_count": null,
   "metadata": {},
   "outputs": [],
   "source": [
    "dat.shape"
   ]
  },
  {
   "cell_type": "code",
   "execution_count": null,
   "metadata": {},
   "outputs": [],
   "source": [
    "f = dat.merge(sen, left_on='matches', right_on='bp_name', indicator=True, how='left')"
   ]
  },
  {
   "cell_type": "code",
   "execution_count": null,
   "metadata": {
    "scrolled": true
   },
   "outputs": [],
   "source": [
    "sen.head()"
   ]
  },
  {
   "cell_type": "code",
   "execution_count": null,
   "metadata": {},
   "outputs": [],
   "source": [
    "sen._merge.value_counts()"
   ]
  },
  {
   "cell_type": "code",
   "execution_count": null,
   "metadata": {},
   "outputs": [],
   "source": []
  },
  {
   "cell_type": "code",
   "execution_count": null,
   "metadata": {},
   "outputs": [],
   "source": []
  },
  {
   "cell_type": "code",
   "execution_count": null,
   "metadata": {},
   "outputs": [],
   "source": []
  },
  {
   "cell_type": "code",
   "execution_count": null,
   "metadata": {},
   "outputs": [],
   "source": []
  },
  {
   "cell_type": "code",
   "execution_count": null,
   "metadata": {},
   "outputs": [],
   "source": []
  },
  {
   "cell_type": "code",
   "execution_count": null,
   "metadata": {},
   "outputs": [],
   "source": []
  },
  {
   "cell_type": "code",
   "execution_count": null,
   "metadata": {},
   "outputs": [],
   "source": []
  },
  {
   "cell_type": "code",
   "execution_count": null,
   "metadata": {},
   "outputs": [],
   "source": []
  },
  {
   "cell_type": "code",
   "execution_count": null,
   "metadata": {},
   "outputs": [],
   "source": [
    "sen2 = sen['bp_url_filename'].str.rsplit(\".\", n=1, expand=True)\n",
    "\n",
    "df2 = df2.rename(columns={0:'name'})\n",
    "\n",
    "df3 =df2['name'].str.rsplit(\"(\", n=1, expand=True)\n",
    "df3 = df3.rename(columns={0:'name'})"
   ]
  },
  {
   "cell_type": "code",
   "execution_count": null,
   "metadata": {},
   "outputs": [],
   "source": [
    "sen['bp_url_filename'] = sen['bp_url'].str.replace(\"https://s3.amazonaws.com/ballotpedia-api4/files/thumbs/100/100/\", '')"
   ]
  },
  {
   "cell_type": "code",
   "execution_count": null,
   "metadata": {},
   "outputs": [],
   "source": []
  },
  {
   "cell_type": "code",
   "execution_count": null,
   "metadata": {},
   "outputs": [],
   "source": []
  },
  {
   "cell_type": "code",
   "execution_count": null,
   "metadata": {},
   "outputs": [],
   "source": []
  },
  {
   "cell_type": "code",
   "execution_count": null,
   "metadata": {},
   "outputs": [],
   "source": []
  },
  {
   "cell_type": "markdown",
   "metadata": {
    "id": "iJl3C2J-9IJT"
   },
   "source": [
    "### House"
   ]
  },
  {
   "cell_type": "code",
   "execution_count": null,
   "metadata": {
    "executionInfo": {
     "elapsed": 2726,
     "status": "ok",
     "timestamp": 1670947766955,
     "user": {
      "displayName": "Jielu Yao",
      "userId": "09138677267510568916"
     },
     "user_tz": 300
    },
    "id": "WQFgzouz9JMu"
   },
   "outputs": [],
   "source": [
    "#Download the website's html\n",
    "source = urllib.request.urlopen(\"https://ballotpedia.org/United_States_House_of_Representatives_elections,_2022\").read()"
   ]
  },
  {
   "cell_type": "code",
   "execution_count": null,
   "metadata": {
    "executionInfo": {
     "elapsed": 4,
     "status": "ok",
     "timestamp": 1670947767504,
     "user": {
      "displayName": "Jielu Yao",
      "userId": "09138677267510568916"
     },
     "user_tz": 300
    },
    "id": "PxWljwaaIeHi"
   },
   "outputs": [],
   "source": [
    "#Parse the html\n",
    "#This makes it look nice and structured for us, and much easier to read for the program\n",
    "soup = bs.BeautifulSoup(source)"
   ]
  },
  {
   "cell_type": "code",
   "execution_count": null,
   "metadata": {
    "id": "pSda9d8IIeHi"
   },
   "outputs": [],
   "source": [
    "#Let's have a look\n",
    "print(soup)"
   ]
  },
  {
   "cell_type": "code",
   "execution_count": null,
   "metadata": {
    "executionInfo": {
     "elapsed": 3,
     "status": "ok",
     "timestamp": 1670947773196,
     "user": {
      "displayName": "Jielu Yao",
      "userId": "09138677267510568916"
     },
     "user_tz": 300
    },
    "id": "93XQSWY3Ili4"
   },
   "outputs": [],
   "source": [
    "urls_css = \"center small a\""
   ]
  },
  {
   "cell_type": "code",
   "execution_count": null,
   "metadata": {
    "colab": {
     "base_uri": "https://localhost:8080/"
    },
    "executionInfo": {
     "elapsed": 18,
     "status": "ok",
     "timestamp": 1670947774064,
     "user": {
      "displayName": "Jielu Yao",
      "userId": "09138677267510568916"
     },
     "user_tz": 300
    },
    "id": "Li5DkH-PIli4",
    "outputId": "d82617d8-81d7-4601-d3b2-95c70eb1cf10"
   },
   "outputs": [],
   "source": [
    "urls = soup.select(urls_css)"
   ]
  },
  {
   "cell_type": "code",
   "execution_count": null,
   "metadata": {
    "colab": {
     "base_uri": "https://localhost:8080/"
    },
    "executionInfo": {
     "elapsed": 4,
     "status": "ok",
     "timestamp": 1670947775738,
     "user": {
      "displayName": "Jielu Yao",
      "userId": "09138677267510568916"
     },
     "user_tz": 300
    },
    "id": "42vP7WfbIli4",
    "outputId": "2a47c00f-63b2-4f46-cd1f-876f0086ff6a"
   },
   "outputs": [],
   "source": [
    "extracted_urls = [url[\"href\"] for url in urls]\n",
    "extracted_urls"
   ]
  },
  {
   "cell_type": "code",
   "execution_count": null,
   "metadata": {
    "executionInfo": {
     "elapsed": 3,
     "status": "ok",
     "timestamp": 1670947780282,
     "user": {
      "displayName": "Jielu Yao",
      "userId": "09138677267510568916"
     },
     "user_tz": 300
    },
    "id": "J38uMlFvIli5"
   },
   "outputs": [],
   "source": [
    "full_urls = [\"https://ballotpedia.org\" + url_suffix for url_suffix in extracted_urls]"
   ]
  },
  {
   "cell_type": "code",
   "execution_count": null,
   "metadata": {
    "colab": {
     "base_uri": "https://localhost:8080/"
    },
    "executionInfo": {
     "elapsed": 44,
     "status": "ok",
     "timestamp": 1670947782524,
     "user": {
      "displayName": "Jielu Yao",
      "userId": "09138677267510568916"
     },
     "user_tz": 300
    },
    "id": "aukTHe9uIli5",
    "outputId": "419daccb-da04-4757-c451-f600e9e153a8"
   },
   "outputs": [],
   "source": [
    "full_urls"
   ]
  },
  {
   "cell_type": "markdown",
   "metadata": {
    "id": "pIjbXtKpXlnx"
   },
   "source": [
    "#### Distinguish two types of structure "
   ]
  },
  {
   "cell_type": "code",
   "execution_count": null,
   "metadata": {
    "colab": {
     "base_uri": "https://localhost:8080/",
     "height": 53
    },
    "executionInfo": {
     "elapsed": 615,
     "status": "ok",
     "timestamp": 1670950189122,
     "user": {
      "displayName": "Jielu Yao",
      "userId": "09138677267510568916"
     },
     "user_tz": 300
    },
    "id": "plmeJWGKY6Pm",
    "outputId": "f4d79089-476b-4437-ba95-f2298a90c56a"
   },
   "outputs": [],
   "source": [
    "full_urls[0]"
   ]
  },
  {
   "cell_type": "code",
   "execution_count": null,
   "metadata": {
    "executionInfo": {
     "elapsed": 2376,
     "status": "ok",
     "timestamp": 1670950212575,
     "user": {
      "displayName": "Jielu Yao",
      "userId": "09138677267510568916"
     },
     "user_tz": 300
    },
    "id": "N2JCJ2iEYx20"
   },
   "outputs": [],
   "source": [
    "source = urllib.request.urlopen(full_urls[0]).read()\n",
    "soup = bs.BeautifulSoup(source)\n",
    "img_css = \"#Candidates_and_election_results\"\n",
    "img = soup.select(img_css)"
   ]
  },
  {
   "cell_type": "code",
   "execution_count": null,
   "metadata": {
    "colab": {
     "base_uri": "https://localhost:8080/"
    },
    "executionInfo": {
     "elapsed": 509,
     "status": "ok",
     "timestamp": 1670950174102,
     "user": {
      "displayName": "Jielu Yao",
      "userId": "09138677267510568916"
     },
     "user_tz": 300
    },
    "id": "Ype3dZYRZChf",
    "outputId": "89afaaa3-4298-46c1-a150-9862461c75b7"
   },
   "outputs": [],
   "source": [
    "img"
   ]
  },
  {
   "cell_type": "code",
   "execution_count": null,
   "metadata": {
    "executionInfo": {
     "elapsed": 203328,
     "status": "ok",
     "timestamp": 1670951487942,
     "user": {
      "displayName": "Jielu Yao",
      "userId": "09138677267510568916"
     },
     "user_tz": 300
    },
    "id": "R65iDYItI5Gn"
   },
   "outputs": [],
   "source": [
    "urls_1 = []\n",
    "urls_2 = []\n",
    "\n",
    "for i in full_urls:\n",
    "  source = urllib.request.urlopen(i).read()\n",
    "  soup = bs.BeautifulSoup(source)\n",
    "  res_css = \"#District_1\"\n",
    "  res = soup.select(res_css)\n",
    "  if len(res) == 0:\n",
    "    urls_1.append(i)\n",
    "  else:\n",
    "    urls_2.append(i)"
   ]
  },
  {
   "cell_type": "code",
   "execution_count": null,
   "metadata": {
    "colab": {
     "base_uri": "https://localhost:8080/"
    },
    "executionInfo": {
     "elapsed": 595,
     "status": "ok",
     "timestamp": 1670951661424,
     "user": {
      "displayName": "Jielu Yao",
      "userId": "09138677267510568916"
     },
     "user_tz": 300
    },
    "id": "Xr7NFf_3XbTZ",
    "outputId": "78a5878d-8a11-4a63-aded-644f1eef04be"
   },
   "outputs": [],
   "source": [
    "urls_1"
   ]
  },
  {
   "cell_type": "code",
   "execution_count": null,
   "metadata": {
    "colab": {
     "base_uri": "https://localhost:8080/"
    },
    "executionInfo": {
     "elapsed": 300,
     "status": "ok",
     "timestamp": 1670951683281,
     "user": {
      "displayName": "Jielu Yao",
      "userId": "09138677267510568916"
     },
     "user_tz": 300
    },
    "id": "e_5WT7j_ewYf",
    "outputId": "70272b52-9b83-4847-85d9-a37abd7f33c2"
   },
   "outputs": [],
   "source": [
    "len(urls_2)"
   ]
  },
  {
   "cell_type": "markdown",
   "metadata": {
    "id": "b-g8kZxsfIFI"
   },
   "source": [
    "#### States with one layer"
   ]
  },
  {
   "cell_type": "code",
   "execution_count": null,
   "metadata": {
    "executionInfo": {
     "elapsed": 325,
     "status": "ok",
     "timestamp": 1670952653838,
     "user": {
      "displayName": "Jielu Yao",
      "userId": "09138677267510568916"
     },
     "user_tz": 300
    },
    "id": "9NI_JQ1NhDSZ"
   },
   "outputs": [],
   "source": [
    "d1 = pd.DataFrame(columns=['bp_office', 'bp_url'])"
   ]
  },
  {
   "cell_type": "code",
   "execution_count": null,
   "metadata": {
    "executionInfo": {
     "elapsed": 22062,
     "status": "ok",
     "timestamp": 1670952679040,
     "user": {
      "displayName": "Jielu Yao",
      "userId": "09138677267510568916"
     },
     "user_tz": 300
    },
    "id": "fiBjrzYhfKr-"
   },
   "outputs": [],
   "source": [
    "for i in urls_1[:]:\n",
    "  images = []\n",
    "  district = []\n",
    "  source = urllib.request.urlopen(i).read()\n",
    "  soup = bs.BeautifulSoup(source)\n",
    "  img_css = \".image-candidate-thumbnail\"\n",
    "  img = soup.select(img_css)\n",
    "  images.extend(list(set([i['src'] for i in img])))\n",
    "  district.extend([i]*len(set([i['src'] for i in img])))\n",
    "  dic = {'bp_office':district,'bp_url':images}\n",
    "  df = pd.DataFrame(dic)\n",
    "  d1=d1.append(df)"
   ]
  },
  {
   "cell_type": "code",
   "execution_count": null,
   "metadata": {
    "colab": {
     "base_uri": "https://localhost:8080/",
     "height": 297
    },
    "executionInfo": {
     "elapsed": 493,
     "status": "ok",
     "timestamp": 1670952532218,
     "user": {
      "displayName": "Jielu Yao",
      "userId": "09138677267510568916"
     },
     "user_tz": 300
    },
    "id": "9WGAD3Btg0Fq",
    "outputId": "63422c99-840c-420e-d32f-d9228e7af4e8"
   },
   "outputs": [],
   "source": [
    "df.tail()"
   ]
  },
  {
   "cell_type": "code",
   "execution_count": null,
   "metadata": {
    "colab": {
     "base_uri": "https://localhost:8080/"
    },
    "executionInfo": {
     "elapsed": 1175,
     "status": "ok",
     "timestamp": 1670954421842,
     "user": {
      "displayName": "Jielu Yao",
      "userId": "09138677267510568916"
     },
     "user_tz": 300
    },
    "id": "qLKoYGGygphB",
    "outputId": "2f156026-bcb7-435a-b1d7-5a2eaacae66c"
   },
   "outputs": [],
   "source": [
    "d1.shape"
   ]
  },
  {
   "cell_type": "code",
   "execution_count": null,
   "metadata": {
    "colab": {
     "base_uri": "https://localhost:8080/"
    },
    "executionInfo": {
     "elapsed": 552,
     "status": "ok",
     "timestamp": 1670954444293,
     "user": {
      "displayName": "Jielu Yao",
      "userId": "09138677267510568916"
     },
     "user_tz": 300
    },
    "id": "i4v-_CYWpR54",
    "outputId": "636708f1-3c91-4e48-90a1-2ca4f7d7bf92"
   },
   "outputs": [],
   "source": [
    "d1.bp_office.value_counts()"
   ]
  },
  {
   "cell_type": "markdown",
   "metadata": {
    "id": "skuBKwcse3Qp"
   },
   "source": [
    "#### States with two layers"
   ]
  },
  {
   "cell_type": "code",
   "execution_count": null,
   "metadata": {
    "executionInfo": {
     "elapsed": 469,
     "status": "ok",
     "timestamp": 1670956168903,
     "user": {
      "displayName": "Jielu Yao",
      "userId": "09138677267510568916"
     },
     "user_tz": 300
    },
    "id": "jpxYn8E5tsN_"
   },
   "outputs": [],
   "source": [
    "images = []\n",
    "district = []"
   ]
  },
  {
   "cell_type": "code",
   "execution_count": null,
   "metadata": {
    "executionInfo": {
     "elapsed": 2270491,
     "status": "ok",
     "timestamp": 1670958443064,
     "user": {
      "displayName": "Jielu Yao",
      "userId": "09138677267510568916"
     },
     "user_tz": 300
    },
    "id": "Q2oBZQ9Xe_Ta"
   },
   "outputs": [],
   "source": [
    "for i in urls_2[:]:\n",
    "  source = urllib.request.urlopen(i).read()\n",
    "  soup = bs.BeautifulSoup(source)\n",
    "  dist_css = \"dd dl dd i a\"\n",
    "  dist = soup.select(dist_css)\n",
    "  # urls_css = \"center small a\"\n",
    "  # urls = soup.select(urls_css)\n",
    "  extracted_urls = [i[\"href\"] for i in dist]\n",
    "  extracted_urls\n",
    "  st_urls = [\"https://ballotpedia.org\" + url_suffix for url_suffix in extracted_urls]\n",
    "  #print(st_urls)\n",
    "  for i in st_urls:\n",
    "    if '27s' in i:\n",
    "        source2 = urllib.request.urlopen(i).read()\n",
    "        soup2 = bs.BeautifulSoup(source2)\n",
    "        img_css = \".image-candidate-thumbnail\"\n",
    "        img = soup2.select(img_css)\n",
    "        images.extend(list(set([i['src'] for i in img])))\n",
    "        district.extend([i]*len(set([i['src'] for i in img])))"
   ]
  },
  {
   "cell_type": "code",
   "execution_count": null,
   "metadata": {
    "colab": {
     "base_uri": "https://localhost:8080/"
    },
    "executionInfo": {
     "elapsed": 553,
     "status": "ok",
     "timestamp": 1670958507508,
     "user": {
      "displayName": "Jielu Yao",
      "userId": "09138677267510568916"
     },
     "user_tz": 300
    },
    "id": "5e1lldhSuIUz",
    "outputId": "cdd7ff0a-0572-40ef-efde-9a654b616cbb"
   },
   "outputs": [],
   "source": [
    "len(images)"
   ]
  },
  {
   "cell_type": "code",
   "execution_count": null,
   "metadata": {
    "colab": {
     "base_uri": "https://localhost:8080/"
    },
    "executionInfo": {
     "elapsed": 519,
     "status": "ok",
     "timestamp": 1670958510104,
     "user": {
      "displayName": "Jielu Yao",
      "userId": "09138677267510568916"
     },
     "user_tz": 300
    },
    "id": "WLhsS616uKKl",
    "outputId": "c03d1b2f-99e1-4aa6-c467-9d19649332e6"
   },
   "outputs": [],
   "source": [
    "len(district)"
   ]
  },
  {
   "cell_type": "code",
   "execution_count": null,
   "metadata": {
    "executionInfo": {
     "elapsed": 492,
     "status": "ok",
     "timestamp": 1670958606861,
     "user": {
      "displayName": "Jielu Yao",
      "userId": "09138677267510568916"
     },
     "user_tz": 300
    },
    "id": "CLe-qBXl5EI-"
   },
   "outputs": [],
   "source": [
    "h = {'bp_office':district,'bp_url':images}"
   ]
  },
  {
   "cell_type": "code",
   "execution_count": null,
   "metadata": {
    "executionInfo": {
     "elapsed": 6,
     "status": "ok",
     "timestamp": 1670958608498,
     "user": {
      "displayName": "Jielu Yao",
      "userId": "09138677267510568916"
     },
     "user_tz": 300
    },
    "id": "NXUu-Far5EJA"
   },
   "outputs": [],
   "source": [
    "house = pd.DataFrame(h)"
   ]
  },
  {
   "cell_type": "code",
   "execution_count": null,
   "metadata": {
    "colab": {
     "base_uri": "https://localhost:8080/"
    },
    "executionInfo": {
     "elapsed": 268,
     "status": "ok",
     "timestamp": 1670958616245,
     "user": {
      "displayName": "Jielu Yao",
      "userId": "09138677267510568916"
     },
     "user_tz": 300
    },
    "id": "1n5FVb5P5Pdq",
    "outputId": "3e98dbf8-0dc5-4a7e-f0f0-42567a45c1be"
   },
   "outputs": [],
   "source": [
    "house.shape"
   ]
  },
  {
   "cell_type": "code",
   "execution_count": null,
   "metadata": {
    "colab": {
     "base_uri": "https://localhost:8080/",
     "height": 601
    },
    "executionInfo": {
     "elapsed": 586,
     "status": "ok",
     "timestamp": 1670959424459,
     "user": {
      "displayName": "Jielu Yao",
      "userId": "09138677267510568916"
     },
     "user_tz": 300
    },
    "id": "G2RHIiUi5RM1",
    "outputId": "b92d3d3e-7553-4aad-df31-1a7235dd206c"
   },
   "outputs": [],
   "source": [
    "house.head(10)"
   ]
  },
  {
   "cell_type": "code",
   "execution_count": null,
   "metadata": {
    "executionInfo": {
     "elapsed": 575,
     "status": "ok",
     "timestamp": 1670959201636,
     "user": {
      "displayName": "Jielu Yao",
      "userId": "09138677267510568916"
     },
     "user_tz": 300
    },
    "id": "HOaRAzM37ZUW"
   },
   "outputs": [],
   "source": [
    "house['bp_cand_office'] ='H'"
   ]
  },
  {
   "cell_type": "code",
   "execution_count": null,
   "metadata": {
    "executionInfo": {
     "elapsed": 362,
     "status": "ok",
     "timestamp": 1670959420726,
     "user": {
      "displayName": "Jielu Yao",
      "userId": "09138677267510568916"
     },
     "user_tz": 300
    },
    "id": "pcPsN4OA7uWm"
   },
   "outputs": [],
   "source": [
    "house = house.rename(columns={'bp_state':'bp_office'})"
   ]
  },
  {
   "cell_type": "markdown",
   "metadata": {
    "id": "sVDgPtC27hDv"
   },
   "source": [
    "### Combine the results"
   ]
  },
  {
   "cell_type": "code",
   "execution_count": null,
   "metadata": {
    "colab": {
     "base_uri": "https://localhost:8080/",
     "height": 357
    },
    "executionInfo": {
     "elapsed": 292,
     "status": "ok",
     "timestamp": 1670959441555,
     "user": {
      "displayName": "Jielu Yao",
      "userId": "09138677267510568916"
     },
     "user_tz": 300
    },
    "id": "M07VX9YK7fWs",
    "outputId": "b2ccad9f-b026-47e8-9811-703d91306a30"
   },
   "outputs": [],
   "source": [
    "sen.head()"
   ]
  },
  {
   "cell_type": "code",
   "execution_count": null,
   "metadata": {
    "colab": {
     "base_uri": "https://localhost:8080/",
     "height": 357
    },
    "executionInfo": {
     "elapsed": 539,
     "status": "ok",
     "timestamp": 1670959443815,
     "user": {
      "displayName": "Jielu Yao",
      "userId": "09138677267510568916"
     },
     "user_tz": 300
    },
    "id": "8ZX8lpfI7_bE",
    "outputId": "9f497545-64d5-4a02-b08f-73e76fa7de5a"
   },
   "outputs": [],
   "source": [
    "house.head()"
   ]
  },
  {
   "cell_type": "code",
   "execution_count": null,
   "metadata": {
    "executionInfo": {
     "elapsed": 602,
     "status": "ok",
     "timestamp": 1670959485290,
     "user": {
      "displayName": "Jielu Yao",
      "userId": "09138677267510568916"
     },
     "user_tz": 300
    },
    "id": "aoslUBe98CQO"
   },
   "outputs": [],
   "source": [
    "congress = pd.concat([sen, house])"
   ]
  },
  {
   "cell_type": "code",
   "execution_count": null,
   "metadata": {
    "colab": {
     "base_uri": "https://localhost:8080/"
    },
    "executionInfo": {
     "elapsed": 609,
     "status": "ok",
     "timestamp": 1670959491077,
     "user": {
      "displayName": "Jielu Yao",
      "userId": "09138677267510568916"
     },
     "user_tz": 300
    },
    "id": "rncpnV8u8kin",
    "outputId": "e8fe1bcc-3c30-4fc9-a943-50e0e073c352"
   },
   "outputs": [],
   "source": [
    "congress.shape"
   ]
  },
  {
   "cell_type": "code",
   "execution_count": null,
   "metadata": {
    "colab": {
     "base_uri": "https://localhost:8080/",
     "height": 357
    },
    "executionInfo": {
     "elapsed": 516,
     "status": "ok",
     "timestamp": 1670959495712,
     "user": {
      "displayName": "Jielu Yao",
      "userId": "09138677267510568916"
     },
     "user_tz": 300
    },
    "id": "CXfL0eg98mDc",
    "outputId": "faf5f4c5-2ad8-47f8-ce72-5895fe04d941"
   },
   "outputs": [],
   "source": [
    "congress.head()"
   ]
  },
  {
   "cell_type": "code",
   "execution_count": null,
   "metadata": {
    "executionInfo": {
     "elapsed": 280,
     "status": "ok",
     "timestamp": 1670959800946,
     "user": {
      "displayName": "Jielu Yao",
      "userId": "09138677267510568916"
     },
     "user_tz": 300
    },
    "id": "9dWVXETR8nVX"
   },
   "outputs": [],
   "source": [
    "congress.to_csv(\"./bp_congress_scraped_face.csv\", index=False)"
   ]
  }
 ],
 "metadata": {
  "colab": {
   "authorship_tag": "ABX9TyOBjkuKaXN5r0lJ+GZJIRG/",
   "mount_file_id": "1K4Q98kHGjVxwpExweV55zvMjsp0MO82e",
   "provenance": []
  },
  "kernelspec": {
   "display_name": "Python 3",
   "language": "python",
   "name": "python3"
  },
  "language_info": {
   "codemirror_mode": {
    "name": "ipython",
    "version": 3
   },
   "file_extension": ".py",
   "mimetype": "text/x-python",
   "name": "python",
   "nbconvert_exporter": "python",
   "pygments_lexer": "ipython3",
   "version": "3.7.7"
  }
 },
 "nbformat": 4,
 "nbformat_minor": 1
}
