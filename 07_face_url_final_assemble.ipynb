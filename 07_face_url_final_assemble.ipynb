{
 "cells": [
  {
   "cell_type": "code",
   "execution_count": 1,
   "metadata": {},
   "outputs": [],
   "source": [
    "import pandas as pd"
   ]
  },
  {
   "cell_type": "markdown",
   "metadata": {},
   "source": [
    "### Legislative"
   ]
  },
  {
   "cell_type": "markdown",
   "metadata": {},
   "source": [
    "#### Senatorial candidates in general election"
   ]
  },
  {
   "cell_type": "code",
   "execution_count": 2,
   "metadata": {},
   "outputs": [],
   "source": [
    "sen = pd.read_csv(\"./data/face_url_2022_senate_general.csv\")\n",
    "sen = sen[['wmpid', 'face_url', 'face_category']]\n",
    "sen.loc[sen['face_category']=='senate_general','face_category']='Sen'"
   ]
  },
  {
   "cell_type": "code",
   "execution_count": 3,
   "metadata": {},
   "outputs": [
    {
     "data": {
      "text/html": [
       "<div>\n",
       "<style scoped>\n",
       "    .dataframe tbody tr th:only-of-type {\n",
       "        vertical-align: middle;\n",
       "    }\n",
       "\n",
       "    .dataframe tbody tr th {\n",
       "        vertical-align: top;\n",
       "    }\n",
       "\n",
       "    .dataframe thead th {\n",
       "        text-align: right;\n",
       "    }\n",
       "</style>\n",
       "<table border=\"1\" class=\"dataframe\">\n",
       "  <thead>\n",
       "    <tr style=\"text-align: right;\">\n",
       "      <th></th>\n",
       "      <th>wmpid</th>\n",
       "      <th>face_url</th>\n",
       "      <th>face_category</th>\n",
       "    </tr>\n",
       "  </thead>\n",
       "  <tbody>\n",
       "    <tr>\n",
       "      <th>0</th>\n",
       "      <td>WMPID1299</td>\n",
       "      <td>https://s3.amazonaws.com/ballotpedia-api4/file...</td>\n",
       "      <td>Sen</td>\n",
       "    </tr>\n",
       "    <tr>\n",
       "      <th>1</th>\n",
       "      <td>WMPID1302</td>\n",
       "      <td>https://s3.amazonaws.com/ballotpedia-api4/file...</td>\n",
       "      <td>Sen</td>\n",
       "    </tr>\n",
       "    <tr>\n",
       "      <th>2</th>\n",
       "      <td>WMPID1305</td>\n",
       "      <td>https://s3.amazonaws.com/ballotpedia-api4/file...</td>\n",
       "      <td>Sen</td>\n",
       "    </tr>\n",
       "    <tr>\n",
       "      <th>3</th>\n",
       "      <td>WMPID1315</td>\n",
       "      <td>https://s3.amazonaws.com/ballotpedia-api4/file...</td>\n",
       "      <td>Sen</td>\n",
       "    </tr>\n",
       "    <tr>\n",
       "      <th>4</th>\n",
       "      <td>WMPID1321</td>\n",
       "      <td>https://s3.amazonaws.com/ballotpedia-api4/file...</td>\n",
       "      <td>Sen</td>\n",
       "    </tr>\n",
       "  </tbody>\n",
       "</table>\n",
       "</div>"
      ],
      "text/plain": [
       "       wmpid                                           face_url face_category\n",
       "0  WMPID1299  https://s3.amazonaws.com/ballotpedia-api4/file...           Sen\n",
       "1  WMPID1302  https://s3.amazonaws.com/ballotpedia-api4/file...           Sen\n",
       "2  WMPID1305  https://s3.amazonaws.com/ballotpedia-api4/file...           Sen\n",
       "3  WMPID1315  https://s3.amazonaws.com/ballotpedia-api4/file...           Sen\n",
       "4  WMPID1321  https://s3.amazonaws.com/ballotpedia-api4/file...           Sen"
      ]
     },
     "execution_count": 3,
     "metadata": {},
     "output_type": "execute_result"
    }
   ],
   "source": [
    "sen.head()"
   ]
  },
  {
   "cell_type": "code",
   "execution_count": 4,
   "metadata": {},
   "outputs": [
    {
     "data": {
      "text/plain": [
       "(173, 3)"
      ]
     },
     "execution_count": 4,
     "metadata": {},
     "output_type": "execute_result"
    }
   ],
   "source": [
    "sen.shape"
   ]
  },
  {
   "cell_type": "markdown",
   "metadata": {},
   "source": [
    "#### House candidates in general election"
   ]
  },
  {
   "cell_type": "code",
   "execution_count": 5,
   "metadata": {},
   "outputs": [],
   "source": [
    "house = pd.read_csv(\"./data/face_url_2022_house_general.csv\")\n",
    "house = house[['wmpid', 'face_url', 'face_category']]\n",
    "house.loc[house['face_category']=='house_general','face_category']='House'"
   ]
  },
  {
   "cell_type": "code",
   "execution_count": 6,
   "metadata": {},
   "outputs": [
    {
     "data": {
      "text/html": [
       "<div>\n",
       "<style scoped>\n",
       "    .dataframe tbody tr th:only-of-type {\n",
       "        vertical-align: middle;\n",
       "    }\n",
       "\n",
       "    .dataframe tbody tr th {\n",
       "        vertical-align: top;\n",
       "    }\n",
       "\n",
       "    .dataframe thead th {\n",
       "        text-align: right;\n",
       "    }\n",
       "</style>\n",
       "<table border=\"1\" class=\"dataframe\">\n",
       "  <thead>\n",
       "    <tr style=\"text-align: right;\">\n",
       "      <th></th>\n",
       "      <th>wmpid</th>\n",
       "      <th>face_url</th>\n",
       "      <th>face_category</th>\n",
       "    </tr>\n",
       "  </thead>\n",
       "  <tbody>\n",
       "    <tr>\n",
       "      <th>0</th>\n",
       "      <td>WMPID21</td>\n",
       "      <td>https://s3.amazonaws.com/ballotpedia-api4/file...</td>\n",
       "      <td>House</td>\n",
       "    </tr>\n",
       "    <tr>\n",
       "      <th>1</th>\n",
       "      <td>WMPID24</td>\n",
       "      <td>https://s3.amazonaws.com/ballotpedia-api4/file...</td>\n",
       "      <td>House</td>\n",
       "    </tr>\n",
       "    <tr>\n",
       "      <th>2</th>\n",
       "      <td>WMPID27</td>\n",
       "      <td>https://s3.amazonaws.com/ballotpedia-api4/file...</td>\n",
       "      <td>House</td>\n",
       "    </tr>\n",
       "    <tr>\n",
       "      <th>3</th>\n",
       "      <td>WMPID28</td>\n",
       "      <td>https://s3.amazonaws.com/ballotpedia-api4/file...</td>\n",
       "      <td>House</td>\n",
       "    </tr>\n",
       "    <tr>\n",
       "      <th>4</th>\n",
       "      <td>WMPID30</td>\n",
       "      <td>https://s3.amazonaws.com/ballotpedia-api4/file...</td>\n",
       "      <td>House</td>\n",
       "    </tr>\n",
       "  </tbody>\n",
       "</table>\n",
       "</div>"
      ],
      "text/plain": [
       "     wmpid                                           face_url face_category\n",
       "0  WMPID21  https://s3.amazonaws.com/ballotpedia-api4/file...         House\n",
       "1  WMPID24  https://s3.amazonaws.com/ballotpedia-api4/file...         House\n",
       "2  WMPID27  https://s3.amazonaws.com/ballotpedia-api4/file...         House\n",
       "3  WMPID28  https://s3.amazonaws.com/ballotpedia-api4/file...         House\n",
       "4  WMPID30  https://s3.amazonaws.com/ballotpedia-api4/file...         House"
      ]
     },
     "execution_count": 6,
     "metadata": {},
     "output_type": "execute_result"
    }
   ],
   "source": [
    "house.head()"
   ]
  },
  {
   "cell_type": "code",
   "execution_count": 7,
   "metadata": {},
   "outputs": [
    {
     "data": {
      "text/plain": [
       "(1193, 3)"
      ]
     },
     "execution_count": 7,
     "metadata": {},
     "output_type": "execute_result"
    }
   ],
   "source": [
    "house.shape"
   ]
  },
  {
   "cell_type": "markdown",
   "metadata": {},
   "source": [
    "#### Sitting Senators in 2022"
   ]
  },
  {
   "cell_type": "code",
   "execution_count": 8,
   "metadata": {},
   "outputs": [],
   "source": [
    "ss = pd.read_csv(\"./data/face_url_2022_sitting_senate.csv\")"
   ]
  },
  {
   "cell_type": "code",
   "execution_count": 9,
   "metadata": {},
   "outputs": [
    {
     "data": {
      "text/html": [
       "<div>\n",
       "<style scoped>\n",
       "    .dataframe tbody tr th:only-of-type {\n",
       "        vertical-align: middle;\n",
       "    }\n",
       "\n",
       "    .dataframe tbody tr th {\n",
       "        vertical-align: top;\n",
       "    }\n",
       "\n",
       "    .dataframe thead th {\n",
       "        text-align: right;\n",
       "    }\n",
       "</style>\n",
       "<table border=\"1\" class=\"dataframe\">\n",
       "  <thead>\n",
       "    <tr style=\"text-align: right;\">\n",
       "      <th></th>\n",
       "      <th>wmpid</th>\n",
       "      <th>face_url</th>\n",
       "      <th>face_category</th>\n",
       "    </tr>\n",
       "  </thead>\n",
       "  <tbody>\n",
       "    <tr>\n",
       "      <th>0</th>\n",
       "      <td>WMPID1456</td>\n",
       "      <td>https://upload.wikimedia.org/wikipedia/commons...</td>\n",
       "      <td>SitSen</td>\n",
       "    </tr>\n",
       "    <tr>\n",
       "      <th>1</th>\n",
       "      <td>WMPID1512</td>\n",
       "      <td>https://upload.wikimedia.org/wikipedia/commons...</td>\n",
       "      <td>SitSen</td>\n",
       "    </tr>\n",
       "    <tr>\n",
       "      <th>2</th>\n",
       "      <td>WMPID1461</td>\n",
       "      <td>https://upload.wikimedia.org/wikipedia/commons...</td>\n",
       "      <td>SitSen</td>\n",
       "    </tr>\n",
       "    <tr>\n",
       "      <th>3</th>\n",
       "      <td>WMPID1412</td>\n",
       "      <td>https://upload.wikimedia.org/wikipedia/commons...</td>\n",
       "      <td>SitSen</td>\n",
       "    </tr>\n",
       "    <tr>\n",
       "      <th>4</th>\n",
       "      <td>WMPID1487</td>\n",
       "      <td>https://upload.wikimedia.org/wikipedia/commons...</td>\n",
       "      <td>SitSen</td>\n",
       "    </tr>\n",
       "  </tbody>\n",
       "</table>\n",
       "</div>"
      ],
      "text/plain": [
       "       wmpid                                           face_url face_category\n",
       "0  WMPID1456  https://upload.wikimedia.org/wikipedia/commons...        SitSen\n",
       "1  WMPID1512  https://upload.wikimedia.org/wikipedia/commons...        SitSen\n",
       "2  WMPID1461  https://upload.wikimedia.org/wikipedia/commons...        SitSen\n",
       "3  WMPID1412  https://upload.wikimedia.org/wikipedia/commons...        SitSen\n",
       "4  WMPID1487  https://upload.wikimedia.org/wikipedia/commons...        SitSen"
      ]
     },
     "execution_count": 9,
     "metadata": {},
     "output_type": "execute_result"
    }
   ],
   "source": [
    "ss.head()"
   ]
  },
  {
   "cell_type": "code",
   "execution_count": 10,
   "metadata": {},
   "outputs": [
    {
     "data": {
      "text/plain": [
       "(100, 3)"
      ]
     },
     "execution_count": 10,
     "metadata": {},
     "output_type": "execute_result"
    }
   ],
   "source": [
    "ss.shape"
   ]
  },
  {
   "cell_type": "markdown",
   "metadata": {},
   "source": [
    "### Executive"
   ]
  },
  {
   "cell_type": "markdown",
   "metadata": {},
   "source": [
    "#### Former presidents\n",
    "\n",
    "Biden is included; it's face_category will be changed to 'Pres' in the end"
   ]
  },
  {
   "cell_type": "code",
   "execution_count": 11,
   "metadata": {},
   "outputs": [],
   "source": [
    "other = pd.read_csv(\"./data/other_face_urls_2022.csv\")"
   ]
  },
  {
   "cell_type": "code",
   "execution_count": 12,
   "metadata": {},
   "outputs": [],
   "source": [
    "pres = other.loc[other['face_category']=='FormerPres']"
   ]
  },
  {
   "cell_type": "code",
   "execution_count": 13,
   "metadata": {},
   "outputs": [
    {
     "data": {
      "text/html": [
       "<div>\n",
       "<style scoped>\n",
       "    .dataframe tbody tr th:only-of-type {\n",
       "        vertical-align: middle;\n",
       "    }\n",
       "\n",
       "    .dataframe tbody tr th {\n",
       "        vertical-align: top;\n",
       "    }\n",
       "\n",
       "    .dataframe thead th {\n",
       "        text-align: right;\n",
       "    }\n",
       "</style>\n",
       "<table border=\"1\" class=\"dataframe\">\n",
       "  <thead>\n",
       "    <tr style=\"text-align: right;\">\n",
       "      <th></th>\n",
       "      <th>wmpid</th>\n",
       "      <th>face_url</th>\n",
       "      <th>face_category</th>\n",
       "    </tr>\n",
       "  </thead>\n",
       "  <tbody>\n",
       "    <tr>\n",
       "      <th>22</th>\n",
       "      <td>WMPID5206</td>\n",
       "      <td>https://upload.wikimedia.org/wikipedia/commons...</td>\n",
       "      <td>FormerPres</td>\n",
       "    </tr>\n",
       "    <tr>\n",
       "      <th>23</th>\n",
       "      <td>WMPID5241</td>\n",
       "      <td>https://upload.wikimedia.org/wikipedia/commons...</td>\n",
       "      <td>FormerPres</td>\n",
       "    </tr>\n",
       "    <tr>\n",
       "      <th>24</th>\n",
       "      <td>WMPID5194</td>\n",
       "      <td>https://upload.wikimedia.org/wikipedia/commons...</td>\n",
       "      <td>FormerPres</td>\n",
       "    </tr>\n",
       "    <tr>\n",
       "      <th>25</th>\n",
       "      <td>WMPID5172</td>\n",
       "      <td>https://upload.wikimedia.org/wikipedia/commons...</td>\n",
       "      <td>FormerPres</td>\n",
       "    </tr>\n",
       "    <tr>\n",
       "      <th>26</th>\n",
       "      <td>WMPID5212</td>\n",
       "      <td>https://upload.wikimedia.org/wikipedia/commons...</td>\n",
       "      <td>FormerPres</td>\n",
       "    </tr>\n",
       "  </tbody>\n",
       "</table>\n",
       "</div>"
      ],
      "text/plain": [
       "        wmpid                                           face_url face_category\n",
       "22  WMPID5206  https://upload.wikimedia.org/wikipedia/commons...    FormerPres\n",
       "23  WMPID5241  https://upload.wikimedia.org/wikipedia/commons...    FormerPres\n",
       "24  WMPID5194  https://upload.wikimedia.org/wikipedia/commons...    FormerPres\n",
       "25  WMPID5172  https://upload.wikimedia.org/wikipedia/commons...    FormerPres\n",
       "26  WMPID5212  https://upload.wikimedia.org/wikipedia/commons...    FormerPres"
      ]
     },
     "execution_count": 13,
     "metadata": {},
     "output_type": "execute_result"
    }
   ],
   "source": [
    "pres.head()"
   ]
  },
  {
   "cell_type": "code",
   "execution_count": 14,
   "metadata": {},
   "outputs": [
    {
     "data": {
      "text/plain": [
       "(45, 3)"
      ]
     },
     "execution_count": 14,
     "metadata": {},
     "output_type": "execute_result"
    }
   ],
   "source": [
    "pres.shape"
   ]
  },
  {
   "cell_type": "markdown",
   "metadata": {},
   "source": [
    "#### Cabinet"
   ]
  },
  {
   "cell_type": "code",
   "execution_count": 15,
   "metadata": {},
   "outputs": [],
   "source": [
    "cab = other.loc[other['face_category']=='Cabinet']"
   ]
  },
  {
   "cell_type": "code",
   "execution_count": 16,
   "metadata": {},
   "outputs": [
    {
     "data": {
      "text/plain": [
       "(25, 3)"
      ]
     },
     "execution_count": 16,
     "metadata": {},
     "output_type": "execute_result"
    }
   ],
   "source": [
    "cab.shape"
   ]
  },
  {
   "cell_type": "markdown",
   "metadata": {},
   "source": [
    "#### Gubernatorial candidates "
   ]
  },
  {
   "cell_type": "code",
   "execution_count": 17,
   "metadata": {},
   "outputs": [],
   "source": [
    "g = pd.read_csv(\"./data/face_url_2022_gov_general.csv\")"
   ]
  },
  {
   "cell_type": "code",
   "execution_count": 18,
   "metadata": {},
   "outputs": [
    {
     "data": {
      "text/plain": [
       "(82, 5)"
      ]
     },
     "execution_count": 18,
     "metadata": {},
     "output_type": "execute_result"
    }
   ],
   "source": [
    "g.shape"
   ]
  },
  {
   "cell_type": "markdown",
   "metadata": {},
   "source": [
    "#### Sitting governors"
   ]
  },
  {
   "cell_type": "code",
   "execution_count": 19,
   "metadata": {},
   "outputs": [],
   "source": [
    "sg = pd.read_csv(\"./data/face_url_2022_incumb_gov_general.csv\")"
   ]
  },
  {
   "cell_type": "code",
   "execution_count": 20,
   "metadata": {},
   "outputs": [
    {
     "data": {
      "text/plain": [
       "(14, 4)"
      ]
     },
     "execution_count": 20,
     "metadata": {},
     "output_type": "execute_result"
    }
   ],
   "source": [
    "sg.shape"
   ]
  },
  {
   "cell_type": "markdown",
   "metadata": {},
   "source": [
    "#### Public health related"
   ]
  },
  {
   "cell_type": "code",
   "execution_count": 21,
   "metadata": {},
   "outputs": [],
   "source": [
    "ph = other.loc[other['face_category']=='PublicHealth']"
   ]
  },
  {
   "cell_type": "code",
   "execution_count": 22,
   "metadata": {},
   "outputs": [
    {
     "data": {
      "text/plain": [
       "(6, 3)"
      ]
     },
     "execution_count": 22,
     "metadata": {},
     "output_type": "execute_result"
    }
   ],
   "source": [
    "ph.shape"
   ]
  },
  {
   "cell_type": "markdown",
   "metadata": {},
   "source": [
    "### Judicial"
   ]
  },
  {
   "cell_type": "code",
   "execution_count": 23,
   "metadata": {},
   "outputs": [],
   "source": [
    "court = other.loc[other['face_category']=='SupremeCourt']"
   ]
  },
  {
   "cell_type": "code",
   "execution_count": 24,
   "metadata": {},
   "outputs": [
    {
     "data": {
      "text/plain": [
       "(16, 3)"
      ]
     },
     "execution_count": 24,
     "metadata": {},
     "output_type": "execute_result"
    }
   ],
   "source": [
    "court.shape"
   ]
  },
  {
   "cell_type": "markdown",
   "metadata": {},
   "source": [
    "### Other prominent politicians"
   ]
  },
  {
   "cell_type": "code",
   "execution_count": 25,
   "metadata": {},
   "outputs": [],
   "source": [
    "pp = pd.DataFrame(columns=['wmpid', 'face_url', 'face_category'])"
   ]
  },
  {
   "cell_type": "code",
   "execution_count": 26,
   "metadata": {},
   "outputs": [],
   "source": [
    "# Hillary Clinton\n",
    "pp1 = {'wmpid': 'WMPID7', \n",
    "      'face_url': \"https://upload.wikimedia.org/wikipedia/commons/thumb/e/ec/Hillary_Clinton_by_Gage_Skidmore_4_%28cropped%29.jpg/220px-Hillary_Clinton_by_Gage_Skidmore_4_%28cropped%29.jpg\",\n",
    "    'face_category':'PromPoli'}\n",
    "pp = pp.append(pp1, ignore_index = True)"
   ]
  },
  {
   "cell_type": "code",
   "execution_count": 27,
   "metadata": {},
   "outputs": [],
   "source": [
    "# Mike Pence\n",
    "pp2 = {'wmpid': 'WMPID1', \n",
    "      'face_url': 'https://upload.wikimedia.org/wikipedia/commons/thumb/b/b9/Mike_Pence_official_Vice_Presidential_portrait.jpg/220px-Mike_Pence_official_Vice_Presidential_portrait.jpg',\n",
    "    'face_category':'PromPoli'}\n",
    "pp = pp.append(pp2, ignore_index = True)"
   ]
  },
  {
   "cell_type": "code",
   "execution_count": 28,
   "metadata": {},
   "outputs": [],
   "source": [
    "#Robert Mueller\n",
    "pp3 = {'wmpid': 'WMPID8', \n",
    "      'face_url': 'https://upload.wikimedia.org/wikipedia/commons/thumb/e/e1/Director_Robert_S._Mueller-_III.jpg/220px-Director_Robert_S._Mueller-_III.jpg',\n",
    "    'face_category':'PromPoli'}\n",
    "pp = pp.append(pp3, ignore_index = True)"
   ]
  },
  {
   "cell_type": "code",
   "execution_count": 29,
   "metadata": {},
   "outputs": [
    {
     "data": {
      "text/plain": [
       "(3, 3)"
      ]
     },
     "execution_count": 29,
     "metadata": {},
     "output_type": "execute_result"
    }
   ],
   "source": [
    "pp.shape"
   ]
  },
  {
   "cell_type": "code",
   "execution_count": 30,
   "metadata": {},
   "outputs": [
    {
     "data": {
      "text/html": [
       "<div>\n",
       "<style scoped>\n",
       "    .dataframe tbody tr th:only-of-type {\n",
       "        vertical-align: middle;\n",
       "    }\n",
       "\n",
       "    .dataframe tbody tr th {\n",
       "        vertical-align: top;\n",
       "    }\n",
       "\n",
       "    .dataframe thead th {\n",
       "        text-align: right;\n",
       "    }\n",
       "</style>\n",
       "<table border=\"1\" class=\"dataframe\">\n",
       "  <thead>\n",
       "    <tr style=\"text-align: right;\">\n",
       "      <th></th>\n",
       "      <th>wmpid</th>\n",
       "      <th>face_url</th>\n",
       "      <th>face_category</th>\n",
       "    </tr>\n",
       "  </thead>\n",
       "  <tbody>\n",
       "    <tr>\n",
       "      <th>0</th>\n",
       "      <td>WMPID7</td>\n",
       "      <td>https://upload.wikimedia.org/wikipedia/commons...</td>\n",
       "      <td>PromPoli</td>\n",
       "    </tr>\n",
       "    <tr>\n",
       "      <th>1</th>\n",
       "      <td>WMPID1</td>\n",
       "      <td>https://upload.wikimedia.org/wikipedia/commons...</td>\n",
       "      <td>PromPoli</td>\n",
       "    </tr>\n",
       "    <tr>\n",
       "      <th>2</th>\n",
       "      <td>WMPID8</td>\n",
       "      <td>https://upload.wikimedia.org/wikipedia/commons...</td>\n",
       "      <td>PromPoli</td>\n",
       "    </tr>\n",
       "  </tbody>\n",
       "</table>\n",
       "</div>"
      ],
      "text/plain": [
       "    wmpid                                           face_url face_category\n",
       "0  WMPID7  https://upload.wikimedia.org/wikipedia/commons...      PromPoli\n",
       "1  WMPID1  https://upload.wikimedia.org/wikipedia/commons...      PromPoli\n",
       "2  WMPID8  https://upload.wikimedia.org/wikipedia/commons...      PromPoli"
      ]
     },
     "execution_count": 30,
     "metadata": {},
     "output_type": "execute_result"
    }
   ],
   "source": [
    "pp.head()"
   ]
  },
  {
   "cell_type": "markdown",
   "metadata": {},
   "source": [
    "#### International leaders\n",
    "\n",
    "Biden is included; it's face_category will be changed to 'Pres' in the end"
   ]
  },
  {
   "cell_type": "code",
   "execution_count": 31,
   "metadata": {},
   "outputs": [],
   "source": [
    "il = other.loc[other['face_category']=='IntLeader']"
   ]
  },
  {
   "cell_type": "code",
   "execution_count": 32,
   "metadata": {},
   "outputs": [
    {
     "data": {
      "text/plain": [
       "(23, 3)"
      ]
     },
     "execution_count": 32,
     "metadata": {},
     "output_type": "execute_result"
    }
   ],
   "source": [
    "il.shape"
   ]
  },
  {
   "cell_type": "markdown",
   "metadata": {},
   "source": [
    "#### Historical figures"
   ]
  },
  {
   "cell_type": "code",
   "execution_count": 33,
   "metadata": {},
   "outputs": [],
   "source": [
    "h = other.loc[other['face_category']=='HistFigure']"
   ]
  },
  {
   "cell_type": "code",
   "execution_count": 34,
   "metadata": {},
   "outputs": [
    {
     "data": {
      "text/plain": [
       "(1, 3)"
      ]
     },
     "execution_count": 34,
     "metadata": {},
     "output_type": "execute_result"
    }
   ],
   "source": [
    "h.shape"
   ]
  },
  {
   "cell_type": "markdown",
   "metadata": {},
   "source": [
    "### Assemble all faces"
   ]
  },
  {
   "cell_type": "code",
   "execution_count": 35,
   "metadata": {},
   "outputs": [],
   "source": [
    "d = pd.concat([sen, house, ss, pres, cab, g, sg, ph, court, pp, il, h])"
   ]
  },
  {
   "cell_type": "code",
   "execution_count": 36,
   "metadata": {},
   "outputs": [],
   "source": [
    "d = d[['wmpid', 'face_url', 'face_category','face_2022']]"
   ]
  },
  {
   "cell_type": "code",
   "execution_count": 37,
   "metadata": {},
   "outputs": [
    {
     "data": {
      "text/html": [
       "<div>\n",
       "<style scoped>\n",
       "    .dataframe tbody tr th:only-of-type {\n",
       "        vertical-align: middle;\n",
       "    }\n",
       "\n",
       "    .dataframe tbody tr th {\n",
       "        vertical-align: top;\n",
       "    }\n",
       "\n",
       "    .dataframe thead th {\n",
       "        text-align: right;\n",
       "    }\n",
       "</style>\n",
       "<table border=\"1\" class=\"dataframe\">\n",
       "  <thead>\n",
       "    <tr style=\"text-align: right;\">\n",
       "      <th></th>\n",
       "      <th>wmpid</th>\n",
       "      <th>face_url</th>\n",
       "      <th>face_category</th>\n",
       "      <th>face_2022</th>\n",
       "    </tr>\n",
       "  </thead>\n",
       "  <tbody>\n",
       "    <tr>\n",
       "      <th>0</th>\n",
       "      <td>WMPID1299</td>\n",
       "      <td>https://s3.amazonaws.com/ballotpedia-api4/file...</td>\n",
       "      <td>Sen</td>\n",
       "      <td>NaN</td>\n",
       "    </tr>\n",
       "    <tr>\n",
       "      <th>1</th>\n",
       "      <td>WMPID1302</td>\n",
       "      <td>https://s3.amazonaws.com/ballotpedia-api4/file...</td>\n",
       "      <td>Sen</td>\n",
       "      <td>NaN</td>\n",
       "    </tr>\n",
       "    <tr>\n",
       "      <th>2</th>\n",
       "      <td>WMPID1305</td>\n",
       "      <td>https://s3.amazonaws.com/ballotpedia-api4/file...</td>\n",
       "      <td>Sen</td>\n",
       "      <td>NaN</td>\n",
       "    </tr>\n",
       "    <tr>\n",
       "      <th>3</th>\n",
       "      <td>WMPID1315</td>\n",
       "      <td>https://s3.amazonaws.com/ballotpedia-api4/file...</td>\n",
       "      <td>Sen</td>\n",
       "      <td>NaN</td>\n",
       "    </tr>\n",
       "    <tr>\n",
       "      <th>4</th>\n",
       "      <td>WMPID1321</td>\n",
       "      <td>https://s3.amazonaws.com/ballotpedia-api4/file...</td>\n",
       "      <td>Sen</td>\n",
       "      <td>NaN</td>\n",
       "    </tr>\n",
       "  </tbody>\n",
       "</table>\n",
       "</div>"
      ],
      "text/plain": [
       "       wmpid                                           face_url face_category  \\\n",
       "0  WMPID1299  https://s3.amazonaws.com/ballotpedia-api4/file...           Sen   \n",
       "1  WMPID1302  https://s3.amazonaws.com/ballotpedia-api4/file...           Sen   \n",
       "2  WMPID1305  https://s3.amazonaws.com/ballotpedia-api4/file...           Sen   \n",
       "3  WMPID1315  https://s3.amazonaws.com/ballotpedia-api4/file...           Sen   \n",
       "4  WMPID1321  https://s3.amazonaws.com/ballotpedia-api4/file...           Sen   \n",
       "\n",
       "  face_2022  \n",
       "0       NaN  \n",
       "1       NaN  \n",
       "2       NaN  \n",
       "3       NaN  \n",
       "4       NaN  "
      ]
     },
     "execution_count": 37,
     "metadata": {},
     "output_type": "execute_result"
    }
   ],
   "source": [
    "d.head()"
   ]
  },
  {
   "cell_type": "code",
   "execution_count": 38,
   "metadata": {},
   "outputs": [],
   "source": [
    "d['face_2022']='yes'"
   ]
  },
  {
   "cell_type": "code",
   "execution_count": 39,
   "metadata": {},
   "outputs": [],
   "source": [
    "d = d.rename(columns={'face_url':'face_url_2022', 'face_category':'face_category_2022'})"
   ]
  },
  {
   "cell_type": "code",
   "execution_count": 40,
   "metadata": {},
   "outputs": [
    {
     "data": {
      "text/html": [
       "<div>\n",
       "<style scoped>\n",
       "    .dataframe tbody tr th:only-of-type {\n",
       "        vertical-align: middle;\n",
       "    }\n",
       "\n",
       "    .dataframe tbody tr th {\n",
       "        vertical-align: top;\n",
       "    }\n",
       "\n",
       "    .dataframe thead th {\n",
       "        text-align: right;\n",
       "    }\n",
       "</style>\n",
       "<table border=\"1\" class=\"dataframe\">\n",
       "  <thead>\n",
       "    <tr style=\"text-align: right;\">\n",
       "      <th></th>\n",
       "      <th>wmpid</th>\n",
       "      <th>face_url_2022</th>\n",
       "      <th>face_category_2022</th>\n",
       "      <th>face_2022</th>\n",
       "    </tr>\n",
       "  </thead>\n",
       "  <tbody>\n",
       "    <tr>\n",
       "      <th>0</th>\n",
       "      <td>WMPID1299</td>\n",
       "      <td>https://s3.amazonaws.com/ballotpedia-api4/file...</td>\n",
       "      <td>Sen</td>\n",
       "      <td>yes</td>\n",
       "    </tr>\n",
       "    <tr>\n",
       "      <th>1</th>\n",
       "      <td>WMPID1302</td>\n",
       "      <td>https://s3.amazonaws.com/ballotpedia-api4/file...</td>\n",
       "      <td>Sen</td>\n",
       "      <td>yes</td>\n",
       "    </tr>\n",
       "    <tr>\n",
       "      <th>2</th>\n",
       "      <td>WMPID1305</td>\n",
       "      <td>https://s3.amazonaws.com/ballotpedia-api4/file...</td>\n",
       "      <td>Sen</td>\n",
       "      <td>yes</td>\n",
       "    </tr>\n",
       "    <tr>\n",
       "      <th>3</th>\n",
       "      <td>WMPID1315</td>\n",
       "      <td>https://s3.amazonaws.com/ballotpedia-api4/file...</td>\n",
       "      <td>Sen</td>\n",
       "      <td>yes</td>\n",
       "    </tr>\n",
       "    <tr>\n",
       "      <th>4</th>\n",
       "      <td>WMPID1321</td>\n",
       "      <td>https://s3.amazonaws.com/ballotpedia-api4/file...</td>\n",
       "      <td>Sen</td>\n",
       "      <td>yes</td>\n",
       "    </tr>\n",
       "  </tbody>\n",
       "</table>\n",
       "</div>"
      ],
      "text/plain": [
       "       wmpid                                      face_url_2022  \\\n",
       "0  WMPID1299  https://s3.amazonaws.com/ballotpedia-api4/file...   \n",
       "1  WMPID1302  https://s3.amazonaws.com/ballotpedia-api4/file...   \n",
       "2  WMPID1305  https://s3.amazonaws.com/ballotpedia-api4/file...   \n",
       "3  WMPID1315  https://s3.amazonaws.com/ballotpedia-api4/file...   \n",
       "4  WMPID1321  https://s3.amazonaws.com/ballotpedia-api4/file...   \n",
       "\n",
       "  face_category_2022 face_2022  \n",
       "0                Sen       yes  \n",
       "1                Sen       yes  \n",
       "2                Sen       yes  \n",
       "3                Sen       yes  \n",
       "4                Sen       yes  "
      ]
     },
     "execution_count": 40,
     "metadata": {},
     "output_type": "execute_result"
    }
   ],
   "source": [
    "d.head()"
   ]
  },
  {
   "cell_type": "code",
   "execution_count": 41,
   "metadata": {},
   "outputs": [],
   "source": [
    "d.loc[d['wmpid']=='WMPID1289', 'face_category_2022'] ='Pres'"
   ]
  },
  {
   "cell_type": "code",
   "execution_count": 42,
   "metadata": {},
   "outputs": [],
   "source": [
    "person = pd.read_csv(\"../datasets/people/person_2022.csv\", usecols =['wmpid', 'full_name'])"
   ]
  },
  {
   "cell_type": "code",
   "execution_count": 43,
   "metadata": {},
   "outputs": [],
   "source": [
    "d= d.merge(person, on='wmpid', how='left')"
   ]
  },
  {
   "cell_type": "markdown",
   "metadata": {},
   "source": [
    "Check duplicates"
   ]
  },
  {
   "cell_type": "code",
   "execution_count": 44,
   "metadata": {},
   "outputs": [],
   "source": [
    "#check = d.loc[d.duplicated(subset=['wmpid'], keep=False)].sort_values(by=['wmpid'])\n",
    "#check.head(20)"
   ]
  },
  {
   "cell_type": "code",
   "execution_count": 45,
   "metadata": {},
   "outputs": [
    {
     "data": {
      "text/plain": [
       "(1681, 5)"
      ]
     },
     "execution_count": 45,
     "metadata": {},
     "output_type": "execute_result"
    }
   ],
   "source": [
    "d.shape"
   ]
  },
  {
   "cell_type": "code",
   "execution_count": 46,
   "metadata": {},
   "outputs": [
    {
     "data": {
      "text/html": [
       "<div>\n",
       "<style scoped>\n",
       "    .dataframe tbody tr th:only-of-type {\n",
       "        vertical-align: middle;\n",
       "    }\n",
       "\n",
       "    .dataframe tbody tr th {\n",
       "        vertical-align: top;\n",
       "    }\n",
       "\n",
       "    .dataframe thead th {\n",
       "        text-align: right;\n",
       "    }\n",
       "</style>\n",
       "<table border=\"1\" class=\"dataframe\">\n",
       "  <thead>\n",
       "    <tr style=\"text-align: right;\">\n",
       "      <th></th>\n",
       "      <th>wmpid</th>\n",
       "      <th>face_url_2022</th>\n",
       "      <th>face_category_2022</th>\n",
       "      <th>face_2022</th>\n",
       "      <th>full_name</th>\n",
       "    </tr>\n",
       "  </thead>\n",
       "  <tbody>\n",
       "    <tr>\n",
       "      <th>0</th>\n",
       "      <td>WMPID1299</td>\n",
       "      <td>https://s3.amazonaws.com/ballotpedia-api4/file...</td>\n",
       "      <td>Sen</td>\n",
       "      <td>yes</td>\n",
       "      <td>John Boozman</td>\n",
       "    </tr>\n",
       "    <tr>\n",
       "      <th>1</th>\n",
       "      <td>WMPID1302</td>\n",
       "      <td>https://s3.amazonaws.com/ballotpedia-api4/file...</td>\n",
       "      <td>Sen</td>\n",
       "      <td>yes</td>\n",
       "      <td>Mark Kelly</td>\n",
       "    </tr>\n",
       "    <tr>\n",
       "      <th>2</th>\n",
       "      <td>WMPID1305</td>\n",
       "      <td>https://s3.amazonaws.com/ballotpedia-api4/file...</td>\n",
       "      <td>Sen</td>\n",
       "      <td>yes</td>\n",
       "      <td>Michael Bennet</td>\n",
       "    </tr>\n",
       "    <tr>\n",
       "      <th>3</th>\n",
       "      <td>WMPID1315</td>\n",
       "      <td>https://s3.amazonaws.com/ballotpedia-api4/file...</td>\n",
       "      <td>Sen</td>\n",
       "      <td>yes</td>\n",
       "      <td>Richard Blumenthal</td>\n",
       "    </tr>\n",
       "    <tr>\n",
       "      <th>4</th>\n",
       "      <td>WMPID1321</td>\n",
       "      <td>https://s3.amazonaws.com/ballotpedia-api4/file...</td>\n",
       "      <td>Sen</td>\n",
       "      <td>yes</td>\n",
       "      <td>Marco Rubio</td>\n",
       "    </tr>\n",
       "  </tbody>\n",
       "</table>\n",
       "</div>"
      ],
      "text/plain": [
       "       wmpid                                      face_url_2022  \\\n",
       "0  WMPID1299  https://s3.amazonaws.com/ballotpedia-api4/file...   \n",
       "1  WMPID1302  https://s3.amazonaws.com/ballotpedia-api4/file...   \n",
       "2  WMPID1305  https://s3.amazonaws.com/ballotpedia-api4/file...   \n",
       "3  WMPID1315  https://s3.amazonaws.com/ballotpedia-api4/file...   \n",
       "4  WMPID1321  https://s3.amazonaws.com/ballotpedia-api4/file...   \n",
       "\n",
       "  face_category_2022 face_2022           full_name  \n",
       "0                Sen       yes        John Boozman  \n",
       "1                Sen       yes          Mark Kelly  \n",
       "2                Sen       yes      Michael Bennet  \n",
       "3                Sen       yes  Richard Blumenthal  \n",
       "4                Sen       yes         Marco Rubio  "
      ]
     },
     "execution_count": 46,
     "metadata": {},
     "output_type": "execute_result"
    }
   ],
   "source": [
    "d.head()"
   ]
  },
  {
   "cell_type": "code",
   "execution_count": 47,
   "metadata": {},
   "outputs": [],
   "source": [
    "d.to_csv(\"./data/result_face_url_2022_raw.csv\", index=False)"
   ]
  }
 ],
 "metadata": {
  "kernelspec": {
   "display_name": "Python 3",
   "language": "python",
   "name": "python3"
  },
  "language_info": {
   "codemirror_mode": {
    "name": "ipython",
    "version": 3
   },
   "file_extension": ".py",
   "mimetype": "text/x-python",
   "name": "python",
   "nbconvert_exporter": "python",
   "pygments_lexer": "ipython3",
   "version": "3.7.7"
  }
 },
 "nbformat": 4,
 "nbformat_minor": 4
}
