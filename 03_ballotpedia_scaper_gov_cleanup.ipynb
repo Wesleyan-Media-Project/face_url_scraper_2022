{
 "cells": [
  {
   "cell_type": "code",
   "execution_count": 1,
   "metadata": {},
   "outputs": [],
   "source": [
    "import pandas as pd"
   ]
  },
  {
   "cell_type": "code",
   "execution_count": 2,
   "metadata": {},
   "outputs": [],
   "source": [
    "gov = pd.read_csv(\"./data/bp2022_gov_scraped_face_verified.csv\")"
   ]
  },
  {
   "cell_type": "code",
   "execution_count": 3,
   "metadata": {},
   "outputs": [
    {
     "data": {
      "text/html": [
       "<div>\n",
       "<style scoped>\n",
       "    .dataframe tbody tr th:only-of-type {\n",
       "        vertical-align: middle;\n",
       "    }\n",
       "\n",
       "    .dataframe tbody tr th {\n",
       "        vertical-align: top;\n",
       "    }\n",
       "\n",
       "    .dataframe thead th {\n",
       "        text-align: right;\n",
       "    }\n",
       "</style>\n",
       "<table border=\"1\" class=\"dataframe\">\n",
       "  <thead>\n",
       "    <tr style=\"text-align: right;\">\n",
       "      <th></th>\n",
       "      <th>abc_name</th>\n",
       "      <th>abc_name_raw</th>\n",
       "      <th>abc_state</th>\n",
       "      <th>bp_name</th>\n",
       "      <th>bp_name_raw</th>\n",
       "      <th>bp_url</th>\n",
       "      <th>bp_url_filename</th>\n",
       "    </tr>\n",
       "  </thead>\n",
       "  <tbody>\n",
       "    <tr>\n",
       "      <th>0</th>\n",
       "      <td>Yolanda Flowers</td>\n",
       "      <td>Yolanda Flowers</td>\n",
       "      <td>Alabama</td>\n",
       "      <td>Yolanda Flowers</td>\n",
       "      <td>Yolanda Flowers (D)  \\n\\t\\t\\t\\t\\t\\t\\t\\t\\t\\t\\t</td>\n",
       "      <td>https://s3.amazonaws.com/ballotpedia-api4/file...</td>\n",
       "      <td>Yolanda-Flowers.PNG</td>\n",
       "    </tr>\n",
       "    <tr>\n",
       "      <th>1</th>\n",
       "      <td>Les Gara</td>\n",
       "      <td>Les Gara</td>\n",
       "      <td>Alaska</td>\n",
       "      <td>Les Gara</td>\n",
       "      <td>Les Gara</td>\n",
       "      <td>https://s3.amazonaws.com/ballotpedia-api4/file...</td>\n",
       "      <td>Les_Gara.JPG</td>\n",
       "    </tr>\n",
       "  </tbody>\n",
       "</table>\n",
       "</div>"
      ],
      "text/plain": [
       "          abc_name     abc_name_raw abc_state          bp_name  \\\n",
       "0  Yolanda Flowers  Yolanda Flowers   Alabama  Yolanda Flowers   \n",
       "1         Les Gara         Les Gara    Alaska         Les Gara   \n",
       "\n",
       "                                     bp_name_raw  \\\n",
       "0  Yolanda Flowers (D)  \\n\\t\\t\\t\\t\\t\\t\\t\\t\\t\\t\\t   \n",
       "1                                      Les Gara    \n",
       "\n",
       "                                              bp_url      bp_url_filename  \n",
       "0  https://s3.amazonaws.com/ballotpedia-api4/file...  Yolanda-Flowers.PNG  \n",
       "1  https://s3.amazonaws.com/ballotpedia-api4/file...         Les_Gara.JPG  "
      ]
     },
     "execution_count": 3,
     "metadata": {},
     "output_type": "execute_result"
    }
   ],
   "source": [
    "gov.head(2)"
   ]
  },
  {
   "cell_type": "code",
   "execution_count": 4,
   "metadata": {},
   "outputs": [
    {
     "data": {
      "text/plain": [
       "(82, 7)"
      ]
     },
     "execution_count": 4,
     "metadata": {},
     "output_type": "execute_result"
    }
   ],
   "source": [
    "gov.shape"
   ]
  },
  {
   "cell_type": "markdown",
   "metadata": {},
   "source": [
    "#### Load the master file"
   ]
  },
  {
   "cell_type": "code",
   "execution_count": 5,
   "metadata": {},
   "outputs": [],
   "source": [
    "df = pd.read_csv(\"../datasets/people/person_2022.csv\")"
   ]
  },
  {
   "cell_type": "code",
   "execution_count": 6,
   "metadata": {},
   "outputs": [],
   "source": [
    "g = df.loc[df['gov2022_gencd']==1]"
   ]
  },
  {
   "cell_type": "code",
   "execution_count": 7,
   "metadata": {},
   "outputs": [
    {
     "data": {
      "text/plain": [
       "(82, 30)"
      ]
     },
     "execution_count": 7,
     "metadata": {},
     "output_type": "execute_result"
    }
   ],
   "source": [
    "g.shape"
   ]
  },
  {
   "cell_type": "code",
   "execution_count": 8,
   "metadata": {},
   "outputs": [
    {
     "data": {
      "text/html": [
       "<div>\n",
       "<style scoped>\n",
       "    .dataframe tbody tr th:only-of-type {\n",
       "        vertical-align: middle;\n",
       "    }\n",
       "\n",
       "    .dataframe tbody tr th {\n",
       "        vertical-align: top;\n",
       "    }\n",
       "\n",
       "    .dataframe thead th {\n",
       "        text-align: right;\n",
       "    }\n",
       "</style>\n",
       "<table border=\"1\" class=\"dataframe\">\n",
       "  <thead>\n",
       "    <tr style=\"text-align: right;\">\n",
       "      <th></th>\n",
       "      <th>wmpid</th>\n",
       "      <th>full_name</th>\n",
       "      <th>name_fec</th>\n",
       "      <th>first_name</th>\n",
       "      <th>last_name</th>\n",
       "      <th>gender_wmp</th>\n",
       "      <th>fecid_2020</th>\n",
       "      <th>fecid_2022a</th>\n",
       "      <th>fecid_2022b</th>\n",
       "      <th>fecid_2022old</th>\n",
       "      <th>...</th>\n",
       "      <th>intl_leaders</th>\n",
       "      <th>gov2022_gencd</th>\n",
       "      <th>gov2022_noelect</th>\n",
       "      <th>face_category</th>\n",
       "      <th>latino_wmp</th>\n",
       "      <th>latino_crp</th>\n",
       "      <th>race_wmp</th>\n",
       "      <th>race_crp1</th>\n",
       "      <th>race_crp2</th>\n",
       "      <th>race_crpmena</th>\n",
       "    </tr>\n",
       "  </thead>\n",
       "  <tbody>\n",
       "    <tr>\n",
       "      <th>387</th>\n",
       "      <td>WMPID5267</td>\n",
       "      <td>Ashley Kalus</td>\n",
       "      <td>KALUS, ASHLEY</td>\n",
       "      <td>Ashley</td>\n",
       "      <td>Kalus</td>\n",
       "      <td>F</td>\n",
       "      <td>NaN</td>\n",
       "      <td>NaN</td>\n",
       "      <td>NaN</td>\n",
       "      <td>NaN</td>\n",
       "      <td>...</td>\n",
       "      <td>NaN</td>\n",
       "      <td>1</td>\n",
       "      <td>0</td>\n",
       "      <td>NaN</td>\n",
       "      <td>NaN</td>\n",
       "      <td>NaN</td>\n",
       "      <td>NaN</td>\n",
       "      <td>NaN</td>\n",
       "      <td>NaN</td>\n",
       "      <td>NaN</td>\n",
       "    </tr>\n",
       "    <tr>\n",
       "      <th>479</th>\n",
       "      <td>WMPID5285</td>\n",
       "      <td>Bernard Peters</td>\n",
       "      <td>PETERS, BERNARD</td>\n",
       "      <td>Bernard</td>\n",
       "      <td>Peters</td>\n",
       "      <td>M</td>\n",
       "      <td>NaN</td>\n",
       "      <td>NaN</td>\n",
       "      <td>NaN</td>\n",
       "      <td>NaN</td>\n",
       "      <td>...</td>\n",
       "      <td>NaN</td>\n",
       "      <td>1</td>\n",
       "      <td>0</td>\n",
       "      <td>NaN</td>\n",
       "      <td>NaN</td>\n",
       "      <td>NaN</td>\n",
       "      <td>NaN</td>\n",
       "      <td>NaN</td>\n",
       "      <td>NaN</td>\n",
       "      <td>NaN</td>\n",
       "    </tr>\n",
       "  </tbody>\n",
       "</table>\n",
       "<p>2 rows × 30 columns</p>\n",
       "</div>"
      ],
      "text/plain": [
       "         wmpid       full_name         name_fec first_name last_name  \\\n",
       "387  WMPID5267    Ashley Kalus    KALUS, ASHLEY     Ashley     Kalus   \n",
       "479  WMPID5285  Bernard Peters  PETERS, BERNARD    Bernard    Peters   \n",
       "\n",
       "    gender_wmp fecid_2020 fecid_2022a fecid_2022b fecid_2022old  ...  \\\n",
       "387          F        NaN         NaN         NaN           NaN  ...   \n",
       "479          M        NaN         NaN         NaN           NaN  ...   \n",
       "\n",
       "     intl_leaders gov2022_gencd gov2022_noelect face_category latino_wmp  \\\n",
       "387           NaN             1               0           NaN        NaN   \n",
       "479           NaN             1               0           NaN        NaN   \n",
       "\n",
       "     latino_crp  race_wmp  race_crp1  race_crp2  race_crpmena  \n",
       "387         NaN       NaN        NaN        NaN           NaN  \n",
       "479         NaN       NaN        NaN        NaN           NaN  \n",
       "\n",
       "[2 rows x 30 columns]"
      ]
     },
     "execution_count": 8,
     "metadata": {},
     "output_type": "execute_result"
    }
   ],
   "source": [
    "g.head(2)"
   ]
  },
  {
   "cell_type": "code",
   "execution_count": 9,
   "metadata": {},
   "outputs": [
    {
     "data": {
      "text/html": [
       "<div>\n",
       "<style scoped>\n",
       "    .dataframe tbody tr th:only-of-type {\n",
       "        vertical-align: middle;\n",
       "    }\n",
       "\n",
       "    .dataframe tbody tr th {\n",
       "        vertical-align: top;\n",
       "    }\n",
       "\n",
       "    .dataframe thead th {\n",
       "        text-align: right;\n",
       "    }\n",
       "</style>\n",
       "<table border=\"1\" class=\"dataframe\">\n",
       "  <thead>\n",
       "    <tr style=\"text-align: right;\">\n",
       "      <th></th>\n",
       "      <th>wmpid</th>\n",
       "      <th>full_name</th>\n",
       "      <th>name_fec</th>\n",
       "      <th>first_name</th>\n",
       "      <th>last_name</th>\n",
       "      <th>gender_wmp</th>\n",
       "      <th>fecid_2020</th>\n",
       "      <th>fecid_2022a</th>\n",
       "      <th>fecid_2022b</th>\n",
       "      <th>fecid_2022old</th>\n",
       "      <th>...</th>\n",
       "      <th>intl_leaders</th>\n",
       "      <th>gov2022_gencd</th>\n",
       "      <th>gov2022_noelect</th>\n",
       "      <th>face_category</th>\n",
       "      <th>latino_wmp</th>\n",
       "      <th>latino_crp</th>\n",
       "      <th>race_wmp</th>\n",
       "      <th>race_crp1</th>\n",
       "      <th>race_crp2</th>\n",
       "      <th>race_crpmena</th>\n",
       "    </tr>\n",
       "  </thead>\n",
       "  <tbody>\n",
       "    <tr>\n",
       "      <th>2213</th>\n",
       "      <td>WMPID5306</td>\n",
       "      <td>Janet T. Mills</td>\n",
       "      <td>MILLS, JANET</td>\n",
       "      <td>Janet</td>\n",
       "      <td>Mills</td>\n",
       "      <td>F</td>\n",
       "      <td>NaN</td>\n",
       "      <td>NaN</td>\n",
       "      <td>NaN</td>\n",
       "      <td>NaN</td>\n",
       "      <td>...</td>\n",
       "      <td>NaN</td>\n",
       "      <td>1</td>\n",
       "      <td>0</td>\n",
       "      <td>NaN</td>\n",
       "      <td>NaN</td>\n",
       "      <td>NaN</td>\n",
       "      <td>NaN</td>\n",
       "      <td>NaN</td>\n",
       "      <td>NaN</td>\n",
       "      <td>NaN</td>\n",
       "    </tr>\n",
       "  </tbody>\n",
       "</table>\n",
       "<p>1 rows × 30 columns</p>\n",
       "</div>"
      ],
      "text/plain": [
       "          wmpid       full_name      name_fec first_name last_name gender_wmp  \\\n",
       "2213  WMPID5306  Janet T. Mills  MILLS, JANET      Janet     Mills          F   \n",
       "\n",
       "     fecid_2020 fecid_2022a fecid_2022b fecid_2022old  ...  intl_leaders  \\\n",
       "2213        NaN         NaN         NaN           NaN  ...           NaN   \n",
       "\n",
       "     gov2022_gencd gov2022_noelect face_category latino_wmp  latino_crp  \\\n",
       "2213             1               0           NaN        NaN         NaN   \n",
       "\n",
       "      race_wmp  race_crp1  race_crp2  race_crpmena  \n",
       "2213       NaN        NaN        NaN           NaN  \n",
       "\n",
       "[1 rows x 30 columns]"
      ]
     },
     "execution_count": 9,
     "metadata": {},
     "output_type": "execute_result"
    }
   ],
   "source": [
    "g.loc[g['full_name'].str.contains(\"Mills\")]"
   ]
  },
  {
   "cell_type": "code",
   "execution_count": 10,
   "metadata": {},
   "outputs": [],
   "source": [
    "# Laura used bp_name when adding them to person data\n",
    "g = g.merge(gov, how='left', left_on='full_name', right_on='bp_name', indicator=True)"
   ]
  },
  {
   "cell_type": "code",
   "execution_count": 11,
   "metadata": {},
   "outputs": [
    {
     "data": {
      "text/plain": [
       "both          82\n",
       "right_only     0\n",
       "left_only      0\n",
       "Name: _merge, dtype: int64"
      ]
     },
     "execution_count": 11,
     "metadata": {},
     "output_type": "execute_result"
    }
   ],
   "source": [
    "g._merge.value_counts()"
   ]
  },
  {
   "cell_type": "code",
   "execution_count": 12,
   "metadata": {},
   "outputs": [],
   "source": [
    "g = g[['wmpid', 'bp_url']]"
   ]
  },
  {
   "cell_type": "code",
   "execution_count": 13,
   "metadata": {},
   "outputs": [],
   "source": [
    "g['face_2022']='yes'"
   ]
  },
  {
   "cell_type": "code",
   "execution_count": 14,
   "metadata": {},
   "outputs": [],
   "source": [
    "g['face_category']='gov_general'"
   ]
  },
  {
   "cell_type": "code",
   "execution_count": 15,
   "metadata": {},
   "outputs": [
    {
     "data": {
      "text/plain": [
       "(82, 4)"
      ]
     },
     "execution_count": 15,
     "metadata": {},
     "output_type": "execute_result"
    }
   ],
   "source": [
    "g.shape"
   ]
  },
  {
   "cell_type": "code",
   "execution_count": 16,
   "metadata": {},
   "outputs": [],
   "source": [
    "g = g.rename(columns={'bp_url':'face_url'})"
   ]
  },
  {
   "cell_type": "code",
   "execution_count": 17,
   "metadata": {},
   "outputs": [
    {
     "data": {
      "text/html": [
       "<div>\n",
       "<style scoped>\n",
       "    .dataframe tbody tr th:only-of-type {\n",
       "        vertical-align: middle;\n",
       "    }\n",
       "\n",
       "    .dataframe tbody tr th {\n",
       "        vertical-align: top;\n",
       "    }\n",
       "\n",
       "    .dataframe thead th {\n",
       "        text-align: right;\n",
       "    }\n",
       "</style>\n",
       "<table border=\"1\" class=\"dataframe\">\n",
       "  <thead>\n",
       "    <tr style=\"text-align: right;\">\n",
       "      <th></th>\n",
       "      <th>wmpid</th>\n",
       "      <th>face_url</th>\n",
       "      <th>face_2022</th>\n",
       "      <th>face_category</th>\n",
       "    </tr>\n",
       "  </thead>\n",
       "  <tbody>\n",
       "    <tr>\n",
       "      <th>0</th>\n",
       "      <td>WMPID5267</td>\n",
       "      <td>https://s3.amazonaws.com/ballotpedia-api4/file...</td>\n",
       "      <td>yes</td>\n",
       "      <td>gov_general</td>\n",
       "    </tr>\n",
       "    <tr>\n",
       "      <th>1</th>\n",
       "      <td>WMPID5285</td>\n",
       "      <td>https://s3.amazonaws.com/ballotpedia-api4/file...</td>\n",
       "      <td>yes</td>\n",
       "      <td>gov_general</td>\n",
       "    </tr>\n",
       "    <tr>\n",
       "      <th>2</th>\n",
       "      <td>WMPID5331</td>\n",
       "      <td>https://s3.amazonaws.com/ballotpedia-api4/file...</td>\n",
       "      <td>yes</td>\n",
       "      <td>gov_general</td>\n",
       "    </tr>\n",
       "    <tr>\n",
       "      <th>3</th>\n",
       "      <td>WMPID5338</td>\n",
       "      <td>https://s3.amazonaws.com/ballotpedia-api4/file...</td>\n",
       "      <td>yes</td>\n",
       "      <td>gov_general</td>\n",
       "    </tr>\n",
       "    <tr>\n",
       "      <th>4</th>\n",
       "      <td>WMPID5280</td>\n",
       "      <td>https://s3.amazonaws.com/ballotpedia-api4/file...</td>\n",
       "      <td>yes</td>\n",
       "      <td>gov_general</td>\n",
       "    </tr>\n",
       "  </tbody>\n",
       "</table>\n",
       "</div>"
      ],
      "text/plain": [
       "       wmpid                                           face_url face_2022  \\\n",
       "0  WMPID5267  https://s3.amazonaws.com/ballotpedia-api4/file...       yes   \n",
       "1  WMPID5285  https://s3.amazonaws.com/ballotpedia-api4/file...       yes   \n",
       "2  WMPID5331  https://s3.amazonaws.com/ballotpedia-api4/file...       yes   \n",
       "3  WMPID5338  https://s3.amazonaws.com/ballotpedia-api4/file...       yes   \n",
       "4  WMPID5280  https://s3.amazonaws.com/ballotpedia-api4/file...       yes   \n",
       "\n",
       "  face_category  \n",
       "0   gov_general  \n",
       "1   gov_general  \n",
       "2   gov_general  \n",
       "3   gov_general  \n",
       "4   gov_general  "
      ]
     },
     "execution_count": 17,
     "metadata": {},
     "output_type": "execute_result"
    }
   ],
   "source": [
    "g.head()"
   ]
  },
  {
   "cell_type": "code",
   "execution_count": 18,
   "metadata": {},
   "outputs": [
    {
     "data": {
      "text/plain": [
       "0"
      ]
     },
     "execution_count": 18,
     "metadata": {},
     "output_type": "execute_result"
    }
   ],
   "source": [
    "g.face_url.isna().sum()"
   ]
  },
  {
   "cell_type": "code",
   "execution_count": 19,
   "metadata": {},
   "outputs": [],
   "source": [
    "g.to_csv(\"./data/face_url_2022_gov_general.csv\", index=True)"
   ]
  }
 ],
 "metadata": {
  "kernelspec": {
   "display_name": "Python 3",
   "language": "python",
   "name": "python3"
  },
  "language_info": {
   "codemirror_mode": {
    "name": "ipython",
    "version": 3
   },
   "file_extension": ".py",
   "mimetype": "text/x-python",
   "name": "python",
   "nbconvert_exporter": "python",
   "pygments_lexer": "ipython3",
   "version": "3.7.7"
  }
 },
 "nbformat": 4,
 "nbformat_minor": 4
}
