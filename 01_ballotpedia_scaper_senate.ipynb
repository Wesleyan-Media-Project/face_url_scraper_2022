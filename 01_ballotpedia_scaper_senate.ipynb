{
 "cells": [
  {
   "cell_type": "markdown",
   "metadata": {
    "id": "pSVuA1DH7uTq"
   },
   "source": [
    "### Scrape Senate candidate face urls from ballotpedia"
   ]
  },
  {
   "cell_type": "markdown",
   "metadata": {},
   "source": [
    "Note: The output file will be different using the updated wmpcand_101422_wmpid.csv file"
   ]
  },
  {
   "cell_type": "code",
   "execution_count": 1,
   "metadata": {
    "executionInfo": {
     "elapsed": 53,
     "status": "ok",
     "timestamp": 1670958816173,
     "user": {
      "displayName": "Jielu Yao",
      "userId": "09138677267510568916"
     },
     "user_tz": 300
    },
    "id": "MQIZH76g9k5Q"
   },
   "outputs": [],
   "source": [
    "import pandas as pd\n",
    "import bs4 as bs # pulling data out of HTML and XML files.\n",
    "import urllib.request # opening and reading URLs\n",
    "import re # pattern matching"
   ]
  },
  {
   "cell_type": "code",
   "execution_count": 26,
   "metadata": {},
   "outputs": [
    {
     "name": "stderr",
     "output_type": "stream",
     "text": [
      "/home/jyao01/.local/lib/python3.7/site-packages/fuzzywuzzy/fuzz.py:11: UserWarning: Using slow pure-python SequenceMatcher. Install python-Levenshtein to remove this warning\n",
      "  warnings.warn('Using slow pure-python SequenceMatcher. Install python-Levenshtein to remove this warning')\n"
     ]
    }
   ],
   "source": [
    "from fuzzywuzzy import fuzz\n",
    "from fuzzywuzzy import process"
   ]
  },
  {
   "cell_type": "code",
   "execution_count": 2,
   "metadata": {
    "executionInfo": {
     "elapsed": 3961,
     "status": "ok",
     "timestamp": 1670958820092,
     "user": {
      "displayName": "Jielu Yao",
      "userId": "09138677267510568916"
     },
     "user_tz": 300
    },
    "id": "4Cke4kyXTLIK"
   },
   "outputs": [],
   "source": [
    "#Download the website's html\n",
    "source = urllib.request.urlopen(\"https://ballotpedia.org/United_States_Senate_elections,_2022\").read()"
   ]
  },
  {
   "cell_type": "code",
   "execution_count": 3,
   "metadata": {
    "executionInfo": {
     "elapsed": 8,
     "status": "ok",
     "timestamp": 1670958820094,
     "user": {
      "displayName": "Jielu Yao",
      "userId": "09138677267510568916"
     },
     "user_tz": 300
    },
    "id": "DQgNvLtO-FFF"
   },
   "outputs": [],
   "source": [
    "#Parse the html\n",
    "soup = bs.BeautifulSoup(source)"
   ]
  },
  {
   "cell_type": "code",
   "execution_count": 4,
   "metadata": {
    "executionInfo": {
     "elapsed": 366,
     "status": "ok",
     "timestamp": 1670958821442,
     "user": {
      "displayName": "Jielu Yao",
      "userId": "09138677267510568916"
     },
     "user_tz": 300
    },
    "id": "shyrvAwgaU0w"
   },
   "outputs": [],
   "source": [
    "urls_css = \"small center a\""
   ]
  },
  {
   "cell_type": "code",
   "execution_count": 5,
   "metadata": {
    "colab": {
     "base_uri": "https://localhost:8080/"
    },
    "executionInfo": {
     "elapsed": 365,
     "status": "ok",
     "timestamp": 1670958821442,
     "user": {
      "displayName": "Jielu Yao",
      "userId": "09138677267510568916"
     },
     "user_tz": 300
    },
    "id": "ngEITkC2-oLW",
    "outputId": "85687011-4b7a-40ab-a2bf-23fe86382a67"
   },
   "outputs": [],
   "source": [
    "urls = soup.select(urls_css)"
   ]
  },
  {
   "cell_type": "code",
   "execution_count": 6,
   "metadata": {
    "colab": {
     "base_uri": "https://localhost:8080/"
    },
    "executionInfo": {
     "elapsed": 27,
     "status": "ok",
     "timestamp": 1670958821443,
     "user": {
      "displayName": "Jielu Yao",
      "userId": "09138677267510568916"
     },
     "user_tz": 300
    },
    "id": "g2Sz2HYjCmJs",
    "outputId": "fdfeec24-e4d1-450a-d6e0-f3d3a6c0cf7c"
   },
   "outputs": [],
   "source": [
    "extracted_urls = [url[\"href\"] for url in urls]"
   ]
  },
  {
   "cell_type": "code",
   "execution_count": 7,
   "metadata": {
    "executionInfo": {
     "elapsed": 22,
     "status": "ok",
     "timestamp": 1670958821443,
     "user": {
      "displayName": "Jielu Yao",
      "userId": "09138677267510568916"
     },
     "user_tz": 300
    },
    "id": "XUlildR6md88"
   },
   "outputs": [],
   "source": [
    "full_urls = [\"https://ballotpedia.org\" + url_suffix for url_suffix in extracted_urls]"
   ]
  },
  {
   "cell_type": "code",
   "execution_count": 8,
   "metadata": {},
   "outputs": [
    {
     "data": {
      "text/plain": [
       "36"
      ]
     },
     "execution_count": 8,
     "metadata": {},
     "output_type": "execute_result"
    }
   ],
   "source": [
    "len(full_urls)"
   ]
  },
  {
   "cell_type": "code",
   "execution_count": 9,
   "metadata": {},
   "outputs": [
    {
     "data": {
      "text/plain": [
       "['https://ballotpedia.org/United_States_Senate_election_in_Alabama,_2022',\n",
       " 'https://ballotpedia.org/United_States_Senate_election_in_Alaska,_2022',\n",
       " 'https://ballotpedia.org/United_States_Senate_election_in_Arizona,_2022',\n",
       " 'https://ballotpedia.org/United_States_Senate_election_in_Arkansas,_2022',\n",
       " 'https://ballotpedia.org/United_States_Senate_election_in_California,_2022',\n",
       " 'https://ballotpedia.org/United_States_Senate_special_election_in_California,_2022',\n",
       " 'https://ballotpedia.org/United_States_Senate_election_in_Colorado,_2022',\n",
       " 'https://ballotpedia.org/United_States_Senate_election_in_Connecticut,_2022',\n",
       " 'https://ballotpedia.org/United_States_Senate_election_in_Florida,_2022',\n",
       " 'https://ballotpedia.org/United_States_Senate_election_in_Georgia,_2022',\n",
       " 'https://ballotpedia.org/United_States_Senate_election_in_Hawaii,_2022',\n",
       " 'https://ballotpedia.org/United_States_Senate_election_in_Idaho,_2022',\n",
       " 'https://ballotpedia.org/United_States_Senate_election_in_Illinois,_2022',\n",
       " 'https://ballotpedia.org/United_States_Senate_election_in_Indiana,_2022',\n",
       " 'https://ballotpedia.org/United_States_Senate_election_in_Iowa,_2022',\n",
       " 'https://ballotpedia.org/United_States_Senate_election_in_Kansas,_2022',\n",
       " 'https://ballotpedia.org/United_States_Senate_election_in_Kentucky,_2022',\n",
       " 'https://ballotpedia.org/United_States_Senate_election_in_Louisiana,_2022',\n",
       " 'https://ballotpedia.org/United_States_Senate_election_in_Maryland,_2022',\n",
       " 'https://ballotpedia.org/United_States_Senate_election_in_Missouri,_2022',\n",
       " 'https://ballotpedia.org/United_States_Senate_election_in_Nevada,_2022',\n",
       " 'https://ballotpedia.org/United_States_Senate_election_in_New_Hampshire,_2022',\n",
       " 'https://ballotpedia.org/United_States_Senate_election_in_New_York,_2022',\n",
       " 'https://ballotpedia.org/United_States_Senate_election_in_North_Carolina,_2022',\n",
       " 'https://ballotpedia.org/United_States_Senate_election_in_North_Dakota,_2022',\n",
       " 'https://ballotpedia.org/United_States_Senate_election_in_Ohio,_2022',\n",
       " 'https://ballotpedia.org/United_States_Senate_election_in_Oklahoma,_2022',\n",
       " 'https://ballotpedia.org/United_States_Senate_special_election_in_Oklahoma,_2022',\n",
       " 'https://ballotpedia.org/United_States_Senate_election_in_Oregon,_2022',\n",
       " 'https://ballotpedia.org/United_States_Senate_election_in_Pennsylvania,_2022',\n",
       " 'https://ballotpedia.org/United_States_Senate_election_in_South_Carolina,_2022',\n",
       " 'https://ballotpedia.org/United_States_Senate_election_in_South_Dakota,_2022',\n",
       " 'https://ballotpedia.org/United_States_Senate_election_in_Utah,_2022',\n",
       " 'https://ballotpedia.org/United_States_Senate_election_in_Vermont,_2022',\n",
       " 'https://ballotpedia.org/United_States_Senate_election_in_Washington,_2022',\n",
       " 'https://ballotpedia.org/United_States_Senate_election_in_Wisconsin,_2022']"
      ]
     },
     "execution_count": 9,
     "metadata": {},
     "output_type": "execute_result"
    }
   ],
   "source": [
    "full_urls"
   ]
  },
  {
   "cell_type": "markdown",
   "metadata": {
    "id": "5ZtO5wfAcBkX"
   },
   "source": [
    "Now that we've got all the links, we need to visit each, extract what we need and save it somewhere."
   ]
  },
  {
   "cell_type": "code",
   "execution_count": 10,
   "metadata": {},
   "outputs": [],
   "source": [
    "#Now do this in a loop, for the first 5 urls\n",
    "bp_urls = []\n",
    "bp_names = []"
   ]
  },
  {
   "cell_type": "code",
   "execution_count": 11,
   "metadata": {},
   "outputs": [],
   "source": [
    "for i in full_urls[:]:\n",
    "  source = urllib.request.urlopen(i).read()\n",
    "  soup = bs.BeautifulSoup(source)\n",
    "  img_css = \"img.image-candidate-thumbnail, img[id=placeholder_image]\"\n",
    "  img = soup.select(img_css)\n",
    "  img = img[0:5]\n",
    "  bp_urls.extend(list([i['src'] for i in img]))\n",
    "  n_css = \"td.votebox-results-cell--text\"\n",
    "  nm = soup.select(n_css)\n",
    "  nm = nm[0:5]\n",
    "  bp_names.extend(list([url.text for url in nm]))"
   ]
  },
  {
   "cell_type": "code",
   "execution_count": 12,
   "metadata": {},
   "outputs": [],
   "source": [
    "df = pd.DataFrame(columns=('bp_name_raw', 'bp_url'))\n",
    "\n",
    "df['bp_name_raw']=bp_names\n",
    "\n",
    "df['bp_url']=bp_urls"
   ]
  },
  {
   "cell_type": "code",
   "execution_count": 13,
   "metadata": {},
   "outputs": [
    {
     "data": {
      "text/html": [
       "<div>\n",
       "<style scoped>\n",
       "    .dataframe tbody tr th:only-of-type {\n",
       "        vertical-align: middle;\n",
       "    }\n",
       "\n",
       "    .dataframe tbody tr th {\n",
       "        vertical-align: top;\n",
       "    }\n",
       "\n",
       "    .dataframe thead th {\n",
       "        text-align: right;\n",
       "    }\n",
       "</style>\n",
       "<table border=\"1\" class=\"dataframe\">\n",
       "  <thead>\n",
       "    <tr style=\"text-align: right;\">\n",
       "      <th></th>\n",
       "      <th>bp_name_raw</th>\n",
       "      <th>bp_url</th>\n",
       "    </tr>\n",
       "  </thead>\n",
       "  <tbody>\n",
       "    <tr>\n",
       "      <th>175</th>\n",
       "      <td>Ronald Harold Johnson (R)  \\n\\t\\t\\t\\t\\t\\t\\t\\t\\...</td>\n",
       "      <td>https://s3.amazonaws.com/ballotpedia-api4/file...</td>\n",
       "    </tr>\n",
       "    <tr>\n",
       "      <th>176</th>\n",
       "      <td>Mandela Barnes (D)</td>\n",
       "      <td>https://s3.amazonaws.com/ballotpedia-api4/file...</td>\n",
       "    </tr>\n",
       "    <tr>\n",
       "      <th>177</th>\n",
       "      <td>Adam Nicholas Paul (Logic Party) (Write-in)  \\...</td>\n",
       "      <td>https://cdn.ballotpedia.org/images/thumb/f/fb/...</td>\n",
       "    </tr>\n",
       "    <tr>\n",
       "      <th>178</th>\n",
       "      <td>Scott Aubart (American Independent Party) (Wri...</td>\n",
       "      <td>https://cdn.ballotpedia.org/images/thumb/f/fb/...</td>\n",
       "    </tr>\n",
       "    <tr>\n",
       "      <th>179</th>\n",
       "      <td>Other/Write-in votes</td>\n",
       "      <td>https://s3.amazonaws.com/ballotpedia-api4/file...</td>\n",
       "    </tr>\n",
       "  </tbody>\n",
       "</table>\n",
       "</div>"
      ],
      "text/plain": [
       "                                           bp_name_raw  \\\n",
       "175  Ronald Harold Johnson (R)  \\n\\t\\t\\t\\t\\t\\t\\t\\t\\...   \n",
       "176                                Mandela Barnes (D)    \n",
       "177  Adam Nicholas Paul (Logic Party) (Write-in)  \\...   \n",
       "178  Scott Aubart (American Independent Party) (Wri...   \n",
       "179                               Other/Write-in votes   \n",
       "\n",
       "                                                bp_url  \n",
       "175  https://s3.amazonaws.com/ballotpedia-api4/file...  \n",
       "176  https://s3.amazonaws.com/ballotpedia-api4/file...  \n",
       "177  https://cdn.ballotpedia.org/images/thumb/f/fb/...  \n",
       "178  https://cdn.ballotpedia.org/images/thumb/f/fb/...  \n",
       "179  https://s3.amazonaws.com/ballotpedia-api4/file...  "
      ]
     },
     "execution_count": 13,
     "metadata": {},
     "output_type": "execute_result"
    }
   ],
   "source": [
    "df.tail()"
   ]
  },
  {
   "cell_type": "code",
   "execution_count": 14,
   "metadata": {},
   "outputs": [],
   "source": [
    "df2 = df['bp_name_raw'].str.rsplit(\"(\", n=1, expand=True)"
   ]
  },
  {
   "cell_type": "code",
   "execution_count": 15,
   "metadata": {},
   "outputs": [],
   "source": [
    "df2 = df2.rename(columns={0:'name'})"
   ]
  },
  {
   "cell_type": "code",
   "execution_count": 16,
   "metadata": {},
   "outputs": [],
   "source": [
    "df3 =df2['name'].str.rsplit(\"(\", n=1, expand=True)\n",
    "df3 = df3.rename(columns={0:'name'})"
   ]
  },
  {
   "cell_type": "code",
   "execution_count": 17,
   "metadata": {},
   "outputs": [],
   "source": [
    "df3['bp_name'] = df3['name'].str.replace(\"\\n\", \"\").replace(\"\\t\", \"\")"
   ]
  },
  {
   "cell_type": "code",
   "execution_count": 18,
   "metadata": {},
   "outputs": [
    {
     "data": {
      "text/plain": [
       "0                Katie Britt \n",
       "1                  Will Boyd \n",
       "2            John Sophocleus \n",
       "3                 Katie Britt\n",
       "4                   Mo Brooks\n",
       "                ...          \n",
       "175    Ronald Harold Johnson \n",
       "176           Mandela Barnes \n",
       "177       Adam Nicholas Paul \n",
       "178             Scott Aubart \n",
       "179      Other/Write-in votes\n",
       "Name: bp_name, Length: 180, dtype: object"
      ]
     },
     "execution_count": 18,
     "metadata": {},
     "output_type": "execute_result"
    }
   ],
   "source": [
    "df3['bp_name']"
   ]
  },
  {
   "cell_type": "code",
   "execution_count": 19,
   "metadata": {},
   "outputs": [],
   "source": [
    "df['bp_name']=df3['bp_name']"
   ]
  },
  {
   "cell_type": "code",
   "execution_count": 20,
   "metadata": {},
   "outputs": [],
   "source": [
    "df['bp_url_filename'] = df['bp_url'].str.replace(\"https://s3.amazonaws.com/ballotpedia-api4/files/thumbs/100/100/\", '')"
   ]
  },
  {
   "cell_type": "code",
   "execution_count": 21,
   "metadata": {},
   "outputs": [],
   "source": [
    "df['bp_name'] = df['bp_name'].str.strip()"
   ]
  },
  {
   "cell_type": "code",
   "execution_count": 22,
   "metadata": {},
   "outputs": [],
   "source": [
    "df = df.drop_duplicates(subset=['bp_name'], keep='first')"
   ]
  },
  {
   "cell_type": "code",
   "execution_count": 23,
   "metadata": {},
   "outputs": [
    {
     "data": {
      "text/html": [
       "<div>\n",
       "<style scoped>\n",
       "    .dataframe tbody tr th:only-of-type {\n",
       "        vertical-align: middle;\n",
       "    }\n",
       "\n",
       "    .dataframe tbody tr th {\n",
       "        vertical-align: top;\n",
       "    }\n",
       "\n",
       "    .dataframe thead th {\n",
       "        text-align: right;\n",
       "    }\n",
       "</style>\n",
       "<table border=\"1\" class=\"dataframe\">\n",
       "  <thead>\n",
       "    <tr style=\"text-align: right;\">\n",
       "      <th></th>\n",
       "      <th>bp_name_raw</th>\n",
       "      <th>bp_url</th>\n",
       "      <th>bp_name</th>\n",
       "      <th>bp_url_filename</th>\n",
       "    </tr>\n",
       "  </thead>\n",
       "  <tbody>\n",
       "    <tr>\n",
       "      <th>166</th>\n",
       "      <td>Gerald Malloy (R)</td>\n",
       "      <td>https://s3.amazonaws.com/ballotpedia-api4/file...</td>\n",
       "      <td>Gerald Malloy</td>\n",
       "      <td>Gerald_Malloy.jpeg</td>\n",
       "    </tr>\n",
       "    <tr>\n",
       "      <th>167</th>\n",
       "      <td>Dawn Ellis (Independent)  \\n\\t\\t\\t\\t\\t\\t\\t\\t\\t...</td>\n",
       "      <td>https://s3.amazonaws.com/ballotpedia-api4/file...</td>\n",
       "      <td>Dawn Ellis</td>\n",
       "      <td>DawnEllis.jpg</td>\n",
       "    </tr>\n",
       "    <tr>\n",
       "      <th>168</th>\n",
       "      <td>Natasha Diamondstone-Kohout (Green Mountain Pe...</td>\n",
       "      <td>https://cdn.ballotpedia.org/images/thumb/f/fb/...</td>\n",
       "      <td>Natasha Diamondstone-Kohout</td>\n",
       "      <td>https://cdn.ballotpedia.org/images/thumb/f/fb/...</td>\n",
       "    </tr>\n",
       "    <tr>\n",
       "      <th>169</th>\n",
       "      <td>Kerry Patrick Raheb (Independent)</td>\n",
       "      <td>https://s3.amazonaws.com/ballotpedia-api4/file...</td>\n",
       "      <td>Kerry Patrick Raheb</td>\n",
       "      <td>KerryRahebVT.png</td>\n",
       "    </tr>\n",
       "    <tr>\n",
       "      <th>170</th>\n",
       "      <td>Patty Murray (D)  \\n\\t\\t\\t\\t\\t\\t\\t\\t\\t\\t\\t\\t</td>\n",
       "      <td>https://s3.amazonaws.com/ballotpedia-api4/file...</td>\n",
       "      <td>Patty Murray</td>\n",
       "      <td>Patty_Murray.jpg</td>\n",
       "    </tr>\n",
       "    <tr>\n",
       "      <th>171</th>\n",
       "      <td>Tiffany Smiley (R)  \\n\\t\\t\\t\\t\\t\\t\\t\\t\\t\\t\\t\\t</td>\n",
       "      <td>https://s3.amazonaws.com/ballotpedia-api4/file...</td>\n",
       "      <td>Tiffany Smiley</td>\n",
       "      <td>TiffanySmiley.jpeg</td>\n",
       "    </tr>\n",
       "    <tr>\n",
       "      <th>175</th>\n",
       "      <td>Ronald Harold Johnson (R)  \\n\\t\\t\\t\\t\\t\\t\\t\\t\\...</td>\n",
       "      <td>https://s3.amazonaws.com/ballotpedia-api4/file...</td>\n",
       "      <td>Ronald Harold Johnson</td>\n",
       "      <td>Ron_Johnson.jpg</td>\n",
       "    </tr>\n",
       "    <tr>\n",
       "      <th>176</th>\n",
       "      <td>Mandela Barnes (D)</td>\n",
       "      <td>https://s3.amazonaws.com/ballotpedia-api4/file...</td>\n",
       "      <td>Mandela Barnes</td>\n",
       "      <td>Mandela-Barnes.jpg</td>\n",
       "    </tr>\n",
       "    <tr>\n",
       "      <th>177</th>\n",
       "      <td>Adam Nicholas Paul (Logic Party) (Write-in)  \\...</td>\n",
       "      <td>https://cdn.ballotpedia.org/images/thumb/f/fb/...</td>\n",
       "      <td>Adam Nicholas Paul</td>\n",
       "      <td>https://cdn.ballotpedia.org/images/thumb/f/fb/...</td>\n",
       "    </tr>\n",
       "    <tr>\n",
       "      <th>178</th>\n",
       "      <td>Scott Aubart (American Independent Party) (Wri...</td>\n",
       "      <td>https://cdn.ballotpedia.org/images/thumb/f/fb/...</td>\n",
       "      <td>Scott Aubart</td>\n",
       "      <td>https://cdn.ballotpedia.org/images/thumb/f/fb/...</td>\n",
       "    </tr>\n",
       "  </tbody>\n",
       "</table>\n",
       "</div>"
      ],
      "text/plain": [
       "                                           bp_name_raw  \\\n",
       "166                                 Gerald Malloy (R)    \n",
       "167  Dawn Ellis (Independent)  \\n\\t\\t\\t\\t\\t\\t\\t\\t\\t...   \n",
       "168  Natasha Diamondstone-Kohout (Green Mountain Pe...   \n",
       "169                 Kerry Patrick Raheb (Independent)    \n",
       "170       Patty Murray (D)  \\n\\t\\t\\t\\t\\t\\t\\t\\t\\t\\t\\t\\t   \n",
       "171     Tiffany Smiley (R)  \\n\\t\\t\\t\\t\\t\\t\\t\\t\\t\\t\\t\\t   \n",
       "175  Ronald Harold Johnson (R)  \\n\\t\\t\\t\\t\\t\\t\\t\\t\\...   \n",
       "176                                Mandela Barnes (D)    \n",
       "177  Adam Nicholas Paul (Logic Party) (Write-in)  \\...   \n",
       "178  Scott Aubart (American Independent Party) (Wri...   \n",
       "\n",
       "                                                bp_url  \\\n",
       "166  https://s3.amazonaws.com/ballotpedia-api4/file...   \n",
       "167  https://s3.amazonaws.com/ballotpedia-api4/file...   \n",
       "168  https://cdn.ballotpedia.org/images/thumb/f/fb/...   \n",
       "169  https://s3.amazonaws.com/ballotpedia-api4/file...   \n",
       "170  https://s3.amazonaws.com/ballotpedia-api4/file...   \n",
       "171  https://s3.amazonaws.com/ballotpedia-api4/file...   \n",
       "175  https://s3.amazonaws.com/ballotpedia-api4/file...   \n",
       "176  https://s3.amazonaws.com/ballotpedia-api4/file...   \n",
       "177  https://cdn.ballotpedia.org/images/thumb/f/fb/...   \n",
       "178  https://cdn.ballotpedia.org/images/thumb/f/fb/...   \n",
       "\n",
       "                         bp_name  \\\n",
       "166                Gerald Malloy   \n",
       "167                   Dawn Ellis   \n",
       "168  Natasha Diamondstone-Kohout   \n",
       "169          Kerry Patrick Raheb   \n",
       "170                 Patty Murray   \n",
       "171               Tiffany Smiley   \n",
       "175        Ronald Harold Johnson   \n",
       "176               Mandela Barnes   \n",
       "177           Adam Nicholas Paul   \n",
       "178                 Scott Aubart   \n",
       "\n",
       "                                       bp_url_filename  \n",
       "166                                 Gerald_Malloy.jpeg  \n",
       "167                                      DawnEllis.jpg  \n",
       "168  https://cdn.ballotpedia.org/images/thumb/f/fb/...  \n",
       "169                                   KerryRahebVT.png  \n",
       "170                                   Patty_Murray.jpg  \n",
       "171                                 TiffanySmiley.jpeg  \n",
       "175                                    Ron_Johnson.jpg  \n",
       "176                                 Mandela-Barnes.jpg  \n",
       "177  https://cdn.ballotpedia.org/images/thumb/f/fb/...  \n",
       "178  https://cdn.ballotpedia.org/images/thumb/f/fb/...  "
      ]
     },
     "execution_count": 23,
     "metadata": {},
     "output_type": "execute_result"
    }
   ],
   "source": [
    "df.tail(10)"
   ]
  },
  {
   "cell_type": "markdown",
   "metadata": {},
   "source": [
    "### Load the masterfile"
   ]
  },
  {
   "cell_type": "code",
   "execution_count": 30,
   "metadata": {},
   "outputs": [],
   "source": [
    "s = pd.read_csv(\"../datasets/candidates/wmpcand_101422_wmpid.csv\")"
   ]
  },
  {
   "cell_type": "code",
   "execution_count": 31,
   "metadata": {},
   "outputs": [
    {
     "data": {
      "text/plain": [
       "Index(['wmpid', 'genelect_cd', 'CurrCand', 'cand_name', 'cand_id',\n",
       "       'cand_office', 'cand_office_st', 'cand_office_dist',\n",
       "       'cand_party_affiliation', 'cand_incumbent_challenger_open_s',\n",
       "       'dateadded_cd', 'office_wapo', 'result_wapo', 'primarydate_wapo',\n",
       "       'trumpe_wapo', 'gender_wmp', 'gender_crp', 'latino_wmp', 'latino_crp',\n",
       "       'race_wmp', 'race_crp1', 'race_crp2', 'race_crpmena', 'full_name',\n",
       "       'first_name', 'last_name'],\n",
       "      dtype='object')"
      ]
     },
     "execution_count": 31,
     "metadata": {},
     "output_type": "execute_result"
    }
   ],
   "source": [
    "s.columns"
   ]
  },
  {
   "cell_type": "code",
   "execution_count": 32,
   "metadata": {},
   "outputs": [
    {
     "data": {
      "text/plain": [
       "0    2828\n",
       "1    1468\n",
       "Name: genelect_cd, dtype: int64"
      ]
     },
     "execution_count": 32,
     "metadata": {},
     "output_type": "execute_result"
    }
   ],
   "source": [
    "s.genelect_cd.value_counts(dropna=False)"
   ]
  },
  {
   "cell_type": "code",
   "execution_count": 33,
   "metadata": {},
   "outputs": [],
   "source": [
    "s = s.loc[(s['genelect_cd']==1)&(s['cand_office']=='S')]"
   ]
  },
  {
   "cell_type": "code",
   "execution_count": 34,
   "metadata": {},
   "outputs": [
    {
     "data": {
      "text/plain": [
       "(172, 26)"
      ]
     },
     "execution_count": 34,
     "metadata": {},
     "output_type": "execute_result"
    }
   ],
   "source": [
    "s.shape"
   ]
  },
  {
   "cell_type": "code",
   "execution_count": 35,
   "metadata": {},
   "outputs": [
    {
     "data": {
      "text/html": [
       "<div>\n",
       "<style scoped>\n",
       "    .dataframe tbody tr th:only-of-type {\n",
       "        vertical-align: middle;\n",
       "    }\n",
       "\n",
       "    .dataframe tbody tr th {\n",
       "        vertical-align: top;\n",
       "    }\n",
       "\n",
       "    .dataframe thead th {\n",
       "        text-align: right;\n",
       "    }\n",
       "</style>\n",
       "<table border=\"1\" class=\"dataframe\">\n",
       "  <thead>\n",
       "    <tr style=\"text-align: right;\">\n",
       "      <th></th>\n",
       "      <th>wmpid</th>\n",
       "      <th>genelect_cd</th>\n",
       "      <th>CurrCand</th>\n",
       "      <th>cand_name</th>\n",
       "      <th>cand_id</th>\n",
       "      <th>cand_office</th>\n",
       "      <th>cand_office_st</th>\n",
       "      <th>cand_office_dist</th>\n",
       "      <th>cand_party_affiliation</th>\n",
       "      <th>cand_incumbent_challenger_open_s</th>\n",
       "      <th>...</th>\n",
       "      <th>gender_crp</th>\n",
       "      <th>latino_wmp</th>\n",
       "      <th>latino_crp</th>\n",
       "      <th>race_wmp</th>\n",
       "      <th>race_crp1</th>\n",
       "      <th>race_crp2</th>\n",
       "      <th>race_crpmena</th>\n",
       "      <th>full_name</th>\n",
       "      <th>first_name</th>\n",
       "      <th>last_name</th>\n",
       "    </tr>\n",
       "  </thead>\n",
       "  <tbody>\n",
       "    <tr>\n",
       "      <th>3614</th>\n",
       "      <td>WMPID1299</td>\n",
       "      <td>1</td>\n",
       "      <td>Y</td>\n",
       "      <td>BOOZMAN, SEN. JOHN</td>\n",
       "      <td>S0AR00150</td>\n",
       "      <td>S</td>\n",
       "      <td>AR</td>\n",
       "      <td>0.0</td>\n",
       "      <td>REP</td>\n",
       "      <td>INCUMBENT</td>\n",
       "      <td>...</td>\n",
       "      <td>M</td>\n",
       "      <td>NaN</td>\n",
       "      <td>NaN</td>\n",
       "      <td>White</td>\n",
       "      <td>W</td>\n",
       "      <td>NaN</td>\n",
       "      <td>NaN</td>\n",
       "      <td>John Boozman</td>\n",
       "      <td>John</td>\n",
       "      <td>Boozman</td>\n",
       "    </tr>\n",
       "    <tr>\n",
       "      <th>3616</th>\n",
       "      <td>WMPID1302</td>\n",
       "      <td>1</td>\n",
       "      <td>Y</td>\n",
       "      <td>KELLY, MARK</td>\n",
       "      <td>S0AZ00350</td>\n",
       "      <td>S</td>\n",
       "      <td>AZ</td>\n",
       "      <td>0.0</td>\n",
       "      <td>DEM</td>\n",
       "      <td>INCUMBENT</td>\n",
       "      <td>...</td>\n",
       "      <td>M</td>\n",
       "      <td>0.0</td>\n",
       "      <td>N</td>\n",
       "      <td>White</td>\n",
       "      <td>W</td>\n",
       "      <td>NaN</td>\n",
       "      <td>N</td>\n",
       "      <td>Mark Kelly</td>\n",
       "      <td>Kelly</td>\n",
       "      <td>Mark</td>\n",
       "    </tr>\n",
       "    <tr>\n",
       "      <th>3619</th>\n",
       "      <td>WMPID1305</td>\n",
       "      <td>1</td>\n",
       "      <td>Y</td>\n",
       "      <td>BENNET, MICHAEL F.</td>\n",
       "      <td>S0CO00211</td>\n",
       "      <td>S</td>\n",
       "      <td>CO</td>\n",
       "      <td>0.0</td>\n",
       "      <td>DEM</td>\n",
       "      <td>INCUMBENT</td>\n",
       "      <td>...</td>\n",
       "      <td>M</td>\n",
       "      <td>0.0</td>\n",
       "      <td>N</td>\n",
       "      <td>White</td>\n",
       "      <td>W</td>\n",
       "      <td>NaN</td>\n",
       "      <td>N</td>\n",
       "      <td>Michael Bennet</td>\n",
       "      <td>Michael</td>\n",
       "      <td>Bennet</td>\n",
       "    </tr>\n",
       "    <tr>\n",
       "      <th>3620</th>\n",
       "      <td>WMPID1315</td>\n",
       "      <td>1</td>\n",
       "      <td>Y</td>\n",
       "      <td>BLUMENTHAL, RICHARD</td>\n",
       "      <td>S0CT00177</td>\n",
       "      <td>S</td>\n",
       "      <td>CT</td>\n",
       "      <td>0.0</td>\n",
       "      <td>DEM</td>\n",
       "      <td>INCUMBENT</td>\n",
       "      <td>...</td>\n",
       "      <td>M</td>\n",
       "      <td>NaN</td>\n",
       "      <td>NaN</td>\n",
       "      <td>White</td>\n",
       "      <td>W</td>\n",
       "      <td>NaN</td>\n",
       "      <td>NaN</td>\n",
       "      <td>Richard Blumenthal</td>\n",
       "      <td>Richard</td>\n",
       "      <td>Blumenthal</td>\n",
       "    </tr>\n",
       "    <tr>\n",
       "      <th>3621</th>\n",
       "      <td>WMPID1321</td>\n",
       "      <td>1</td>\n",
       "      <td>Y</td>\n",
       "      <td>RUBIO, MARCO</td>\n",
       "      <td>S0FL00338</td>\n",
       "      <td>S</td>\n",
       "      <td>FL</td>\n",
       "      <td>0.0</td>\n",
       "      <td>REP</td>\n",
       "      <td>INCUMBENT</td>\n",
       "      <td>...</td>\n",
       "      <td>M</td>\n",
       "      <td>1.0</td>\n",
       "      <td>Y</td>\n",
       "      <td>Hispanic/Latino</td>\n",
       "      <td>H</td>\n",
       "      <td>NaN</td>\n",
       "      <td>NaN</td>\n",
       "      <td>Marco Rubio</td>\n",
       "      <td>Marco</td>\n",
       "      <td>Rubio</td>\n",
       "    </tr>\n",
       "  </tbody>\n",
       "</table>\n",
       "<p>5 rows × 26 columns</p>\n",
       "</div>"
      ],
      "text/plain": [
       "          wmpid  genelect_cd CurrCand            cand_name    cand_id  \\\n",
       "3614  WMPID1299            1        Y   BOOZMAN, SEN. JOHN  S0AR00150   \n",
       "3616  WMPID1302            1        Y          KELLY, MARK  S0AZ00350   \n",
       "3619  WMPID1305            1        Y   BENNET, MICHAEL F.  S0CO00211   \n",
       "3620  WMPID1315            1        Y  BLUMENTHAL, RICHARD  S0CT00177   \n",
       "3621  WMPID1321            1        Y         RUBIO, MARCO  S0FL00338   \n",
       "\n",
       "     cand_office cand_office_st  cand_office_dist cand_party_affiliation  \\\n",
       "3614           S             AR               0.0                    REP   \n",
       "3616           S             AZ               0.0                    DEM   \n",
       "3619           S             CO               0.0                    DEM   \n",
       "3620           S             CT               0.0                    DEM   \n",
       "3621           S             FL               0.0                    REP   \n",
       "\n",
       "     cand_incumbent_challenger_open_s  ... gender_crp latino_wmp latino_crp  \\\n",
       "3614                        INCUMBENT  ...          M        NaN        NaN   \n",
       "3616                        INCUMBENT  ...          M        0.0          N   \n",
       "3619                        INCUMBENT  ...          M        0.0          N   \n",
       "3620                        INCUMBENT  ...          M        NaN        NaN   \n",
       "3621                        INCUMBENT  ...          M        1.0          Y   \n",
       "\n",
       "             race_wmp  race_crp1 race_crp2 race_crpmena           full_name  \\\n",
       "3614            White          W       NaN          NaN        John Boozman   \n",
       "3616            White          W       NaN            N          Mark Kelly   \n",
       "3619            White          W       NaN            N      Michael Bennet   \n",
       "3620            White          W       NaN          NaN  Richard Blumenthal   \n",
       "3621  Hispanic/Latino          H       NaN          NaN         Marco Rubio   \n",
       "\n",
       "     first_name   last_name  \n",
       "3614       John     Boozman  \n",
       "3616      Kelly        Mark  \n",
       "3619    Michael      Bennet  \n",
       "3620    Richard  Blumenthal  \n",
       "3621      Marco       Rubio  \n",
       "\n",
       "[5 rows x 26 columns]"
      ]
     },
     "execution_count": 35,
     "metadata": {},
     "output_type": "execute_result"
    }
   ],
   "source": [
    "s.head()"
   ]
  },
  {
   "cell_type": "code",
   "execution_count": 36,
   "metadata": {},
   "outputs": [],
   "source": [
    "s = s[['wmpid', 'cand_name', 'full_name', 'cand_office_st', 'cand_party_affiliation']]"
   ]
  },
  {
   "cell_type": "code",
   "execution_count": 37,
   "metadata": {},
   "outputs": [
    {
     "data": {
      "text/html": [
       "<div>\n",
       "<style scoped>\n",
       "    .dataframe tbody tr th:only-of-type {\n",
       "        vertical-align: middle;\n",
       "    }\n",
       "\n",
       "    .dataframe tbody tr th {\n",
       "        vertical-align: top;\n",
       "    }\n",
       "\n",
       "    .dataframe thead th {\n",
       "        text-align: right;\n",
       "    }\n",
       "</style>\n",
       "<table border=\"1\" class=\"dataframe\">\n",
       "  <thead>\n",
       "    <tr style=\"text-align: right;\">\n",
       "      <th></th>\n",
       "      <th>wmpid</th>\n",
       "      <th>cand_name</th>\n",
       "      <th>full_name</th>\n",
       "      <th>cand_office_st</th>\n",
       "      <th>cand_party_affiliation</th>\n",
       "    </tr>\n",
       "  </thead>\n",
       "  <tbody>\n",
       "    <tr>\n",
       "      <th>3614</th>\n",
       "      <td>WMPID1299</td>\n",
       "      <td>BOOZMAN, SEN. JOHN</td>\n",
       "      <td>John Boozman</td>\n",
       "      <td>AR</td>\n",
       "      <td>REP</td>\n",
       "    </tr>\n",
       "    <tr>\n",
       "      <th>3616</th>\n",
       "      <td>WMPID1302</td>\n",
       "      <td>KELLY, MARK</td>\n",
       "      <td>Mark Kelly</td>\n",
       "      <td>AZ</td>\n",
       "      <td>DEM</td>\n",
       "    </tr>\n",
       "    <tr>\n",
       "      <th>3619</th>\n",
       "      <td>WMPID1305</td>\n",
       "      <td>BENNET, MICHAEL F.</td>\n",
       "      <td>Michael Bennet</td>\n",
       "      <td>CO</td>\n",
       "      <td>DEM</td>\n",
       "    </tr>\n",
       "    <tr>\n",
       "      <th>3620</th>\n",
       "      <td>WMPID1315</td>\n",
       "      <td>BLUMENTHAL, RICHARD</td>\n",
       "      <td>Richard Blumenthal</td>\n",
       "      <td>CT</td>\n",
       "      <td>DEM</td>\n",
       "    </tr>\n",
       "    <tr>\n",
       "      <th>3621</th>\n",
       "      <td>WMPID1321</td>\n",
       "      <td>RUBIO, MARCO</td>\n",
       "      <td>Marco Rubio</td>\n",
       "      <td>FL</td>\n",
       "      <td>REP</td>\n",
       "    </tr>\n",
       "  </tbody>\n",
       "</table>\n",
       "</div>"
      ],
      "text/plain": [
       "          wmpid            cand_name           full_name cand_office_st  \\\n",
       "3614  WMPID1299   BOOZMAN, SEN. JOHN        John Boozman             AR   \n",
       "3616  WMPID1302          KELLY, MARK          Mark Kelly             AZ   \n",
       "3619  WMPID1305   BENNET, MICHAEL F.      Michael Bennet             CO   \n",
       "3620  WMPID1315  BLUMENTHAL, RICHARD  Richard Blumenthal             CT   \n",
       "3621  WMPID1321         RUBIO, MARCO         Marco Rubio             FL   \n",
       "\n",
       "     cand_party_affiliation  \n",
       "3614                    REP  \n",
       "3616                    DEM  \n",
       "3619                    DEM  \n",
       "3620                    DEM  \n",
       "3621                    REP  "
      ]
     },
     "execution_count": 37,
     "metadata": {},
     "output_type": "execute_result"
    }
   ],
   "source": [
    "s.head()"
   ]
  },
  {
   "cell_type": "code",
   "execution_count": 38,
   "metadata": {},
   "outputs": [
    {
     "data": {
      "text/plain": [
       "172"
      ]
     },
     "execution_count": 38,
     "metadata": {},
     "output_type": "execute_result"
    }
   ],
   "source": [
    "len(s['wmpid'].unique())"
   ]
  },
  {
   "cell_type": "code",
   "execution_count": 39,
   "metadata": {},
   "outputs": [],
   "source": [
    "def fuzzy_merge(df_1, df_2, key1, key2, threshold=90, limit=2):\n",
    "    \"\"\"\n",
    "    :param df_1: the left table to join\n",
    "    :param df_2: the right table to join\n",
    "    :param key1: key column of the left table\n",
    "    :param key2: key column of the right table\n",
    "    :param threshold: how close the matches should be to return a match, based on Levenshtein distance\n",
    "    :param limit: the amount of matches that will get returned, these are sorted high to low\n",
    "    :return: dataframe with boths keys and matches\n",
    "    \"\"\"\n",
    "    s = df_2[key2].tolist()\n",
    "    \n",
    "    m = df_1[key1].apply(lambda x: process.extract(x, s, limit=limit))    \n",
    "    df_1['matches'] = m\n",
    "    \n",
    "    m2 = df_1['matches'].apply(lambda x: ', '.join([i[0] for i in x if i[1] >= threshold]))\n",
    "    df_1['matches'] = m2\n",
    "    \n",
    "    return df_1"
   ]
  },
  {
   "cell_type": "code",
   "execution_count": 40,
   "metadata": {},
   "outputs": [],
   "source": [
    "dat = fuzzy_merge(s, df, 'full_name', 'bp_name', threshold=90)"
   ]
  },
  {
   "cell_type": "code",
   "execution_count": 41,
   "metadata": {
    "scrolled": true
   },
   "outputs": [
    {
     "data": {
      "text/html": [
       "<div>\n",
       "<style scoped>\n",
       "    .dataframe tbody tr th:only-of-type {\n",
       "        vertical-align: middle;\n",
       "    }\n",
       "\n",
       "    .dataframe tbody tr th {\n",
       "        vertical-align: top;\n",
       "    }\n",
       "\n",
       "    .dataframe thead th {\n",
       "        text-align: right;\n",
       "    }\n",
       "</style>\n",
       "<table border=\"1\" class=\"dataframe\">\n",
       "  <thead>\n",
       "    <tr style=\"text-align: right;\">\n",
       "      <th></th>\n",
       "      <th>wmpid</th>\n",
       "      <th>cand_name</th>\n",
       "      <th>full_name</th>\n",
       "      <th>cand_office_st</th>\n",
       "      <th>cand_party_affiliation</th>\n",
       "      <th>matches</th>\n",
       "    </tr>\n",
       "  </thead>\n",
       "  <tbody>\n",
       "    <tr>\n",
       "      <th>3614</th>\n",
       "      <td>WMPID1299</td>\n",
       "      <td>BOOZMAN, SEN. JOHN</td>\n",
       "      <td>John Boozman</td>\n",
       "      <td>AR</td>\n",
       "      <td>REP</td>\n",
       "      <td>John Boozman</td>\n",
       "    </tr>\n",
       "    <tr>\n",
       "      <th>3616</th>\n",
       "      <td>WMPID1302</td>\n",
       "      <td>KELLY, MARK</td>\n",
       "      <td>Mark Kelly</td>\n",
       "      <td>AZ</td>\n",
       "      <td>DEM</td>\n",
       "      <td>Mark Kelly</td>\n",
       "    </tr>\n",
       "    <tr>\n",
       "      <th>3619</th>\n",
       "      <td>WMPID1305</td>\n",
       "      <td>BENNET, MICHAEL F.</td>\n",
       "      <td>Michael Bennet</td>\n",
       "      <td>CO</td>\n",
       "      <td>DEM</td>\n",
       "      <td>Michael Bennet</td>\n",
       "    </tr>\n",
       "    <tr>\n",
       "      <th>3620</th>\n",
       "      <td>WMPID1315</td>\n",
       "      <td>BLUMENTHAL, RICHARD</td>\n",
       "      <td>Richard Blumenthal</td>\n",
       "      <td>CT</td>\n",
       "      <td>DEM</td>\n",
       "      <td>Richard Blumenthal</td>\n",
       "    </tr>\n",
       "    <tr>\n",
       "      <th>3621</th>\n",
       "      <td>WMPID1321</td>\n",
       "      <td>RUBIO, MARCO</td>\n",
       "      <td>Marco Rubio</td>\n",
       "      <td>FL</td>\n",
       "      <td>REP</td>\n",
       "      <td>Marco Rubio</td>\n",
       "    </tr>\n",
       "    <tr>\n",
       "      <th>...</th>\n",
       "      <td>...</td>\n",
       "      <td>...</td>\n",
       "      <td>...</td>\n",
       "      <td>...</td>\n",
       "      <td>...</td>\n",
       "      <td>...</td>\n",
       "    </tr>\n",
       "    <tr>\n",
       "      <th>4276</th>\n",
       "      <td>WMPID1518</td>\n",
       "      <td>MURPHY, ROBERT T</td>\n",
       "      <td>Robert T. Murphy</td>\n",
       "      <td>OK</td>\n",
       "      <td>LIB</td>\n",
       "      <td>Robert Murphy</td>\n",
       "    </tr>\n",
       "    <tr>\n",
       "      <th>4277</th>\n",
       "      <td>WMPID1519</td>\n",
       "      <td>WYDEN, RONALD LEE</td>\n",
       "      <td>Ron Wyden</td>\n",
       "      <td>OR</td>\n",
       "      <td>DEM</td>\n",
       "      <td>Ron Wyden</td>\n",
       "    </tr>\n",
       "    <tr>\n",
       "      <th>4279</th>\n",
       "      <td>WMPID2065</td>\n",
       "      <td>FETTERMAN, JOHN KARL</td>\n",
       "      <td>John Karl Fetterman</td>\n",
       "      <td>PA</td>\n",
       "      <td>DEM</td>\n",
       "      <td>John Fetterman</td>\n",
       "    </tr>\n",
       "    <tr>\n",
       "      <th>4284</th>\n",
       "      <td>WMPID1531</td>\n",
       "      <td>CRAPO, MICHAEL D</td>\n",
       "      <td>Mike Crapo</td>\n",
       "      <td>ID</td>\n",
       "      <td>REP</td>\n",
       "      <td>Mike Crapo</td>\n",
       "    </tr>\n",
       "    <tr>\n",
       "      <th>4288</th>\n",
       "      <td>WMPID1547</td>\n",
       "      <td>SCHUMER, CHARLES E.</td>\n",
       "      <td>Charles Schumer</td>\n",
       "      <td>NY</td>\n",
       "      <td>DEM</td>\n",
       "      <td></td>\n",
       "    </tr>\n",
       "  </tbody>\n",
       "</table>\n",
       "<p>172 rows × 6 columns</p>\n",
       "</div>"
      ],
      "text/plain": [
       "          wmpid             cand_name            full_name cand_office_st  \\\n",
       "3614  WMPID1299    BOOZMAN, SEN. JOHN         John Boozman             AR   \n",
       "3616  WMPID1302           KELLY, MARK           Mark Kelly             AZ   \n",
       "3619  WMPID1305    BENNET, MICHAEL F.       Michael Bennet             CO   \n",
       "3620  WMPID1315   BLUMENTHAL, RICHARD   Richard Blumenthal             CT   \n",
       "3621  WMPID1321          RUBIO, MARCO          Marco Rubio             FL   \n",
       "...         ...                   ...                  ...            ...   \n",
       "4276  WMPID1518      MURPHY, ROBERT T     Robert T. Murphy             OK   \n",
       "4277  WMPID1519     WYDEN, RONALD LEE            Ron Wyden             OR   \n",
       "4279  WMPID2065  FETTERMAN, JOHN KARL  John Karl Fetterman             PA   \n",
       "4284  WMPID1531      CRAPO, MICHAEL D           Mike Crapo             ID   \n",
       "4288  WMPID1547   SCHUMER, CHARLES E.      Charles Schumer             NY   \n",
       "\n",
       "     cand_party_affiliation             matches  \n",
       "3614                    REP        John Boozman  \n",
       "3616                    DEM          Mark Kelly  \n",
       "3619                    DEM      Michael Bennet  \n",
       "3620                    DEM  Richard Blumenthal  \n",
       "3621                    REP         Marco Rubio  \n",
       "...                     ...                 ...  \n",
       "4276                    LIB       Robert Murphy  \n",
       "4277                    DEM           Ron Wyden  \n",
       "4279                    DEM      John Fetterman  \n",
       "4284                    REP          Mike Crapo  \n",
       "4288                    DEM                      \n",
       "\n",
       "[172 rows x 6 columns]"
      ]
     },
     "execution_count": 41,
     "metadata": {},
     "output_type": "execute_result"
    }
   ],
   "source": [
    "dat"
   ]
  },
  {
   "cell_type": "code",
   "execution_count": 42,
   "metadata": {},
   "outputs": [
    {
     "data": {
      "text/plain": [
       "''"
      ]
     },
     "execution_count": 42,
     "metadata": {},
     "output_type": "execute_result"
    }
   ],
   "source": [
    "dat.loc[4288, 'matches']"
   ]
  },
  {
   "cell_type": "code",
   "execution_count": 43,
   "metadata": {},
   "outputs": [
    {
     "data": {
      "text/html": [
       "<div>\n",
       "<style scoped>\n",
       "    .dataframe tbody tr th:only-of-type {\n",
       "        vertical-align: middle;\n",
       "    }\n",
       "\n",
       "    .dataframe tbody tr th {\n",
       "        vertical-align: top;\n",
       "    }\n",
       "\n",
       "    .dataframe thead th {\n",
       "        text-align: right;\n",
       "    }\n",
       "</style>\n",
       "<table border=\"1\" class=\"dataframe\">\n",
       "  <thead>\n",
       "    <tr style=\"text-align: right;\">\n",
       "      <th></th>\n",
       "      <th>wmpid</th>\n",
       "      <th>cand_name</th>\n",
       "      <th>full_name</th>\n",
       "      <th>cand_office_st</th>\n",
       "      <th>cand_party_affiliation</th>\n",
       "      <th>matches</th>\n",
       "    </tr>\n",
       "  </thead>\n",
       "  <tbody>\n",
       "    <tr>\n",
       "      <th>3622</th>\n",
       "      <td>WMPID174</td>\n",
       "      <td>KNEPPER, HOWARD</td>\n",
       "      <td>Howard Knepper</td>\n",
       "      <td>FL</td>\n",
       "      <td>W</td>\n",
       "      <td></td>\n",
       "    </tr>\n",
       "    <tr>\n",
       "      <th>3635</th>\n",
       "      <td>WMPID1370</td>\n",
       "      <td>JOHN, XAN MR.</td>\n",
       "      <td>Xan John</td>\n",
       "      <td>LA</td>\n",
       "      <td>OTH</td>\n",
       "      <td></td>\n",
       "    </tr>\n",
       "    <tr>\n",
       "      <th>3651</th>\n",
       "      <td>WMPID1450</td>\n",
       "      <td>JOHNSON, RON HAROLD MR.</td>\n",
       "      <td>Ron Johnson</td>\n",
       "      <td>WI</td>\n",
       "      <td>REP</td>\n",
       "      <td></td>\n",
       "    </tr>\n",
       "    <tr>\n",
       "      <th>3679</th>\n",
       "      <td>WMPID2592</td>\n",
       "      <td>SANDERS, JARMAL JABBAR REV</td>\n",
       "      <td>Jarmal Jabbar Sander</td>\n",
       "      <td>AL</td>\n",
       "      <td>UN</td>\n",
       "      <td></td>\n",
       "    </tr>\n",
       "    <tr>\n",
       "      <th>3682</th>\n",
       "      <td>WMPID1966</td>\n",
       "      <td>BOWERS, RICHARD ADAM MR.</td>\n",
       "      <td>Richard Adam Bowers</td>\n",
       "      <td>AL</td>\n",
       "      <td>NPA</td>\n",
       "      <td></td>\n",
       "    </tr>\n",
       "    <tr>\n",
       "      <th>...</th>\n",
       "      <td>...</td>\n",
       "      <td>...</td>\n",
       "      <td>...</td>\n",
       "      <td>...</td>\n",
       "      <td>...</td>\n",
       "      <td>...</td>\n",
       "    </tr>\n",
       "    <tr>\n",
       "      <th>4218</th>\n",
       "      <td>WMPID3887</td>\n",
       "      <td>D'AMICO, SAMUEL NICHOLAS MR</td>\n",
       "      <td>Samuel Nicholas D?Amico</td>\n",
       "      <td>WI</td>\n",
       "      <td>DEM</td>\n",
       "      <td></td>\n",
       "    </tr>\n",
       "    <tr>\n",
       "      <th>4247</th>\n",
       "      <td>WMPID1481</td>\n",
       "      <td>KENNEDY, JOHN NEELY</td>\n",
       "      <td>John Kennedy</td>\n",
       "      <td>LA</td>\n",
       "      <td>REP</td>\n",
       "      <td></td>\n",
       "    </tr>\n",
       "    <tr>\n",
       "      <th>4248</th>\n",
       "      <td>WMPID4986</td>\n",
       "      <td>MCMORRIS, BRANNON L</td>\n",
       "      <td>Brannon Mcmorris</td>\n",
       "      <td>LA</td>\n",
       "      <td>IND</td>\n",
       "      <td></td>\n",
       "    </tr>\n",
       "    <tr>\n",
       "      <th>4274</th>\n",
       "      <td>WMPID1514</td>\n",
       "      <td>HASSAN, MARGARET WOOD</td>\n",
       "      <td>Margaret Hassan</td>\n",
       "      <td>NH</td>\n",
       "      <td>DEM</td>\n",
       "      <td></td>\n",
       "    </tr>\n",
       "    <tr>\n",
       "      <th>4288</th>\n",
       "      <td>WMPID1547</td>\n",
       "      <td>SCHUMER, CHARLES E.</td>\n",
       "      <td>Charles Schumer</td>\n",
       "      <td>NY</td>\n",
       "      <td>DEM</td>\n",
       "      <td></td>\n",
       "    </tr>\n",
       "  </tbody>\n",
       "</table>\n",
       "<p>80 rows × 6 columns</p>\n",
       "</div>"
      ],
      "text/plain": [
       "          wmpid                    cand_name                full_name  \\\n",
       "3622   WMPID174              KNEPPER, HOWARD           Howard Knepper   \n",
       "3635  WMPID1370                JOHN, XAN MR.                 Xan John   \n",
       "3651  WMPID1450      JOHNSON, RON HAROLD MR.              Ron Johnson   \n",
       "3679  WMPID2592   SANDERS, JARMAL JABBAR REV     Jarmal Jabbar Sander   \n",
       "3682  WMPID1966     BOWERS, RICHARD ADAM MR.      Richard Adam Bowers   \n",
       "...         ...                          ...                      ...   \n",
       "4218  WMPID3887  D'AMICO, SAMUEL NICHOLAS MR  Samuel Nicholas D?Amico   \n",
       "4247  WMPID1481          KENNEDY, JOHN NEELY             John Kennedy   \n",
       "4248  WMPID4986          MCMORRIS, BRANNON L         Brannon Mcmorris   \n",
       "4274  WMPID1514        HASSAN, MARGARET WOOD          Margaret Hassan   \n",
       "4288  WMPID1547          SCHUMER, CHARLES E.          Charles Schumer   \n",
       "\n",
       "     cand_office_st cand_party_affiliation matches  \n",
       "3622             FL                      W          \n",
       "3635             LA                    OTH          \n",
       "3651             WI                    REP          \n",
       "3679             AL                     UN          \n",
       "3682             AL                    NPA          \n",
       "...             ...                    ...     ...  \n",
       "4218             WI                    DEM          \n",
       "4247             LA                    REP          \n",
       "4248             LA                    IND          \n",
       "4274             NH                    DEM          \n",
       "4288             NY                    DEM          \n",
       "\n",
       "[80 rows x 6 columns]"
      ]
     },
     "execution_count": 43,
     "metadata": {},
     "output_type": "execute_result"
    }
   ],
   "source": [
    "dat.loc[dat['matches']=='']"
   ]
  },
  {
   "cell_type": "code",
   "execution_count": 44,
   "metadata": {},
   "outputs": [],
   "source": [
    "sen = dat.merge(df, left_on='matches', right_on='bp_name', indicator=True, how='left')"
   ]
  },
  {
   "cell_type": "code",
   "execution_count": 45,
   "metadata": {
    "scrolled": true
   },
   "outputs": [
    {
     "data": {
      "text/html": [
       "<div>\n",
       "<style scoped>\n",
       "    .dataframe tbody tr th:only-of-type {\n",
       "        vertical-align: middle;\n",
       "    }\n",
       "\n",
       "    .dataframe tbody tr th {\n",
       "        vertical-align: top;\n",
       "    }\n",
       "\n",
       "    .dataframe thead th {\n",
       "        text-align: right;\n",
       "    }\n",
       "</style>\n",
       "<table border=\"1\" class=\"dataframe\">\n",
       "  <thead>\n",
       "    <tr style=\"text-align: right;\">\n",
       "      <th></th>\n",
       "      <th>wmpid</th>\n",
       "      <th>cand_name</th>\n",
       "      <th>full_name</th>\n",
       "      <th>cand_office_st</th>\n",
       "      <th>cand_party_affiliation</th>\n",
       "      <th>matches</th>\n",
       "      <th>bp_name_raw</th>\n",
       "      <th>bp_url</th>\n",
       "      <th>bp_name</th>\n",
       "      <th>bp_url_filename</th>\n",
       "      <th>_merge</th>\n",
       "    </tr>\n",
       "  </thead>\n",
       "  <tbody>\n",
       "    <tr>\n",
       "      <th>0</th>\n",
       "      <td>WMPID1299</td>\n",
       "      <td>BOOZMAN, SEN. JOHN</td>\n",
       "      <td>John Boozman</td>\n",
       "      <td>AR</td>\n",
       "      <td>REP</td>\n",
       "      <td>John Boozman</td>\n",
       "      <td>John Boozman (R)  \\n\\t\\t\\t\\t\\t\\t\\t\\t\\t\\t\\t</td>\n",
       "      <td>https://s3.amazonaws.com/ballotpedia-api4/file...</td>\n",
       "      <td>John Boozman</td>\n",
       "      <td>johnboozmanupdated.jpg</td>\n",
       "      <td>both</td>\n",
       "    </tr>\n",
       "    <tr>\n",
       "      <th>1</th>\n",
       "      <td>WMPID1302</td>\n",
       "      <td>KELLY, MARK</td>\n",
       "      <td>Mark Kelly</td>\n",
       "      <td>AZ</td>\n",
       "      <td>DEM</td>\n",
       "      <td>Mark Kelly</td>\n",
       "      <td>Mark Kelly (D)  \\n\\t\\t\\t\\t\\t\\t\\t\\t\\t\\t\\t</td>\n",
       "      <td>https://s3.amazonaws.com/ballotpedia-api4/file...</td>\n",
       "      <td>Mark Kelly</td>\n",
       "      <td>Mark-Kelly.png</td>\n",
       "      <td>both</td>\n",
       "    </tr>\n",
       "    <tr>\n",
       "      <th>2</th>\n",
       "      <td>WMPID1305</td>\n",
       "      <td>BENNET, MICHAEL F.</td>\n",
       "      <td>Michael Bennet</td>\n",
       "      <td>CO</td>\n",
       "      <td>DEM</td>\n",
       "      <td>Michael Bennet</td>\n",
       "      <td>Michael Bennet (D)  \\n\\t\\t\\t\\t\\t\\t\\t\\t\\t\\t\\t</td>\n",
       "      <td>https://s3.amazonaws.com/ballotpedia-api4/file...</td>\n",
       "      <td>Michael Bennet</td>\n",
       "      <td>Michael_Bennet.jpg</td>\n",
       "      <td>both</td>\n",
       "    </tr>\n",
       "    <tr>\n",
       "      <th>3</th>\n",
       "      <td>WMPID1315</td>\n",
       "      <td>BLUMENTHAL, RICHARD</td>\n",
       "      <td>Richard Blumenthal</td>\n",
       "      <td>CT</td>\n",
       "      <td>DEM</td>\n",
       "      <td>Richard Blumenthal</td>\n",
       "      <td>Richard Blumenthal (D / Working Families Party...</td>\n",
       "      <td>https://s3.amazonaws.com/ballotpedia-api4/file...</td>\n",
       "      <td>Richard Blumenthal</td>\n",
       "      <td>Richard_Blumenthal.jpg</td>\n",
       "      <td>both</td>\n",
       "    </tr>\n",
       "    <tr>\n",
       "      <th>4</th>\n",
       "      <td>WMPID1321</td>\n",
       "      <td>RUBIO, MARCO</td>\n",
       "      <td>Marco Rubio</td>\n",
       "      <td>FL</td>\n",
       "      <td>REP</td>\n",
       "      <td>Marco Rubio</td>\n",
       "      <td>Marco Rubio (R)  \\n\\t\\t\\t\\t\\t\\t\\t\\t\\t\\t\\t</td>\n",
       "      <td>https://s3.amazonaws.com/ballotpedia-api4/file...</td>\n",
       "      <td>Marco Rubio</td>\n",
       "      <td>Marco_Rubio.jpg</td>\n",
       "      <td>both</td>\n",
       "    </tr>\n",
       "  </tbody>\n",
       "</table>\n",
       "</div>"
      ],
      "text/plain": [
       "       wmpid            cand_name           full_name cand_office_st  \\\n",
       "0  WMPID1299   BOOZMAN, SEN. JOHN        John Boozman             AR   \n",
       "1  WMPID1302          KELLY, MARK          Mark Kelly             AZ   \n",
       "2  WMPID1305   BENNET, MICHAEL F.      Michael Bennet             CO   \n",
       "3  WMPID1315  BLUMENTHAL, RICHARD  Richard Blumenthal             CT   \n",
       "4  WMPID1321         RUBIO, MARCO         Marco Rubio             FL   \n",
       "\n",
       "  cand_party_affiliation             matches  \\\n",
       "0                    REP        John Boozman   \n",
       "1                    DEM          Mark Kelly   \n",
       "2                    DEM      Michael Bennet   \n",
       "3                    DEM  Richard Blumenthal   \n",
       "4                    REP         Marco Rubio   \n",
       "\n",
       "                                         bp_name_raw  \\\n",
       "0         John Boozman (R)  \\n\\t\\t\\t\\t\\t\\t\\t\\t\\t\\t\\t   \n",
       "1           Mark Kelly (D)  \\n\\t\\t\\t\\t\\t\\t\\t\\t\\t\\t\\t   \n",
       "2       Michael Bennet (D)  \\n\\t\\t\\t\\t\\t\\t\\t\\t\\t\\t\\t   \n",
       "3  Richard Blumenthal (D / Working Families Party...   \n",
       "4          Marco Rubio (R)  \\n\\t\\t\\t\\t\\t\\t\\t\\t\\t\\t\\t   \n",
       "\n",
       "                                              bp_url             bp_name  \\\n",
       "0  https://s3.amazonaws.com/ballotpedia-api4/file...        John Boozman   \n",
       "1  https://s3.amazonaws.com/ballotpedia-api4/file...          Mark Kelly   \n",
       "2  https://s3.amazonaws.com/ballotpedia-api4/file...      Michael Bennet   \n",
       "3  https://s3.amazonaws.com/ballotpedia-api4/file...  Richard Blumenthal   \n",
       "4  https://s3.amazonaws.com/ballotpedia-api4/file...         Marco Rubio   \n",
       "\n",
       "          bp_url_filename _merge  \n",
       "0  johnboozmanupdated.jpg   both  \n",
       "1          Mark-Kelly.png   both  \n",
       "2      Michael_Bennet.jpg   both  \n",
       "3  Richard_Blumenthal.jpg   both  \n",
       "4         Marco_Rubio.jpg   both  "
      ]
     },
     "execution_count": 45,
     "metadata": {},
     "output_type": "execute_result"
    }
   ],
   "source": [
    "sen.head()"
   ]
  },
  {
   "cell_type": "code",
   "execution_count": 46,
   "metadata": {},
   "outputs": [
    {
     "data": {
      "text/plain": [
       "both          92\n",
       "left_only     80\n",
       "right_only     0\n",
       "Name: _merge, dtype: int64"
      ]
     },
     "execution_count": 46,
     "metadata": {},
     "output_type": "execute_result"
    }
   ],
   "source": [
    "sen._merge.value_counts()"
   ]
  },
  {
   "cell_type": "code",
   "execution_count": 48,
   "metadata": {},
   "outputs": [],
   "source": [
    "sen.to_csv(\"./data/bp2022_sen_scraped_face.csv\", index=False)"
   ]
  }
 ],
 "metadata": {
  "colab": {
   "authorship_tag": "ABX9TyOBjkuKaXN5r0lJ+GZJIRG/",
   "mount_file_id": "1K4Q98kHGjVxwpExweV55zvMjsp0MO82e",
   "provenance": []
  },
  "kernelspec": {
   "display_name": "Python 3",
   "language": "python",
   "name": "python3"
  },
  "language_info": {
   "codemirror_mode": {
    "name": "ipython",
    "version": 3
   },
   "file_extension": ".py",
   "mimetype": "text/x-python",
   "name": "python",
   "nbconvert_exporter": "python",
   "pygments_lexer": "ipython3",
   "version": "3.7.7"
  }
 },
 "nbformat": 4,
 "nbformat_minor": 1
}
