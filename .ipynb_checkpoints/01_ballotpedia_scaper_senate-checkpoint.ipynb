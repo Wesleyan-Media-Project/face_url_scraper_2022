{
 "cells": [
  {
   "cell_type": "markdown",
   "metadata": {
    "id": "pSVuA1DH7uTq"
   },
   "source": [
    "### Scrape Senate candidate face urls from ballotpedia"
   ]
  },
  {
   "cell_type": "code",
   "execution_count": 1,
   "metadata": {
    "executionInfo": {
     "elapsed": 53,
     "status": "ok",
     "timestamp": 1670958816173,
     "user": {
      "displayName": "Jielu Yao",
      "userId": "09138677267510568916"
     },
     "user_tz": 300
    },
    "id": "MQIZH76g9k5Q"
   },
   "outputs": [],
   "source": [
    "import pandas as pd\n",
    "import bs4 as bs # pulling data out of HTML and XML files.\n",
    "import urllib.request # opening and reading URLs\n",
    "import re # pattern matching"
   ]
  },
  {
   "cell_type": "code",
   "execution_count": 2,
   "metadata": {
    "executionInfo": {
     "elapsed": 3961,
     "status": "ok",
     "timestamp": 1670958820092,
     "user": {
      "displayName": "Jielu Yao",
      "userId": "09138677267510568916"
     },
     "user_tz": 300
    },
    "id": "4Cke4kyXTLIK"
   },
   "outputs": [],
   "source": [
    "#Download the website's html\n",
    "source = urllib.request.urlopen(\"https://ballotpedia.org/United_States_Senate_elections,_2022\").read()"
   ]
  },
  {
   "cell_type": "code",
   "execution_count": 3,
   "metadata": {
    "executionInfo": {
     "elapsed": 8,
     "status": "ok",
     "timestamp": 1670958820094,
     "user": {
      "displayName": "Jielu Yao",
      "userId": "09138677267510568916"
     },
     "user_tz": 300
    },
    "id": "DQgNvLtO-FFF"
   },
   "outputs": [],
   "source": [
    "#Parse the html\n",
    "soup = bs.BeautifulSoup(source)"
   ]
  },
  {
   "cell_type": "code",
   "execution_count": 4,
   "metadata": {
    "executionInfo": {
     "elapsed": 366,
     "status": "ok",
     "timestamp": 1670958821442,
     "user": {
      "displayName": "Jielu Yao",
      "userId": "09138677267510568916"
     },
     "user_tz": 300
    },
    "id": "shyrvAwgaU0w"
   },
   "outputs": [],
   "source": [
    "urls_css = \"small center a\""
   ]
  },
  {
   "cell_type": "code",
   "execution_count": 5,
   "metadata": {
    "colab": {
     "base_uri": "https://localhost:8080/"
    },
    "executionInfo": {
     "elapsed": 365,
     "status": "ok",
     "timestamp": 1670958821442,
     "user": {
      "displayName": "Jielu Yao",
      "userId": "09138677267510568916"
     },
     "user_tz": 300
    },
    "id": "ngEITkC2-oLW",
    "outputId": "85687011-4b7a-40ab-a2bf-23fe86382a67"
   },
   "outputs": [],
   "source": [
    "urls = soup.select(urls_css)"
   ]
  },
  {
   "cell_type": "code",
   "execution_count": 6,
   "metadata": {
    "colab": {
     "base_uri": "https://localhost:8080/"
    },
    "executionInfo": {
     "elapsed": 27,
     "status": "ok",
     "timestamp": 1670958821443,
     "user": {
      "displayName": "Jielu Yao",
      "userId": "09138677267510568916"
     },
     "user_tz": 300
    },
    "id": "g2Sz2HYjCmJs",
    "outputId": "fdfeec24-e4d1-450a-d6e0-f3d3a6c0cf7c"
   },
   "outputs": [],
   "source": [
    "extracted_urls = [url[\"href\"] for url in urls]"
   ]
  },
  {
   "cell_type": "code",
   "execution_count": 7,
   "metadata": {
    "executionInfo": {
     "elapsed": 22,
     "status": "ok",
     "timestamp": 1670958821443,
     "user": {
      "displayName": "Jielu Yao",
      "userId": "09138677267510568916"
     },
     "user_tz": 300
    },
    "id": "XUlildR6md88"
   },
   "outputs": [],
   "source": [
    "full_urls = [\"https://ballotpedia.org\" + url_suffix for url_suffix in extracted_urls]"
   ]
  },
  {
   "cell_type": "code",
   "execution_count": 8,
   "metadata": {},
   "outputs": [
    {
     "data": {
      "text/plain": [
       "36"
      ]
     },
     "execution_count": 8,
     "metadata": {},
     "output_type": "execute_result"
    }
   ],
   "source": [
    "len(full_urls)"
   ]
  },
  {
   "cell_type": "code",
   "execution_count": 9,
   "metadata": {},
   "outputs": [
    {
     "data": {
      "text/plain": [
       "['https://ballotpedia.org/United_States_Senate_election_in_Alabama,_2022',\n",
       " 'https://ballotpedia.org/United_States_Senate_election_in_Alaska,_2022',\n",
       " 'https://ballotpedia.org/United_States_Senate_election_in_Arizona,_2022',\n",
       " 'https://ballotpedia.org/United_States_Senate_election_in_Arkansas,_2022',\n",
       " 'https://ballotpedia.org/United_States_Senate_election_in_California,_2022',\n",
       " 'https://ballotpedia.org/United_States_Senate_special_election_in_California,_2022',\n",
       " 'https://ballotpedia.org/United_States_Senate_election_in_Colorado,_2022',\n",
       " 'https://ballotpedia.org/United_States_Senate_election_in_Connecticut,_2022',\n",
       " 'https://ballotpedia.org/United_States_Senate_election_in_Florida,_2022',\n",
       " 'https://ballotpedia.org/United_States_Senate_election_in_Georgia,_2022',\n",
       " 'https://ballotpedia.org/United_States_Senate_election_in_Hawaii,_2022',\n",
       " 'https://ballotpedia.org/United_States_Senate_election_in_Idaho,_2022',\n",
       " 'https://ballotpedia.org/United_States_Senate_election_in_Illinois,_2022',\n",
       " 'https://ballotpedia.org/United_States_Senate_election_in_Indiana,_2022',\n",
       " 'https://ballotpedia.org/United_States_Senate_election_in_Iowa,_2022',\n",
       " 'https://ballotpedia.org/United_States_Senate_election_in_Kansas,_2022',\n",
       " 'https://ballotpedia.org/United_States_Senate_election_in_Kentucky,_2022',\n",
       " 'https://ballotpedia.org/United_States_Senate_election_in_Louisiana,_2022',\n",
       " 'https://ballotpedia.org/United_States_Senate_election_in_Maryland,_2022',\n",
       " 'https://ballotpedia.org/United_States_Senate_election_in_Missouri,_2022',\n",
       " 'https://ballotpedia.org/United_States_Senate_election_in_Nevada,_2022',\n",
       " 'https://ballotpedia.org/United_States_Senate_election_in_New_Hampshire,_2022',\n",
       " 'https://ballotpedia.org/United_States_Senate_election_in_New_York,_2022',\n",
       " 'https://ballotpedia.org/United_States_Senate_election_in_North_Carolina,_2022',\n",
       " 'https://ballotpedia.org/United_States_Senate_election_in_North_Dakota,_2022',\n",
       " 'https://ballotpedia.org/United_States_Senate_election_in_Ohio,_2022',\n",
       " 'https://ballotpedia.org/United_States_Senate_election_in_Oklahoma,_2022',\n",
       " 'https://ballotpedia.org/United_States_Senate_special_election_in_Oklahoma,_2022',\n",
       " 'https://ballotpedia.org/United_States_Senate_election_in_Oregon,_2022',\n",
       " 'https://ballotpedia.org/United_States_Senate_election_in_Pennsylvania,_2022',\n",
       " 'https://ballotpedia.org/United_States_Senate_election_in_South_Carolina,_2022',\n",
       " 'https://ballotpedia.org/United_States_Senate_election_in_South_Dakota,_2022',\n",
       " 'https://ballotpedia.org/United_States_Senate_election_in_Utah,_2022',\n",
       " 'https://ballotpedia.org/United_States_Senate_election_in_Vermont,_2022',\n",
       " 'https://ballotpedia.org/United_States_Senate_election_in_Washington,_2022',\n",
       " 'https://ballotpedia.org/United_States_Senate_election_in_Wisconsin,_2022']"
      ]
     },
     "execution_count": 9,
     "metadata": {},
     "output_type": "execute_result"
    }
   ],
   "source": [
    "full_urls"
   ]
  },
  {
   "cell_type": "markdown",
   "metadata": {
    "id": "5ZtO5wfAcBkX"
   },
   "source": [
    "Now that we've got all the links, we need to visit each, extract what we need and save it somewhere."
   ]
  },
  {
   "cell_type": "code",
   "execution_count": 10,
   "metadata": {},
   "outputs": [],
   "source": [
    "#Now do this in a loop, for the first 5 urls\n",
    "bp_urls = []\n",
    "bp_names = []"
   ]
  },
  {
   "cell_type": "code",
   "execution_count": 11,
   "metadata": {},
   "outputs": [],
   "source": [
    "for i in full_urls[:]:\n",
    "  source = urllib.request.urlopen(i).read()\n",
    "  soup = bs.BeautifulSoup(source)\n",
    "  img_css = \"img.image-candidate-thumbnail, img[id=placeholder_image]\"\n",
    "  img = soup.select(img_css)\n",
    "  img = img[0:5]\n",
    "  bp_urls.extend(list([i['src'] for i in img]))\n",
    "  n_css = \"td.votebox-results-cell--text\"\n",
    "  nm = soup.select(n_css)\n",
    "  nm = nm[0:5]\n",
    "  bp_names.extend(list([url.text for url in nm]))"
   ]
  },
  {
   "cell_type": "code",
   "execution_count": 12,
   "metadata": {},
   "outputs": [],
   "source": [
    "df = pd.DataFrame(columns=('bp_name_raw', 'bp_url'))\n",
    "\n",
    "df['bp_name_raw']=bp_names\n",
    "\n",
    "df['bp_url']=bp_urls"
   ]
  },
  {
   "cell_type": "code",
   "execution_count": 13,
   "metadata": {},
   "outputs": [
    {
     "data": {
      "text/html": [
       "<div>\n",
       "<style scoped>\n",
       "    .dataframe tbody tr th:only-of-type {\n",
       "        vertical-align: middle;\n",
       "    }\n",
       "\n",
       "    .dataframe tbody tr th {\n",
       "        vertical-align: top;\n",
       "    }\n",
       "\n",
       "    .dataframe thead th {\n",
       "        text-align: right;\n",
       "    }\n",
       "</style>\n",
       "<table border=\"1\" class=\"dataframe\">\n",
       "  <thead>\n",
       "    <tr style=\"text-align: right;\">\n",
       "      <th></th>\n",
       "      <th>bp_name_raw</th>\n",
       "      <th>bp_url</th>\n",
       "    </tr>\n",
       "  </thead>\n",
       "  <tbody>\n",
       "    <tr>\n",
       "      <th>175</th>\n",
       "      <td>Ronald Harold Johnson (R)  \\n\\t\\t\\t\\t\\t\\t\\t\\t\\...</td>\n",
       "      <td>https://s3.amazonaws.com/ballotpedia-api4/file...</td>\n",
       "    </tr>\n",
       "    <tr>\n",
       "      <th>176</th>\n",
       "      <td>Mandela Barnes (D)</td>\n",
       "      <td>https://s3.amazonaws.com/ballotpedia-api4/file...</td>\n",
       "    </tr>\n",
       "    <tr>\n",
       "      <th>177</th>\n",
       "      <td>Adam Nicholas Paul (Logic Party) (Write-in)  \\...</td>\n",
       "      <td>https://cdn.ballotpedia.org/images/thumb/f/fb/...</td>\n",
       "    </tr>\n",
       "    <tr>\n",
       "      <th>178</th>\n",
       "      <td>Scott Aubart (American Independent Party) (Wri...</td>\n",
       "      <td>https://cdn.ballotpedia.org/images/thumb/f/fb/...</td>\n",
       "    </tr>\n",
       "    <tr>\n",
       "      <th>179</th>\n",
       "      <td>Other/Write-in votes</td>\n",
       "      <td>https://s3.amazonaws.com/ballotpedia-api4/file...</td>\n",
       "    </tr>\n",
       "  </tbody>\n",
       "</table>\n",
       "</div>"
      ],
      "text/plain": [
       "                                           bp_name_raw  \\\n",
       "175  Ronald Harold Johnson (R)  \\n\\t\\t\\t\\t\\t\\t\\t\\t\\...   \n",
       "176                                Mandela Barnes (D)    \n",
       "177  Adam Nicholas Paul (Logic Party) (Write-in)  \\...   \n",
       "178  Scott Aubart (American Independent Party) (Wri...   \n",
       "179                               Other/Write-in votes   \n",
       "\n",
       "                                                bp_url  \n",
       "175  https://s3.amazonaws.com/ballotpedia-api4/file...  \n",
       "176  https://s3.amazonaws.com/ballotpedia-api4/file...  \n",
       "177  https://cdn.ballotpedia.org/images/thumb/f/fb/...  \n",
       "178  https://cdn.ballotpedia.org/images/thumb/f/fb/...  \n",
       "179  https://s3.amazonaws.com/ballotpedia-api4/file...  "
      ]
     },
     "execution_count": 13,
     "metadata": {},
     "output_type": "execute_result"
    }
   ],
   "source": [
    "df.tail()"
   ]
  },
  {
   "cell_type": "code",
   "execution_count": 14,
   "metadata": {},
   "outputs": [],
   "source": [
    "df2 = df['bp_name_raw'].str.rsplit(\"(\", n=1, expand=True)"
   ]
  },
  {
   "cell_type": "code",
   "execution_count": 15,
   "metadata": {},
   "outputs": [],
   "source": [
    "df2 = df2.rename(columns={0:'name'})"
   ]
  },
  {
   "cell_type": "code",
   "execution_count": 16,
   "metadata": {},
   "outputs": [],
   "source": [
    "df3 =df2['name'].str.rsplit(\"(\", n=1, expand=True)\n",
    "df3 = df3.rename(columns={0:'name'})"
   ]
  },
  {
   "cell_type": "code",
   "execution_count": 17,
   "metadata": {},
   "outputs": [],
   "source": [
    "df3['bp_name'] = df3['name'].str.replace(\"\\n\", \"\").replace(\"\\t\", \"\")"
   ]
  },
  {
   "cell_type": "code",
   "execution_count": 18,
   "metadata": {},
   "outputs": [
    {
     "data": {
      "text/plain": [
       "0                Katie Britt \n",
       "1                  Will Boyd \n",
       "2            John Sophocleus \n",
       "3                 Katie Britt\n",
       "4                   Mo Brooks\n",
       "                ...          \n",
       "175    Ronald Harold Johnson \n",
       "176           Mandela Barnes \n",
       "177       Adam Nicholas Paul \n",
       "178             Scott Aubart \n",
       "179      Other/Write-in votes\n",
       "Name: bp_name, Length: 180, dtype: object"
      ]
     },
     "execution_count": 18,
     "metadata": {},
     "output_type": "execute_result"
    }
   ],
   "source": [
    "df3['bp_name']"
   ]
  },
  {
   "cell_type": "code",
   "execution_count": 19,
   "metadata": {},
   "outputs": [],
   "source": [
    "df['bp_name']=df3['bp_name']"
   ]
  },
  {
   "cell_type": "code",
   "execution_count": 20,
   "metadata": {},
   "outputs": [],
   "source": [
    "df['bp_url_filename'] = df['bp_url'].str.replace(\"https://s3.amazonaws.com/ballotpedia-api4/files/thumbs/100/100/\", '')"
   ]
  },
  {
   "cell_type": "code",
   "execution_count": 21,
   "metadata": {},
   "outputs": [],
   "source": [
    "df['bp_name'] = df['bp_name'].str.strip()"
   ]
  },
  {
   "cell_type": "code",
   "execution_count": 22,
   "metadata": {},
   "outputs": [],
   "source": [
    "df = df.drop_duplicates(subset=['bp_name'], keep='first')"
   ]
  },
  {
   "cell_type": "code",
   "execution_count": 23,
   "metadata": {},
   "outputs": [
    {
     "data": {
      "text/html": [
       "<div>\n",
       "<style scoped>\n",
       "    .dataframe tbody tr th:only-of-type {\n",
       "        vertical-align: middle;\n",
       "    }\n",
       "\n",
       "    .dataframe tbody tr th {\n",
       "        vertical-align: top;\n",
       "    }\n",
       "\n",
       "    .dataframe thead th {\n",
       "        text-align: right;\n",
       "    }\n",
       "</style>\n",
       "<table border=\"1\" class=\"dataframe\">\n",
       "  <thead>\n",
       "    <tr style=\"text-align: right;\">\n",
       "      <th></th>\n",
       "      <th>bp_name_raw</th>\n",
       "      <th>bp_url</th>\n",
       "      <th>bp_name</th>\n",
       "      <th>bp_url_filename</th>\n",
       "    </tr>\n",
       "  </thead>\n",
       "  <tbody>\n",
       "    <tr>\n",
       "      <th>166</th>\n",
       "      <td>Gerald Malloy (R)</td>\n",
       "      <td>https://s3.amazonaws.com/ballotpedia-api4/file...</td>\n",
       "      <td>Gerald Malloy</td>\n",
       "      <td>Gerald_Malloy.jpeg</td>\n",
       "    </tr>\n",
       "    <tr>\n",
       "      <th>167</th>\n",
       "      <td>Dawn Ellis (Independent)  \\n\\t\\t\\t\\t\\t\\t\\t\\t\\t...</td>\n",
       "      <td>https://s3.amazonaws.com/ballotpedia-api4/file...</td>\n",
       "      <td>Dawn Ellis</td>\n",
       "      <td>DawnEllis.jpg</td>\n",
       "    </tr>\n",
       "    <tr>\n",
       "      <th>168</th>\n",
       "      <td>Natasha Diamondstone-Kohout (Green Mountain Pe...</td>\n",
       "      <td>https://cdn.ballotpedia.org/images/thumb/f/fb/...</td>\n",
       "      <td>Natasha Diamondstone-Kohout</td>\n",
       "      <td>https://cdn.ballotpedia.org/images/thumb/f/fb/...</td>\n",
       "    </tr>\n",
       "    <tr>\n",
       "      <th>169</th>\n",
       "      <td>Kerry Patrick Raheb (Independent)</td>\n",
       "      <td>https://s3.amazonaws.com/ballotpedia-api4/file...</td>\n",
       "      <td>Kerry Patrick Raheb</td>\n",
       "      <td>KerryRahebVT.png</td>\n",
       "    </tr>\n",
       "    <tr>\n",
       "      <th>170</th>\n",
       "      <td>Patty Murray (D)  \\n\\t\\t\\t\\t\\t\\t\\t\\t\\t\\t\\t\\t</td>\n",
       "      <td>https://s3.amazonaws.com/ballotpedia-api4/file...</td>\n",
       "      <td>Patty Murray</td>\n",
       "      <td>Patty_Murray.jpg</td>\n",
       "    </tr>\n",
       "    <tr>\n",
       "      <th>171</th>\n",
       "      <td>Tiffany Smiley (R)  \\n\\t\\t\\t\\t\\t\\t\\t\\t\\t\\t\\t\\t</td>\n",
       "      <td>https://s3.amazonaws.com/ballotpedia-api4/file...</td>\n",
       "      <td>Tiffany Smiley</td>\n",
       "      <td>TiffanySmiley.jpeg</td>\n",
       "    </tr>\n",
       "    <tr>\n",
       "      <th>175</th>\n",
       "      <td>Ronald Harold Johnson (R)  \\n\\t\\t\\t\\t\\t\\t\\t\\t\\...</td>\n",
       "      <td>https://s3.amazonaws.com/ballotpedia-api4/file...</td>\n",
       "      <td>Ronald Harold Johnson</td>\n",
       "      <td>Ron_Johnson.jpg</td>\n",
       "    </tr>\n",
       "    <tr>\n",
       "      <th>176</th>\n",
       "      <td>Mandela Barnes (D)</td>\n",
       "      <td>https://s3.amazonaws.com/ballotpedia-api4/file...</td>\n",
       "      <td>Mandela Barnes</td>\n",
       "      <td>Mandela-Barnes.jpg</td>\n",
       "    </tr>\n",
       "    <tr>\n",
       "      <th>177</th>\n",
       "      <td>Adam Nicholas Paul (Logic Party) (Write-in)  \\...</td>\n",
       "      <td>https://cdn.ballotpedia.org/images/thumb/f/fb/...</td>\n",
       "      <td>Adam Nicholas Paul</td>\n",
       "      <td>https://cdn.ballotpedia.org/images/thumb/f/fb/...</td>\n",
       "    </tr>\n",
       "    <tr>\n",
       "      <th>178</th>\n",
       "      <td>Scott Aubart (American Independent Party) (Wri...</td>\n",
       "      <td>https://cdn.ballotpedia.org/images/thumb/f/fb/...</td>\n",
       "      <td>Scott Aubart</td>\n",
       "      <td>https://cdn.ballotpedia.org/images/thumb/f/fb/...</td>\n",
       "    </tr>\n",
       "  </tbody>\n",
       "</table>\n",
       "</div>"
      ],
      "text/plain": [
       "                                           bp_name_raw  \\\n",
       "166                                 Gerald Malloy (R)    \n",
       "167  Dawn Ellis (Independent)  \\n\\t\\t\\t\\t\\t\\t\\t\\t\\t...   \n",
       "168  Natasha Diamondstone-Kohout (Green Mountain Pe...   \n",
       "169                 Kerry Patrick Raheb (Independent)    \n",
       "170       Patty Murray (D)  \\n\\t\\t\\t\\t\\t\\t\\t\\t\\t\\t\\t\\t   \n",
       "171     Tiffany Smiley (R)  \\n\\t\\t\\t\\t\\t\\t\\t\\t\\t\\t\\t\\t   \n",
       "175  Ronald Harold Johnson (R)  \\n\\t\\t\\t\\t\\t\\t\\t\\t\\...   \n",
       "176                                Mandela Barnes (D)    \n",
       "177  Adam Nicholas Paul (Logic Party) (Write-in)  \\...   \n",
       "178  Scott Aubart (American Independent Party) (Wri...   \n",
       "\n",
       "                                                bp_url  \\\n",
       "166  https://s3.amazonaws.com/ballotpedia-api4/file...   \n",
       "167  https://s3.amazonaws.com/ballotpedia-api4/file...   \n",
       "168  https://cdn.ballotpedia.org/images/thumb/f/fb/...   \n",
       "169  https://s3.amazonaws.com/ballotpedia-api4/file...   \n",
       "170  https://s3.amazonaws.com/ballotpedia-api4/file...   \n",
       "171  https://s3.amazonaws.com/ballotpedia-api4/file...   \n",
       "175  https://s3.amazonaws.com/ballotpedia-api4/file...   \n",
       "176  https://s3.amazonaws.com/ballotpedia-api4/file...   \n",
       "177  https://cdn.ballotpedia.org/images/thumb/f/fb/...   \n",
       "178  https://cdn.ballotpedia.org/images/thumb/f/fb/...   \n",
       "\n",
       "                         bp_name  \\\n",
       "166                Gerald Malloy   \n",
       "167                   Dawn Ellis   \n",
       "168  Natasha Diamondstone-Kohout   \n",
       "169          Kerry Patrick Raheb   \n",
       "170                 Patty Murray   \n",
       "171               Tiffany Smiley   \n",
       "175        Ronald Harold Johnson   \n",
       "176               Mandela Barnes   \n",
       "177           Adam Nicholas Paul   \n",
       "178                 Scott Aubart   \n",
       "\n",
       "                                       bp_url_filename  \n",
       "166                                 Gerald_Malloy.jpeg  \n",
       "167                                      DawnEllis.jpg  \n",
       "168  https://cdn.ballotpedia.org/images/thumb/f/fb/...  \n",
       "169                                   KerryRahebVT.png  \n",
       "170                                   Patty_Murray.jpg  \n",
       "171                                 TiffanySmiley.jpeg  \n",
       "175                                    Ron_Johnson.jpg  \n",
       "176                                 Mandela-Barnes.jpg  \n",
       "177  https://cdn.ballotpedia.org/images/thumb/f/fb/...  \n",
       "178  https://cdn.ballotpedia.org/images/thumb/f/fb/...  "
      ]
     },
     "execution_count": 23,
     "metadata": {},
     "output_type": "execute_result"
    }
   ],
   "source": [
    "df.tail(10)"
   ]
  },
  {
   "cell_type": "code",
   "execution_count": 24,
   "metadata": {},
   "outputs": [],
   "source": [
    "df.to_csv(\"./data/bp2022_sen_scraped_face.csv\", index=False)"
   ]
  }
 ],
 "metadata": {
  "colab": {
   "authorship_tag": "ABX9TyOBjkuKaXN5r0lJ+GZJIRG/",
   "mount_file_id": "1K4Q98kHGjVxwpExweV55zvMjsp0MO82e",
   "provenance": []
  },
  "kernelspec": {
   "display_name": "Python 3",
   "language": "python",
   "name": "python3"
  },
  "language_info": {
   "codemirror_mode": {
    "name": "ipython",
    "version": 3
   },
   "file_extension": ".py",
   "mimetype": "text/x-python",
   "name": "python",
   "nbconvert_exporter": "python",
   "pygments_lexer": "ipython3",
   "version": "3.7.7"
  }
 },
 "nbformat": 4,
 "nbformat_minor": 1
}
