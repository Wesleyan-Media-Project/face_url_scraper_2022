{
 "cells": [
  {
   "cell_type": "code",
   "execution_count": 1,
   "metadata": {},
   "outputs": [],
   "source": [
    "import pandas as pd"
   ]
  },
  {
   "cell_type": "markdown",
   "metadata": {},
   "source": [
    "### Load face urls (manually created )"
   ]
  },
  {
   "cell_type": "code",
   "execution_count": 2,
   "metadata": {},
   "outputs": [],
   "source": [
    "incum= pd.read_csv(\"./data/incumbent_governor_2022.csv\")"
   ]
  },
  {
   "cell_type": "code",
   "execution_count": 3,
   "metadata": {},
   "outputs": [
    {
     "data": {
      "text/html": [
       "<div>\n",
       "<style scoped>\n",
       "    .dataframe tbody tr th:only-of-type {\n",
       "        vertical-align: middle;\n",
       "    }\n",
       "\n",
       "    .dataframe tbody tr th {\n",
       "        vertical-align: top;\n",
       "    }\n",
       "\n",
       "    .dataframe thead th {\n",
       "        text-align: right;\n",
       "    }\n",
       "</style>\n",
       "<table border=\"1\" class=\"dataframe\">\n",
       "  <thead>\n",
       "    <tr style=\"text-align: right;\">\n",
       "      <th></th>\n",
       "      <th>usps_code</th>\n",
       "      <th>fips_code</th>\n",
       "      <th>state_name</th>\n",
       "      <th>full_name</th>\n",
       "      <th>face_url</th>\n",
       "    </tr>\n",
       "  </thead>\n",
       "  <tbody>\n",
       "    <tr>\n",
       "      <th>0</th>\n",
       "      <td>DE</td>\n",
       "      <td>10</td>\n",
       "      <td>DELAWARE</td>\n",
       "      <td>John Carney</td>\n",
       "      <td>https://www.nga.org/wp-content/uploads/2018/03...</td>\n",
       "    </tr>\n",
       "    <tr>\n",
       "      <th>1</th>\n",
       "      <td>IN</td>\n",
       "      <td>18</td>\n",
       "      <td>INDIANA</td>\n",
       "      <td>Eric J. Holcomb</td>\n",
       "      <td>https://www.nga.org/wp-content/uploads/2018/03...</td>\n",
       "    </tr>\n",
       "  </tbody>\n",
       "</table>\n",
       "</div>"
      ],
      "text/plain": [
       "  usps_code  fips_code state_name        full_name  \\\n",
       "0        DE         10   DELAWARE      John Carney   \n",
       "1        IN         18    INDIANA  Eric J. Holcomb   \n",
       "\n",
       "                                            face_url  \n",
       "0  https://www.nga.org/wp-content/uploads/2018/03...  \n",
       "1  https://www.nga.org/wp-content/uploads/2018/03...  "
      ]
     },
     "execution_count": 3,
     "metadata": {},
     "output_type": "execute_result"
    }
   ],
   "source": [
    "incum.head(2)"
   ]
  },
  {
   "cell_type": "code",
   "execution_count": 4,
   "metadata": {},
   "outputs": [
    {
     "data": {
      "text/plain": [
       "(14, 5)"
      ]
     },
     "execution_count": 4,
     "metadata": {},
     "output_type": "execute_result"
    }
   ],
   "source": [
    "incum.shape"
   ]
  },
  {
   "cell_type": "markdown",
   "metadata": {},
   "source": [
    "### Load the master file"
   ]
  },
  {
   "cell_type": "code",
   "execution_count": 5,
   "metadata": {},
   "outputs": [],
   "source": [
    "df = pd.read_csv(\"../datasets/people/person_2022.csv\")"
   ]
  },
  {
   "cell_type": "code",
   "execution_count": 6,
   "metadata": {},
   "outputs": [],
   "source": [
    "g = df.loc[df['gov2022_noelect']==1]"
   ]
  },
  {
   "cell_type": "code",
   "execution_count": 7,
   "metadata": {},
   "outputs": [
    {
     "data": {
      "text/plain": [
       "(14, 30)"
      ]
     },
     "execution_count": 7,
     "metadata": {},
     "output_type": "execute_result"
    }
   ],
   "source": [
    "g.shape"
   ]
  },
  {
   "cell_type": "code",
   "execution_count": 8,
   "metadata": {},
   "outputs": [
    {
     "data": {
      "text/html": [
       "<div>\n",
       "<style scoped>\n",
       "    .dataframe tbody tr th:only-of-type {\n",
       "        vertical-align: middle;\n",
       "    }\n",
       "\n",
       "    .dataframe tbody tr th {\n",
       "        vertical-align: top;\n",
       "    }\n",
       "\n",
       "    .dataframe thead th {\n",
       "        text-align: right;\n",
       "    }\n",
       "</style>\n",
       "<table border=\"1\" class=\"dataframe\">\n",
       "  <thead>\n",
       "    <tr style=\"text-align: right;\">\n",
       "      <th></th>\n",
       "      <th>wmpid</th>\n",
       "      <th>full_name</th>\n",
       "      <th>name_fec</th>\n",
       "      <th>first_name</th>\n",
       "      <th>last_name</th>\n",
       "      <th>gender_wmp</th>\n",
       "      <th>fecid_2020</th>\n",
       "      <th>fecid_2022a</th>\n",
       "      <th>fecid_2022b</th>\n",
       "      <th>fecid_2022old</th>\n",
       "      <th>...</th>\n",
       "      <th>intl_leaders</th>\n",
       "      <th>gov2022_gencd</th>\n",
       "      <th>gov2022_noelect</th>\n",
       "      <th>face_category</th>\n",
       "      <th>latino_wmp</th>\n",
       "      <th>latino_crp</th>\n",
       "      <th>race_wmp</th>\n",
       "      <th>race_crp1</th>\n",
       "      <th>race_crp2</th>\n",
       "      <th>race_crpmena</th>\n",
       "    </tr>\n",
       "  </thead>\n",
       "  <tbody>\n",
       "    <tr>\n",
       "      <th>5335</th>\n",
       "      <td>WMPID5345</td>\n",
       "      <td>John Carney</td>\n",
       "      <td>NaN</td>\n",
       "      <td>John</td>\n",
       "      <td>Carney</td>\n",
       "      <td>NaN</td>\n",
       "      <td>NaN</td>\n",
       "      <td>NaN</td>\n",
       "      <td>NaN</td>\n",
       "      <td>NaN</td>\n",
       "      <td>...</td>\n",
       "      <td>0.0</td>\n",
       "      <td>0</td>\n",
       "      <td>1</td>\n",
       "      <td>NaN</td>\n",
       "      <td>NaN</td>\n",
       "      <td>NaN</td>\n",
       "      <td>NaN</td>\n",
       "      <td>NaN</td>\n",
       "      <td>NaN</td>\n",
       "      <td>NaN</td>\n",
       "    </tr>\n",
       "    <tr>\n",
       "      <th>5336</th>\n",
       "      <td>WMPID5346</td>\n",
       "      <td>Eric J. Holcomb</td>\n",
       "      <td>NaN</td>\n",
       "      <td>Eric</td>\n",
       "      <td>Holcomb</td>\n",
       "      <td>NaN</td>\n",
       "      <td>NaN</td>\n",
       "      <td>NaN</td>\n",
       "      <td>NaN</td>\n",
       "      <td>NaN</td>\n",
       "      <td>...</td>\n",
       "      <td>0.0</td>\n",
       "      <td>0</td>\n",
       "      <td>1</td>\n",
       "      <td>NaN</td>\n",
       "      <td>NaN</td>\n",
       "      <td>NaN</td>\n",
       "      <td>NaN</td>\n",
       "      <td>NaN</td>\n",
       "      <td>NaN</td>\n",
       "      <td>NaN</td>\n",
       "    </tr>\n",
       "  </tbody>\n",
       "</table>\n",
       "<p>2 rows × 30 columns</p>\n",
       "</div>"
      ],
      "text/plain": [
       "          wmpid        full_name name_fec first_name last_name gender_wmp  \\\n",
       "5335  WMPID5345      John Carney      NaN       John    Carney        NaN   \n",
       "5336  WMPID5346  Eric J. Holcomb      NaN       Eric   Holcomb        NaN   \n",
       "\n",
       "     fecid_2020 fecid_2022a fecid_2022b fecid_2022old  ...  intl_leaders  \\\n",
       "5335        NaN         NaN         NaN           NaN  ...           0.0   \n",
       "5336        NaN         NaN         NaN           NaN  ...           0.0   \n",
       "\n",
       "     gov2022_gencd gov2022_noelect face_category latino_wmp  latino_crp  \\\n",
       "5335             0               1           NaN        NaN         NaN   \n",
       "5336             0               1           NaN        NaN         NaN   \n",
       "\n",
       "      race_wmp  race_crp1  race_crp2  race_crpmena  \n",
       "5335       NaN        NaN        NaN           NaN  \n",
       "5336       NaN        NaN        NaN           NaN  \n",
       "\n",
       "[2 rows x 30 columns]"
      ]
     },
     "execution_count": 8,
     "metadata": {},
     "output_type": "execute_result"
    }
   ],
   "source": [
    "g.head(2)"
   ]
  },
  {
   "cell_type": "code",
   "execution_count": 9,
   "metadata": {},
   "outputs": [],
   "source": [
    "inc = g.merge(incum, how='left', on='full_name', indicator=True)"
   ]
  },
  {
   "cell_type": "code",
   "execution_count": 10,
   "metadata": {},
   "outputs": [
    {
     "data": {
      "text/plain": [
       "both          14\n",
       "right_only     0\n",
       "left_only      0\n",
       "Name: _merge, dtype: int64"
      ]
     },
     "execution_count": 10,
     "metadata": {},
     "output_type": "execute_result"
    }
   ],
   "source": [
    "inc._merge.value_counts()"
   ]
  },
  {
   "cell_type": "code",
   "execution_count": 11,
   "metadata": {},
   "outputs": [
    {
     "data": {
      "text/html": [
       "<div>\n",
       "<style scoped>\n",
       "    .dataframe tbody tr th:only-of-type {\n",
       "        vertical-align: middle;\n",
       "    }\n",
       "\n",
       "    .dataframe tbody tr th {\n",
       "        vertical-align: top;\n",
       "    }\n",
       "\n",
       "    .dataframe thead th {\n",
       "        text-align: right;\n",
       "    }\n",
       "</style>\n",
       "<table border=\"1\" class=\"dataframe\">\n",
       "  <thead>\n",
       "    <tr style=\"text-align: right;\">\n",
       "      <th></th>\n",
       "      <th>wmpid</th>\n",
       "      <th>full_name</th>\n",
       "      <th>name_fec</th>\n",
       "      <th>first_name</th>\n",
       "      <th>last_name</th>\n",
       "      <th>gender_wmp</th>\n",
       "      <th>fecid_2020</th>\n",
       "      <th>fecid_2022a</th>\n",
       "      <th>fecid_2022b</th>\n",
       "      <th>fecid_2022old</th>\n",
       "      <th>...</th>\n",
       "      <th>latino_crp</th>\n",
       "      <th>race_wmp</th>\n",
       "      <th>race_crp1</th>\n",
       "      <th>race_crp2</th>\n",
       "      <th>race_crpmena</th>\n",
       "      <th>usps_code</th>\n",
       "      <th>fips_code</th>\n",
       "      <th>state_name</th>\n",
       "      <th>face_url</th>\n",
       "      <th>_merge</th>\n",
       "    </tr>\n",
       "  </thead>\n",
       "  <tbody>\n",
       "    <tr>\n",
       "      <th>0</th>\n",
       "      <td>WMPID5345</td>\n",
       "      <td>John Carney</td>\n",
       "      <td>NaN</td>\n",
       "      <td>John</td>\n",
       "      <td>Carney</td>\n",
       "      <td>NaN</td>\n",
       "      <td>NaN</td>\n",
       "      <td>NaN</td>\n",
       "      <td>NaN</td>\n",
       "      <td>NaN</td>\n",
       "      <td>...</td>\n",
       "      <td>NaN</td>\n",
       "      <td>NaN</td>\n",
       "      <td>NaN</td>\n",
       "      <td>NaN</td>\n",
       "      <td>NaN</td>\n",
       "      <td>DE</td>\n",
       "      <td>10</td>\n",
       "      <td>DELAWARE</td>\n",
       "      <td>https://www.nga.org/wp-content/uploads/2018/03...</td>\n",
       "      <td>both</td>\n",
       "    </tr>\n",
       "    <tr>\n",
       "      <th>1</th>\n",
       "      <td>WMPID5346</td>\n",
       "      <td>Eric J. Holcomb</td>\n",
       "      <td>NaN</td>\n",
       "      <td>Eric</td>\n",
       "      <td>Holcomb</td>\n",
       "      <td>NaN</td>\n",
       "      <td>NaN</td>\n",
       "      <td>NaN</td>\n",
       "      <td>NaN</td>\n",
       "      <td>NaN</td>\n",
       "      <td>...</td>\n",
       "      <td>NaN</td>\n",
       "      <td>NaN</td>\n",
       "      <td>NaN</td>\n",
       "      <td>NaN</td>\n",
       "      <td>NaN</td>\n",
       "      <td>IN</td>\n",
       "      <td>18</td>\n",
       "      <td>INDIANA</td>\n",
       "      <td>https://www.nga.org/wp-content/uploads/2018/03...</td>\n",
       "      <td>both</td>\n",
       "    </tr>\n",
       "    <tr>\n",
       "      <th>2</th>\n",
       "      <td>WMPID5347</td>\n",
       "      <td>Andy Beshear</td>\n",
       "      <td>NaN</td>\n",
       "      <td>Andy</td>\n",
       "      <td>Beshear</td>\n",
       "      <td>NaN</td>\n",
       "      <td>NaN</td>\n",
       "      <td>NaN</td>\n",
       "      <td>NaN</td>\n",
       "      <td>NaN</td>\n",
       "      <td>...</td>\n",
       "      <td>NaN</td>\n",
       "      <td>NaN</td>\n",
       "      <td>NaN</td>\n",
       "      <td>NaN</td>\n",
       "      <td>NaN</td>\n",
       "      <td>KY</td>\n",
       "      <td>21</td>\n",
       "      <td>KENTUCKY</td>\n",
       "      <td>https://www.nga.org/wp-content/uploads/2019/12...</td>\n",
       "      <td>both</td>\n",
       "    </tr>\n",
       "    <tr>\n",
       "      <th>3</th>\n",
       "      <td>WMPID5348</td>\n",
       "      <td>John Bel Edwards</td>\n",
       "      <td>NaN</td>\n",
       "      <td>John</td>\n",
       "      <td>Edwards</td>\n",
       "      <td>NaN</td>\n",
       "      <td>NaN</td>\n",
       "      <td>NaN</td>\n",
       "      <td>NaN</td>\n",
       "      <td>NaN</td>\n",
       "      <td>...</td>\n",
       "      <td>NaN</td>\n",
       "      <td>NaN</td>\n",
       "      <td>NaN</td>\n",
       "      <td>NaN</td>\n",
       "      <td>NaN</td>\n",
       "      <td>LA</td>\n",
       "      <td>22</td>\n",
       "      <td>LOUISIANA</td>\n",
       "      <td>https://www.nga.org/wp-content/uploads/2018/06...</td>\n",
       "      <td>both</td>\n",
       "    </tr>\n",
       "    <tr>\n",
       "      <th>4</th>\n",
       "      <td>WMPID5349</td>\n",
       "      <td>Mike Parson</td>\n",
       "      <td>NaN</td>\n",
       "      <td>Mike</td>\n",
       "      <td>Parson</td>\n",
       "      <td>NaN</td>\n",
       "      <td>NaN</td>\n",
       "      <td>NaN</td>\n",
       "      <td>NaN</td>\n",
       "      <td>NaN</td>\n",
       "      <td>...</td>\n",
       "      <td>NaN</td>\n",
       "      <td>NaN</td>\n",
       "      <td>NaN</td>\n",
       "      <td>NaN</td>\n",
       "      <td>NaN</td>\n",
       "      <td>MO</td>\n",
       "      <td>29</td>\n",
       "      <td>MISSOURI</td>\n",
       "      <td>https://www.nga.org/wp-content/uploads/2019/09...</td>\n",
       "      <td>both</td>\n",
       "    </tr>\n",
       "  </tbody>\n",
       "</table>\n",
       "<p>5 rows × 35 columns</p>\n",
       "</div>"
      ],
      "text/plain": [
       "       wmpid         full_name name_fec first_name last_name gender_wmp  \\\n",
       "0  WMPID5345       John Carney      NaN       John    Carney        NaN   \n",
       "1  WMPID5346   Eric J. Holcomb      NaN       Eric   Holcomb        NaN   \n",
       "2  WMPID5347      Andy Beshear      NaN       Andy   Beshear        NaN   \n",
       "3  WMPID5348  John Bel Edwards      NaN       John   Edwards        NaN   \n",
       "4  WMPID5349       Mike Parson      NaN       Mike    Parson        NaN   \n",
       "\n",
       "  fecid_2020 fecid_2022a fecid_2022b fecid_2022old  ...  latino_crp race_wmp  \\\n",
       "0        NaN         NaN         NaN           NaN  ...         NaN      NaN   \n",
       "1        NaN         NaN         NaN           NaN  ...         NaN      NaN   \n",
       "2        NaN         NaN         NaN           NaN  ...         NaN      NaN   \n",
       "3        NaN         NaN         NaN           NaN  ...         NaN      NaN   \n",
       "4        NaN         NaN         NaN           NaN  ...         NaN      NaN   \n",
       "\n",
       "  race_crp1 race_crp2 race_crpmena  usps_code  fips_code  state_name  \\\n",
       "0       NaN       NaN          NaN         DE         10    DELAWARE   \n",
       "1       NaN       NaN          NaN         IN         18     INDIANA   \n",
       "2       NaN       NaN          NaN         KY         21    KENTUCKY   \n",
       "3       NaN       NaN          NaN         LA         22   LOUISIANA   \n",
       "4       NaN       NaN          NaN         MO         29    MISSOURI   \n",
       "\n",
       "                                            face_url  _merge  \n",
       "0  https://www.nga.org/wp-content/uploads/2018/03...    both  \n",
       "1  https://www.nga.org/wp-content/uploads/2018/03...    both  \n",
       "2  https://www.nga.org/wp-content/uploads/2019/12...    both  \n",
       "3  https://www.nga.org/wp-content/uploads/2018/06...    both  \n",
       "4  https://www.nga.org/wp-content/uploads/2019/09...    both  \n",
       "\n",
       "[5 rows x 35 columns]"
      ]
     },
     "execution_count": 11,
     "metadata": {},
     "output_type": "execute_result"
    }
   ],
   "source": [
    "inc.head()"
   ]
  },
  {
   "cell_type": "code",
   "execution_count": 12,
   "metadata": {},
   "outputs": [],
   "source": [
    "inc = inc[['wmpid', 'face_url']]"
   ]
  },
  {
   "cell_type": "code",
   "execution_count": 13,
   "metadata": {},
   "outputs": [],
   "source": [
    "inc['face_2022']='yes'"
   ]
  },
  {
   "cell_type": "code",
   "execution_count": 14,
   "metadata": {},
   "outputs": [],
   "source": [
    "inc['face_category']='incumbent_governor'"
   ]
  },
  {
   "cell_type": "code",
   "execution_count": 15,
   "metadata": {},
   "outputs": [
    {
     "data": {
      "text/plain": [
       "(14, 4)"
      ]
     },
     "execution_count": 15,
     "metadata": {},
     "output_type": "execute_result"
    }
   ],
   "source": [
    "inc.shape"
   ]
  },
  {
   "cell_type": "code",
   "execution_count": 16,
   "metadata": {},
   "outputs": [
    {
     "data": {
      "text/html": [
       "<div>\n",
       "<style scoped>\n",
       "    .dataframe tbody tr th:only-of-type {\n",
       "        vertical-align: middle;\n",
       "    }\n",
       "\n",
       "    .dataframe tbody tr th {\n",
       "        vertical-align: top;\n",
       "    }\n",
       "\n",
       "    .dataframe thead th {\n",
       "        text-align: right;\n",
       "    }\n",
       "</style>\n",
       "<table border=\"1\" class=\"dataframe\">\n",
       "  <thead>\n",
       "    <tr style=\"text-align: right;\">\n",
       "      <th></th>\n",
       "      <th>wmpid</th>\n",
       "      <th>face_url</th>\n",
       "      <th>face_2022</th>\n",
       "      <th>face_category</th>\n",
       "    </tr>\n",
       "  </thead>\n",
       "  <tbody>\n",
       "    <tr>\n",
       "      <th>0</th>\n",
       "      <td>WMPID5345</td>\n",
       "      <td>https://www.nga.org/wp-content/uploads/2018/03...</td>\n",
       "      <td>yes</td>\n",
       "      <td>incumbent_governor</td>\n",
       "    </tr>\n",
       "    <tr>\n",
       "      <th>1</th>\n",
       "      <td>WMPID5346</td>\n",
       "      <td>https://www.nga.org/wp-content/uploads/2018/03...</td>\n",
       "      <td>yes</td>\n",
       "      <td>incumbent_governor</td>\n",
       "    </tr>\n",
       "    <tr>\n",
       "      <th>2</th>\n",
       "      <td>WMPID5347</td>\n",
       "      <td>https://www.nga.org/wp-content/uploads/2019/12...</td>\n",
       "      <td>yes</td>\n",
       "      <td>incumbent_governor</td>\n",
       "    </tr>\n",
       "    <tr>\n",
       "      <th>3</th>\n",
       "      <td>WMPID5348</td>\n",
       "      <td>https://www.nga.org/wp-content/uploads/2018/06...</td>\n",
       "      <td>yes</td>\n",
       "      <td>incumbent_governor</td>\n",
       "    </tr>\n",
       "    <tr>\n",
       "      <th>4</th>\n",
       "      <td>WMPID5349</td>\n",
       "      <td>https://www.nga.org/wp-content/uploads/2019/09...</td>\n",
       "      <td>yes</td>\n",
       "      <td>incumbent_governor</td>\n",
       "    </tr>\n",
       "  </tbody>\n",
       "</table>\n",
       "</div>"
      ],
      "text/plain": [
       "       wmpid                                           face_url face_2022  \\\n",
       "0  WMPID5345  https://www.nga.org/wp-content/uploads/2018/03...       yes   \n",
       "1  WMPID5346  https://www.nga.org/wp-content/uploads/2018/03...       yes   \n",
       "2  WMPID5347  https://www.nga.org/wp-content/uploads/2019/12...       yes   \n",
       "3  WMPID5348  https://www.nga.org/wp-content/uploads/2018/06...       yes   \n",
       "4  WMPID5349  https://www.nga.org/wp-content/uploads/2019/09...       yes   \n",
       "\n",
       "        face_category  \n",
       "0  incumbent_governor  \n",
       "1  incumbent_governor  \n",
       "2  incumbent_governor  \n",
       "3  incumbent_governor  \n",
       "4  incumbent_governor  "
      ]
     },
     "execution_count": 16,
     "metadata": {},
     "output_type": "execute_result"
    }
   ],
   "source": [
    "inc.head()"
   ]
  },
  {
   "cell_type": "code",
   "execution_count": 17,
   "metadata": {},
   "outputs": [
    {
     "data": {
      "text/plain": [
       "(14, 4)"
      ]
     },
     "execution_count": 17,
     "metadata": {},
     "output_type": "execute_result"
    }
   ],
   "source": [
    "inc.shape"
   ]
  },
  {
   "cell_type": "code",
   "execution_count": 18,
   "metadata": {},
   "outputs": [],
   "source": [
    "inc.to_csv(\"./data/face_url_2022_incumb_gov_general.csv\", index=False)"
   ]
  }
 ],
 "metadata": {
  "kernelspec": {
   "display_name": "Python 3",
   "language": "python",
   "name": "python3"
  },
  "language_info": {
   "codemirror_mode": {
    "name": "ipython",
    "version": 3
   },
   "file_extension": ".py",
   "mimetype": "text/x-python",
   "name": "python",
   "nbconvert_exporter": "python",
   "pygments_lexer": "ipython3",
   "version": "3.7.7"
  }
 },
 "nbformat": 4,
 "nbformat_minor": 4
}
