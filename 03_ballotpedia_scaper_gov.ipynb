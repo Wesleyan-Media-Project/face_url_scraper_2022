{
 "cells": [
  {
   "cell_type": "markdown",
   "metadata": {},
   "source": [
    "### Scrape gubernatorial candidate face urls from ballotpedia"
   ]
  },
  {
   "cell_type": "code",
   "execution_count": 1,
   "metadata": {
    "executionInfo": {
     "elapsed": 53,
     "status": "ok",
     "timestamp": 1670958816173,
     "user": {
      "displayName": "Jielu Yao",
      "userId": "09138677267510568916"
     },
     "user_tz": 300
    },
    "id": "MQIZH76g9k5Q"
   },
   "outputs": [],
   "source": [
    "import pandas as pd\n",
    "import bs4 as bs # pulling data out of HTML and XML files.\n",
    "import urllib.request # opening and reading URLs\n",
    "import re # pattern matching"
   ]
  },
  {
   "cell_type": "code",
   "execution_count": 2,
   "metadata": {},
   "outputs": [
    {
     "name": "stderr",
     "output_type": "stream",
     "text": [
      "/Users/jieluyao/opt/anaconda3/lib/python3.8/site-packages/fuzzywuzzy/fuzz.py:11: UserWarning: Using slow pure-python SequenceMatcher. Install python-Levenshtein to remove this warning\n",
      "  warnings.warn('Using slow pure-python SequenceMatcher. Install python-Levenshtein to remove this warning')\n"
     ]
    }
   ],
   "source": [
    "from fuzzywuzzy import fuzz\n",
    "from fuzzywuzzy import process"
   ]
  },
  {
   "cell_type": "code",
   "execution_count": 3,
   "metadata": {
    "executionInfo": {
     "elapsed": 3961,
     "status": "ok",
     "timestamp": 1670958820092,
     "user": {
      "displayName": "Jielu Yao",
      "userId": "09138677267510568916"
     },
     "user_tz": 300
    },
    "id": "4Cke4kyXTLIK"
   },
   "outputs": [],
   "source": [
    "#Download the website's html\n",
    "source = urllib.request.urlopen(\"https://ballotpedia.org/Gubernatorial_elections,_2022\").read()"
   ]
  },
  {
   "cell_type": "code",
   "execution_count": 4,
   "metadata": {
    "executionInfo": {
     "elapsed": 8,
     "status": "ok",
     "timestamp": 1670958820094,
     "user": {
      "displayName": "Jielu Yao",
      "userId": "09138677267510568916"
     },
     "user_tz": 300
    },
    "id": "DQgNvLtO-FFF"
   },
   "outputs": [],
   "source": [
    "#Parse the html\n",
    "soup = bs.BeautifulSoup(source)"
   ]
  },
  {
   "cell_type": "code",
   "execution_count": 5,
   "metadata": {
    "executionInfo": {
     "elapsed": 366,
     "status": "ok",
     "timestamp": 1670958821442,
     "user": {
      "displayName": "Jielu Yao",
      "userId": "09138677267510568916"
     },
     "user_tz": 300
    },
    "id": "shyrvAwgaU0w"
   },
   "outputs": [],
   "source": [
    "urls_css = \"tbody tr a\""
   ]
  },
  {
   "cell_type": "code",
   "execution_count": 6,
   "metadata": {
    "colab": {
     "base_uri": "https://localhost:8080/"
    },
    "executionInfo": {
     "elapsed": 365,
     "status": "ok",
     "timestamp": 1670958821442,
     "user": {
      "displayName": "Jielu Yao",
      "userId": "09138677267510568916"
     },
     "user_tz": 300
    },
    "id": "ngEITkC2-oLW",
    "outputId": "85687011-4b7a-40ab-a2bf-23fe86382a67"
   },
   "outputs": [],
   "source": [
    "urls = soup.select(urls_css)"
   ]
  },
  {
   "cell_type": "code",
   "execution_count": 7,
   "metadata": {},
   "outputs": [],
   "source": [
    "extracted_urls = [url[\"href\"] for url in urls[5:185:5]]"
   ]
  },
  {
   "cell_type": "code",
   "execution_count": 8,
   "metadata": {},
   "outputs": [
    {
     "data": {
      "text/plain": [
       "36"
      ]
     },
     "execution_count": 8,
     "metadata": {},
     "output_type": "execute_result"
    }
   ],
   "source": [
    "len(extracted_urls)"
   ]
  },
  {
   "cell_type": "code",
   "execution_count": 9,
   "metadata": {},
   "outputs": [
    {
     "data": {
      "text/plain": [
       "'/Alabama_gubernatorial_election,_2022'"
      ]
     },
     "execution_count": 9,
     "metadata": {},
     "output_type": "execute_result"
    }
   ],
   "source": [
    "extracted_urls[0]"
   ]
  },
  {
   "cell_type": "code",
   "execution_count": 10,
   "metadata": {},
   "outputs": [],
   "source": [
    "extracted_urls.append('/South_Carolina_gubernatorial_election,_2022')"
   ]
  },
  {
   "cell_type": "code",
   "execution_count": 11,
   "metadata": {},
   "outputs": [
    {
     "data": {
      "text/plain": [
       "['/Alabama_gubernatorial_election,_2022',\n",
       " '/Alaska_gubernatorial_and_lieutenant_gubernatorial_election,_2022',\n",
       " '/Arizona_gubernatorial_election,_2022',\n",
       " '/Arkansas_gubernatorial_election,_2022',\n",
       " '/California_gubernatorial_election,_2022',\n",
       " '/Colorado_gubernatorial_and_lieutenant_gubernatorial_election,_2022',\n",
       " '/Connecticut_gubernatorial_and_lieutenant_gubernatorial_election,_2022',\n",
       " '/Florida_gubernatorial_and_lieutenant_gubernatorial_election,_2022',\n",
       " '/Georgia_gubernatorial_election,_2022',\n",
       " '/Hawaii_gubernatorial_and_lieutenant_gubernatorial_election,_2022',\n",
       " '/Idaho_gubernatorial_election,_2022',\n",
       " '/Illinois_gubernatorial_and_lieutenant_gubernatorial_election,_2022',\n",
       " '/Iowa_gubernatorial_and_lieutenant_gubernatorial_election,_2022',\n",
       " '/Kansas_gubernatorial_and_lieutenant_gubernatorial_election,_2022',\n",
       " '/Maine_gubernatorial_election,_2022',\n",
       " '/Maryland_gubernatorial_and_lieutenant_gubernatorial_election,_2022',\n",
       " '/Massachusetts_gubernatorial_and_lieutenant_gubernatorial_election,_2022',\n",
       " '/Michigan_gubernatorial_and_lieutenant_gubernatorial_election,_2022',\n",
       " '/Minnesota_gubernatorial_and_lieutenant_gubernatorial_election,_2022',\n",
       " '/Nebraska_gubernatorial_and_lieutenant_gubernatorial_election,_2022',\n",
       " '/Nevada_gubernatorial_election,_2022',\n",
       " '/New_Hampshire_gubernatorial_election,_2022',\n",
       " '/New_Mexico_gubernatorial_and_lieutenant_gubernatorial_election,_2022',\n",
       " '/New_York_gubernatorial_and_lieutenant_gubernatorial_election,_2022',\n",
       " '/Ohio_gubernatorial_and_lieutenant_gubernatorial_election,_2022',\n",
       " '/Oklahoma_gubernatorial_election,_2022',\n",
       " '/Oregon_gubernatorial_election,_2022',\n",
       " '/Pennsylvania_gubernatorial_and_lieutenant_gubernatorial_election,_2022',\n",
       " '/Rhode_Island_gubernatorial_election,_2022',\n",
       " '/South_Carolina_gubernatorial_election,_2022',\n",
       " '/South_Dakota_gubernatorial_and_lieutenant_gubernatorial_election,_2022',\n",
       " '/Tennessee_gubernatorial_election,_2022',\n",
       " '/Texas_gubernatorial_election,_2022',\n",
       " '/Vermont_gubernatorial_election,_2022',\n",
       " '/Wisconsin_gubernatorial_and_lieutenant_gubernatorial_election,_2022',\n",
       " '/Wyoming_gubernatorial_election,_2022',\n",
       " '/South_Carolina_gubernatorial_election,_2022']"
      ]
     },
     "execution_count": 11,
     "metadata": {},
     "output_type": "execute_result"
    }
   ],
   "source": [
    "extracted_urls"
   ]
  },
  {
   "cell_type": "code",
   "execution_count": 12,
   "metadata": {
    "executionInfo": {
     "elapsed": 22,
     "status": "ok",
     "timestamp": 1670958821443,
     "user": {
      "displayName": "Jielu Yao",
      "userId": "09138677267510568916"
     },
     "user_tz": 300
    },
    "id": "XUlildR6md88"
   },
   "outputs": [],
   "source": [
    "full_urls = [\"https://ballotpedia.org\" + url_suffix for url_suffix in extracted_urls]"
   ]
  },
  {
   "cell_type": "code",
   "execution_count": 13,
   "metadata": {},
   "outputs": [
    {
     "data": {
      "text/plain": [
       "'https://ballotpedia.org/Alaska_gubernatorial_and_lieutenant_gubernatorial_election,_2022'"
      ]
     },
     "execution_count": 13,
     "metadata": {},
     "output_type": "execute_result"
    }
   ],
   "source": [
    "full_urls[1]"
   ]
  },
  {
   "cell_type": "markdown",
   "metadata": {
    "id": "5ZtO5wfAcBkX"
   },
   "source": [
    "Now that we've got all the links, we need to visit each, extract what we need and save it somewhere."
   ]
  },
  {
   "cell_type": "code",
   "execution_count": 91,
   "metadata": {},
   "outputs": [],
   "source": [
    "#Now do this in a loop, for the first 5 urls\n",
    "bp_urls = []\n",
    "bp_names = []\n",
    "\n",
    "for i in full_urls[:]:\n",
    "  source = urllib.request.urlopen(i).read()\n",
    "  soup = bs.BeautifulSoup(source)\n",
    "  img_css = \"img.image-candidate-thumbnail\"\n",
    "  img = soup.select(img_css)\n",
    "  img = img[0:5]\n",
    "  bp_urls.extend(list([i['src'] for i in img]))\n",
    "  n_css = \"td.votebox-results-cell--text\"\n",
    "  nm = soup.select(n_css)\n",
    "  nm = nm[0:5]\n",
    "  bp_names.extend(list([url.text for url in nm]))"
   ]
  },
  {
   "cell_type": "code",
   "execution_count": 15,
   "metadata": {},
   "outputs": [
    {
     "data": {
      "text/plain": [
       "185"
      ]
     },
     "execution_count": 15,
     "metadata": {},
     "output_type": "execute_result"
    }
   ],
   "source": [
    "len(bp_urls)"
   ]
  },
  {
   "cell_type": "code",
   "execution_count": 16,
   "metadata": {},
   "outputs": [
    {
     "data": {
      "text/plain": [
       "185"
      ]
     },
     "execution_count": 16,
     "metadata": {},
     "output_type": "execute_result"
    }
   ],
   "source": [
    "len(bp_names)"
   ]
  },
  {
   "cell_type": "code",
   "execution_count": 17,
   "metadata": {},
   "outputs": [],
   "source": [
    "df = pd.DataFrame(columns=('bp_name_raw', 'bp_url'))"
   ]
  },
  {
   "cell_type": "code",
   "execution_count": 18,
   "metadata": {},
   "outputs": [],
   "source": [
    "df['bp_name_raw']=bp_names"
   ]
  },
  {
   "cell_type": "code",
   "execution_count": 19,
   "metadata": {},
   "outputs": [],
   "source": [
    "df['bp_url']=bp_urls"
   ]
  },
  {
   "cell_type": "code",
   "execution_count": 20,
   "metadata": {},
   "outputs": [
    {
     "data": {
      "text/html": [
       "<div>\n",
       "<style scoped>\n",
       "    .dataframe tbody tr th:only-of-type {\n",
       "        vertical-align: middle;\n",
       "    }\n",
       "\n",
       "    .dataframe tbody tr th {\n",
       "        vertical-align: top;\n",
       "    }\n",
       "\n",
       "    .dataframe thead th {\n",
       "        text-align: right;\n",
       "    }\n",
       "</style>\n",
       "<table border=\"1\" class=\"dataframe\">\n",
       "  <thead>\n",
       "    <tr style=\"text-align: right;\">\n",
       "      <th></th>\n",
       "      <th>bp_name_raw</th>\n",
       "      <th>bp_url</th>\n",
       "    </tr>\n",
       "  </thead>\n",
       "  <tbody>\n",
       "    <tr>\n",
       "      <th>180</th>\n",
       "      <td>Henry McMaster (R)  \\n\\t\\t\\t\\t\\t\\t\\t\\t\\t\\t\\t</td>\n",
       "      <td>https://s3.amazonaws.com/ballotpedia-api4/file...</td>\n",
       "    </tr>\n",
       "    <tr>\n",
       "      <th>181</th>\n",
       "      <td>Joe Cunningham (D)  \\n\\t\\t\\t\\t\\t\\t\\t\\t\\t\\t\\t</td>\n",
       "      <td>https://s3.amazonaws.com/ballotpedia-api4/file...</td>\n",
       "    </tr>\n",
       "    <tr>\n",
       "      <th>182</th>\n",
       "      <td>Morgan Bruce Reeves (L)  \\n\\t\\t\\t\\t\\t\\t\\t\\t\\t\\t\\t</td>\n",
       "      <td>https://s3.amazonaws.com/ballotpedia-api4/file...</td>\n",
       "    </tr>\n",
       "    <tr>\n",
       "      <th>183</th>\n",
       "      <td>Joe Cunningham\\n</td>\n",
       "      <td>https://s3.amazonaws.com/ballotpedia-api4/file...</td>\n",
       "    </tr>\n",
       "    <tr>\n",
       "      <th>184</th>\n",
       "      <td>Mia McLeod\\n</td>\n",
       "      <td>https://s3.amazonaws.com/ballotpedia-api4/file...</td>\n",
       "    </tr>\n",
       "  </tbody>\n",
       "</table>\n",
       "</div>"
      ],
      "text/plain": [
       "                                           bp_name_raw  \\\n",
       "180       Henry McMaster (R)  \\n\\t\\t\\t\\t\\t\\t\\t\\t\\t\\t\\t   \n",
       "181       Joe Cunningham (D)  \\n\\t\\t\\t\\t\\t\\t\\t\\t\\t\\t\\t   \n",
       "182  Morgan Bruce Reeves (L)  \\n\\t\\t\\t\\t\\t\\t\\t\\t\\t\\t\\t   \n",
       "183                                   Joe Cunningham\\n   \n",
       "184                                       Mia McLeod\\n   \n",
       "\n",
       "                                                bp_url  \n",
       "180  https://s3.amazonaws.com/ballotpedia-api4/file...  \n",
       "181  https://s3.amazonaws.com/ballotpedia-api4/file...  \n",
       "182  https://s3.amazonaws.com/ballotpedia-api4/file...  \n",
       "183  https://s3.amazonaws.com/ballotpedia-api4/file...  \n",
       "184  https://s3.amazonaws.com/ballotpedia-api4/file...  "
      ]
     },
     "execution_count": 20,
     "metadata": {},
     "output_type": "execute_result"
    }
   ],
   "source": [
    "df.tail()"
   ]
  },
  {
   "cell_type": "code",
   "execution_count": 21,
   "metadata": {},
   "outputs": [],
   "source": [
    "df2 = df['bp_name_raw'].str.rsplit(\"(\", n=1, expand=True)"
   ]
  },
  {
   "cell_type": "code",
   "execution_count": 22,
   "metadata": {},
   "outputs": [],
   "source": [
    "df2 = df2.rename(columns={0:'name'})"
   ]
  },
  {
   "cell_type": "code",
   "execution_count": 23,
   "metadata": {},
   "outputs": [],
   "source": [
    "df3 =df2['name'].str.rsplit(\"(\", n=1, expand=True)\n",
    "df3 = df3.rename(columns={0:'name'})"
   ]
  },
  {
   "cell_type": "code",
   "execution_count": 24,
   "metadata": {},
   "outputs": [],
   "source": [
    "df3['bp_name'] = df3['name'].str.replace(\"\\n\", \"\").replace(\"\\t\", \"\")"
   ]
  },
  {
   "cell_type": "code",
   "execution_count": 25,
   "metadata": {},
   "outputs": [
    {
     "data": {
      "text/plain": [
       "0                 Kay Ivey \n",
       "1          Yolanda Flowers \n",
       "2              James Blake \n",
       "3            Jared Budlong \n",
       "4           Yolanda Flowers\n",
       "               ...         \n",
       "180         Henry McMaster \n",
       "181         Joe Cunningham \n",
       "182    Morgan Bruce Reeves \n",
       "183          Joe Cunningham\n",
       "184              Mia McLeod\n",
       "Name: bp_name, Length: 185, dtype: object"
      ]
     },
     "execution_count": 25,
     "metadata": {},
     "output_type": "execute_result"
    }
   ],
   "source": [
    "df3['bp_name']"
   ]
  },
  {
   "cell_type": "code",
   "execution_count": 26,
   "metadata": {},
   "outputs": [],
   "source": [
    "df['bp_name']=df3['bp_name']"
   ]
  },
  {
   "cell_type": "code",
   "execution_count": 27,
   "metadata": {},
   "outputs": [
    {
     "data": {
      "text/html": [
       "<div>\n",
       "<style scoped>\n",
       "    .dataframe tbody tr th:only-of-type {\n",
       "        vertical-align: middle;\n",
       "    }\n",
       "\n",
       "    .dataframe tbody tr th {\n",
       "        vertical-align: top;\n",
       "    }\n",
       "\n",
       "    .dataframe thead th {\n",
       "        text-align: right;\n",
       "    }\n",
       "</style>\n",
       "<table border=\"1\" class=\"dataframe\">\n",
       "  <thead>\n",
       "    <tr style=\"text-align: right;\">\n",
       "      <th></th>\n",
       "      <th>bp_name_raw</th>\n",
       "      <th>bp_url</th>\n",
       "      <th>bp_name</th>\n",
       "    </tr>\n",
       "  </thead>\n",
       "  <tbody>\n",
       "    <tr>\n",
       "      <th>0</th>\n",
       "      <td>Kay Ivey (R)  \\n\\t\\t\\t\\t\\t\\t\\t\\t\\t\\t\\t</td>\n",
       "      <td>https://s3.amazonaws.com/ballotpedia-api4/file...</td>\n",
       "      <td>Kay Ivey</td>\n",
       "    </tr>\n",
       "    <tr>\n",
       "      <th>1</th>\n",
       "      <td>Yolanda Flowers (D)  \\n\\t\\t\\t\\t\\t\\t\\t\\t\\t\\t\\t</td>\n",
       "      <td>https://s3.amazonaws.com/ballotpedia-api4/file...</td>\n",
       "      <td>Yolanda Flowers</td>\n",
       "    </tr>\n",
       "    <tr>\n",
       "      <th>2</th>\n",
       "      <td>James Blake (L)  \\n\\t\\t\\t\\t\\t\\t\\t\\t\\t\\t\\t</td>\n",
       "      <td>https://s3.amazonaws.com/ballotpedia-api4/file...</td>\n",
       "      <td>James Blake</td>\n",
       "    </tr>\n",
       "    <tr>\n",
       "      <th>3</th>\n",
       "      <td>Jared Budlong (Independent) (Write-in) \\n</td>\n",
       "      <td>https://s3.amazonaws.com/ballotpedia-api4/file...</td>\n",
       "      <td>Jared Budlong</td>\n",
       "    </tr>\n",
       "    <tr>\n",
       "      <th>4</th>\n",
       "      <td>Yolanda Flowers\\n</td>\n",
       "      <td>https://s3.amazonaws.com/ballotpedia-api4/file...</td>\n",
       "      <td>Yolanda Flowers</td>\n",
       "    </tr>\n",
       "  </tbody>\n",
       "</table>\n",
       "</div>"
      ],
      "text/plain": [
       "                                     bp_name_raw  \\\n",
       "0         Kay Ivey (R)  \\n\\t\\t\\t\\t\\t\\t\\t\\t\\t\\t\\t   \n",
       "1  Yolanda Flowers (D)  \\n\\t\\t\\t\\t\\t\\t\\t\\t\\t\\t\\t   \n",
       "2      James Blake (L)  \\n\\t\\t\\t\\t\\t\\t\\t\\t\\t\\t\\t   \n",
       "3      Jared Budlong (Independent) (Write-in) \\n   \n",
       "4                              Yolanda Flowers\\n   \n",
       "\n",
       "                                              bp_url           bp_name  \n",
       "0  https://s3.amazonaws.com/ballotpedia-api4/file...         Kay Ivey   \n",
       "1  https://s3.amazonaws.com/ballotpedia-api4/file...  Yolanda Flowers   \n",
       "2  https://s3.amazonaws.com/ballotpedia-api4/file...      James Blake   \n",
       "3  https://s3.amazonaws.com/ballotpedia-api4/file...    Jared Budlong   \n",
       "4  https://s3.amazonaws.com/ballotpedia-api4/file...   Yolanda Flowers  "
      ]
     },
     "execution_count": 27,
     "metadata": {},
     "output_type": "execute_result"
    }
   ],
   "source": [
    "df.head()"
   ]
  },
  {
   "cell_type": "code",
   "execution_count": 28,
   "metadata": {},
   "outputs": [
    {
     "data": {
      "text/plain": [
       "(185, 3)"
      ]
     },
     "execution_count": 28,
     "metadata": {},
     "output_type": "execute_result"
    }
   ],
   "source": [
    "df.shape"
   ]
  },
  {
   "cell_type": "code",
   "execution_count": 29,
   "metadata": {},
   "outputs": [
    {
     "data": {
      "text/html": [
       "<div>\n",
       "<style scoped>\n",
       "    .dataframe tbody tr th:only-of-type {\n",
       "        vertical-align: middle;\n",
       "    }\n",
       "\n",
       "    .dataframe tbody tr th {\n",
       "        vertical-align: top;\n",
       "    }\n",
       "\n",
       "    .dataframe thead th {\n",
       "        text-align: right;\n",
       "    }\n",
       "</style>\n",
       "<table border=\"1\" class=\"dataframe\">\n",
       "  <thead>\n",
       "    <tr style=\"text-align: right;\">\n",
       "      <th></th>\n",
       "      <th>bp_name_raw</th>\n",
       "      <th>bp_url</th>\n",
       "      <th>bp_name</th>\n",
       "    </tr>\n",
       "  </thead>\n",
       "  <tbody>\n",
       "    <tr>\n",
       "      <th>0</th>\n",
       "      <td>Kay Ivey (R)  \\n\\t\\t\\t\\t\\t\\t\\t\\t\\t\\t\\t</td>\n",
       "      <td>https://s3.amazonaws.com/ballotpedia-api4/file...</td>\n",
       "      <td>Kay Ivey</td>\n",
       "    </tr>\n",
       "    <tr>\n",
       "      <th>1</th>\n",
       "      <td>Yolanda Flowers (D)  \\n\\t\\t\\t\\t\\t\\t\\t\\t\\t\\t\\t</td>\n",
       "      <td>https://s3.amazonaws.com/ballotpedia-api4/file...</td>\n",
       "      <td>Yolanda Flowers</td>\n",
       "    </tr>\n",
       "    <tr>\n",
       "      <th>2</th>\n",
       "      <td>James Blake (L)  \\n\\t\\t\\t\\t\\t\\t\\t\\t\\t\\t\\t</td>\n",
       "      <td>https://s3.amazonaws.com/ballotpedia-api4/file...</td>\n",
       "      <td>James Blake</td>\n",
       "    </tr>\n",
       "    <tr>\n",
       "      <th>3</th>\n",
       "      <td>Jared Budlong (Independent) (Write-in) \\n</td>\n",
       "      <td>https://s3.amazonaws.com/ballotpedia-api4/file...</td>\n",
       "      <td>Jared Budlong</td>\n",
       "    </tr>\n",
       "    <tr>\n",
       "      <th>4</th>\n",
       "      <td>Yolanda Flowers\\n</td>\n",
       "      <td>https://s3.amazonaws.com/ballotpedia-api4/file...</td>\n",
       "      <td>Yolanda Flowers</td>\n",
       "    </tr>\n",
       "    <tr>\n",
       "      <th>...</th>\n",
       "      <td>...</td>\n",
       "      <td>...</td>\n",
       "      <td>...</td>\n",
       "    </tr>\n",
       "    <tr>\n",
       "      <th>180</th>\n",
       "      <td>Henry McMaster (R)  \\n\\t\\t\\t\\t\\t\\t\\t\\t\\t\\t\\t</td>\n",
       "      <td>https://s3.amazonaws.com/ballotpedia-api4/file...</td>\n",
       "      <td>Henry McMaster</td>\n",
       "    </tr>\n",
       "    <tr>\n",
       "      <th>181</th>\n",
       "      <td>Joe Cunningham (D)  \\n\\t\\t\\t\\t\\t\\t\\t\\t\\t\\t\\t</td>\n",
       "      <td>https://s3.amazonaws.com/ballotpedia-api4/file...</td>\n",
       "      <td>Joe Cunningham</td>\n",
       "    </tr>\n",
       "    <tr>\n",
       "      <th>182</th>\n",
       "      <td>Morgan Bruce Reeves (L)  \\n\\t\\t\\t\\t\\t\\t\\t\\t\\t\\t\\t</td>\n",
       "      <td>https://s3.amazonaws.com/ballotpedia-api4/file...</td>\n",
       "      <td>Morgan Bruce Reeves</td>\n",
       "    </tr>\n",
       "    <tr>\n",
       "      <th>183</th>\n",
       "      <td>Joe Cunningham\\n</td>\n",
       "      <td>https://s3.amazonaws.com/ballotpedia-api4/file...</td>\n",
       "      <td>Joe Cunningham</td>\n",
       "    </tr>\n",
       "    <tr>\n",
       "      <th>184</th>\n",
       "      <td>Mia McLeod\\n</td>\n",
       "      <td>https://s3.amazonaws.com/ballotpedia-api4/file...</td>\n",
       "      <td>Mia McLeod</td>\n",
       "    </tr>\n",
       "  </tbody>\n",
       "</table>\n",
       "<p>185 rows × 3 columns</p>\n",
       "</div>"
      ],
      "text/plain": [
       "                                           bp_name_raw  \\\n",
       "0               Kay Ivey (R)  \\n\\t\\t\\t\\t\\t\\t\\t\\t\\t\\t\\t   \n",
       "1        Yolanda Flowers (D)  \\n\\t\\t\\t\\t\\t\\t\\t\\t\\t\\t\\t   \n",
       "2            James Blake (L)  \\n\\t\\t\\t\\t\\t\\t\\t\\t\\t\\t\\t   \n",
       "3            Jared Budlong (Independent) (Write-in) \\n   \n",
       "4                                    Yolanda Flowers\\n   \n",
       "..                                                 ...   \n",
       "180       Henry McMaster (R)  \\n\\t\\t\\t\\t\\t\\t\\t\\t\\t\\t\\t   \n",
       "181       Joe Cunningham (D)  \\n\\t\\t\\t\\t\\t\\t\\t\\t\\t\\t\\t   \n",
       "182  Morgan Bruce Reeves (L)  \\n\\t\\t\\t\\t\\t\\t\\t\\t\\t\\t\\t   \n",
       "183                                   Joe Cunningham\\n   \n",
       "184                                       Mia McLeod\\n   \n",
       "\n",
       "                                                bp_url               bp_name  \n",
       "0    https://s3.amazonaws.com/ballotpedia-api4/file...             Kay Ivey   \n",
       "1    https://s3.amazonaws.com/ballotpedia-api4/file...      Yolanda Flowers   \n",
       "2    https://s3.amazonaws.com/ballotpedia-api4/file...          James Blake   \n",
       "3    https://s3.amazonaws.com/ballotpedia-api4/file...        Jared Budlong   \n",
       "4    https://s3.amazonaws.com/ballotpedia-api4/file...       Yolanda Flowers  \n",
       "..                                                 ...                   ...  \n",
       "180  https://s3.amazonaws.com/ballotpedia-api4/file...       Henry McMaster   \n",
       "181  https://s3.amazonaws.com/ballotpedia-api4/file...       Joe Cunningham   \n",
       "182  https://s3.amazonaws.com/ballotpedia-api4/file...  Morgan Bruce Reeves   \n",
       "183  https://s3.amazonaws.com/ballotpedia-api4/file...        Joe Cunningham  \n",
       "184  https://s3.amazonaws.com/ballotpedia-api4/file...            Mia McLeod  \n",
       "\n",
       "[185 rows x 3 columns]"
      ]
     },
     "execution_count": 29,
     "metadata": {},
     "output_type": "execute_result"
    }
   ],
   "source": [
    "df"
   ]
  },
  {
   "cell_type": "code",
   "execution_count": 31,
   "metadata": {},
   "outputs": [],
   "source": [
    "df['bp_name'] = df['bp_name'].str.strip()"
   ]
  },
  {
   "cell_type": "code",
   "execution_count": 32,
   "metadata": {},
   "outputs": [],
   "source": [
    "df = df.drop_duplicates(subset=['bp_name'], keep='first')"
   ]
  },
  {
   "cell_type": "code",
   "execution_count": 33,
   "metadata": {},
   "outputs": [
    {
     "data": {
      "text/plain": [
       "(159, 3)"
      ]
     },
     "execution_count": 33,
     "metadata": {},
     "output_type": "execute_result"
    }
   ],
   "source": [
    "df.shape"
   ]
  },
  {
   "cell_type": "markdown",
   "metadata": {},
   "source": [
    "### Load ABC gubernatorial candidate list "
   ]
  },
  {
   "cell_type": "code",
   "execution_count": 35,
   "metadata": {},
   "outputs": [],
   "source": [
    "g = pd.read_excel(\"./Priors 2022.xlsx\")"
   ]
  },
  {
   "cell_type": "code",
   "execution_count": 36,
   "metadata": {},
   "outputs": [
    {
     "data": {
      "text/html": [
       "<div>\n",
       "<style scoped>\n",
       "    .dataframe tbody tr th:only-of-type {\n",
       "        vertical-align: middle;\n",
       "    }\n",
       "\n",
       "    .dataframe tbody tr th {\n",
       "        vertical-align: top;\n",
       "    }\n",
       "\n",
       "    .dataframe thead th {\n",
       "        text-align: right;\n",
       "    }\n",
       "</style>\n",
       "<table border=\"1\" class=\"dataframe\">\n",
       "  <thead>\n",
       "    <tr style=\"text-align: right;\">\n",
       "      <th></th>\n",
       "      <th>State</th>\n",
       "      <th>Democrat</th>\n",
       "      <th>Prior</th>\n",
       "      <th>Republican</th>\n",
       "      <th>Prior.1</th>\n",
       "      <th>Other</th>\n",
       "      <th>Prior.2</th>\n",
       "      <th>Unnamed: 7</th>\n",
       "      <th>Prior.3</th>\n",
       "      <th>Unnamed: 9</th>\n",
       "      <th>Prior.4</th>\n",
       "    </tr>\n",
       "  </thead>\n",
       "  <tbody>\n",
       "    <tr>\n",
       "      <th>0</th>\n",
       "      <td>Alabama</td>\n",
       "      <td>Yolanda Flowers</td>\n",
       "      <td>35</td>\n",
       "      <td>Kay Ivey</td>\n",
       "      <td>65</td>\n",
       "      <td>NaN</td>\n",
       "      <td>NaN</td>\n",
       "      <td>NaN</td>\n",
       "      <td>NaN</td>\n",
       "      <td>NaN</td>\n",
       "      <td>NaN</td>\n",
       "    </tr>\n",
       "    <tr>\n",
       "      <th>1</th>\n",
       "      <td>Alaska</td>\n",
       "      <td>Les Gara</td>\n",
       "      <td>28</td>\n",
       "      <td>Mike Dunleavy</td>\n",
       "      <td>45</td>\n",
       "      <td>Bill Walker (Ind)</td>\n",
       "      <td>21.0</td>\n",
       "      <td>Charlie Pierce (Rep)</td>\n",
       "      <td>6.0</td>\n",
       "      <td>NaN</td>\n",
       "      <td>NaN</td>\n",
       "    </tr>\n",
       "    <tr>\n",
       "      <th>2</th>\n",
       "      <td>Arizona</td>\n",
       "      <td>Katie Hobbs</td>\n",
       "      <td>49</td>\n",
       "      <td>Kari Lake</td>\n",
       "      <td>51</td>\n",
       "      <td>NaN</td>\n",
       "      <td>NaN</td>\n",
       "      <td>NaN</td>\n",
       "      <td>NaN</td>\n",
       "      <td>NaN</td>\n",
       "      <td>NaN</td>\n",
       "    </tr>\n",
       "    <tr>\n",
       "      <th>3</th>\n",
       "      <td>Arkansas</td>\n",
       "      <td>Chris Jone</td>\n",
       "      <td>38</td>\n",
       "      <td>Sarah Huckabee Sanders</td>\n",
       "      <td>62</td>\n",
       "      <td>NaN</td>\n",
       "      <td>NaN</td>\n",
       "      <td>NaN</td>\n",
       "      <td>NaN</td>\n",
       "      <td>NaN</td>\n",
       "      <td>NaN</td>\n",
       "    </tr>\n",
       "    <tr>\n",
       "      <th>4</th>\n",
       "      <td>California</td>\n",
       "      <td>Gavin Newsom</td>\n",
       "      <td>61</td>\n",
       "      <td>Brian Dahle</td>\n",
       "      <td>39</td>\n",
       "      <td>NaN</td>\n",
       "      <td>NaN</td>\n",
       "      <td>NaN</td>\n",
       "      <td>NaN</td>\n",
       "      <td>NaN</td>\n",
       "      <td>NaN</td>\n",
       "    </tr>\n",
       "  </tbody>\n",
       "</table>\n",
       "</div>"
      ],
      "text/plain": [
       "        State         Democrat  Prior              Republican  Prior.1  \\\n",
       "0     Alabama  Yolanda Flowers     35                Kay Ivey       65   \n",
       "1      Alaska         Les Gara     28           Mike Dunleavy       45   \n",
       "2     Arizona      Katie Hobbs     49               Kari Lake       51   \n",
       "3    Arkansas       Chris Jone     38  Sarah Huckabee Sanders       62   \n",
       "4  California     Gavin Newsom     61             Brian Dahle       39   \n",
       "\n",
       "               Other  Prior.2            Unnamed: 7  Prior.3 Unnamed: 9  \\\n",
       "0                NaN      NaN                   NaN      NaN        NaN   \n",
       "1  Bill Walker (Ind)     21.0  Charlie Pierce (Rep)      6.0        NaN   \n",
       "2                NaN      NaN                   NaN      NaN        NaN   \n",
       "3                NaN      NaN                   NaN      NaN        NaN   \n",
       "4                NaN      NaN                   NaN      NaN        NaN   \n",
       "\n",
       "   Prior.4  \n",
       "0      NaN  \n",
       "1      NaN  \n",
       "2      NaN  \n",
       "3      NaN  \n",
       "4      NaN  "
      ]
     },
     "execution_count": 36,
     "metadata": {},
     "output_type": "execute_result"
    }
   ],
   "source": [
    "g.head()"
   ]
  },
  {
   "cell_type": "code",
   "execution_count": 37,
   "metadata": {},
   "outputs": [
    {
     "data": {
      "text/plain": [
       "Index(['State', 'Democrat', 'Prior', 'Republican', 'Prior.1', 'Other',\n",
       "       'Prior.2', 'Unnamed: 7', 'Prior.3', 'Unnamed: 9', 'Prior.4'],\n",
       "      dtype='object')"
      ]
     },
     "execution_count": 37,
     "metadata": {},
     "output_type": "execute_result"
    }
   ],
   "source": [
    "g.columns"
   ]
  },
  {
   "cell_type": "markdown",
   "metadata": {},
   "source": [
    "Clean up this file"
   ]
  },
  {
   "cell_type": "code",
   "execution_count": 39,
   "metadata": {},
   "outputs": [
    {
     "data": {
      "text/html": [
       "<div>\n",
       "<style scoped>\n",
       "    .dataframe tbody tr th:only-of-type {\n",
       "        vertical-align: middle;\n",
       "    }\n",
       "\n",
       "    .dataframe tbody tr th {\n",
       "        vertical-align: top;\n",
       "    }\n",
       "\n",
       "    .dataframe thead th {\n",
       "        text-align: right;\n",
       "    }\n",
       "</style>\n",
       "<table border=\"1\" class=\"dataframe\">\n",
       "  <thead>\n",
       "    <tr style=\"text-align: right;\">\n",
       "      <th></th>\n",
       "      <th>State</th>\n",
       "      <th>Democrat</th>\n",
       "      <th>Republican</th>\n",
       "      <th>Other</th>\n",
       "      <th>Unnamed: 7</th>\n",
       "      <th>Unnamed: 9</th>\n",
       "    </tr>\n",
       "  </thead>\n",
       "  <tbody>\n",
       "    <tr>\n",
       "      <th>0</th>\n",
       "      <td>Alabama</td>\n",
       "      <td>Yolanda Flowers</td>\n",
       "      <td>Kay Ivey</td>\n",
       "      <td>NaN</td>\n",
       "      <td>NaN</td>\n",
       "      <td>NaN</td>\n",
       "    </tr>\n",
       "    <tr>\n",
       "      <th>1</th>\n",
       "      <td>Alaska</td>\n",
       "      <td>Les Gara</td>\n",
       "      <td>Mike Dunleavy</td>\n",
       "      <td>Bill Walker (Ind)</td>\n",
       "      <td>Charlie Pierce (Rep)</td>\n",
       "      <td>NaN</td>\n",
       "    </tr>\n",
       "    <tr>\n",
       "      <th>2</th>\n",
       "      <td>Arizona</td>\n",
       "      <td>Katie Hobbs</td>\n",
       "      <td>Kari Lake</td>\n",
       "      <td>NaN</td>\n",
       "      <td>NaN</td>\n",
       "      <td>NaN</td>\n",
       "    </tr>\n",
       "    <tr>\n",
       "      <th>3</th>\n",
       "      <td>Arkansas</td>\n",
       "      <td>Chris Jone</td>\n",
       "      <td>Sarah Huckabee Sanders</td>\n",
       "      <td>NaN</td>\n",
       "      <td>NaN</td>\n",
       "      <td>NaN</td>\n",
       "    </tr>\n",
       "    <tr>\n",
       "      <th>4</th>\n",
       "      <td>California</td>\n",
       "      <td>Gavin Newsom</td>\n",
       "      <td>Brian Dahle</td>\n",
       "      <td>NaN</td>\n",
       "      <td>NaN</td>\n",
       "      <td>NaN</td>\n",
       "    </tr>\n",
       "  </tbody>\n",
       "</table>\n",
       "</div>"
      ],
      "text/plain": [
       "        State         Democrat              Republican              Other  \\\n",
       "0     Alabama  Yolanda Flowers                Kay Ivey                NaN   \n",
       "1      Alaska         Les Gara           Mike Dunleavy  Bill Walker (Ind)   \n",
       "2     Arizona      Katie Hobbs               Kari Lake                NaN   \n",
       "3    Arkansas       Chris Jone  Sarah Huckabee Sanders                NaN   \n",
       "4  California     Gavin Newsom             Brian Dahle                NaN   \n",
       "\n",
       "             Unnamed: 7 Unnamed: 9  \n",
       "0                   NaN        NaN  \n",
       "1  Charlie Pierce (Rep)        NaN  \n",
       "2                   NaN        NaN  \n",
       "3                   NaN        NaN  \n",
       "4                   NaN        NaN  "
      ]
     },
     "execution_count": 39,
     "metadata": {},
     "output_type": "execute_result"
    }
   ],
   "source": [
    "g = g[['State', 'Democrat','Republican', 'Other','Unnamed: 7', 'Unnamed: 9']]\n",
    "g.head()"
   ]
  },
  {
   "cell_type": "code",
   "execution_count": 40,
   "metadata": {},
   "outputs": [],
   "source": [
    "abc = pd.melt(g, id_vars=['State'], value_vars=['Democrat', 'Republican', 'Other','Unnamed: 7', 'Unnamed: 9'],\n",
    "             value_name='abc_name_raw')"
   ]
  },
  {
   "cell_type": "code",
   "execution_count": 41,
   "metadata": {},
   "outputs": [],
   "source": [
    "abc = abc.rename(columns={'State':'abc_state'})"
   ]
  },
  {
   "cell_type": "code",
   "execution_count": 42,
   "metadata": {},
   "outputs": [],
   "source": [
    "abc = abc[['abc_name_raw', 'abc_state']]"
   ]
  },
  {
   "cell_type": "code",
   "execution_count": 43,
   "metadata": {},
   "outputs": [],
   "source": [
    "abc = abc.loc[~abc['abc_name_raw'].isna()]"
   ]
  },
  {
   "cell_type": "code",
   "execution_count": 44,
   "metadata": {},
   "outputs": [
    {
     "data": {
      "text/plain": [
       "(83, 2)"
      ]
     },
     "execution_count": 44,
     "metadata": {},
     "output_type": "execute_result"
    }
   ],
   "source": [
    "abc.shape"
   ]
  },
  {
   "cell_type": "code",
   "execution_count": 45,
   "metadata": {},
   "outputs": [],
   "source": [
    "abc['abc_name'] = abc['abc_name_raw'].str.rsplit(\"(\", n=1, expand=True)[0]"
   ]
  },
  {
   "cell_type": "code",
   "execution_count": 46,
   "metadata": {},
   "outputs": [
    {
     "data": {
      "text/html": [
       "<div>\n",
       "<style scoped>\n",
       "    .dataframe tbody tr th:only-of-type {\n",
       "        vertical-align: middle;\n",
       "    }\n",
       "\n",
       "    .dataframe tbody tr th {\n",
       "        vertical-align: top;\n",
       "    }\n",
       "\n",
       "    .dataframe thead th {\n",
       "        text-align: right;\n",
       "    }\n",
       "</style>\n",
       "<table border=\"1\" class=\"dataframe\">\n",
       "  <thead>\n",
       "    <tr style=\"text-align: right;\">\n",
       "      <th></th>\n",
       "      <th>abc_name_raw</th>\n",
       "      <th>abc_state</th>\n",
       "      <th>abc_name</th>\n",
       "    </tr>\n",
       "  </thead>\n",
       "  <tbody>\n",
       "    <tr>\n",
       "      <th>0</th>\n",
       "      <td>Yolanda Flowers</td>\n",
       "      <td>Alabama</td>\n",
       "      <td>Yolanda Flowers</td>\n",
       "    </tr>\n",
       "    <tr>\n",
       "      <th>1</th>\n",
       "      <td>Les Gara</td>\n",
       "      <td>Alaska</td>\n",
       "      <td>Les Gara</td>\n",
       "    </tr>\n",
       "    <tr>\n",
       "      <th>2</th>\n",
       "      <td>Katie Hobbs</td>\n",
       "      <td>Arizona</td>\n",
       "      <td>Katie Hobbs</td>\n",
       "    </tr>\n",
       "    <tr>\n",
       "      <th>3</th>\n",
       "      <td>Chris Jone</td>\n",
       "      <td>Arkansas</td>\n",
       "      <td>Chris Jone</td>\n",
       "    </tr>\n",
       "    <tr>\n",
       "      <th>4</th>\n",
       "      <td>Gavin Newsom</td>\n",
       "      <td>California</td>\n",
       "      <td>Gavin Newsom</td>\n",
       "    </tr>\n",
       "    <tr>\n",
       "      <th>...</th>\n",
       "      <td>...</td>\n",
       "      <td>...</td>\n",
       "      <td>...</td>\n",
       "    </tr>\n",
       "    <tr>\n",
       "      <th>105</th>\n",
       "      <td>Peter Duval (Ind)</td>\n",
       "      <td>Vermont</td>\n",
       "      <td>Peter Duval</td>\n",
       "    </tr>\n",
       "    <tr>\n",
       "      <th>109</th>\n",
       "      <td>Charlie Pierce (Rep)</td>\n",
       "      <td>Alaska</td>\n",
       "      <td>Charlie Pierce</td>\n",
       "    </tr>\n",
       "    <tr>\n",
       "      <th>133</th>\n",
       "      <td>Ervin Yen (Ind)</td>\n",
       "      <td>Oklahoma</td>\n",
       "      <td>Ervin Yen</td>\n",
       "    </tr>\n",
       "    <tr>\n",
       "      <th>141</th>\n",
       "      <td>Kevin Hoyt (Ind)</td>\n",
       "      <td>Vermont</td>\n",
       "      <td>Kevin Hoyt</td>\n",
       "    </tr>\n",
       "    <tr>\n",
       "      <th>177</th>\n",
       "      <td>Bernard Peters (Ind)</td>\n",
       "      <td>Vermont</td>\n",
       "      <td>Bernard Peters</td>\n",
       "    </tr>\n",
       "  </tbody>\n",
       "</table>\n",
       "<p>83 rows × 3 columns</p>\n",
       "</div>"
      ],
      "text/plain": [
       "             abc_name_raw   abc_state         abc_name\n",
       "0         Yolanda Flowers     Alabama  Yolanda Flowers\n",
       "1                Les Gara      Alaska         Les Gara\n",
       "2             Katie Hobbs     Arizona      Katie Hobbs\n",
       "3              Chris Jone    Arkansas       Chris Jone\n",
       "4            Gavin Newsom  California     Gavin Newsom\n",
       "..                    ...         ...              ...\n",
       "105     Peter Duval (Ind)     Vermont     Peter Duval \n",
       "109  Charlie Pierce (Rep)      Alaska  Charlie Pierce \n",
       "133       Ervin Yen (Ind)    Oklahoma       Ervin Yen \n",
       "141      Kevin Hoyt (Ind)     Vermont      Kevin Hoyt \n",
       "177  Bernard Peters (Ind)     Vermont  Bernard Peters \n",
       "\n",
       "[83 rows x 3 columns]"
      ]
     },
     "execution_count": 46,
     "metadata": {},
     "output_type": "execute_result"
    }
   ],
   "source": [
    "abc"
   ]
  },
  {
   "cell_type": "code",
   "execution_count": 49,
   "metadata": {},
   "outputs": [
    {
     "data": {
      "text/html": [
       "<div>\n",
       "<style scoped>\n",
       "    .dataframe tbody tr th:only-of-type {\n",
       "        vertical-align: middle;\n",
       "    }\n",
       "\n",
       "    .dataframe tbody tr th {\n",
       "        vertical-align: top;\n",
       "    }\n",
       "\n",
       "    .dataframe thead th {\n",
       "        text-align: right;\n",
       "    }\n",
       "</style>\n",
       "<table border=\"1\" class=\"dataframe\">\n",
       "  <thead>\n",
       "    <tr style=\"text-align: right;\">\n",
       "      <th></th>\n",
       "      <th>abc_name_raw</th>\n",
       "      <th>abc_state</th>\n",
       "      <th>abc_name</th>\n",
       "    </tr>\n",
       "  </thead>\n",
       "  <tbody>\n",
       "    <tr>\n",
       "      <th>92</th>\n",
       "      <td>None of these candidates</td>\n",
       "      <td>Nevada</td>\n",
       "      <td>None of these candidates</td>\n",
       "    </tr>\n",
       "  </tbody>\n",
       "</table>\n",
       "</div>"
      ],
      "text/plain": [
       "                abc_name_raw abc_state                  abc_name\n",
       "92  None of these candidates    Nevada  None of these candidates"
      ]
     },
     "execution_count": 49,
     "metadata": {},
     "output_type": "execute_result"
    }
   ],
   "source": [
    "abc.loc[abc['abc_name']=='None of these candidates']"
   ]
  },
  {
   "cell_type": "code",
   "execution_count": 50,
   "metadata": {},
   "outputs": [],
   "source": [
    "abc = abc.drop([92])"
   ]
  },
  {
   "cell_type": "code",
   "execution_count": 51,
   "metadata": {},
   "outputs": [
    {
     "data": {
      "text/html": [
       "<div>\n",
       "<style scoped>\n",
       "    .dataframe tbody tr th:only-of-type {\n",
       "        vertical-align: middle;\n",
       "    }\n",
       "\n",
       "    .dataframe tbody tr th {\n",
       "        vertical-align: top;\n",
       "    }\n",
       "\n",
       "    .dataframe thead th {\n",
       "        text-align: right;\n",
       "    }\n",
       "</style>\n",
       "<table border=\"1\" class=\"dataframe\">\n",
       "  <thead>\n",
       "    <tr style=\"text-align: right;\">\n",
       "      <th></th>\n",
       "      <th>abc_name_raw</th>\n",
       "      <th>abc_state</th>\n",
       "      <th>abc_name</th>\n",
       "    </tr>\n",
       "  </thead>\n",
       "  <tbody>\n",
       "  </tbody>\n",
       "</table>\n",
       "</div>"
      ],
      "text/plain": [
       "Empty DataFrame\n",
       "Columns: [abc_name_raw, abc_state, abc_name]\n",
       "Index: []"
      ]
     },
     "execution_count": 51,
     "metadata": {},
     "output_type": "execute_result"
    }
   ],
   "source": [
    "abc.loc[abc['abc_name']=='None of these candidates']"
   ]
  },
  {
   "cell_type": "markdown",
   "metadata": {},
   "source": [
    "### Fuzzy matching names"
   ]
  },
  {
   "cell_type": "code",
   "execution_count": 52,
   "metadata": {},
   "outputs": [],
   "source": [
    "def fuzzy_merge(df_1, df_2, key1, key2, threshold=90, limit=2):\n",
    "    \"\"\"\n",
    "    :param df_1: the left table to join\n",
    "    :param df_2: the right table to join\n",
    "    :param key1: key column of the left table\n",
    "    :param key2: key column of the right table\n",
    "    :param threshold: how close the matches should be to return a match, based on Levenshtein distance\n",
    "    :param limit: the amount of matches that will get returned, these are sorted high to low\n",
    "    :return: dataframe with boths keys and matches\n",
    "    \"\"\"\n",
    "    s = df_2[key2].tolist()\n",
    "    \n",
    "    m = df_1[key1].apply(lambda x: process.extract(x, s, limit=limit))    \n",
    "    df_1['matches'] = m\n",
    "    \n",
    "    m2 = df_1['matches'].apply(lambda x: ', '.join([i[0] for i in x if i[1] >= threshold]))\n",
    "    df_1['matches'] = m2\n",
    "    \n",
    "    return df_1"
   ]
  },
  {
   "cell_type": "code",
   "execution_count": 53,
   "metadata": {},
   "outputs": [],
   "source": [
    "dat = fuzzy_merge(abc, df, 'abc_name', 'bp_name', threshold=90)"
   ]
  },
  {
   "cell_type": "code",
   "execution_count": 54,
   "metadata": {},
   "outputs": [
    {
     "data": {
      "text/html": [
       "<div>\n",
       "<style scoped>\n",
       "    .dataframe tbody tr th:only-of-type {\n",
       "        vertical-align: middle;\n",
       "    }\n",
       "\n",
       "    .dataframe tbody tr th {\n",
       "        vertical-align: top;\n",
       "    }\n",
       "\n",
       "    .dataframe thead th {\n",
       "        text-align: right;\n",
       "    }\n",
       "</style>\n",
       "<table border=\"1\" class=\"dataframe\">\n",
       "  <thead>\n",
       "    <tr style=\"text-align: right;\">\n",
       "      <th></th>\n",
       "      <th>abc_name_raw</th>\n",
       "      <th>abc_state</th>\n",
       "      <th>abc_name</th>\n",
       "      <th>matches</th>\n",
       "    </tr>\n",
       "  </thead>\n",
       "  <tbody>\n",
       "    <tr>\n",
       "      <th>0</th>\n",
       "      <td>Yolanda Flowers</td>\n",
       "      <td>Alabama</td>\n",
       "      <td>Yolanda Flowers</td>\n",
       "      <td>Yolanda Flowers</td>\n",
       "    </tr>\n",
       "    <tr>\n",
       "      <th>1</th>\n",
       "      <td>Les Gara</td>\n",
       "      <td>Alaska</td>\n",
       "      <td>Les Gara</td>\n",
       "      <td>Les Gara</td>\n",
       "    </tr>\n",
       "    <tr>\n",
       "      <th>2</th>\n",
       "      <td>Katie Hobbs</td>\n",
       "      <td>Arizona</td>\n",
       "      <td>Katie Hobbs</td>\n",
       "      <td>Katie Hobbs</td>\n",
       "    </tr>\n",
       "    <tr>\n",
       "      <th>3</th>\n",
       "      <td>Chris Jone</td>\n",
       "      <td>Arkansas</td>\n",
       "      <td>Chris Jone</td>\n",
       "      <td>Chris Jones</td>\n",
       "    </tr>\n",
       "    <tr>\n",
       "      <th>4</th>\n",
       "      <td>Gavin Newsom</td>\n",
       "      <td>California</td>\n",
       "      <td>Gavin Newsom</td>\n",
       "      <td>Gavin Newsom</td>\n",
       "    </tr>\n",
       "    <tr>\n",
       "      <th>...</th>\n",
       "      <td>...</td>\n",
       "      <td>...</td>\n",
       "      <td>...</td>\n",
       "      <td>...</td>\n",
       "    </tr>\n",
       "    <tr>\n",
       "      <th>105</th>\n",
       "      <td>Peter Duval (Ind)</td>\n",
       "      <td>Vermont</td>\n",
       "      <td>Peter Duval</td>\n",
       "      <td>Peter Duval</td>\n",
       "    </tr>\n",
       "    <tr>\n",
       "      <th>109</th>\n",
       "      <td>Charlie Pierce (Rep)</td>\n",
       "      <td>Alaska</td>\n",
       "      <td>Charlie Pierce</td>\n",
       "      <td>Charlie Pierce</td>\n",
       "    </tr>\n",
       "    <tr>\n",
       "      <th>133</th>\n",
       "      <td>Ervin Yen (Ind)</td>\n",
       "      <td>Oklahoma</td>\n",
       "      <td>Ervin Yen</td>\n",
       "      <td>Ervin Yen</td>\n",
       "    </tr>\n",
       "    <tr>\n",
       "      <th>141</th>\n",
       "      <td>Kevin Hoyt (Ind)</td>\n",
       "      <td>Vermont</td>\n",
       "      <td>Kevin Hoyt</td>\n",
       "      <td>Kevin Hoyt</td>\n",
       "    </tr>\n",
       "    <tr>\n",
       "      <th>177</th>\n",
       "      <td>Bernard Peters (Ind)</td>\n",
       "      <td>Vermont</td>\n",
       "      <td>Bernard Peters</td>\n",
       "      <td>Bernard Peters</td>\n",
       "    </tr>\n",
       "  </tbody>\n",
       "</table>\n",
       "<p>82 rows × 4 columns</p>\n",
       "</div>"
      ],
      "text/plain": [
       "             abc_name_raw   abc_state         abc_name          matches\n",
       "0         Yolanda Flowers     Alabama  Yolanda Flowers  Yolanda Flowers\n",
       "1                Les Gara      Alaska         Les Gara         Les Gara\n",
       "2             Katie Hobbs     Arizona      Katie Hobbs      Katie Hobbs\n",
       "3              Chris Jone    Arkansas       Chris Jone      Chris Jones\n",
       "4            Gavin Newsom  California     Gavin Newsom     Gavin Newsom\n",
       "..                    ...         ...              ...              ...\n",
       "105     Peter Duval (Ind)     Vermont     Peter Duval       Peter Duval\n",
       "109  Charlie Pierce (Rep)      Alaska  Charlie Pierce    Charlie Pierce\n",
       "133       Ervin Yen (Ind)    Oklahoma       Ervin Yen         Ervin Yen\n",
       "141      Kevin Hoyt (Ind)     Vermont      Kevin Hoyt        Kevin Hoyt\n",
       "177  Bernard Peters (Ind)     Vermont  Bernard Peters    Bernard Peters\n",
       "\n",
       "[82 rows x 4 columns]"
      ]
     },
     "execution_count": 54,
     "metadata": {},
     "output_type": "execute_result"
    }
   ],
   "source": [
    "dat"
   ]
  },
  {
   "cell_type": "code",
   "execution_count": 55,
   "metadata": {},
   "outputs": [
    {
     "data": {
      "text/html": [
       "<div>\n",
       "<style scoped>\n",
       "    .dataframe tbody tr th:only-of-type {\n",
       "        vertical-align: middle;\n",
       "    }\n",
       "\n",
       "    .dataframe tbody tr th {\n",
       "        vertical-align: top;\n",
       "    }\n",
       "\n",
       "    .dataframe thead th {\n",
       "        text-align: right;\n",
       "    }\n",
       "</style>\n",
       "<table border=\"1\" class=\"dataframe\">\n",
       "  <thead>\n",
       "    <tr style=\"text-align: right;\">\n",
       "      <th></th>\n",
       "      <th>abc_name_raw</th>\n",
       "      <th>abc_state</th>\n",
       "      <th>abc_name</th>\n",
       "      <th>matches</th>\n",
       "    </tr>\n",
       "  </thead>\n",
       "  <tbody>\n",
       "  </tbody>\n",
       "</table>\n",
       "</div>"
      ],
      "text/plain": [
       "Empty DataFrame\n",
       "Columns: [abc_name_raw, abc_state, abc_name, matches]\n",
       "Index: []"
      ]
     },
     "execution_count": 55,
     "metadata": {},
     "output_type": "execute_result"
    }
   ],
   "source": [
    "dat.loc[dat['matches'].isna()]"
   ]
  },
  {
   "cell_type": "code",
   "execution_count": 56,
   "metadata": {},
   "outputs": [
    {
     "data": {
      "text/plain": [
       "(82, 4)"
      ]
     },
     "execution_count": 56,
     "metadata": {},
     "output_type": "execute_result"
    }
   ],
   "source": [
    "dat.shape"
   ]
  },
  {
   "cell_type": "code",
   "execution_count": 57,
   "metadata": {},
   "outputs": [],
   "source": [
    "gov = dat.merge(df, left_on='matches', right_on='bp_name', indicator=True, how='left')"
   ]
  },
  {
   "cell_type": "code",
   "execution_count": 58,
   "metadata": {
    "scrolled": true
   },
   "outputs": [
    {
     "data": {
      "text/html": [
       "<div>\n",
       "<style scoped>\n",
       "    .dataframe tbody tr th:only-of-type {\n",
       "        vertical-align: middle;\n",
       "    }\n",
       "\n",
       "    .dataframe tbody tr th {\n",
       "        vertical-align: top;\n",
       "    }\n",
       "\n",
       "    .dataframe thead th {\n",
       "        text-align: right;\n",
       "    }\n",
       "</style>\n",
       "<table border=\"1\" class=\"dataframe\">\n",
       "  <thead>\n",
       "    <tr style=\"text-align: right;\">\n",
       "      <th></th>\n",
       "      <th>abc_name_raw</th>\n",
       "      <th>abc_state</th>\n",
       "      <th>abc_name</th>\n",
       "      <th>matches</th>\n",
       "      <th>bp_name_raw</th>\n",
       "      <th>bp_url</th>\n",
       "      <th>bp_name</th>\n",
       "      <th>_merge</th>\n",
       "    </tr>\n",
       "  </thead>\n",
       "  <tbody>\n",
       "    <tr>\n",
       "      <th>0</th>\n",
       "      <td>Yolanda Flowers</td>\n",
       "      <td>Alabama</td>\n",
       "      <td>Yolanda Flowers</td>\n",
       "      <td>Yolanda Flowers</td>\n",
       "      <td>Yolanda Flowers (D)  \\n\\t\\t\\t\\t\\t\\t\\t\\t\\t\\t\\t</td>\n",
       "      <td>https://s3.amazonaws.com/ballotpedia-api4/file...</td>\n",
       "      <td>Yolanda Flowers</td>\n",
       "      <td>both</td>\n",
       "    </tr>\n",
       "    <tr>\n",
       "      <th>1</th>\n",
       "      <td>Les Gara</td>\n",
       "      <td>Alaska</td>\n",
       "      <td>Les Gara</td>\n",
       "      <td>Les Gara</td>\n",
       "      <td>Les Gara</td>\n",
       "      <td>https://s3.amazonaws.com/ballotpedia-api4/file...</td>\n",
       "      <td>Les Gara</td>\n",
       "      <td>both</td>\n",
       "    </tr>\n",
       "    <tr>\n",
       "      <th>2</th>\n",
       "      <td>Katie Hobbs</td>\n",
       "      <td>Arizona</td>\n",
       "      <td>Katie Hobbs</td>\n",
       "      <td>Katie Hobbs</td>\n",
       "      <td>Katie Hobbs (D)  \\n\\t\\t\\t\\t\\t\\t\\t\\t\\t\\t\\t</td>\n",
       "      <td>https://s3.amazonaws.com/ballotpedia-api4/file...</td>\n",
       "      <td>Katie Hobbs</td>\n",
       "      <td>both</td>\n",
       "    </tr>\n",
       "    <tr>\n",
       "      <th>3</th>\n",
       "      <td>Chris Jone</td>\n",
       "      <td>Arkansas</td>\n",
       "      <td>Chris Jone</td>\n",
       "      <td>Chris Jones</td>\n",
       "      <td>Chris Jones (D) \\n</td>\n",
       "      <td>https://s3.amazonaws.com/ballotpedia-api4/file...</td>\n",
       "      <td>Chris Jones</td>\n",
       "      <td>both</td>\n",
       "    </tr>\n",
       "    <tr>\n",
       "      <th>4</th>\n",
       "      <td>Gavin Newsom</td>\n",
       "      <td>California</td>\n",
       "      <td>Gavin Newsom</td>\n",
       "      <td>Gavin Newsom</td>\n",
       "      <td>Gavin Newsom (D)  \\n\\t\\t\\t\\t\\t\\t\\t\\t\\t\\t\\t</td>\n",
       "      <td>https://s3.amazonaws.com/ballotpedia-api4/file...</td>\n",
       "      <td>Gavin Newsom</td>\n",
       "      <td>both</td>\n",
       "    </tr>\n",
       "  </tbody>\n",
       "</table>\n",
       "</div>"
      ],
      "text/plain": [
       "      abc_name_raw   abc_state         abc_name          matches  \\\n",
       "0  Yolanda Flowers     Alabama  Yolanda Flowers  Yolanda Flowers   \n",
       "1         Les Gara      Alaska         Les Gara         Les Gara   \n",
       "2      Katie Hobbs     Arizona      Katie Hobbs      Katie Hobbs   \n",
       "3       Chris Jone    Arkansas       Chris Jone      Chris Jones   \n",
       "4     Gavin Newsom  California     Gavin Newsom     Gavin Newsom   \n",
       "\n",
       "                                     bp_name_raw  \\\n",
       "0  Yolanda Flowers (D)  \\n\\t\\t\\t\\t\\t\\t\\t\\t\\t\\t\\t   \n",
       "1                                      Les Gara    \n",
       "2      Katie Hobbs (D)  \\n\\t\\t\\t\\t\\t\\t\\t\\t\\t\\t\\t   \n",
       "3                             Chris Jones (D) \\n   \n",
       "4     Gavin Newsom (D)  \\n\\t\\t\\t\\t\\t\\t\\t\\t\\t\\t\\t   \n",
       "\n",
       "                                              bp_url          bp_name _merge  \n",
       "0  https://s3.amazonaws.com/ballotpedia-api4/file...  Yolanda Flowers   both  \n",
       "1  https://s3.amazonaws.com/ballotpedia-api4/file...         Les Gara   both  \n",
       "2  https://s3.amazonaws.com/ballotpedia-api4/file...      Katie Hobbs   both  \n",
       "3  https://s3.amazonaws.com/ballotpedia-api4/file...      Chris Jones   both  \n",
       "4  https://s3.amazonaws.com/ballotpedia-api4/file...     Gavin Newsom   both  "
      ]
     },
     "execution_count": 58,
     "metadata": {},
     "output_type": "execute_result"
    }
   ],
   "source": [
    "gov.head()"
   ]
  },
  {
   "cell_type": "code",
   "execution_count": 59,
   "metadata": {},
   "outputs": [
    {
     "data": {
      "text/plain": [
       "both          81\n",
       "left_only      1\n",
       "right_only     0\n",
       "Name: _merge, dtype: int64"
      ]
     },
     "execution_count": 59,
     "metadata": {},
     "output_type": "execute_result"
    }
   ],
   "source": [
    "gov._merge.value_counts()"
   ]
  },
  {
   "cell_type": "code",
   "execution_count": 60,
   "metadata": {},
   "outputs": [
    {
     "data": {
      "text/html": [
       "<div>\n",
       "<style scoped>\n",
       "    .dataframe tbody tr th:only-of-type {\n",
       "        vertical-align: middle;\n",
       "    }\n",
       "\n",
       "    .dataframe tbody tr th {\n",
       "        vertical-align: top;\n",
       "    }\n",
       "\n",
       "    .dataframe thead th {\n",
       "        text-align: right;\n",
       "    }\n",
       "</style>\n",
       "<table border=\"1\" class=\"dataframe\">\n",
       "  <thead>\n",
       "    <tr style=\"text-align: right;\">\n",
       "      <th></th>\n",
       "      <th>abc_name_raw</th>\n",
       "      <th>abc_state</th>\n",
       "      <th>abc_name</th>\n",
       "      <th>matches</th>\n",
       "      <th>bp_name_raw</th>\n",
       "      <th>bp_url</th>\n",
       "      <th>bp_name</th>\n",
       "      <th>_merge</th>\n",
       "    </tr>\n",
       "  </thead>\n",
       "  <tbody>\n",
       "    <tr>\n",
       "      <th>60</th>\n",
       "      <td>Mike DeWine</td>\n",
       "      <td>Ohio</td>\n",
       "      <td>Mike DeWine</td>\n",
       "      <td></td>\n",
       "      <td>NaN</td>\n",
       "      <td>NaN</td>\n",
       "      <td>NaN</td>\n",
       "      <td>left_only</td>\n",
       "    </tr>\n",
       "  </tbody>\n",
       "</table>\n",
       "</div>"
      ],
      "text/plain": [
       "   abc_name_raw abc_state     abc_name matches bp_name_raw bp_url bp_name  \\\n",
       "60  Mike DeWine      Ohio  Mike DeWine                 NaN    NaN     NaN   \n",
       "\n",
       "       _merge  \n",
       "60  left_only  "
      ]
     },
     "execution_count": 60,
     "metadata": {},
     "output_type": "execute_result"
    }
   ],
   "source": [
    "gov.loc[gov['_merge']=='left_only']"
   ]
  },
  {
   "cell_type": "code",
   "execution_count": 61,
   "metadata": {},
   "outputs": [],
   "source": [
    "# Mannually correct this entry\n",
    "gov.loc[gov['_merge']=='left_only', 'bp_url']='https://s3.amazonaws.com/ballotpedia-api4/files/thumbs/100/100/MikeDeWine2015.jpg'\n",
    "gov.loc[gov['_merge']=='left_only', 'bp_name']='Richard Michael DeWine'"
   ]
  },
  {
   "cell_type": "code",
   "execution_count": 62,
   "metadata": {},
   "outputs": [
    {
     "data": {
      "text/html": [
       "<div>\n",
       "<style scoped>\n",
       "    .dataframe tbody tr th:only-of-type {\n",
       "        vertical-align: middle;\n",
       "    }\n",
       "\n",
       "    .dataframe tbody tr th {\n",
       "        vertical-align: top;\n",
       "    }\n",
       "\n",
       "    .dataframe thead th {\n",
       "        text-align: right;\n",
       "    }\n",
       "</style>\n",
       "<table border=\"1\" class=\"dataframe\">\n",
       "  <thead>\n",
       "    <tr style=\"text-align: right;\">\n",
       "      <th></th>\n",
       "      <th>abc_name_raw</th>\n",
       "      <th>abc_state</th>\n",
       "      <th>abc_name</th>\n",
       "      <th>matches</th>\n",
       "      <th>bp_name_raw</th>\n",
       "      <th>bp_url</th>\n",
       "      <th>bp_name</th>\n",
       "      <th>_merge</th>\n",
       "    </tr>\n",
       "  </thead>\n",
       "  <tbody>\n",
       "    <tr>\n",
       "      <th>60</th>\n",
       "      <td>Mike DeWine</td>\n",
       "      <td>Ohio</td>\n",
       "      <td>Mike DeWine</td>\n",
       "      <td></td>\n",
       "      <td>NaN</td>\n",
       "      <td>https://s3.amazonaws.com/ballotpedia-api4/file...</td>\n",
       "      <td>Richard Michael DeWine</td>\n",
       "      <td>left_only</td>\n",
       "    </tr>\n",
       "  </tbody>\n",
       "</table>\n",
       "</div>"
      ],
      "text/plain": [
       "   abc_name_raw abc_state     abc_name matches bp_name_raw  \\\n",
       "60  Mike DeWine      Ohio  Mike DeWine                 NaN   \n",
       "\n",
       "                                               bp_url                 bp_name  \\\n",
       "60  https://s3.amazonaws.com/ballotpedia-api4/file...  Richard Michael DeWine   \n",
       "\n",
       "       _merge  \n",
       "60  left_only  "
      ]
     },
     "execution_count": 62,
     "metadata": {},
     "output_type": "execute_result"
    }
   ],
   "source": [
    "gov.loc[gov['_merge']=='left_only']"
   ]
  },
  {
   "cell_type": "code",
   "execution_count": 63,
   "metadata": {},
   "outputs": [
    {
     "data": {
      "text/plain": [
       "Index(['abc_name_raw', 'abc_state', 'abc_name', 'matches', 'bp_name_raw',\n",
       "       'bp_url', 'bp_name', '_merge'],\n",
       "      dtype='object')"
      ]
     },
     "execution_count": 63,
     "metadata": {},
     "output_type": "execute_result"
    }
   ],
   "source": [
    "gov.columns"
   ]
  },
  {
   "cell_type": "code",
   "execution_count": 64,
   "metadata": {},
   "outputs": [],
   "source": [
    "gov = gov[['abc_name', 'abc_name_raw', 'abc_state', 'bp_name', 'bp_name_raw', 'bp_url']]"
   ]
  },
  {
   "cell_type": "code",
   "execution_count": 68,
   "metadata": {},
   "outputs": [
    {
     "name": "stderr",
     "output_type": "stream",
     "text": [
      "<ipython-input-68-a12870e0c7ad>:1: FutureWarning: The default value of regex will change from True to False in a future version.\n",
      "  gov['bp_url_filename'] = gov['bp_url'].str.replace(\"https://s3.amazonaws.com/ballotpedia-api4/files/thumbs/100/100/\", '')\n"
     ]
    }
   ],
   "source": [
    "gov['bp_url_filename'] = gov['bp_url'].str.replace(\"https://s3.amazonaws.com/ballotpedia-api4/files/thumbs/100/100/\", '')"
   ]
  },
  {
   "cell_type": "code",
   "execution_count": 69,
   "metadata": {},
   "outputs": [
    {
     "data": {
      "text/html": [
       "<div>\n",
       "<style scoped>\n",
       "    .dataframe tbody tr th:only-of-type {\n",
       "        vertical-align: middle;\n",
       "    }\n",
       "\n",
       "    .dataframe tbody tr th {\n",
       "        vertical-align: top;\n",
       "    }\n",
       "\n",
       "    .dataframe thead th {\n",
       "        text-align: right;\n",
       "    }\n",
       "</style>\n",
       "<table border=\"1\" class=\"dataframe\">\n",
       "  <thead>\n",
       "    <tr style=\"text-align: right;\">\n",
       "      <th></th>\n",
       "      <th>abc_name</th>\n",
       "      <th>abc_name_raw</th>\n",
       "      <th>abc_state</th>\n",
       "      <th>bp_name</th>\n",
       "      <th>bp_name_raw</th>\n",
       "      <th>bp_url</th>\n",
       "      <th>bp_url_filename</th>\n",
       "    </tr>\n",
       "  </thead>\n",
       "  <tbody>\n",
       "    <tr>\n",
       "      <th>0</th>\n",
       "      <td>Yolanda Flowers</td>\n",
       "      <td>Yolanda Flowers</td>\n",
       "      <td>Alabama</td>\n",
       "      <td>Yolanda Flowers</td>\n",
       "      <td>Yolanda Flowers (D)  \\n\\t\\t\\t\\t\\t\\t\\t\\t\\t\\t\\t</td>\n",
       "      <td>https://s3.amazonaws.com/ballotpedia-api4/file...</td>\n",
       "      <td>Yolanda-Flowers.PNG</td>\n",
       "    </tr>\n",
       "    <tr>\n",
       "      <th>1</th>\n",
       "      <td>Les Gara</td>\n",
       "      <td>Les Gara</td>\n",
       "      <td>Alaska</td>\n",
       "      <td>Les Gara</td>\n",
       "      <td>Les Gara</td>\n",
       "      <td>https://s3.amazonaws.com/ballotpedia-api4/file...</td>\n",
       "      <td>Les_Gara.JPG</td>\n",
       "    </tr>\n",
       "    <tr>\n",
       "      <th>2</th>\n",
       "      <td>Katie Hobbs</td>\n",
       "      <td>Katie Hobbs</td>\n",
       "      <td>Arizona</td>\n",
       "      <td>Katie Hobbs</td>\n",
       "      <td>Katie Hobbs (D)  \\n\\t\\t\\t\\t\\t\\t\\t\\t\\t\\t\\t</td>\n",
       "      <td>https://s3.amazonaws.com/ballotpedia-api4/file...</td>\n",
       "      <td>Katie-Hobbs.PNG</td>\n",
       "    </tr>\n",
       "    <tr>\n",
       "      <th>3</th>\n",
       "      <td>Chris Jone</td>\n",
       "      <td>Chris Jone</td>\n",
       "      <td>Arkansas</td>\n",
       "      <td>Chris Jones</td>\n",
       "      <td>Chris Jones (D) \\n</td>\n",
       "      <td>https://s3.amazonaws.com/ballotpedia-api4/file...</td>\n",
       "      <td>Chris-Jones.jpg</td>\n",
       "    </tr>\n",
       "    <tr>\n",
       "      <th>4</th>\n",
       "      <td>Gavin Newsom</td>\n",
       "      <td>Gavin Newsom</td>\n",
       "      <td>California</td>\n",
       "      <td>Gavin Newsom</td>\n",
       "      <td>Gavin Newsom (D)  \\n\\t\\t\\t\\t\\t\\t\\t\\t\\t\\t\\t</td>\n",
       "      <td>https://s3.amazonaws.com/ballotpedia-api4/file...</td>\n",
       "      <td>399px-Gavin_Newsom_official_photo.jpg</td>\n",
       "    </tr>\n",
       "    <tr>\n",
       "      <th>5</th>\n",
       "      <td>Jared Polis</td>\n",
       "      <td>Jared Polis</td>\n",
       "      <td>Colorado</td>\n",
       "      <td>Jared Polis</td>\n",
       "      <td>Jared Polis (D)  \\n\\t\\t\\t\\t\\t\\t\\t\\t\\t\\t\\t</td>\n",
       "      <td>https://s3.amazonaws.com/ballotpedia-api4/file...</td>\n",
       "      <td>Jared_Polis.jpg</td>\n",
       "    </tr>\n",
       "    <tr>\n",
       "      <th>6</th>\n",
       "      <td>Ned Lamont</td>\n",
       "      <td>Ned Lamont</td>\n",
       "      <td>Connecticut</td>\n",
       "      <td>Ned Lamont</td>\n",
       "      <td>Ned Lamont (D / Working Families Party / Grieb...</td>\n",
       "      <td>https://s3.amazonaws.com/ballotpedia-api4/file...</td>\n",
       "      <td>nedlamont.jpg</td>\n",
       "    </tr>\n",
       "    <tr>\n",
       "      <th>7</th>\n",
       "      <td>Charlie Crist</td>\n",
       "      <td>Charlie Crist</td>\n",
       "      <td>Florida</td>\n",
       "      <td>Charlie Crist</td>\n",
       "      <td>Charlie Crist (D)  \\n\\t\\t\\t\\t\\t\\t\\t\\t\\t\\t\\t</td>\n",
       "      <td>https://s3.amazonaws.com/ballotpedia-api4/file...</td>\n",
       "      <td>Charlie_Crist_115th_Congress_photo.jpg</td>\n",
       "    </tr>\n",
       "    <tr>\n",
       "      <th>8</th>\n",
       "      <td>Stacey Abrams</td>\n",
       "      <td>Stacey Abrams</td>\n",
       "      <td>Georgia</td>\n",
       "      <td>Stacey Abrams</td>\n",
       "      <td>Stacey Abrams (D)  \\n\\t\\t\\t\\t\\t\\t\\t\\t\\t\\t\\t</td>\n",
       "      <td>https://s3.amazonaws.com/ballotpedia-api4/file...</td>\n",
       "      <td>Stacey_Abrams.jpg</td>\n",
       "    </tr>\n",
       "    <tr>\n",
       "      <th>9</th>\n",
       "      <td>Josh Green</td>\n",
       "      <td>Josh Green</td>\n",
       "      <td>Hawaii</td>\n",
       "      <td>Joshua Green</td>\n",
       "      <td>Joshua Green (D)  \\n\\t\\t\\t\\t\\t\\t\\t\\t\\t\\t\\t</td>\n",
       "      <td>https://s3.amazonaws.com/ballotpedia-api4/file...</td>\n",
       "      <td>Joshua-Green.PNG</td>\n",
       "    </tr>\n",
       "    <tr>\n",
       "      <th>10</th>\n",
       "      <td>Stephen Heidt</td>\n",
       "      <td>Stephen Heidt</td>\n",
       "      <td>Idaho</td>\n",
       "      <td>Stephen Heidt</td>\n",
       "      <td>Stephen Heidt (D) \\n</td>\n",
       "      <td>https://s3.amazonaws.com/ballotpedia-api4/file...</td>\n",
       "      <td>Stephen-Heidt.PNG</td>\n",
       "    </tr>\n",
       "    <tr>\n",
       "      <th>11</th>\n",
       "      <td>J.B. Pritzker</td>\n",
       "      <td>J.B. Pritzker</td>\n",
       "      <td>Illinois</td>\n",
       "      <td>J.B. Pritzker</td>\n",
       "      <td>J.B. Pritzker (D)  \\n\\t\\t\\t\\t\\t\\t\\t\\t\\t\\t\\t</td>\n",
       "      <td>https://s3.amazonaws.com/ballotpedia-api4/file...</td>\n",
       "      <td>JB_Pritzker.jpg</td>\n",
       "    </tr>\n",
       "    <tr>\n",
       "      <th>12</th>\n",
       "      <td>Deidre DeJear</td>\n",
       "      <td>Deidre DeJear</td>\n",
       "      <td>Iowa</td>\n",
       "      <td>Deidre DeJear</td>\n",
       "      <td>Deidre DeJear (D)  \\n\\t\\t\\t\\t\\t\\t\\t\\t\\t\\t\\t</td>\n",
       "      <td>https://s3.amazonaws.com/ballotpedia-api4/file...</td>\n",
       "      <td>Deidre-DeJear.PNG</td>\n",
       "    </tr>\n",
       "    <tr>\n",
       "      <th>13</th>\n",
       "      <td>Laura Kelly</td>\n",
       "      <td>Laura Kelly</td>\n",
       "      <td>Kansas</td>\n",
       "      <td>Laura Kelly</td>\n",
       "      <td>Laura Kelly (D)  \\n\\t\\t\\t\\t\\t\\t\\t\\t\\t\\t\\t</td>\n",
       "      <td>https://s3.amazonaws.com/ballotpedia-api4/file...</td>\n",
       "      <td>Laura_Kelly.jpg</td>\n",
       "    </tr>\n",
       "    <tr>\n",
       "      <th>14</th>\n",
       "      <td>Janet Mills</td>\n",
       "      <td>Janet Mills</td>\n",
       "      <td>Maine</td>\n",
       "      <td>Janet T. Mills</td>\n",
       "      <td>Janet T. Mills (D)  \\n\\t\\t\\t\\t\\t\\t\\t\\t\\t\\t\\t</td>\n",
       "      <td>https://s3.amazonaws.com/ballotpedia-api4/file...</td>\n",
       "      <td>Janet_Mills.jpg</td>\n",
       "    </tr>\n",
       "    <tr>\n",
       "      <th>15</th>\n",
       "      <td>Wes Moore</td>\n",
       "      <td>Wes Moore</td>\n",
       "      <td>Maryland</td>\n",
       "      <td>Wes Moore</td>\n",
       "      <td>Wes Moore (D)  \\n\\t\\t\\t\\t\\t\\t\\t\\t\\t\\t\\t</td>\n",
       "      <td>https://s3.amazonaws.com/ballotpedia-api4/file...</td>\n",
       "      <td>Wes_Moore.jpg</td>\n",
       "    </tr>\n",
       "    <tr>\n",
       "      <th>16</th>\n",
       "      <td>Maura Healey</td>\n",
       "      <td>Maura Healey</td>\n",
       "      <td>Massachusetts</td>\n",
       "      <td>Maura Healey</td>\n",
       "      <td>Maura Healey (D)  \\n\\t\\t\\t\\t\\t\\t\\t\\t\\t\\t\\t</td>\n",
       "      <td>https://s3.amazonaws.com/ballotpedia-api4/file...</td>\n",
       "      <td>Maura-Healey.PNG</td>\n",
       "    </tr>\n",
       "    <tr>\n",
       "      <th>17</th>\n",
       "      <td>Gretchen Whitmer</td>\n",
       "      <td>Gretchen Whitmer</td>\n",
       "      <td>Michigan</td>\n",
       "      <td>Gretchen Whitmer</td>\n",
       "      <td>Gretchen Whitmer (D)  \\n\\t\\t\\t\\t\\t\\t\\t\\t\\t\\t\\t</td>\n",
       "      <td>https://s3.amazonaws.com/ballotpedia-api4/file...</td>\n",
       "      <td>Gretchen-Whitmer.jpg</td>\n",
       "    </tr>\n",
       "    <tr>\n",
       "      <th>18</th>\n",
       "      <td>Tim Walz</td>\n",
       "      <td>Tim Walz</td>\n",
       "      <td>Minnesota</td>\n",
       "      <td>Tim Walz</td>\n",
       "      <td>Tim Walz (D)  \\n\\t\\t\\t\\t\\t\\t\\t\\t\\t\\t\\t</td>\n",
       "      <td>https://s3.amazonaws.com/ballotpedia-api4/file...</td>\n",
       "      <td>Tim_Walz.jpg</td>\n",
       "    </tr>\n",
       "    <tr>\n",
       "      <th>19</th>\n",
       "      <td>Carol Blood</td>\n",
       "      <td>Carol Blood</td>\n",
       "      <td>Nebraska</td>\n",
       "      <td>Carol Blood</td>\n",
       "      <td>Carol Blood (D)  \\n\\t\\t\\t\\t\\t\\t\\t\\t\\t\\t\\t</td>\n",
       "      <td>https://s3.amazonaws.com/ballotpedia-api4/file...</td>\n",
       "      <td>Carol_Blood_portrait.jpg</td>\n",
       "    </tr>\n",
       "  </tbody>\n",
       "</table>\n",
       "</div>"
      ],
      "text/plain": [
       "            abc_name      abc_name_raw      abc_state           bp_name  \\\n",
       "0    Yolanda Flowers   Yolanda Flowers        Alabama   Yolanda Flowers   \n",
       "1           Les Gara          Les Gara         Alaska          Les Gara   \n",
       "2        Katie Hobbs       Katie Hobbs        Arizona       Katie Hobbs   \n",
       "3         Chris Jone        Chris Jone       Arkansas       Chris Jones   \n",
       "4       Gavin Newsom      Gavin Newsom     California      Gavin Newsom   \n",
       "5        Jared Polis       Jared Polis       Colorado       Jared Polis   \n",
       "6         Ned Lamont        Ned Lamont    Connecticut        Ned Lamont   \n",
       "7      Charlie Crist     Charlie Crist        Florida     Charlie Crist   \n",
       "8      Stacey Abrams     Stacey Abrams        Georgia     Stacey Abrams   \n",
       "9         Josh Green        Josh Green         Hawaii      Joshua Green   \n",
       "10     Stephen Heidt     Stephen Heidt          Idaho     Stephen Heidt   \n",
       "11     J.B. Pritzker     J.B. Pritzker       Illinois     J.B. Pritzker   \n",
       "12     Deidre DeJear     Deidre DeJear           Iowa     Deidre DeJear   \n",
       "13       Laura Kelly       Laura Kelly         Kansas       Laura Kelly   \n",
       "14       Janet Mills       Janet Mills          Maine    Janet T. Mills   \n",
       "15         Wes Moore         Wes Moore       Maryland         Wes Moore   \n",
       "16      Maura Healey      Maura Healey  Massachusetts      Maura Healey   \n",
       "17  Gretchen Whitmer  Gretchen Whitmer       Michigan  Gretchen Whitmer   \n",
       "18          Tim Walz          Tim Walz      Minnesota          Tim Walz   \n",
       "19       Carol Blood       Carol Blood       Nebraska       Carol Blood   \n",
       "\n",
       "                                          bp_name_raw  \\\n",
       "0       Yolanda Flowers (D)  \\n\\t\\t\\t\\t\\t\\t\\t\\t\\t\\t\\t   \n",
       "1                                           Les Gara    \n",
       "2           Katie Hobbs (D)  \\n\\t\\t\\t\\t\\t\\t\\t\\t\\t\\t\\t   \n",
       "3                                  Chris Jones (D) \\n   \n",
       "4          Gavin Newsom (D)  \\n\\t\\t\\t\\t\\t\\t\\t\\t\\t\\t\\t   \n",
       "5           Jared Polis (D)  \\n\\t\\t\\t\\t\\t\\t\\t\\t\\t\\t\\t   \n",
       "6   Ned Lamont (D / Working Families Party / Grieb...   \n",
       "7         Charlie Crist (D)  \\n\\t\\t\\t\\t\\t\\t\\t\\t\\t\\t\\t   \n",
       "8         Stacey Abrams (D)  \\n\\t\\t\\t\\t\\t\\t\\t\\t\\t\\t\\t   \n",
       "9          Joshua Green (D)  \\n\\t\\t\\t\\t\\t\\t\\t\\t\\t\\t\\t   \n",
       "10                               Stephen Heidt (D) \\n   \n",
       "11        J.B. Pritzker (D)  \\n\\t\\t\\t\\t\\t\\t\\t\\t\\t\\t\\t   \n",
       "12        Deidre DeJear (D)  \\n\\t\\t\\t\\t\\t\\t\\t\\t\\t\\t\\t   \n",
       "13          Laura Kelly (D)  \\n\\t\\t\\t\\t\\t\\t\\t\\t\\t\\t\\t   \n",
       "14       Janet T. Mills (D)  \\n\\t\\t\\t\\t\\t\\t\\t\\t\\t\\t\\t   \n",
       "15            Wes Moore (D)  \\n\\t\\t\\t\\t\\t\\t\\t\\t\\t\\t\\t   \n",
       "16         Maura Healey (D)  \\n\\t\\t\\t\\t\\t\\t\\t\\t\\t\\t\\t   \n",
       "17     Gretchen Whitmer (D)  \\n\\t\\t\\t\\t\\t\\t\\t\\t\\t\\t\\t   \n",
       "18             Tim Walz (D)  \\n\\t\\t\\t\\t\\t\\t\\t\\t\\t\\t\\t   \n",
       "19          Carol Blood (D)  \\n\\t\\t\\t\\t\\t\\t\\t\\t\\t\\t\\t   \n",
       "\n",
       "                                               bp_url  \\\n",
       "0   https://s3.amazonaws.com/ballotpedia-api4/file...   \n",
       "1   https://s3.amazonaws.com/ballotpedia-api4/file...   \n",
       "2   https://s3.amazonaws.com/ballotpedia-api4/file...   \n",
       "3   https://s3.amazonaws.com/ballotpedia-api4/file...   \n",
       "4   https://s3.amazonaws.com/ballotpedia-api4/file...   \n",
       "5   https://s3.amazonaws.com/ballotpedia-api4/file...   \n",
       "6   https://s3.amazonaws.com/ballotpedia-api4/file...   \n",
       "7   https://s3.amazonaws.com/ballotpedia-api4/file...   \n",
       "8   https://s3.amazonaws.com/ballotpedia-api4/file...   \n",
       "9   https://s3.amazonaws.com/ballotpedia-api4/file...   \n",
       "10  https://s3.amazonaws.com/ballotpedia-api4/file...   \n",
       "11  https://s3.amazonaws.com/ballotpedia-api4/file...   \n",
       "12  https://s3.amazonaws.com/ballotpedia-api4/file...   \n",
       "13  https://s3.amazonaws.com/ballotpedia-api4/file...   \n",
       "14  https://s3.amazonaws.com/ballotpedia-api4/file...   \n",
       "15  https://s3.amazonaws.com/ballotpedia-api4/file...   \n",
       "16  https://s3.amazonaws.com/ballotpedia-api4/file...   \n",
       "17  https://s3.amazonaws.com/ballotpedia-api4/file...   \n",
       "18  https://s3.amazonaws.com/ballotpedia-api4/file...   \n",
       "19  https://s3.amazonaws.com/ballotpedia-api4/file...   \n",
       "\n",
       "                           bp_url_filename  \n",
       "0                      Yolanda-Flowers.PNG  \n",
       "1                             Les_Gara.JPG  \n",
       "2                          Katie-Hobbs.PNG  \n",
       "3                          Chris-Jones.jpg  \n",
       "4    399px-Gavin_Newsom_official_photo.jpg  \n",
       "5                          Jared_Polis.jpg  \n",
       "6                            nedlamont.jpg  \n",
       "7   Charlie_Crist_115th_Congress_photo.jpg  \n",
       "8                        Stacey_Abrams.jpg  \n",
       "9                         Joshua-Green.PNG  \n",
       "10                       Stephen-Heidt.PNG  \n",
       "11                         JB_Pritzker.jpg  \n",
       "12                       Deidre-DeJear.PNG  \n",
       "13                         Laura_Kelly.jpg  \n",
       "14                         Janet_Mills.jpg  \n",
       "15                           Wes_Moore.jpg  \n",
       "16                        Maura-Healey.PNG  \n",
       "17                    Gretchen-Whitmer.jpg  \n",
       "18                            Tim_Walz.jpg  \n",
       "19                Carol_Blood_portrait.jpg  "
      ]
     },
     "execution_count": 69,
     "metadata": {},
     "output_type": "execute_result"
    }
   ],
   "source": [
    "gov.head(20)"
   ]
  },
  {
   "cell_type": "code",
   "execution_count": 70,
   "metadata": {
    "executionInfo": {
     "elapsed": 280,
     "status": "ok",
     "timestamp": 1670959800946,
     "user": {
      "displayName": "Jielu Yao",
      "userId": "09138677267510568916"
     },
     "user_tz": 300
    },
    "id": "9dWVXETR8nVX"
   },
   "outputs": [],
   "source": [
    "gov.to_csv(\"./bp2022_gov_scraped_face_verified.csv\", index=False)"
   ]
  },
  {
   "cell_type": "code",
   "execution_count": 71,
   "metadata": {},
   "outputs": [
    {
     "data": {
      "text/plain": [
       "(82, 7)"
      ]
     },
     "execution_count": 71,
     "metadata": {},
     "output_type": "execute_result"
    }
   ],
   "source": [
    "gov.shape"
   ]
  }
 ],
 "metadata": {
  "colab": {
   "authorship_tag": "ABX9TyOBjkuKaXN5r0lJ+GZJIRG/",
   "mount_file_id": "1K4Q98kHGjVxwpExweV55zvMjsp0MO82e",
   "provenance": []
  },
  "kernelspec": {
   "display_name": "Python 3",
   "language": "python",
   "name": "python3"
  },
  "language_info": {
   "codemirror_mode": {
    "name": "ipython",
    "version": 3
   },
   "file_extension": ".py",
   "mimetype": "text/x-python",
   "name": "python",
   "nbconvert_exporter": "python",
   "pygments_lexer": "ipython3",
   "version": "3.7.7"
  }
 },
 "nbformat": 4,
 "nbformat_minor": 1
}
